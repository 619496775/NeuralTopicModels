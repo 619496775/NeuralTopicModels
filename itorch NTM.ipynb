{
 "cells": [
  {
   "cell_type": "code",
   "execution_count": 1,
   "metadata": {
    "collapsed": false
   },
   "outputs": [],
   "source": [
    "require 'dpnn'\n",
    "require \"cunn\"\n",
    "require \"nngraph\"\n",
    "require 'hdf5'\n",
    "require 'xlua'\n",
    "require 'optim'\n",
    "require 'itorch.Plot'"
   ]
  },
  {
   "cell_type": "code",
   "execution_count": 2,
   "metadata": {
    "collapsed": false
   },
   "outputs": [],
   "source": [
    "local pre_file = hdf5.open('../dataminingcapstone/ntm40.hdf5', 'r')\n",
    "pre_w1 = pre_file:read('/w1'):all():transpose(1,2):type('torch.DoubleTensor')\n",
    "examples = pre_file:read('/examples'):all():add(1):transpose(1,2):type('torch.DoubleTensor')\n",
    "le_in = pre_file:read('/le'):all():transpose(1,2):type('torch.DoubleTensor')"
   ]
  },
  {
   "cell_type": "code",
   "execution_count": 3,
   "metadata": {
    "collapsed": false
   },
   "outputs": [],
   "source": [
    "local pre_file = hdf5.open('../dataminingcapstone/W1_pretrain_40.hdf5', 'r')\n",
    "pre_w2 = pre_file:read('/layer_2/param_0'):all():type('torch.DoubleTensor')"
   ]
  },
  {
   "cell_type": "code",
   "execution_count": 4,
   "metadata": {
    "collapsed": false
   },
   "outputs": [],
   "source": [
    "-- the gram stack\n",
    "gram_stack = nn.Sequential()\n",
    "le_start = nn.Dictionary(le_in:size()[1], le_in:size()[2])\n",
    "le_start.weight = le_in\n",
    "-- mark this not-trainable\n",
    "function le_start:updateParameters(learningRate)\n",
    "end\n",
    "gram_stack:add(le_start)\n",
    "gram_stack:add(nn.Reshape(le_in:size()[2], true))\n",
    "\n",
    "local lt1 = nn.Linear(pre_w2:size()[1], pre_w2:size()[2])\n",
    "lt1.weight = pre_w2:transpose(1,2)\n",
    "lt1.bias = torch.zeros(pre_w2:size()[2])\n",
    "-- No bias in the lt module\n",
    "function lt1:accUpdateGradParameters(input, gradOutput, lr)\n",
    "   local gradWeight = self.gradWeight\n",
    "   self.gradWeight = self.weight\n",
    "   self:accGradParameters(input, gradOutput, -lr)\n",
    "   self.gradWeight = gradWeight\n",
    "end\n",
    "\n",
    "function lt1:accGradParameters(input, gradOutput, scale)\n",
    "   scale = scale or 1\n",
    "   if input:dim() == 1 then\n",
    "      self.gradWeight:addr(scale, gradOutput, input)\n",
    "   elseif input:dim() == 2 then\n",
    "      self.gradWeight:addmm(scale, gradOutput:t(), input)\n",
    "   end\n",
    "end\n",
    "\n",
    "gram_stack:add(lt1)\n",
    "gram_stack:add(nn.Sigmoid())\n",
    "\n",
    "-- the document stack\n",
    "doc_stack = nn.Sequential()\n",
    "local ld_1 = nn.Dictionary(pre_w1:size()[1], pre_w1:size()[2])\n",
    "ld_1.weight = pre_w1\n",
    "doc_stack:add(ld_1)\n",
    "doc_stack:add(nn.SoftMax())\n",
    "doc_stack:add(nn.Reshape(2,pre_w1:size()[2],true))\n",
    "doc_stack:add(nn.SplitTable(2,3))\n",
    "-- the scoring stack\n",
    "\n",
    "\n",
    "din = nn.Identity()()\n",
    "ld_pos, ld_neg = doc_stack(din):split(2)\n",
    "\n",
    "ld_pos:annotate({name = 'ld_pos'})\n",
    "ld_neg:annotate({name = 'ld_neg'})\n",
    "\n",
    "g = nn.Identity()()\n",
    "lt = gram_stack({g}) \n",
    "\n",
    "ls_pos = nn.DotProduct()({lt, ld_pos})\n",
    "ls_pos:annotate({name = 'ls_pos'})\n",
    "ls_neg = nn.DotProduct()({lt, ld_neg})\n",
    "ls_neg:annotate({name = 'ls_neg'})\n",
    "\n",
    "ntm = nn.gModule({g, din}, {ls_pos, ls_neg})\n",
    "\n",
    "loss_out = nn.L1HingeEmbeddingCriterion(0.5):cuda()"
   ]
  },
  {
   "cell_type": "code",
   "execution_count": 5,
   "metadata": {
    "collapsed": false
   },
   "outputs": [],
   "source": [
    "ntm:cuda();"
   ]
  },
  {
   "cell_type": "markdown",
   "metadata": {
    "collapsed": false
   },
   "source": [
    "### Convert the input data to a dataset that can be used by sgd"
   ]
  },
  {
   "cell_type": "code",
   "execution_count": 22,
   "metadata": {
    "collapsed": false
   },
   "outputs": [],
   "source": [
    "input_meta = {\n",
    "    __index = function( self, k ) \n",
    "--        local i = torch.LongTensor{k}\n",
    "        return {{self.g[k], self.d[k]}, -1} \n",
    "    end\n",
    "}\n",
    "\n",
    "input_data = {\n",
    "    g = examples:index(2, torch.LongTensor{2}), \n",
    "    d = examples:index(2, torch.LongTensor{1,3}),\n",
    "    size = function (self) \n",
    "        return self.g:size()[1]\n",
    "    end,\n",
    "    shuffle = function (self, len)\n",
    "        self.shuffledIndices = torch.randperm(self.g:size()[1], 'torch.LongTensor')\n",
    "        self.batchIndex = 1\n",
    "        self.g_batch = torch.DoubleTensor(len, self.g:size()[2])\n",
    "        self.d_batch = torch.DoubleTensor(len, self.d:size()[2])\n",
    "        \n",
    "        self.t_batch = torch.DoubleTensor(len, 1):fill(-1)\n",
    "        return {self.g_batch, self.d_batch}, self.t_batch\n",
    "    end,\n",
    "    next_batch = function (self, len) \n",
    "        local maxidx = math.min(self.batchIndex + len - 1, self:size())\n",
    "        local batchindices = self.shuffledIndices[{{self.batchIndex, maxidx}}]\n",
    "--        return {self.g:index(1, batchindices, \n",
    "--                self.d:index(1, batchindices))}\n",
    "        self.g_batch:index(self.g, 1, batchindices)\n",
    "        self.d_batch:index(self.d, 1, batchindices)\n",
    "        self.batchIndex = self.batchIndex + len\n",
    "        return {self.g_batch, self.d_batch}, self.t_batch\n",
    "                --{self.g[{{self.batchIndex - len, self.batchIndex}}],\n",
    "               -- self.d[{{self.batchIndex - len, self.batchIndex}}]}\n",
    "    end\n",
    "}\n",
    "setmetatable(input_data, input_meta)"
   ]
  },
  {
   "cell_type": "markdown",
   "metadata": {
    "collapsed": false
   },
   "source": [
    "### Train"
   ]
  },
  {
   "cell_type": "code",
   "execution_count": 29,
   "metadata": {
    "collapsed": false
   },
   "outputs": [
    {
     "data": {
      "text/html": [
       "<script type=\"text/javascript\">\n",
       "  $(function() {\n",
       "    $(\"#101be03d-6d14-448f-c497-326fdb773880\").html('<p>Progress:</p>'); // clear any previous plot in window_id     \n",
       "  });\n",
       "</script>\n",
       "<div id=\"101be03d-6d14-448f-c497-326fdb773880\"></div>\n"
      ]
     },
     "metadata": {},
     "output_type": "display_data"
    }
   ],
   "source": [
    "-- ignore this - its only used to test the loss function\n",
    "\n",
    "trainer = nn.StochasticGradient(ntm, loss_out)\n",
    "trainer.maxIteration = 1\n",
    "trainer.learningRate = 0.01\n",
    "n_examples = input_data:size()\n",
    "i = 0\n",
    "window = itorch.html(\"<p>Progress:</p>\")\n",
    "startTime = os.time()\n",
    "trainer.hookExample = function(self, example) \n",
    "    if i == 0 then\n",
    "        startTime = os.time()\n",
    "    end\n",
    "    \n",
    "    i = i + 1\n",
    "    \n",
    "    if (i - 1) % 10000 == 0 then\n",
    "--        xlua.progress(i, n_examples)\n",
    "        local percCompl = i / n_examples\n",
    "        local eta = ((os.time() - startTime) / percCompl) - (os.time() - startTime)\n",
    "        itorch.html(string.format('<p>Progress:</p><p>%d / %d [' .. \n",
    "                string.rep(\"=\", percCompl * 50) .. '>' .. \n",
    "                string.rep(\".\", 49 - (percCompl * 50)) .. '] - ETA: %d seconds - Loss: Unknown</p>', \n",
    "                    i, n_examples, eta),\n",
    "            window)\n",
    "    end\n",
    "end\n",
    "trainer.hookIteration = function(self, iteration, currentError) \n",
    "        itorch.html(string.format('<p>Iteration %d completed in %d seconds with average loss %.6f.</p>', \n",
    "                iteration, os.time() - startTime, currentError),\n",
    "            window)\n",
    "        window = itorch.html('<p>Progress:</p>')\n",
    "end\n",
    "trainer:train(input_data)"
   ]
  },
  {
   "cell_type": "code",
   "execution_count": 15,
   "metadata": {
    "collapsed": false
   },
   "outputs": [],
   "source": [
    "-- function for useful plotting interface\n",
    "smart_trainer = function(model, criterion,\n",
    "        input_data, n_classes,\n",
    "        batch_size, cv_split, class_train, max_epochs, \n",
    "        optimizer, optimizer_params, \n",
    "        l1, l2, chart)\n",
    " \n",
    "    local training_loss_history = {}\n",
    "    local validation_loss_history = {}\n",
    "\n",
    "    local function feval(x_in)\n",
    "        \n",
    "        local prediction = model:forward(inputs, targets)\n",
    "        local losses = criterion:forward(prediction, targets)\n",
    "        gradients:zero()\n",
    "        local df = criterion:backward(prediction, targets)\n",
    "        model:backward(inputs, df)\n",
    "        \n",
    "        -- regularize\n",
    "        local norm,sign = torch.norm, torch.sign\n",
    "        \n",
    "        local loss = 0\n",
    "        if type(losses) == 'number' then\n",
    "            loss = losses\n",
    "        else\n",
    "            for i=1,#losses do loss = loss + losses[i] end\n",
    "        end\n",
    "        \n",
    "        if l1 ~= 0 then\n",
    "            loss = loss + l1 * norm(x, 1)\n",
    "            gradients:add(sign(x):mul(l1))\n",
    "        end\n",
    "        if l2 ~= 0 then\n",
    "            loss = loss + l2 * norm(x,2)^2/2       \n",
    "            gradients:add( x:clone():mul(l2))\n",
    "        end\n",
    "        \n",
    "        -- accuracy matrix\n",
    "        if class_train then confusion:batchAdd(prediction, targets) end\n",
    "        \n",
    "--        gradients:div(n_batches)\n",
    "        \n",
    "        return loss, gradients\n",
    "    end\n",
    "\n",
    "    local epoch = 0\n",
    "    local max_idx = input_data:size() * (1 - cv_split)\n",
    "    local old_text = 'Progress:<br>'\n",
    "    local window = itorch.html(old_text)\n",
    "    \n",
    "    while true do\n",
    "        model:training()\n",
    "    \n",
    "        if class_train then\n",
    "            train_confusion = optim.ConfusionMatrix(n_classes)\n",
    "            val_confusion = optim.ConfusionMatrix(n_classes)\n",
    "        end\n",
    "        local startTime = os.time()\n",
    "        epoch = epoch + 1\n",
    "        local currentError = 0\n",
    "        \n",
    "        if class_train then \n",
    "            train_confusion:zero()\n",
    "            val_confusion:zero()\n",
    "        end\n",
    "\n",
    "        inputs,targets = input_data:shuffle(batch_size)\n",
    "        \n",
    "        x, gradients = model:getParameters()\n",
    "        \n",
    "        for batch_index=1, max_idx, batch_size do\n",
    "            collectgarbage()\n",
    "            inputs, targets = input_data:next_batch(math.min(batch_size, max_idx - batch_index - 1))\n",
    "\n",
    "            _, f_table = optimizer(feval, x, optimizer_params)\n",
    "\n",
    "            local thisLoss = 0\n",
    "            for i=1,#f_table do  thisLoss = thisLoss + f_table[i] end\n",
    "            \n",
    "            currentError = ((currentError * batch_index) + (thisLoss * batch_size)) / (batch_index + batch_size)\n",
    "\n",
    "            local percCompl = math.floor(50 * batch_index / max_idx)\n",
    "            local eta = ((os.time() - startTime) / (percCompl / 50)) - (os.time() - startTime)\n",
    "            itorch.html(old_text .. \n",
    "                string.format('[%d / %d] [' .. \n",
    "                    string.rep(\"=\", percCompl - 1) .. '>' .. \n",
    "                    string.rep(\".\", 49 - percCompl ) .. '] ETA: %d seconds - Batch Loss: %.6f - Avg. Epoch Loss: %.6f<br>', \n",
    "                        batch_index, input_data:size(), \n",
    "                        eta, \n",
    "                        thisLoss * batch_size, \n",
    "                        currentError * batch_size\n",
    "                ),\n",
    "                window) \n",
    "        end\n",
    "        table.insert(training_loss_history, currentError)\n",
    "        \n",
    "        -- validation\n",
    "        model:evaluate()\n",
    "        local validation_loss = 0\n",
    "        for batch_index=max_idx,input_data:size(),batch_size do \n",
    "            collectgarbage()\n",
    "            inputs, targets = input_data:next_batch(math.min(batch_size, \n",
    "                    input_data:size() - batch_index - 1))\n",
    "            local prediction = model:forward(inputs, targets)\n",
    "            local losses = criterion:forward(prediction, targets)\n",
    "            \n",
    "            if type(losses) == 'number' then\n",
    "                validation_loss = validation_loss + losses\n",
    "            else\n",
    "                for i=1,#losses do validation_loss = validation_loss + losses[i] end\n",
    "            end\n",
    "        end\n",
    "        table.insert(validation_loss_history, validation_loss)\n",
    "        -- report update\n",
    "        old_text = old_text .. string.format('Epoch %d completed in %d seconds with training avg loss %.8f - ' ..\n",
    "                                                'Val loss %.8f.<br>', \n",
    "                    epoch, os.time() - startTime, currentError, validation_loss)\n",
    "        itorch.html(old_text,\n",
    "                window)\n",
    "        if chart then \n",
    "            plot = Plot()\n",
    "            local x_vals = torch.linspace(1,epoch + 10)\n",
    "            plot:line(x_vals, training_loss_history, \n",
    "                'red', 'Training Loss')\n",
    "            plot:line(x_vals, validation_loss_history, \n",
    "                'blue', 'Validation Loss')\n",
    "            plot:xaxis('Training vs Validation Loss')\n",
    "            plot:legend(true)\n",
    "            plot:gfx()\n",
    "        end\n",
    "\n",
    "        if max_epochs and epoch >= max_epochs then\n",
    "            break\n",
    "        end\n",
    "    end\n",
    "end"
   ]
  },
  {
   "cell_type": "code",
   "execution_count": 23,
   "metadata": {
    "collapsed": false
   },
   "outputs": [
    {
     "data": {
      "text/html": [
       "<script type=\"text/javascript\">\n",
       "  $(function() {\n",
       "    $(\"#f4cb1888-616c-45a0-c59e-109620a30fc8\").html('Progress:<br>'); // clear any previous plot in window_id     \n",
       "  });\n",
       "</script>\n",
       "<div id=\"f4cb1888-616c-45a0-c59e-109620a30fc8\"></div>\n"
      ]
     },
     "metadata": {},
     "output_type": "display_data"
    },
    {
     "data": {
      "text/html": [
       "<script type=\"text/javascript\">\n",
       "  $(function() {\n",
       "    $(\"#f4cb1888-616c-45a0-c59e-109620a30fc8\").html('Progress:<br>[1 / 11682144] [>.................................................] ETA: -9223372036854775808 seconds - Batch Loss: 1468871.714792 - Avg. Epoch Loss: 1468724.842308<br>'); // clear any previous plot in window_id     \n",
       "  });\n",
       "</script>\n",
       "<div id=\"aa79834e-62fe-4931-c97a-215505fb245f\"></div>\n"
      ]
     },
     "metadata": {},
     "output_type": "display_data"
    },
    {
     "data": {
      "text/html": [
       "<script type=\"text/javascript\">\n",
       "  $(function() {\n",
       "    $(\"#f4cb1888-616c-45a0-c59e-109620a30fc8\").html('Progress:<br>[10001 / 11682144] [>.................................................] ETA: -9223372036854775808 seconds - Batch Loss: 1468843.110914 - Avg. Epoch Loss: 1468783.973654<br>'); // clear any previous plot in window_id     \n",
       "  });\n",
       "</script>\n",
       "<div id=\"0e95a6a2-8d86-410c-c12b-7da8a7372f42\"></div>\n"
      ]
     },
     "metadata": {},
     "output_type": "display_data"
    },
    {
     "data": {
      "text/html": [
       "<script type=\"text/javascript\">\n",
       "  $(function() {\n",
       "    $(\"#f4cb1888-616c-45a0-c59e-109620a30fc8\").html('Progress:<br>[20001 / 11682144] [>.................................................] ETA: -9223372036854775808 seconds - Batch Loss: 1468812.580439 - Avg. Epoch Loss: 1468793.508932<br>'); // clear any previous plot in window_id     \n",
       "  });\n",
       "</script>\n",
       "<div id=\"4f4d10f5-e388-4b9b-cbf9-c9449d93716f\"></div>\n"
      ]
     },
     "metadata": {},
     "output_type": "display_data"
    },
    {
     "data": {
      "text/html": [
       "<script type=\"text/javascript\">\n",
       "  $(function() {\n",
       "    $(\"#f4cb1888-616c-45a0-c59e-109620a30fc8\").html('Progress:<br>[30001 / 11682144] [>.................................................] ETA: -9223372036854775808 seconds - Batch Loss: 1468783.492934 - Avg. Epoch Loss: 1468791.004995<br>'); // clear any previous plot in window_id     \n",
       "  });\n",
       "</script>\n",
       "<div id=\"23a6007e-c94b-4abe-ca14-4511e4e7105c\"></div>\n"
      ]
     },
     "metadata": {},
     "output_type": "display_data"
    },
    {
     "data": {
      "text/html": [
       "<script type=\"text/javascript\">\n",
       "  $(function() {\n",
       "    $(\"#f4cb1888-616c-45a0-c59e-109620a30fc8\").html('Progress:<br>[40001 / 11682144] [>.................................................] ETA: -9223372036854775808 seconds - Batch Loss: 1468753.057551 - Avg. Epoch Loss: 1468783.415658<br>'); // clear any previous plot in window_id     \n",
       "  });\n",
       "</script>\n",
       "<div id=\"859ec279-368f-4bd5-cbfe-edc6559df4c5\"></div>\n"
      ]
     },
     "metadata": {},
     "output_type": "display_data"
    },
    {
     "data": {
      "text/html": [
       "<script type=\"text/javascript\">\n",
       "  $(function() {\n",
       "    $(\"#f4cb1888-616c-45a0-c59e-109620a30fc8\").html('Progress:<br>[50001 / 11682144] [>.................................................] ETA: -9223372036854775808 seconds - Batch Loss: 1468725.198384 - Avg. Epoch Loss: 1468773.712941<br>'); // clear any previous plot in window_id     \n",
       "  });\n",
       "</script>\n",
       "<div id=\"a2845367-8bc9-4a0d-cab4-c2a59b2b0972\"></div>\n"
      ]
     },
     "metadata": {},
     "output_type": "display_data"
    },
    {
     "data": {
      "text/html": [
       "<script type=\"text/javascript\">\n",
       "  $(function() {\n",
       "    $(\"#f4cb1888-616c-45a0-c59e-109620a30fc8\").html('Progress:<br>[60001 / 11682144] [>.................................................] ETA: -9223372036854775808 seconds - Batch Loss: 1468693.942961 - Avg. Epoch Loss: 1468762.317392<br>'); // clear any previous plot in window_id     \n",
       "  });\n",
       "</script>\n",
       "<div id=\"77eec186-0054-431c-c372-a14b085461d5\"></div>\n"
      ]
     },
     "metadata": {},
     "output_type": "display_data"
    },
    {
     "data": {
      "text/html": [
       "<script type=\"text/javascript\">\n",
       "  $(function() {\n",
       "    $(\"#f4cb1888-616c-45a0-c59e-109620a30fc8\").html('Progress:<br>[70001 / 11682144] [>.................................................] ETA: -9223372036854775808 seconds - Batch Loss: 1468664.936194 - Avg. Epoch Loss: 1468750.144894<br>'); // clear any previous plot in window_id     \n",
       "  });\n",
       "</script>\n",
       "<div id=\"595acf0b-a9ae-4013-c05d-28642b4958df\"></div>\n"
      ]
     },
     "metadata": {},
     "output_type": "display_data"
    },
    {
     "data": {
      "text/html": [
       "<script type=\"text/javascript\">\n",
       "  $(function() {\n",
       "    $(\"#f4cb1888-616c-45a0-c59e-109620a30fc8\").html('Progress:<br>[80001 / 11682144] [>.................................................] ETA: -9223372036854775808 seconds - Batch Loss: 1468635.822095 - Avg. Epoch Loss: 1468737.442502<br>'); // clear any previous plot in window_id     \n",
       "  });\n",
       "</script>\n",
       "<div id=\"63cdae29-d8e5-4d25-cd6f-c002c1bdd632\"></div>\n"
      ]
     },
     "metadata": {},
     "output_type": "display_data"
    },
    {
     "data": {
      "text/html": [
       "<script type=\"text/javascript\">\n",
       "  $(function() {\n",
       "    $(\"#f4cb1888-616c-45a0-c59e-109620a30fc8\").html('Progress:<br>[90001 / 11682144] [>.................................................] ETA: -9223372036854775808 seconds - Batch Loss: 1468605.890057 - Avg. Epoch Loss: 1468724.287389<br>'); // clear any previous plot in window_id     \n",
       "  });\n",
       "</script>\n",
       "<div id=\"d912b050-9b49-47dd-c708-a95a55d6bb2b\"></div>\n"
      ]
     },
     "metadata": {},
     "output_type": "display_data"
    },
    {
     "data": {
      "text/html": [
       "<script type=\"text/javascript\">\n",
       "  $(function() {\n",
       "    $(\"#f4cb1888-616c-45a0-c59e-109620a30fc8\").html('Progress:<br>[100001 / 11682144] [>.................................................] ETA: -9223372036854775808 seconds - Batch Loss: 1468578.361359 - Avg. Epoch Loss: 1468711.021507<br>'); // clear any previous plot in window_id     \n",
       "  });\n",
       "</script>\n",
       "<div id=\"c3e338b3-6705-46a9-c67d-b37158e63e27\"></div>\n"
      ]
     },
     "metadata": {},
     "output_type": "display_data"
    },
    {
     "data": {
      "text/html": [
       "<script type=\"text/javascript\">\n",
       "  $(function() {\n",
       "    $(\"#f4cb1888-616c-45a0-c59e-109620a30fc8\").html('Progress:<br>[110001 / 11682144] [>.................................................] ETA: -9223372036854775808 seconds - Batch Loss: 1468548.549631 - Avg. Epoch Loss: 1468697.482297<br>'); // clear any previous plot in window_id     \n",
       "  });\n",
       "</script>\n",
       "<div id=\"3b2ab9be-6086-4d96-cd0b-29e168a85086\"></div>\n"
      ]
     },
     "metadata": {},
     "output_type": "display_data"
    },
    {
     "data": {
      "text/html": [
       "<script type=\"text/javascript\">\n",
       "  $(function() {\n",
       "    $(\"#f4cb1888-616c-45a0-c59e-109620a30fc8\").html('Progress:<br>[120001 / 11682144] [>.................................................] ETA: -9223372036854775808 seconds - Batch Loss: 1468518.958516 - Avg. Epoch Loss: 1468683.749804<br>'); // clear any previous plot in window_id     \n",
       "  });\n",
       "</script>\n",
       "<div id=\"69164ef6-6c17-4715-c721-37c02b62bef0\"></div>\n"
      ]
     },
     "metadata": {},
     "output_type": "display_data"
    },
    {
     "data": {
      "text/html": [
       "<script type=\"text/javascript\">\n",
       "  $(function() {\n",
       "    $(\"#f4cb1888-616c-45a0-c59e-109620a30fc8\").html('Progress:<br>[130001 / 11682144] [>.................................................] ETA: -9223372036854775808 seconds - Batch Loss: 1468490.149777 - Avg. Epoch Loss: 1468669.921329<br>'); // clear any previous plot in window_id     \n",
       "  });\n",
       "</script>\n",
       "<div id=\"dead1311-a44a-466b-c6df-2e448c3ddfb8\"></div>\n"
      ]
     },
     "metadata": {},
     "output_type": "display_data"
    },
    {
     "data": {
      "text/html": [
       "<script type=\"text/javascript\">\n",
       "  $(function() {\n",
       "    $(\"#f4cb1888-616c-45a0-c59e-109620a30fc8\").html('Progress:<br>[140001 / 11682144] [>.................................................] ETA: -9223372036854775808 seconds - Batch Loss: 1468461.707928 - Avg. Epoch Loss: 1468656.040529<br>'); // clear any previous plot in window_id     \n",
       "  });\n",
       "</script>\n",
       "<div id=\"5a378944-7b3c-4520-c586-07b43985377b\"></div>\n"
      ]
     },
     "metadata": {},
     "output_type": "display_data"
    },
    {
     "data": {
      "text/html": [
       "<script type=\"text/javascript\">\n",
       "  $(function() {\n",
       "    $(\"#f4cb1888-616c-45a0-c59e-109620a30fc8\").html('Progress:<br>[150001 / 11682144] [>.................................................] ETA: -9223372036854775808 seconds - Batch Loss: 1468430.195027 - Avg. Epoch Loss: 1468641.925273<br>'); // clear any previous plot in window_id     \n",
       "  });\n",
       "</script>\n",
       "<div id=\"e25517cd-3e4d-4ec9-ce13-b140731388c2\"></div>\n"
      ]
     },
     "metadata": {},
     "output_type": "display_data"
    },
    {
     "data": {
      "text/html": [
       "<script type=\"text/javascript\">\n",
       "  $(function() {\n",
       "    $(\"#f4cb1888-616c-45a0-c59e-109620a30fc8\").html('Progress:<br>[160001 / 11682144] [>.................................................] ETA: -9223372036854775808 seconds - Batch Loss: 1468401.714835 - Avg. Epoch Loss: 1468627.795330<br>'); // clear any previous plot in window_id     \n",
       "  });\n",
       "</script>\n",
       "<div id=\"38328263-8a7c-46bb-c6f9-c44451eaef01\"></div>\n"
      ]
     },
     "metadata": {},
     "output_type": "display_data"
    },
    {
     "data": {
      "text/html": [
       "<script type=\"text/javascript\">\n",
       "  $(function() {\n",
       "    $(\"#f4cb1888-616c-45a0-c59e-109620a30fc8\").html('Progress:<br>[170001 / 11682144] [>.................................................] ETA: -9223372036854775808 seconds - Batch Loss: 1468371.856246 - Avg. Epoch Loss: 1468613.576571<br>'); // clear any previous plot in window_id     \n",
       "  });\n",
       "</script>\n",
       "<div id=\"720ce3f4-adbd-4759-c74d-6d1c03a579fa\"></div>\n"
      ]
     },
     "metadata": {},
     "output_type": "display_data"
    },
    {
     "data": {
      "text/html": [
       "<script type=\"text/javascript\">\n",
       "  $(function() {\n",
       "    $(\"#f4cb1888-616c-45a0-c59e-109620a30fc8\").html('Progress:<br>[180001 / 11682144] [>.................................................] ETA: -9223372036854775808 seconds - Batch Loss: 1468342.039950 - Avg. Epoch Loss: 1468599.285245<br>'); // clear any previous plot in window_id     \n",
       "  });\n",
       "</script>\n",
       "<div id=\"2f86fe8e-949c-4a13-caa9-3e5857977ae1\"></div>\n"
      ]
     },
     "metadata": {},
     "output_type": "display_data"
    },
    {
     "data": {
      "text/html": [
       "<script type=\"text/javascript\">\n",
       "  $(function() {\n",
       "    $(\"#f4cb1888-616c-45a0-c59e-109620a30fc8\").html('Progress:<br>[190001 / 11682144] [>................................................] ETA: 294 seconds - Batch Loss: 1468312.796908 - Avg. Epoch Loss: 1468584.960900<br>'); // clear any previous plot in window_id     \n",
       "  });\n",
       "</script>\n",
       "<div id=\"852ef399-86af-4f40-cff6-91572f09d876\"></div>\n"
      ]
     },
     "metadata": {},
     "output_type": "display_data"
    },
    {
     "data": {
      "text/html": [
       "<script type=\"text/javascript\">\n",
       "  $(function() {\n",
       "    $(\"#f4cb1888-616c-45a0-c59e-109620a30fc8\").html('Progress:<br>[200001 / 11682144] [>................................................] ETA: 294 seconds - Batch Loss: 1468285.135345 - Avg. Epoch Loss: 1468570.683561<br>'); // clear any previous plot in window_id     \n",
       "  });\n",
       "</script>\n",
       "<div id=\"7ca36d43-9f1c-4602-c6f8-e30d7fb8cc4f\"></div>\n"
      ]
     },
     "metadata": {},
     "output_type": "display_data"
    },
    {
     "data": {
      "text/html": [
       "<script type=\"text/javascript\">\n",
       "  $(function() {\n",
       "    $(\"#f4cb1888-616c-45a0-c59e-109620a30fc8\").html('Progress:<br>[210001 / 11682144] [>................................................] ETA: 294 seconds - Batch Loss: 1468253.784693 - Avg. Epoch Loss: 1468556.279132<br>'); // clear any previous plot in window_id     \n",
       "  });\n",
       "</script>\n",
       "<div id=\"351ac447-c818-4f0b-cf4b-2ef056d2039a\"></div>\n"
      ]
     },
     "metadata": {},
     "output_type": "display_data"
    },
    {
     "data": {
      "text/html": [
       "<script type=\"text/javascript\">\n",
       "  $(function() {\n",
       "    $(\"#f4cb1888-616c-45a0-c59e-109620a30fc8\").html('Progress:<br>[220001 / 11682144] [>................................................] ETA: 294 seconds - Batch Loss: 1468224.403915 - Avg. Epoch Loss: 1468541.849838<br>'); // clear any previous plot in window_id     \n",
       "  });\n",
       "</script>\n",
       "<div id=\"5555784c-21ae-4b1e-cbe6-692d6625e94c\"></div>\n"
      ]
     },
     "metadata": {},
     "output_type": "display_data"
    },
    {
     "data": {
      "text/html": [
       "<script type=\"text/javascript\">\n",
       "  $(function() {\n",
       "    $(\"#f4cb1888-616c-45a0-c59e-109620a30fc8\").html('Progress:<br>[230001 / 11682144] [>................................................] ETA: 294 seconds - Batch Loss: 1468196.182677 - Avg. Epoch Loss: 1468527.447099<br>'); // clear any previous plot in window_id     \n",
       "  });\n",
       "</script>\n",
       "<div id=\"889063d5-6197-4825-c801-0943a9477086\"></div>\n"
      ]
     },
     "metadata": {},
     "output_type": "display_data"
    },
    {
     "data": {
      "text/html": [
       "<script type=\"text/javascript\">\n",
       "  $(function() {\n",
       "    $(\"#f4cb1888-616c-45a0-c59e-109620a30fc8\").html('Progress:<br>[240001 / 11682144] [>................................................] ETA: 294 seconds - Batch Loss: 1468166.521350 - Avg. Epoch Loss: 1468513.010127<br>'); // clear any previous plot in window_id     \n",
       "  });\n",
       "</script>\n",
       "<div id=\"3b6f28be-87f8-41e7-c1f7-4faf32e3fce3\"></div>\n"
      ]
     },
     "metadata": {},
     "output_type": "display_data"
    },
    {
     "data": {
      "text/html": [
       "<script type=\"text/javascript\">\n",
       "  $(function() {\n",
       "    $(\"#f4cb1888-616c-45a0-c59e-109620a30fc8\").html('Progress:<br>[250001 / 11682144] [>................................................] ETA: 294 seconds - Batch Loss: 1468135.687151 - Avg. Epoch Loss: 1468498.497761<br>'); // clear any previous plot in window_id     \n",
       "  });\n",
       "</script>\n",
       "<div id=\"68663a4c-d5b7-41f0-c190-4f71050f6364\"></div>\n"
      ]
     },
     "metadata": {},
     "output_type": "display_data"
    },
    {
     "data": {
      "text/html": [
       "<script type=\"text/javascript\">\n",
       "  $(function() {\n",
       "    $(\"#f4cb1888-616c-45a0-c59e-109620a30fc8\").html('Progress:<br>[260001 / 11682144] [>................................................] ETA: 294 seconds - Batch Loss: 1468108.551743 - Avg. Epoch Loss: 1468484.055369<br>'); // clear any previous plot in window_id     \n",
       "  });\n",
       "</script>\n",
       "<div id=\"d161191c-007f-4c6b-cc08-aae107767589\"></div>\n"
      ]
     },
     "metadata": {},
     "output_type": "display_data"
    },
    {
     "data": {
      "text/html": [
       "<script type=\"text/javascript\">\n",
       "  $(function() {\n",
       "    $(\"#f4cb1888-616c-45a0-c59e-109620a30fc8\").html('Progress:<br>[270001 / 11682144] [>................................................] ETA: 294 seconds - Batch Loss: 1468077.222344 - Avg. Epoch Loss: 1468469.525670<br>'); // clear any previous plot in window_id     \n",
       "  });\n",
       "</script>\n",
       "<div id=\"c1508e7a-feda-48bc-c844-99fecdf5c70f\"></div>\n"
      ]
     },
     "metadata": {},
     "output_type": "display_data"
    },
    {
     "data": {
      "text/html": [
       "<script type=\"text/javascript\">\n",
       "  $(function() {\n",
       "    $(\"#f4cb1888-616c-45a0-c59e-109620a30fc8\").html('Progress:<br>[280001 / 11682144] [>................................................] ETA: 294 seconds - Batch Loss: 1468048.509627 - Avg. Epoch Loss: 1468455.007926<br>'); // clear any previous plot in window_id     \n",
       "  });\n",
       "</script>\n",
       "<div id=\"dcd352b8-9937-48fe-c868-47a33fb5b08a\"></div>\n"
      ]
     },
     "metadata": {},
     "output_type": "display_data"
    },
    {
     "data": {
      "text/html": [
       "<script type=\"text/javascript\">\n",
       "  $(function() {\n",
       "    $(\"#f4cb1888-616c-45a0-c59e-109620a30fc8\").html('Progress:<br>[290001 / 11682144] [>................................................] ETA: 294 seconds - Batch Loss: 1468019.793501 - Avg. Epoch Loss: 1468440.500826<br>'); // clear any previous plot in window_id     \n",
       "  });\n",
       "</script>\n",
       "<div id=\"81419d63-6947-4acb-caaf-63392739379b\"></div>\n"
      ]
     },
     "metadata": {},
     "output_type": "display_data"
    },
    {
     "data": {
      "text/html": [
       "<script type=\"text/javascript\">\n",
       "  $(function() {\n",
       "    $(\"#f4cb1888-616c-45a0-c59e-109620a30fc8\").html('Progress:<br>[300001 / 11682144] [>................................................] ETA: 294 seconds - Batch Loss: 1467990.598579 - Avg. Epoch Loss: 1468425.987898<br>'); // clear any previous plot in window_id     \n",
       "  });\n",
       "</script>\n",
       "<div id=\"d52203c1-2943-4c80-cce8-0b3e4df41f7c\"></div>\n"
      ]
     },
     "metadata": {},
     "output_type": "display_data"
    },
    {
     "data": {
      "text/html": [
       "<script type=\"text/javascript\">\n",
       "  $(function() {\n",
       "    $(\"#f4cb1888-616c-45a0-c59e-109620a30fc8\").html('Progress:<br>[310001 / 11682144] [>................................................] ETA: 294 seconds - Batch Loss: 1467961.098720 - Avg. Epoch Loss: 1468411.460156<br>'); // clear any previous plot in window_id     \n",
       "  });\n",
       "</script>\n",
       "<div id=\"5069d814-9de0-4e7b-ce2e-1a58addf0f3d\"></div>\n"
      ]
     },
     "metadata": {},
     "output_type": "display_data"
    },
    {
     "data": {
      "text/html": [
       "<script type=\"text/javascript\">\n",
       "  $(function() {\n",
       "    $(\"#f4cb1888-616c-45a0-c59e-109620a30fc8\").html('Progress:<br>[320001 / 11682144] [>................................................] ETA: 343 seconds - Batch Loss: 1467930.757633 - Avg. Epoch Loss: 1468396.893457<br>'); // clear any previous plot in window_id     \n",
       "  });\n",
       "</script>\n",
       "<div id=\"089613ab-625d-4bba-cbe6-a7e427dc751e\"></div>\n"
      ]
     },
     "metadata": {},
     "output_type": "display_data"
    },
    {
     "data": {
      "text/html": [
       "<script type=\"text/javascript\">\n",
       "  $(function() {\n",
       "    $(\"#f4cb1888-616c-45a0-c59e-109620a30fc8\").html('Progress:<br>[330001 / 11682144] [>................................................] ETA: 343 seconds - Batch Loss: 1467901.288991 - Avg. Epoch Loss: 1468382.316898<br>'); // clear any previous plot in window_id     \n",
       "  });\n",
       "</script>\n",
       "<div id=\"7b228708-fb04-4176-c1ce-304bc3855d10\"></div>\n"
      ]
     },
     "metadata": {},
     "output_type": "display_data"
    },
    {
     "data": {
      "text/html": [
       "<script type=\"text/javascript\">\n",
       "  $(function() {\n",
       "    $(\"#f4cb1888-616c-45a0-c59e-109620a30fc8\").html('Progress:<br>[340001 / 11682144] [>................................................] ETA: 343 seconds - Batch Loss: 1467872.916887 - Avg. Epoch Loss: 1468367.762654<br>'); // clear any previous plot in window_id     \n",
       "  });\n",
       "</script>\n",
       "<div id=\"576cd5e0-b854-47c7-c7aa-6667e860a3bc\"></div>\n"
      ]
     },
     "metadata": {},
     "output_type": "display_data"
    },
    {
     "data": {
      "text/html": [
       "<script type=\"text/javascript\">\n",
       "  $(function() {\n",
       "    $(\"#f4cb1888-616c-45a0-c59e-109620a30fc8\").html('Progress:<br>[350001 / 11682144] [>................................................] ETA: 343 seconds - Batch Loss: 1467841.526344 - Avg. Epoch Loss: 1468353.145019<br>'); // clear any previous plot in window_id     \n",
       "  });\n",
       "</script>\n",
       "<div id=\"e2d133b7-7f3c-409d-c09f-134ef0db5ace\"></div>\n"
      ]
     },
     "metadata": {},
     "output_type": "display_data"
    },
    {
     "data": {
      "text/html": [
       "<script type=\"text/javascript\">\n",
       "  $(function() {\n",
       "    $(\"#f4cb1888-616c-45a0-c59e-109620a30fc8\").html('Progress:<br>[360001 / 11682144] [>................................................] ETA: 343 seconds - Batch Loss: 1467813.745267 - Avg. Epoch Loss: 1468338.566687<br>'); // clear any previous plot in window_id     \n",
       "  });\n",
       "</script>\n",
       "<div id=\"8dcd2416-16f4-4dd1-cd0f-ec1a0a229ed9\"></div>\n"
      ]
     },
     "metadata": {},
     "output_type": "display_data"
    },
    {
     "data": {
      "text/html": [
       "<script type=\"text/javascript\">\n",
       "  $(function() {\n",
       "    $(\"#f4cb1888-616c-45a0-c59e-109620a30fc8\").html('Progress:<br>[370001 / 11682144] [>................................................] ETA: 343 seconds - Batch Loss: 1467784.957114 - Avg. Epoch Loss: 1468323.998052<br>'); // clear any previous plot in window_id     \n",
       "  });\n",
       "</script>\n",
       "<div id=\"cd4dc240-48a7-486b-c8d3-f41d24013f2d\"></div>\n"
      ]
     },
     "metadata": {},
     "output_type": "display_data"
    },
    {
     "data": {
      "text/html": [
       "<script type=\"text/javascript\">\n",
       "  $(function() {\n",
       "    $(\"#f4cb1888-616c-45a0-c59e-109620a30fc8\").html('Progress:<br>[380001 / 11682144] [=>...............................................] ETA: 168 seconds - Batch Loss: 1467755.247550 - Avg. Epoch Loss: 1468309.414743<br>'); // clear any previous plot in window_id     \n",
       "  });\n",
       "</script>\n",
       "<div id=\"d9280e83-33bc-4c07-cc82-d5f4e65c802c\"></div>\n"
      ]
     },
     "metadata": {},
     "output_type": "display_data"
    },
    {
     "data": {
      "text/html": [
       "<script type=\"text/javascript\">\n",
       "  $(function() {\n",
       "    $(\"#f4cb1888-616c-45a0-c59e-109620a30fc8\").html('Progress:<br>[390001 / 11682144] [=>...............................................] ETA: 168 seconds - Batch Loss: 1467726.730565 - Avg. Epoch Loss: 1468294.847675<br>'); // clear any previous plot in window_id     \n",
       "  });\n",
       "</script>\n",
       "<div id=\"8f197c3f-2586-4ae7-ca67-5ee7f74f9199\"></div>\n"
      ]
     },
     "metadata": {},
     "output_type": "display_data"
    },
    {
     "data": {
      "text/html": [
       "<script type=\"text/javascript\">\n",
       "  $(function() {\n",
       "    $(\"#f4cb1888-616c-45a0-c59e-109620a30fc8\").html('Progress:<br>[400001 / 11682144] [=>...............................................] ETA: 168 seconds - Batch Loss: 1467697.693263 - Avg. Epoch Loss: 1468280.282969<br>'); // clear any previous plot in window_id     \n",
       "  });\n",
       "</script>\n",
       "<div id=\"ed206cdd-6216-481c-c8ed-8d5f08a3edea\"></div>\n"
      ]
     },
     "metadata": {},
     "output_type": "display_data"
    },
    {
     "data": {
      "text/html": [
       "<script type=\"text/javascript\">\n",
       "  $(function() {\n",
       "    $(\"#f4cb1888-616c-45a0-c59e-109620a30fc8\").html('Progress:<br>[410001 / 11682144] [=>...............................................] ETA: 168 seconds - Batch Loss: 1467667.317340 - Avg. Epoch Loss: 1468265.688584<br>'); // clear any previous plot in window_id     \n",
       "  });\n",
       "</script>\n",
       "<div id=\"9a734023-b12c-4ddc-cd3c-b21bbce40eea\"></div>\n"
      ]
     },
     "metadata": {},
     "output_type": "display_data"
    },
    {
     "data": {
      "text/html": [
       "<script type=\"text/javascript\">\n",
       "  $(function() {\n",
       "    $(\"#f4cb1888-616c-45a0-c59e-109620a30fc8\").html('Progress:<br>[420001 / 11682144] [=>...............................................] ETA: 168 seconds - Batch Loss: 1467638.008332 - Avg. Epoch Loss: 1468251.091403<br>'); // clear any previous plot in window_id     \n",
       "  });\n",
       "</script>\n",
       "<div id=\"b2fe02a8-48f5-49ca-c913-e90b878cf298\"></div>\n"
      ]
     },
     "metadata": {},
     "output_type": "display_data"
    },
    {
     "data": {
      "text/html": [
       "<script type=\"text/javascript\">\n",
       "  $(function() {\n",
       "    $(\"#f4cb1888-616c-45a0-c59e-109620a30fc8\").html('Progress:<br>[430001 / 11682144] [=>...............................................] ETA: 168 seconds - Batch Loss: 1467608.653006 - Avg. Epoch Loss: 1468236.490563<br>'); // clear any previous plot in window_id     \n",
       "  });\n",
       "</script>\n",
       "<div id=\"4db058ec-f32a-423f-c2e3-4150464d3f26\"></div>\n"
      ]
     },
     "metadata": {},
     "output_type": "display_data"
    },
    {
     "data": {
      "text/html": [
       "<script type=\"text/javascript\">\n",
       "  $(function() {\n",
       "    $(\"#f4cb1888-616c-45a0-c59e-109620a30fc8\").html('Progress:<br>[440001 / 11682144] [=>...............................................] ETA: 168 seconds - Batch Loss: 1467578.991471 - Avg. Epoch Loss: 1468221.879505<br>'); // clear any previous plot in window_id     \n",
       "  });\n",
       "</script>\n",
       "<div id=\"4dcfb421-12de-42e9-c218-08dbaf70abd6\"></div>\n"
      ]
     },
     "metadata": {},
     "output_type": "display_data"
    },
    {
     "data": {
      "text/html": [
       "<script type=\"text/javascript\">\n",
       "  $(function() {\n",
       "    $(\"#f4cb1888-616c-45a0-c59e-109620a30fc8\").html('Progress:<br>[450001 / 11682144] [=>...............................................] ETA: 168 seconds - Batch Loss: 1467550.485875 - Avg. Epoch Loss: 1468207.284023<br>'); // clear any previous plot in window_id     \n",
       "  });\n",
       "</script>\n",
       "<div id=\"005b3e91-330a-4b54-cbd5-09603e8fd2c5\"></div>\n"
      ]
     },
     "metadata": {},
     "output_type": "display_data"
    },
    {
     "data": {
      "text/html": [
       "<script type=\"text/javascript\">\n",
       "  $(function() {\n",
       "    $(\"#f4cb1888-616c-45a0-c59e-109620a30fc8\").html('Progress:<br>[460001 / 11682144] [=>...............................................] ETA: 168 seconds - Batch Loss: 1467520.569238 - Avg. Epoch Loss: 1468192.673101<br>'); // clear any previous plot in window_id     \n",
       "  });\n",
       "</script>\n",
       "<div id=\"6b6406e7-a779-4d6b-cd40-f518ad55f8af\"></div>\n"
      ]
     },
     "metadata": {},
     "output_type": "display_data"
    },
    {
     "data": {
      "text/html": [
       "<script type=\"text/javascript\">\n",
       "  $(function() {\n",
       "    $(\"#f4cb1888-616c-45a0-c59e-109620a30fc8\").html('Progress:<br>[470001 / 11682144] [=>...............................................] ETA: 168 seconds - Batch Loss: 1467492.272236 - Avg. Epoch Loss: 1468178.081447<br>'); // clear any previous plot in window_id     \n",
       "  });\n",
       "</script>\n",
       "<div id=\"a556f613-de57-4527-c5e7-c6d5e05c96d0\"></div>\n"
      ]
     },
     "metadata": {},
     "output_type": "display_data"
    },
    {
     "data": {
      "text/html": [
       "<script type=\"text/javascript\">\n",
       "  $(function() {\n",
       "    $(\"#f4cb1888-616c-45a0-c59e-109620a30fc8\").html('Progress:<br>[480001 / 11682144] [=>...............................................] ETA: 168 seconds - Batch Loss: 1467461.492562 - Avg. Epoch Loss: 1468163.457214<br>'); // clear any previous plot in window_id     \n",
       "  });\n",
       "</script>\n",
       "<div id=\"24d6e89d-16b0-4fad-cfcd-938e07a048b2\"></div>\n"
      ]
     },
     "metadata": {},
     "output_type": "display_data"
    },
    {
     "data": {
      "text/html": [
       "<script type=\"text/javascript\">\n",
       "  $(function() {\n",
       "    $(\"#f4cb1888-616c-45a0-c59e-109620a30fc8\").html('Progress:<br>[490001 / 11682144] [=>...............................................] ETA: 168 seconds - Batch Loss: 1467432.040406 - Avg. Epoch Loss: 1468148.828907<br>'); // clear any previous plot in window_id     \n",
       "  });\n",
       "</script>\n",
       "<div id=\"b307a2f6-0b71-44c9-c475-b84cd872bf05\"></div>\n"
      ]
     },
     "metadata": {},
     "output_type": "display_data"
    },
    {
     "data": {
      "text/html": [
       "<script type=\"text/javascript\">\n",
       "  $(function() {\n",
       "    $(\"#f4cb1888-616c-45a0-c59e-109620a30fc8\").html('Progress:<br>[500001 / 11682144] [=>...............................................] ETA: 168 seconds - Batch Loss: 1467404.555181 - Avg. Epoch Loss: 1468134.235333<br>'); // clear any previous plot in window_id     \n",
       "  });\n",
       "</script>\n",
       "<div id=\"83863e46-7f84-4408-c40b-e3f1c979c535\"></div>\n"
      ]
     },
     "metadata": {},
     "output_type": "display_data"
    },
    {
     "data": {
      "text/html": [
       "<script type=\"text/javascript\">\n",
       "  $(function() {\n",
       "    $(\"#f4cb1888-616c-45a0-c59e-109620a30fc8\").html('Progress:<br>[510001 / 11682144] [=>...............................................] ETA: 168 seconds - Batch Loss: 1467373.501852 - Avg. Epoch Loss: 1468119.605871<br>'); // clear any previous plot in window_id     \n",
       "  });\n",
       "</script>\n",
       "<div id=\"fafa68b0-7eef-453d-c55c-a9df41aef3e6\"></div>\n"
      ]
     },
     "metadata": {},
     "output_type": "display_data"
    },
    {
     "data": {
      "text/html": [
       "<script type=\"text/javascript\">\n",
       "  $(function() {\n",
       "    $(\"#f4cb1888-616c-45a0-c59e-109620a30fc8\").html('Progress:<br>[520001 / 11682144] [=>...............................................] ETA: 168 seconds - Batch Loss: 1467344.849209 - Avg. Epoch Loss: 1468104.987848<br>'); // clear any previous plot in window_id     \n",
       "  });\n",
       "</script>\n",
       "<div id=\"2d5f0fa2-45de-489c-c80f-3a284921e719\"></div>\n"
      ]
     },
     "metadata": {},
     "output_type": "display_data"
    },
    {
     "data": {
      "text/html": [
       "<script type=\"text/javascript\">\n",
       "  $(function() {\n",
       "    $(\"#f4cb1888-616c-45a0-c59e-109620a30fc8\").html('Progress:<br>[530001 / 11682144] [=>...............................................] ETA: 168 seconds - Batch Loss: 1467314.459242 - Avg. Epoch Loss: 1468090.348457<br>'); // clear any previous plot in window_id     \n",
       "  });\n",
       "</script>\n",
       "<div id=\"19dfee05-f41d-4712-c72b-28b63b83a61a\"></div>\n"
      ]
     },
     "metadata": {},
     "output_type": "display_data"
    },
    {
     "data": {
      "text/html": [
       "<script type=\"text/javascript\">\n",
       "  $(function() {\n",
       "    $(\"#f4cb1888-616c-45a0-c59e-109620a30fc8\").html('Progress:<br>[540001 / 11682144] [=>...............................................] ETA: 168 seconds - Batch Loss: 1467286.137109 - Avg. Epoch Loss: 1468075.726459<br>'); // clear any previous plot in window_id     \n",
       "  });\n",
       "</script>\n",
       "<div id=\"c8127d0d-9c5b-45b6-c520-b6358e936b4c\"></div>\n"
      ]
     },
     "metadata": {},
     "output_type": "display_data"
    },
    {
     "data": {
      "text/html": [
       "<script type=\"text/javascript\">\n",
       "  $(function() {\n",
       "    $(\"#f4cb1888-616c-45a0-c59e-109620a30fc8\").html('Progress:<br>[550001 / 11682144] [=>...............................................] ETA: 168 seconds - Batch Loss: 1467256.375889 - Avg. Epoch Loss: 1468061.095225<br>'); // clear any previous plot in window_id     \n",
       "  });\n",
       "</script>\n",
       "<div id=\"b03c92e6-75d7-4ba7-cb45-7bf209d0fa0c\"></div>\n"
      ]
     },
     "metadata": {},
     "output_type": "display_data"
    },
    {
     "data": {
      "text/html": [
       "<script type=\"text/javascript\">\n",
       "  $(function() {\n",
       "    $(\"#f4cb1888-616c-45a0-c59e-109620a30fc8\").html('Progress:<br>[560001 / 11682144] [=>...............................................] ETA: 192 seconds - Batch Loss: 1467227.897644 - Avg. Epoch Loss: 1468046.477749<br>'); // clear any previous plot in window_id     \n",
       "  });\n",
       "</script>\n",
       "<div id=\"72d1e3bd-3fd3-4a3c-cac3-aedcf9b0550e\"></div>\n"
      ]
     },
     "metadata": {},
     "output_type": "display_data"
    },
    {
     "data": {
      "text/html": [
       "<script type=\"text/javascript\">\n",
       "  $(function() {\n",
       "    $(\"#f4cb1888-616c-45a0-c59e-109620a30fc8\").html('Progress:<br>[570001 / 11682144] [==>..............................................] ETA: 125 seconds - Batch Loss: 1467195.783394 - Avg. Epoch Loss: 1468031.810630<br>'); // clear any previous plot in window_id     \n",
       "  });\n",
       "</script>\n",
       "<div id=\"442e3b75-f8a9-401d-c09a-f29a9fd2bd54\"></div>\n"
      ]
     },
     "metadata": {},
     "output_type": "display_data"
    },
    {
     "data": {
      "text/html": [
       "<script type=\"text/javascript\">\n",
       "  $(function() {\n",
       "    $(\"#f4cb1888-616c-45a0-c59e-109620a30fc8\").html('Progress:<br>[580001 / 11682144] [==>..............................................] ETA: 125 seconds - Batch Loss: 1467166.554321 - Avg. Epoch Loss: 1468017.145294<br>'); // clear any previous plot in window_id     \n",
       "  });\n",
       "</script>\n",
       "<div id=\"b05b74bc-be85-4ff9-cfd0-eac697af0391\"></div>\n"
      ]
     },
     "metadata": {},
     "output_type": "display_data"
    },
    {
     "data": {
      "text/html": [
       "<script type=\"text/javascript\">\n",
       "  $(function() {\n",
       "    $(\"#f4cb1888-616c-45a0-c59e-109620a30fc8\").html('Progress:<br>[590001 / 11682144] [==>..............................................] ETA: 125 seconds - Batch Loss: 1467139.444508 - Avg. Epoch Loss: 1468002.516972<br>'); // clear any previous plot in window_id     \n",
       "  });\n",
       "</script>\n",
       "<div id=\"b4f24390-ccf7-440f-c4d8-d750fec3b4cc\"></div>\n"
      ]
     },
     "metadata": {},
     "output_type": "display_data"
    },
    {
     "data": {
      "text/html": [
       "<script type=\"text/javascript\">\n",
       "  $(function() {\n",
       "    $(\"#f4cb1888-616c-45a0-c59e-109620a30fc8\").html('Progress:<br>[600001 / 11682144] [==>..............................................] ETA: 125 seconds - Batch Loss: 1467108.517717 - Avg. Epoch Loss: 1467987.861271<br>'); // clear any previous plot in window_id     \n",
       "  });\n",
       "</script>\n",
       "<div id=\"2ec5695e-0b33-4846-c837-8246d7857d35\"></div>\n"
      ]
     },
     "metadata": {},
     "output_type": "display_data"
    },
    {
     "data": {
      "text/html": [
       "<script type=\"text/javascript\">\n",
       "  $(function() {\n",
       "    $(\"#f4cb1888-616c-45a0-c59e-109620a30fc8\").html('Progress:<br>[610001 / 11682144] [==>..............................................] ETA: 125 seconds - Batch Loss: 1467079.661868 - Avg. Epoch Loss: 1467973.212917<br>'); // clear any previous plot in window_id     \n",
       "  });\n",
       "</script>\n",
       "<div id=\"320898a3-5b5a-4053-c07b-fd9abc6e8b57\"></div>\n"
      ]
     },
     "metadata": {},
     "output_type": "display_data"
    },
    {
     "data": {
      "text/html": [
       "<script type=\"text/javascript\">\n",
       "  $(function() {\n",
       "    $(\"#f4cb1888-616c-45a0-c59e-109620a30fc8\").html('Progress:<br>[620001 / 11682144] [==>..............................................] ETA: 125 seconds - Batch Loss: 1467049.957138 - Avg. Epoch Loss: 1467958.558086<br>'); // clear any previous plot in window_id     \n",
       "  });\n",
       "</script>\n",
       "<div id=\"d81c44e7-a25b-4575-c503-b2b26e019215\"></div>\n"
      ]
     },
     "metadata": {},
     "output_type": "display_data"
    },
    {
     "data": {
      "text/html": [
       "<script type=\"text/javascript\">\n",
       "  $(function() {\n",
       "    $(\"#f4cb1888-616c-45a0-c59e-109620a30fc8\").html('Progress:<br>[630001 / 11682144] [==>..............................................] ETA: 125 seconds - Batch Loss: 1467020.899974 - Avg. Epoch Loss: 1467943.907201<br>'); // clear any previous plot in window_id     \n",
       "  });\n",
       "</script>\n",
       "<div id=\"ee107d99-5faa-4003-c0d0-10512a9fa066\"></div>\n"
      ]
     },
     "metadata": {},
     "output_type": "display_data"
    },
    {
     "data": {
      "text/html": [
       "<script type=\"text/javascript\">\n",
       "  $(function() {\n",
       "    $(\"#f4cb1888-616c-45a0-c59e-109620a30fc8\").html('Progress:<br>[640001 / 11682144] [==>..............................................] ETA: 125 seconds - Batch Loss: 1466993.054505 - Avg. Epoch Loss: 1467929.278721<br>'); // clear any previous plot in window_id     \n",
       "  });\n",
       "</script>\n",
       "<div id=\"9c238f85-9a92-4dd3-cdf4-7247f041e224\"></div>\n"
      ]
     },
     "metadata": {},
     "output_type": "display_data"
    },
    {
     "data": {
      "text/html": [
       "<script type=\"text/javascript\">\n",
       "  $(function() {\n",
       "    $(\"#f4cb1888-616c-45a0-c59e-109620a30fc8\").html('Progress:<br>[650001 / 11682144] [==>..............................................] ETA: 125 seconds - Batch Loss: 1466960.715847 - Avg. Epoch Loss: 1467914.603548<br>'); // clear any previous plot in window_id     \n",
       "  });\n",
       "</script>\n",
       "<div id=\"bba3dbfc-b056-41ce-c1f0-ccdcfa933979\"></div>\n"
      ]
     },
     "metadata": {},
     "output_type": "display_data"
    },
    {
     "data": {
      "text/html": [
       "<script type=\"text/javascript\">\n",
       "  $(function() {\n",
       "    $(\"#f4cb1888-616c-45a0-c59e-109620a30fc8\").html('Progress:<br>[660001 / 11682144] [==>..............................................] ETA: 125 seconds - Batch Loss: 1466932.352483 - Avg. Epoch Loss: 1467899.943106<br>'); // clear any previous plot in window_id     \n",
       "  });\n",
       "</script>\n",
       "<div id=\"6bdc5456-5054-4820-c896-0bda603d1aa3\"></div>\n"
      ]
     },
     "metadata": {},
     "output_type": "display_data"
    },
    {
     "data": {
      "text/html": [
       "<script type=\"text/javascript\">\n",
       "  $(function() {\n",
       "    $(\"#f4cb1888-616c-45a0-c59e-109620a30fc8\").html('Progress:<br>[670001 / 11682144] [==>..............................................] ETA: 125 seconds - Batch Loss: 1466904.317875 - Avg. Epoch Loss: 1467885.301580<br>'); // clear any previous plot in window_id     \n",
       "  });\n",
       "</script>\n",
       "<div id=\"132547f9-471b-4e67-cec2-103187494a64\"></div>\n"
      ]
     },
     "metadata": {},
     "output_type": "display_data"
    },
    {
     "data": {
      "text/html": [
       "<script type=\"text/javascript\">\n",
       "  $(function() {\n",
       "    $(\"#f4cb1888-616c-45a0-c59e-109620a30fc8\").html('Progress:<br>[680001 / 11682144] [==>..............................................] ETA: 125 seconds - Batch Loss: 1466874.830046 - Avg. Epoch Loss: 1467870.657086<br>'); // clear any previous plot in window_id     \n",
       "  });\n",
       "</script>\n",
       "<div id=\"19bf6371-4bcf-41c4-c1db-9581a31a9e58\"></div>\n"
      ]
     },
     "metadata": {},
     "output_type": "display_data"
    },
    {
     "data": {
      "text/html": [
       "<script type=\"text/javascript\">\n",
       "  $(function() {\n",
       "    $(\"#f4cb1888-616c-45a0-c59e-109620a30fc8\").html('Progress:<br>[690001 / 11682144] [==>..............................................] ETA: 125 seconds - Batch Loss: 1466846.039040 - Avg. Epoch Loss: 1467856.019707<br>'); // clear any previous plot in window_id     \n",
       "  });\n",
       "</script>\n",
       "<div id=\"e681f55b-6433-4b08-cbd5-56851e1ca9b4\"></div>\n"
      ]
     },
     "metadata": {},
     "output_type": "display_data"
    },
    {
     "data": {
      "text/html": [
       "<script type=\"text/javascript\">\n",
       "  $(function() {\n",
       "    $(\"#f4cb1888-616c-45a0-c59e-109620a30fc8\").html('Progress:<br>[700001 / 11682144] [==>..............................................] ETA: 125 seconds - Batch Loss: 1466816.952969 - Avg. Epoch Loss: 1467841.384984<br>'); // clear any previous plot in window_id     \n",
       "  });\n",
       "</script>\n",
       "<div id=\"e200bde2-7ff2-40dd-c0d6-252146e7b23e\"></div>\n"
      ]
     },
     "metadata": {},
     "output_type": "display_data"
    },
    {
     "data": {
      "text/html": [
       "<script type=\"text/javascript\">\n",
       "  $(function() {\n",
       "    $(\"#f4cb1888-616c-45a0-c59e-109620a30fc8\").html('Progress:<br>[710001 / 11682144] [==>..............................................] ETA: 125 seconds - Batch Loss: 1466787.235944 - Avg. Epoch Loss: 1467826.744046<br>'); // clear any previous plot in window_id     \n",
       "  });\n",
       "</script>\n",
       "<div id=\"e13a1f18-c2a2-427e-c298-97d44fbc8d35\"></div>\n"
      ]
     },
     "metadata": {},
     "output_type": "display_data"
    },
    {
     "data": {
      "text/html": [
       "<script type=\"text/javascript\">\n",
       "  $(function() {\n",
       "    $(\"#f4cb1888-616c-45a0-c59e-109620a30fc8\").html('Progress:<br>[720001 / 11682144] [==>..............................................] ETA: 125 seconds - Batch Loss: 1466758.204784 - Avg. Epoch Loss: 1467812.106542<br>'); // clear any previous plot in window_id     \n",
       "  });\n",
       "</script>\n",
       "<div id=\"bc0cbae7-ae13-41e4-c125-fc822e16a164\"></div>\n"
      ]
     },
     "metadata": {},
     "output_type": "display_data"
    },
    {
     "data": {
      "text/html": [
       "<script type=\"text/javascript\">\n",
       "  $(function() {\n",
       "    $(\"#f4cb1888-616c-45a0-c59e-109620a30fc8\").html('Progress:<br>[730001 / 11682144] [==>..............................................] ETA: 125 seconds - Batch Loss: 1466728.667596 - Avg. Epoch Loss: 1467797.465495<br>'); // clear any previous plot in window_id     \n",
       "  });\n",
       "</script>\n",
       "<div id=\"7ef987d6-b99b-4c16-cc7e-9c4c50cb5cc4\"></div>\n"
      ]
     },
     "metadata": {},
     "output_type": "display_data"
    },
    {
     "data": {
      "text/html": [
       "<script type=\"text/javascript\">\n",
       "  $(function() {\n",
       "    $(\"#f4cb1888-616c-45a0-c59e-109620a30fc8\").html('Progress:<br>[740001 / 11682144] [==>..............................................] ETA: 125 seconds - Batch Loss: 1466698.940411 - Avg. Epoch Loss: 1467782.818513<br>'); // clear any previous plot in window_id     \n",
       "  });\n",
       "</script>\n",
       "<div id=\"9749a434-9fdf-409b-c008-777ce997c7b1\"></div>\n"
      ]
     },
     "metadata": {},
     "output_type": "display_data"
    },
    {
     "data": {
      "text/html": [
       "<script type=\"text/javascript\">\n",
       "  $(function() {\n",
       "    $(\"#f4cb1888-616c-45a0-c59e-109620a30fc8\").html('Progress:<br>[750001 / 11682144] [===>.............................................] ETA: 92 seconds - Batch Loss: 1466669.536478 - Avg. Epoch Loss: 1467768.170085<br>'); // clear any previous plot in window_id     \n",
       "  });\n",
       "</script>\n",
       "<div id=\"817658f1-002f-47fb-c763-1f0588a7eb6c\"></div>\n"
      ]
     },
     "metadata": {},
     "output_type": "display_data"
    },
    {
     "data": {
      "text/html": [
       "<script type=\"text/javascript\">\n",
       "  $(function() {\n",
       "    $(\"#f4cb1888-616c-45a0-c59e-109620a30fc8\").html('Progress:<br>[760001 / 11682144] [===>.............................................] ETA: 92 seconds - Batch Loss: 1466638.044036 - Avg. Epoch Loss: 1467753.493142<br>'); // clear any previous plot in window_id     \n",
       "  });\n",
       "</script>\n",
       "<div id=\"3325eb2e-316d-4a16-caef-3de3fead25d1\"></div>\n"
      ]
     },
     "metadata": {},
     "output_type": "display_data"
    },
    {
     "data": {
      "text/html": [
       "<script type=\"text/javascript\">\n",
       "  $(function() {\n",
       "    $(\"#f4cb1888-616c-45a0-c59e-109620a30fc8\").html('Progress:<br>[770001 / 11682144] [===>.............................................] ETA: 92 seconds - Batch Loss: 1466610.627342 - Avg. Epoch Loss: 1467738.841035<br>'); // clear any previous plot in window_id     \n",
       "  });\n",
       "</script>\n",
       "<div id=\"79e9d9c4-4a28-4e17-ce72-74f85bda98cb\"></div>\n"
      ]
     },
     "metadata": {},
     "output_type": "display_data"
    },
    {
     "data": {
      "text/html": [
       "<script type=\"text/javascript\">\n",
       "  $(function() {\n",
       "    $(\"#f4cb1888-616c-45a0-c59e-109620a30fc8\").html('Progress:<br>[780001 / 11682144] [===>.............................................] ETA: 92 seconds - Batch Loss: 1466579.828660 - Avg. Epoch Loss: 1467724.170011<br>'); // clear any previous plot in window_id     \n",
       "  });\n",
       "</script>\n",
       "<div id=\"3060bed5-c949-45a3-c5d9-2dc469b0b7a8\"></div>\n"
      ]
     },
     "metadata": {},
     "output_type": "display_data"
    },
    {
     "data": {
      "text/html": [
       "<script type=\"text/javascript\">\n",
       "  $(function() {\n",
       "    $(\"#f4cb1888-616c-45a0-c59e-109620a30fc8\").html('Progress:<br>[790001 / 11682144] [===>.............................................] ETA: 92 seconds - Batch Loss: 1466553.260567 - Avg. Epoch Loss: 1467709.533661<br>'); // clear any previous plot in window_id     \n",
       "  });\n",
       "</script>\n",
       "<div id=\"bfcd134d-ed90-4dd3-cd1e-272608ba7b79\"></div>\n"
      ]
     },
     "metadata": {},
     "output_type": "display_data"
    },
    {
     "data": {
      "text/html": [
       "<script type=\"text/javascript\">\n",
       "  $(function() {\n",
       "    $(\"#f4cb1888-616c-45a0-c59e-109620a30fc8\").html('Progress:<br>[800001 / 11682144] [===>.............................................] ETA: 92 seconds - Batch Loss: 1466523.570531 - Avg. Epoch Loss: 1467694.892159<br>'); // clear any previous plot in window_id     \n",
       "  });\n",
       "</script>\n",
       "<div id=\"f223fef1-7924-46de-c61f-da27bee49a77\"></div>\n"
      ]
     },
     "metadata": {},
     "output_type": "display_data"
    },
    {
     "data": {
      "text/html": [
       "<script type=\"text/javascript\">\n",
       "  $(function() {\n",
       "    $(\"#f4cb1888-616c-45a0-c59e-109620a30fc8\").html('Progress:<br>[810001 / 11682144] [===>.............................................] ETA: 103 seconds - Batch Loss: 1466491.875713 - Avg. Epoch Loss: 1467680.221245<br>'); // clear any previous plot in window_id     \n",
       "  });\n",
       "</script>\n",
       "<div id=\"32f281dd-d787-4ac1-ca05-6634b67774cb\"></div>\n"
      ]
     },
     "metadata": {},
     "output_type": "display_data"
    },
    {
     "data": {
      "text/html": [
       "<script type=\"text/javascript\">\n",
       "  $(function() {\n",
       "    $(\"#f4cb1888-616c-45a0-c59e-109620a30fc8\").html('Progress:<br>[820001 / 11682144] [===>.............................................] ETA: 103 seconds - Batch Loss: 1466463.550175 - Avg. Epoch Loss: 1467665.562575<br>'); // clear any previous plot in window_id     \n",
       "  });\n",
       "</script>\n",
       "<div id=\"2c5ed6db-c7a4-4c91-ccb9-01d098f2b9c1\"></div>\n"
      ]
     },
     "metadata": {},
     "output_type": "display_data"
    },
    {
     "data": {
      "text/html": [
       "<script type=\"text/javascript\">\n",
       "  $(function() {\n",
       "    $(\"#f4cb1888-616c-45a0-c59e-109620a30fc8\").html('Progress:<br>[830001 / 11682144] [===>.............................................] ETA: 103 seconds - Batch Loss: 1466435.078398 - Avg. Epoch Loss: 1467650.913971<br>'); // clear any previous plot in window_id     \n",
       "  });\n",
       "</script>\n",
       "<div id=\"63d903d9-42a6-4eac-cec8-5b80ff5afcb3\"></div>\n"
      ]
     },
     "metadata": {},
     "output_type": "display_data"
    },
    {
     "data": {
      "text/html": [
       "<script type=\"text/javascript\">\n",
       "  $(function() {\n",
       "    $(\"#f4cb1888-616c-45a0-c59e-109620a30fc8\").html('Progress:<br>[840001 / 11682144] [===>.............................................] ETA: 103 seconds - Batch Loss: 1466406.673996 - Avg. Epoch Loss: 1467636.275871<br>'); // clear any previous plot in window_id     \n",
       "  });\n",
       "</script>\n",
       "<div id=\"11587a44-da13-4f1a-cfb0-5c52d1d69230\"></div>\n"
      ]
     },
     "metadata": {},
     "output_type": "display_data"
    },
    {
     "data": {
      "text/html": [
       "<script type=\"text/javascript\">\n",
       "  $(function() {\n",
       "    $(\"#f4cb1888-616c-45a0-c59e-109620a30fc8\").html('Progress:<br>[850001 / 11682144] [===>.............................................] ETA: 103 seconds - Batch Loss: 1466377.281257 - Avg. Epoch Loss: 1467621.636416<br>'); // clear any previous plot in window_id     \n",
       "  });\n",
       "</script>\n",
       "<div id=\"270f4066-aa4b-4d0d-cd48-c51a0717887b\"></div>\n"
      ]
     },
     "metadata": {},
     "output_type": "display_data"
    },
    {
     "data": {
      "text/html": [
       "<script type=\"text/javascript\">\n",
       "  $(function() {\n",
       "    $(\"#f4cb1888-616c-45a0-c59e-109620a30fc8\").html('Progress:<br>[860001 / 11682144] [===>.............................................] ETA: 103 seconds - Batch Loss: 1466347.508713 - Avg. Epoch Loss: 1467606.991287<br>'); // clear any previous plot in window_id     \n",
       "  });\n",
       "</script>\n",
       "<div id=\"8df64787-ed5a-44e2-c40e-0c4abd36ee08\"></div>\n"
      ]
     },
     "metadata": {},
     "output_type": "display_data"
    },
    {
     "data": {
      "text/html": [
       "<script type=\"text/javascript\">\n",
       "  $(function() {\n",
       "    $(\"#f4cb1888-616c-45a0-c59e-109620a30fc8\").html('Progress:<br>[870001 / 11682144] [===>.............................................] ETA: 103 seconds - Batch Loss: 1466319.125686 - Avg. Epoch Loss: 1467592.356467<br>'); // clear any previous plot in window_id     \n",
       "  });\n",
       "</script>\n",
       "<div id=\"9732930b-28eb-497e-c9d1-bb635d3bceb8\"></div>\n"
      ]
     },
     "metadata": {},
     "output_type": "display_data"
    },
    {
     "data": {
      "text/html": [
       "<script type=\"text/javascript\">\n",
       "  $(function() {\n",
       "    $(\"#f4cb1888-616c-45a0-c59e-109620a30fc8\").html('Progress:<br>[880001 / 11682144] [===>.............................................] ETA: 103 seconds - Batch Loss: 1466287.153125 - Avg. Epoch Loss: 1467577.691277<br>'); // clear any previous plot in window_id     \n",
       "  });\n",
       "</script>\n",
       "<div id=\"91df9c4f-0c84-46c6-c6c9-2c390dabe814\"></div>\n"
      ]
     },
     "metadata": {},
     "output_type": "display_data"
    },
    {
     "data": {
      "text/html": [
       "<script type=\"text/javascript\">\n",
       "  $(function() {\n",
       "    $(\"#f4cb1888-616c-45a0-c59e-109620a30fc8\").html('Progress:<br>[890001 / 11682144] [===>.............................................] ETA: 103 seconds - Batch Loss: 1466259.154338 - Avg. Epoch Loss: 1467563.040883<br>'); // clear any previous plot in window_id     \n",
       "  });\n",
       "</script>\n",
       "<div id=\"863b08c1-f84e-4187-c124-7bccb92a0e7f\"></div>\n"
      ]
     },
     "metadata": {},
     "output_type": "display_data"
    },
    {
     "data": {
      "text/html": [
       "<script type=\"text/javascript\">\n",
       "  $(function() {\n",
       "    $(\"#f4cb1888-616c-45a0-c59e-109620a30fc8\").html('Progress:<br>[900001 / 11682144] [===>.............................................] ETA: 103 seconds - Batch Loss: 1466229.779812 - Avg. Epoch Loss: 1467548.389679<br>'); // clear any previous plot in window_id     \n",
       "  });\n",
       "</script>\n",
       "<div id=\"3280775b-bedd-4848-c801-ce53353dd290\"></div>\n"
      ]
     },
     "metadata": {},
     "output_type": "display_data"
    },
    {
     "data": {
      "text/html": [
       "<script type=\"text/javascript\">\n",
       "  $(function() {\n",
       "    $(\"#f4cb1888-616c-45a0-c59e-109620a30fc8\").html('Progress:<br>[910001 / 11682144] [===>.............................................] ETA: 103 seconds - Batch Loss: 1466201.941175 - Avg. Epoch Loss: 1467533.754385<br>'); // clear any previous plot in window_id     \n",
       "  });\n",
       "</script>\n",
       "<div id=\"c78bdc78-110b-478e-c748-780c65553726\"></div>\n"
      ]
     },
     "metadata": {},
     "output_type": "display_data"
    },
    {
     "data": {
      "text/html": [
       "<script type=\"text/javascript\">\n",
       "  $(function() {\n",
       "    $(\"#f4cb1888-616c-45a0-c59e-109620a30fc8\").html('Progress:<br>[920001 / 11682144] [===>.............................................] ETA: 103 seconds - Batch Loss: 1466168.928777 - Avg. Epoch Loss: 1467519.078856<br>'); // clear any previous plot in window_id     \n",
       "  });\n",
       "</script>\n",
       "<div id=\"d22d4f0d-e035-4ed8-ce47-950619fe1662\"></div>\n"
      ]
     },
     "metadata": {},
     "output_type": "display_data"
    },
    {
     "data": {
      "text/html": [
       "<script type=\"text/javascript\">\n",
       "  $(function() {\n",
       "    $(\"#f4cb1888-616c-45a0-c59e-109620a30fc8\").html('Progress:<br>[930001 / 11682144] [===>.............................................] ETA: 103 seconds - Batch Loss: 1466142.282512 - Avg. Epoch Loss: 1467504.432102<br>'); // clear any previous plot in window_id     \n",
       "  });\n",
       "</script>\n",
       "<div id=\"c575f851-b8d6-45cd-c5d0-c252abceffba\"></div>\n"
      ]
     },
     "metadata": {},
     "output_type": "display_data"
    },
    {
     "data": {
      "text/html": [
       "<script type=\"text/javascript\">\n",
       "  $(function() {\n",
       "    $(\"#f4cb1888-616c-45a0-c59e-109620a30fc8\").html('Progress:<br>[940001 / 11682144] [====>............................................] ETA: 81 seconds - Batch Loss: 1466113.291815 - Avg. Epoch Loss: 1467489.788536<br>'); // clear any previous plot in window_id     \n",
       "  });\n",
       "</script>\n",
       "<div id=\"921bc471-bbea-4806-c82f-5340be2a2f07\"></div>\n"
      ]
     },
     "metadata": {},
     "output_type": "display_data"
    },
    {
     "data": {
      "text/html": [
       "<script type=\"text/javascript\">\n",
       "  $(function() {\n",
       "    $(\"#f4cb1888-616c-45a0-c59e-109620a30fc8\").html('Progress:<br>[950001 / 11682144] [====>............................................] ETA: 81 seconds - Batch Loss: 1466081.764060 - Avg. Epoch Loss: 1467475.121629<br>'); // clear any previous plot in window_id     \n",
       "  });\n",
       "</script>\n",
       "<div id=\"d559f01f-9105-4460-c475-f522118d6199\"></div>\n"
      ]
     },
     "metadata": {},
     "output_type": "display_data"
    },
    {
     "data": {
      "text/html": [
       "<script type=\"text/javascript\">\n",
       "  $(function() {\n",
       "    $(\"#f4cb1888-616c-45a0-c59e-109620a30fc8\").html('Progress:<br>[960001 / 11682144] [====>............................................] ETA: 81 seconds - Batch Loss: 1466054.064828 - Avg. Epoch Loss: 1467460.471574<br>'); // clear any previous plot in window_id     \n",
       "  });\n",
       "</script>\n",
       "<div id=\"c867edee-1140-4207-c2a3-ef6d97b4a481\"></div>\n"
      ]
     },
     "metadata": {},
     "output_type": "display_data"
    },
    {
     "data": {
      "text/html": [
       "<script type=\"text/javascript\">\n",
       "  $(function() {\n",
       "    $(\"#f4cb1888-616c-45a0-c59e-109620a30fc8\").html('Progress:<br>[970001 / 11682144] [====>............................................] ETA: 81 seconds - Batch Loss: 1466024.408103 - Avg. Epoch Loss: 1467445.817880<br>'); // clear any previous plot in window_id     \n",
       "  });\n",
       "</script>\n",
       "<div id=\"54ab07d9-4f09-4a4b-caa5-1e1f69c77681\"></div>\n"
      ]
     },
     "metadata": {},
     "output_type": "display_data"
    },
    {
     "data": {
      "text/html": [
       "<script type=\"text/javascript\">\n",
       "  $(function() {\n",
       "    $(\"#f4cb1888-616c-45a0-c59e-109620a30fc8\").html('Progress:<br>[980001 / 11682144] [====>............................................] ETA: 81 seconds - Batch Loss: 1465993.593779 - Avg. Epoch Loss: 1467431.148965<br>'); // clear any previous plot in window_id     \n",
       "  });\n",
       "</script>\n",
       "<div id=\"397b005d-922f-461d-c6c6-bcc59a423d5f\"></div>\n"
      ]
     },
     "metadata": {},
     "output_type": "display_data"
    },
    {
     "data": {
      "text/html": [
       "<script type=\"text/javascript\">\n",
       "  $(function() {\n",
       "    $(\"#f4cb1888-616c-45a0-c59e-109620a30fc8\").html('Progress:<br>[990001 / 11682144] [====>............................................] ETA: 81 seconds - Batch Loss: 1465966.211949 - Avg. Epoch Loss: 1467416.499609<br>'); // clear any previous plot in window_id     \n",
       "  });\n",
       "</script>\n",
       "<div id=\"af69ba17-f129-4822-c8c3-38834b00838c\"></div>\n"
      ]
     },
     "metadata": {},
     "output_type": "display_data"
    },
    {
     "data": {
      "text/html": [
       "<script type=\"text/javascript\">\n",
       "  $(function() {\n",
       "    $(\"#f4cb1888-616c-45a0-c59e-109620a30fc8\").html('Progress:<br>[1000001 / 11682144] [====>............................................] ETA: 81 seconds - Batch Loss: 1465938.367700 - Avg. Epoch Loss: 1467401.864655<br>'); // clear any previous plot in window_id     \n",
       "  });\n",
       "</script>\n",
       "<div id=\"4417d5e3-bf7c-4d51-cd3a-f5908d7ec208\"></div>\n"
      ]
     },
     "metadata": {},
     "output_type": "display_data"
    },
    {
     "data": {
      "text/html": [
       "<script type=\"text/javascript\">\n",
       "  $(function() {\n",
       "    $(\"#f4cb1888-616c-45a0-c59e-109620a30fc8\").html('Progress:<br>[1010001 / 11682144] [====>............................................] ETA: 81 seconds - Batch Loss: 1465905.582388 - Avg. Epoch Loss: 1467387.195235<br>'); // clear any previous plot in window_id     \n",
       "  });\n",
       "</script>\n",
       "<div id=\"79045edc-cf92-4565-c584-a037ca7929eb\"></div>\n"
      ]
     },
     "metadata": {},
     "output_type": "display_data"
    },
    {
     "data": {
      "text/html": [
       "<script type=\"text/javascript\">\n",
       "  $(function() {\n",
       "    $(\"#f4cb1888-616c-45a0-c59e-109620a30fc8\").html('Progress:<br>[1020001 / 11682144] [====>............................................] ETA: 81 seconds - Batch Loss: 1465877.296445 - Avg. Epoch Loss: 1467372.536038<br>'); // clear any previous plot in window_id     \n",
       "  });\n",
       "</script>\n",
       "<div id=\"d36e1f19-8f62-48dd-c849-a2d6c32905e9\"></div>\n"
      ]
     },
     "metadata": {},
     "output_type": "display_data"
    },
    {
     "data": {
      "text/html": [
       "<script type=\"text/javascript\">\n",
       "  $(function() {\n",
       "    $(\"#f4cb1888-616c-45a0-c59e-109620a30fc8\").html('Progress:<br>[1030001 / 11682144] [====>............................................] ETA: 81 seconds - Batch Loss: 1465847.702914 - Avg. Epoch Loss: 1467357.874195<br>'); // clear any previous plot in window_id     \n",
       "  });\n",
       "</script>\n",
       "<div id=\"6145a1cc-cf02-404f-c06e-2222525c60e9\"></div>\n"
      ]
     },
     "metadata": {},
     "output_type": "display_data"
    },
    {
     "data": {
      "text/html": [
       "<script type=\"text/javascript\">\n",
       "  $(function() {\n",
       "    $(\"#f4cb1888-616c-45a0-c59e-109620a30fc8\").html('Progress:<br>[1040001 / 11682144] [====>............................................] ETA: 81 seconds - Batch Loss: 1465819.852802 - Avg. Epoch Loss: 1467343.226386<br>'); // clear any previous plot in window_id     \n",
       "  });\n",
       "</script>\n",
       "<div id=\"47e64d60-60e4-4971-c937-04236c0bafe9\"></div>\n"
      ]
     },
     "metadata": {},
     "output_type": "display_data"
    },
    {
     "data": {
      "text/html": [
       "<script type=\"text/javascript\">\n",
       "  $(function() {\n",
       "    $(\"#f4cb1888-616c-45a0-c59e-109620a30fc8\").html('Progress:<br>[1050001 / 11682144] [====>............................................] ETA: 81 seconds - Batch Loss: 1465789.074260 - Avg. Epoch Loss: 1467328.564587<br>'); // clear any previous plot in window_id     \n",
       "  });\n",
       "</script>\n",
       "<div id=\"906289ce-4056-4348-c362-aa79990e2c97\"></div>\n"
      ]
     },
     "metadata": {},
     "output_type": "display_data"
    },
    {
     "data": {
      "text/html": [
       "<script type=\"text/javascript\">\n",
       "  $(function() {\n",
       "    $(\"#f4cb1888-616c-45a0-c59e-109620a30fc8\").html('Progress:<br>[1060001 / 11682144] [====>............................................] ETA: 90 seconds - Batch Loss: 1465759.994942 - Avg. Epoch Loss: 1467313.905072<br>'); // clear any previous plot in window_id     \n",
       "  });\n",
       "</script>\n",
       "<div id=\"7a25cd1c-1bb5-4bf7-cb74-097acce1b0ae\"></div>\n"
      ]
     },
     "metadata": {},
     "output_type": "display_data"
    },
    {
     "data": {
      "text/html": [
       "<script type=\"text/javascript\">\n",
       "  $(function() {\n",
       "    $(\"#f4cb1888-616c-45a0-c59e-109620a30fc8\").html('Progress:<br>[1070001 / 11682144] [====>............................................] ETA: 90 seconds - Batch Loss: 1465730.665146 - Avg. Epoch Loss: 1467299.245456<br>'); // clear any previous plot in window_id     \n",
       "  });\n",
       "</script>\n",
       "<div id=\"3dd562a7-97b6-46fe-c67a-e4eea37c4eaf\"></div>\n"
      ]
     },
     "metadata": {},
     "output_type": "display_data"
    },
    {
     "data": {
      "text/html": [
       "<script type=\"text/javascript\">\n",
       "  $(function() {\n",
       "    $(\"#f4cb1888-616c-45a0-c59e-109620a30fc8\").html('Progress:<br>[1080001 / 11682144] [====>............................................] ETA: 90 seconds - Batch Loss: 1465701.988759 - Avg. Epoch Loss: 1467284.591738<br>'); // clear any previous plot in window_id     \n",
       "  });\n",
       "</script>\n",
       "<div id=\"428771bb-b7c6-4d5e-cd2e-165ac35ab2e1\"></div>\n"
      ]
     },
     "metadata": {},
     "output_type": "display_data"
    },
    {
     "data": {
      "text/html": [
       "<script type=\"text/javascript\">\n",
       "  $(function() {\n",
       "    $(\"#f4cb1888-616c-45a0-c59e-109620a30fc8\").html('Progress:<br>[1090001 / 11682144] [====>............................................] ETA: 90 seconds - Batch Loss: 1465672.588993 - Avg. Epoch Loss: 1467269.937181<br>'); // clear any previous plot in window_id     \n",
       "  });\n",
       "</script>\n",
       "<div id=\"83532b9e-99ca-4951-c94d-8c23bae9a6da\"></div>\n"
      ]
     },
     "metadata": {},
     "output_type": "display_data"
    },
    {
     "data": {
      "text/html": [
       "<script type=\"text/javascript\">\n",
       "  $(function() {\n",
       "    $(\"#f4cb1888-616c-45a0-c59e-109620a30fc8\").html('Progress:<br>[1100001 / 11682144] [====>............................................] ETA: 90 seconds - Batch Loss: 1465643.523443 - Avg. Epoch Loss: 1467255.284819<br>'); // clear any previous plot in window_id     \n",
       "  });\n",
       "</script>\n",
       "<div id=\"ea7453d7-5c05-4e89-cec3-72ac5fd3116d\"></div>\n"
      ]
     },
     "metadata": {},
     "output_type": "display_data"
    },
    {
     "data": {
      "text/html": [
       "<script type=\"text/javascript\">\n",
       "  $(function() {\n",
       "    $(\"#f4cb1888-616c-45a0-c59e-109620a30fc8\").html('Progress:<br>[1110001 / 11682144] [====>............................................] ETA: 90 seconds - Batch Loss: 1465614.208152 - Avg. Epoch Loss: 1467240.632361<br>'); // clear any previous plot in window_id     \n",
       "  });\n",
       "</script>\n",
       "<div id=\"c1b2b926-4da9-4f4d-cfe3-87d729f1b58e\"></div>\n"
      ]
     },
     "metadata": {},
     "output_type": "display_data"
    },
    {
     "data": {
      "text/html": [
       "<script type=\"text/javascript\">\n",
       "  $(function() {\n",
       "    $(\"#f4cb1888-616c-45a0-c59e-109620a30fc8\").html('Progress:<br>[1120001 / 11682144] [====>............................................] ETA: 90 seconds - Batch Loss: 1465582.961603 - Avg. Epoch Loss: 1467225.962722<br>'); // clear any previous plot in window_id     \n",
       "  });\n",
       "</script>\n",
       "<div id=\"e7321643-1bd0-447e-c4e0-586a9bb74bf3\"></div>\n"
      ]
     },
     "metadata": {},
     "output_type": "display_data"
    },
    {
     "data": {
      "text/html": [
       "<script type=\"text/javascript\">\n",
       "  $(function() {\n",
       "    $(\"#f4cb1888-616c-45a0-c59e-109620a30fc8\").html('Progress:<br>[1130001 / 11682144] [=====>...........................................] ETA: 73 seconds - Batch Loss: 1465554.996519 - Avg. Epoch Loss: 1467211.305136<br>'); // clear any previous plot in window_id     \n",
       "  });\n",
       "</script>\n",
       "<div id=\"6f714043-d69c-4664-c67d-dea4c07143a1\"></div>\n"
      ]
     },
     "metadata": {},
     "output_type": "display_data"
    },
    {
     "data": {
      "text/html": [
       "<script type=\"text/javascript\">\n",
       "  $(function() {\n",
       "    $(\"#f4cb1888-616c-45a0-c59e-109620a30fc8\").html('Progress:<br>[1140001 / 11682144] [=====>...........................................] ETA: 73 seconds - Batch Loss: 1465526.479452 - Avg. Epoch Loss: 1467196.654491<br>'); // clear any previous plot in window_id     \n",
       "  });\n",
       "</script>\n",
       "<div id=\"3318c10a-9895-43f7-c305-e32a5244474d\"></div>\n"
      ]
     },
     "metadata": {},
     "output_type": "display_data"
    },
    {
     "data": {
      "text/html": [
       "<script type=\"text/javascript\">\n",
       "  $(function() {\n",
       "    $(\"#f4cb1888-616c-45a0-c59e-109620a30fc8\").html('Progress:<br>[1150001 / 11682144] [=====>...........................................] ETA: 73 seconds - Batch Loss: 1465495.139380 - Avg. Epoch Loss: 1467181.986270<br>'); // clear any previous plot in window_id     \n",
       "  });\n",
       "</script>\n",
       "<div id=\"a47ce4d8-c7f9-4813-c846-09301e8a8224\"></div>\n"
      ]
     },
     "metadata": {},
     "output_type": "display_data"
    },
    {
     "data": {
      "text/html": [
       "<script type=\"text/javascript\">\n",
       "  $(function() {\n",
       "    $(\"#f4cb1888-616c-45a0-c59e-109620a30fc8\").html('Progress:<br>[1160001 / 11682144] [=====>...........................................] ETA: 73 seconds - Batch Loss: 1465466.938675 - Avg. Epoch Loss: 1467167.327756<br>'); // clear any previous plot in window_id     \n",
       "  });\n",
       "</script>\n",
       "<div id=\"99068f15-52eb-40c6-c0bd-6fae7b9d4641\"></div>\n"
      ]
     },
     "metadata": {},
     "output_type": "display_data"
    },
    {
     "data": {
      "text/html": [
       "<script type=\"text/javascript\">\n",
       "  $(function() {\n",
       "    $(\"#f4cb1888-616c-45a0-c59e-109620a30fc8\").html('Progress:<br>[1170001 / 11682144] [=====>...........................................] ETA: 73 seconds - Batch Loss: 1465436.666443 - Avg. Epoch Loss: 1467152.661147<br>'); // clear any previous plot in window_id     \n",
       "  });\n",
       "</script>\n",
       "<div id=\"3ce5acbc-7f69-44b4-c4a2-dd3f94b5a565\"></div>\n"
      ]
     },
     "metadata": {},
     "output_type": "display_data"
    },
    {
     "data": {
      "text/html": [
       "<script type=\"text/javascript\">\n",
       "  $(function() {\n",
       "    $(\"#f4cb1888-616c-45a0-c59e-109620a30fc8\").html('Progress:<br>[1180001 / 11682144] [=====>...........................................] ETA: 73 seconds - Batch Loss: 1465409.019026 - Avg. Epoch Loss: 1467138.008704<br>'); // clear any previous plot in window_id     \n",
       "  });\n",
       "</script>\n",
       "<div id=\"2a0d165c-8bb0-48bb-c8fa-9d11614a91b3\"></div>\n"
      ]
     },
     "metadata": {},
     "output_type": "display_data"
    },
    {
     "data": {
      "text/html": [
       "<script type=\"text/javascript\">\n",
       "  $(function() {\n",
       "    $(\"#f4cb1888-616c-45a0-c59e-109620a30fc8\").html('Progress:<br>[1190001 / 11682144] [=====>...........................................] ETA: 73 seconds - Batch Loss: 1465379.428065 - Avg. Epoch Loss: 1467123.353878<br>'); // clear any previous plot in window_id     \n",
       "  });\n",
       "</script>\n",
       "<div id=\"ddf2581e-0d8c-4037-c025-27a433289c6d\"></div>\n"
      ]
     },
     "metadata": {},
     "output_type": "display_data"
    },
    {
     "data": {
      "text/html": [
       "<script type=\"text/javascript\">\n",
       "  $(function() {\n",
       "    $(\"#f4cb1888-616c-45a0-c59e-109620a30fc8\").html('Progress:<br>[1200001 / 11682144] [=====>...........................................] ETA: 73 seconds - Batch Loss: 1465351.491533 - Avg. Epoch Loss: 1467108.710400<br>'); // clear any previous plot in window_id     \n",
       "  });\n",
       "</script>\n",
       "<div id=\"0473b356-325a-4811-c874-db94cf595afe\"></div>\n"
      ]
     },
     "metadata": {},
     "output_type": "display_data"
    },
    {
     "data": {
      "text/html": [
       "<script type=\"text/javascript\">\n",
       "  $(function() {\n",
       "    $(\"#f4cb1888-616c-45a0-c59e-109620a30fc8\").html('Progress:<br>[1210001 / 11682144] [=====>...........................................] ETA: 73 seconds - Batch Loss: 1465320.785784 - Avg. Epoch Loss: 1467094.055292<br>'); // clear any previous plot in window_id     \n",
       "  });\n",
       "</script>\n",
       "<div id=\"3a6034fd-6bb2-40ed-c00f-e75647865dfc\"></div>\n"
      ]
     },
     "metadata": {},
     "output_type": "display_data"
    },
    {
     "data": {
      "text/html": [
       "<script type=\"text/javascript\">\n",
       "  $(function() {\n",
       "    $(\"#f4cb1888-616c-45a0-c59e-109620a30fc8\").html('Progress:<br>[1220001 / 11682144] [=====>...........................................] ETA: 73 seconds - Batch Loss: 1465293.090254 - Avg. Epoch Loss: 1467079.413312<br>'); // clear any previous plot in window_id     \n",
       "  });\n",
       "</script>\n",
       "<div id=\"7401b029-d989-4536-c5ec-cf3a53e95083\"></div>\n"
      ]
     },
     "metadata": {},
     "output_type": "display_data"
    },
    {
     "data": {
      "text/html": [
       "<script type=\"text/javascript\">\n",
       "  $(function() {\n",
       "    $(\"#f4cb1888-616c-45a0-c59e-109620a30fc8\").html('Progress:<br>[1230001 / 11682144] [=====>...........................................] ETA: 73 seconds - Batch Loss: 1465260.949686 - Avg. Epoch Loss: 1467064.748294<br>'); // clear any previous plot in window_id     \n",
       "  });\n",
       "</script>\n",
       "<div id=\"17bf0b6b-38ef-4bc5-cbf4-0e46c3575568\"></div>\n"
      ]
     },
     "metadata": {},
     "output_type": "display_data"
    },
    {
     "data": {
      "text/html": [
       "<script type=\"text/javascript\">\n",
       "  $(function() {\n",
       "    $(\"#f4cb1888-616c-45a0-c59e-109620a30fc8\").html('Progress:<br>[1240001 / 11682144] [=====>...........................................] ETA: 73 seconds - Batch Loss: 1465233.366696 - Avg. Epoch Loss: 1467050.097253<br>'); // clear any previous plot in window_id     \n",
       "  });\n",
       "</script>\n",
       "<div id=\"83f817e7-253e-4a11-ca0e-450ccc7e8673\"></div>\n"
      ]
     },
     "metadata": {},
     "output_type": "display_data"
    },
    {
     "data": {
      "text/html": [
       "<script type=\"text/javascript\">\n",
       "  $(function() {\n",
       "    $(\"#f4cb1888-616c-45a0-c59e-109620a30fc8\").html('Progress:<br>[1250001 / 11682144] [=====>...........................................] ETA: 73 seconds - Batch Loss: 1465203.617410 - Avg. Epoch Loss: 1467035.442663<br>'); // clear any previous plot in window_id     \n",
       "  });\n",
       "</script>\n",
       "<div id=\"d2deaf68-c993-4f8d-cffc-3698018cd4b2\"></div>\n"
      ]
     },
     "metadata": {},
     "output_type": "display_data"
    },
    {
     "data": {
      "text/html": [
       "<script type=\"text/javascript\">\n",
       "  $(function() {\n",
       "    $(\"#f4cb1888-616c-45a0-c59e-109620a30fc8\").html('Progress:<br>[1260001 / 11682144] [=====>...........................................] ETA: 73 seconds - Batch Loss: 1465174.729260 - Avg. Epoch Loss: 1467020.791388<br>'); // clear any previous plot in window_id     \n",
       "  });\n",
       "</script>\n",
       "<div id=\"ef5c0764-4c29-4991-c9d8-67d85ff1521a\"></div>\n"
      ]
     },
     "metadata": {},
     "output_type": "display_data"
    },
    {
     "data": {
      "text/html": [
       "<script type=\"text/javascript\">\n",
       "  $(function() {\n",
       "    $(\"#f4cb1888-616c-45a0-c59e-109620a30fc8\").html('Progress:<br>[1270001 / 11682144] [=====>...........................................] ETA: 73 seconds - Batch Loss: 1465145.848609 - Avg. Epoch Loss: 1467006.143409<br>'); // clear any previous plot in window_id     \n",
       "  });\n",
       "</script>\n",
       "<div id=\"29034ddd-63e0-468a-c6cc-67697f3c468b\"></div>\n"
      ]
     },
     "metadata": {},
     "output_type": "display_data"
    },
    {
     "data": {
      "text/html": [
       "<script type=\"text/javascript\">\n",
       "  $(function() {\n",
       "    $(\"#f4cb1888-616c-45a0-c59e-109620a30fc8\").html('Progress:<br>[1280001 / 11682144] [=====>...........................................] ETA: 73 seconds - Batch Loss: 1465116.573758 - Avg. Epoch Loss: 1466991.495593<br>'); // clear any previous plot in window_id     \n",
       "  });\n",
       "</script>\n",
       "<div id=\"f8fe99b5-2329-423c-c2f0-278d7a2685dd\"></div>\n"
      ]
     },
     "metadata": {},
     "output_type": "display_data"
    },
    {
     "data": {
      "text/html": [
       "<script type=\"text/javascript\">\n",
       "  $(function() {\n",
       "    $(\"#f4cb1888-616c-45a0-c59e-109620a30fc8\").html('Progress:<br>[1290001 / 11682144] [=====>...........................................] ETA: 73 seconds - Batch Loss: 1465088.808330 - Avg. Epoch Loss: 1466976.859549<br>'); // clear any previous plot in window_id     \n",
       "  });\n",
       "</script>\n",
       "<div id=\"27467e06-74aa-4360-c3b8-25c960b15e36\"></div>\n"
      ]
     },
     "metadata": {},
     "output_type": "display_data"
    },
    {
     "data": {
      "text/html": [
       "<script type=\"text/javascript\">\n",
       "  $(function() {\n",
       "    $(\"#f4cb1888-616c-45a0-c59e-109620a30fc8\").html('Progress:<br>[1300001 / 11682144] [=====>...........................................] ETA: 73 seconds - Batch Loss: 1465057.367276 - Avg. Epoch Loss: 1466962.206947<br>'); // clear any previous plot in window_id     \n",
       "  });\n",
       "</script>\n",
       "<div id=\"d454c5ca-6f39-4b80-cbc9-58b3348bc5ba\"></div>\n"
      ]
     },
     "metadata": {},
     "output_type": "display_data"
    },
    {
     "data": {
      "text/html": [
       "<script type=\"text/javascript\">\n",
       "  $(function() {\n",
       "    $(\"#f4cb1888-616c-45a0-c59e-109620a30fc8\").html('Progress:<br>[1310001 / 11682144] [======>..........................................] ETA: 61 seconds - Batch Loss: 1465029.147990 - Avg. Epoch Loss: 1466947.562572<br>'); // clear any previous plot in window_id     \n",
       "  });\n",
       "</script>\n",
       "<div id=\"05ab0802-0e4d-4af4-ca0b-69b865e2ca68\"></div>\n"
      ]
     },
     "metadata": {},
     "output_type": "display_data"
    },
    {
     "data": {
      "text/html": [
       "<script type=\"text/javascript\">\n",
       "  $(function() {\n",
       "    $(\"#f4cb1888-616c-45a0-c59e-109620a30fc8\").html('Progress:<br>[1320001 / 11682144] [======>..........................................] ETA: 67 seconds - Batch Loss: 1464997.616699 - Avg. Epoch Loss: 1466932.901336<br>'); // clear any previous plot in window_id     \n",
       "  });\n",
       "</script>\n",
       "<div id=\"dbe35bdd-f4f1-453e-c5f3-387a765229e8\"></div>\n"
      ]
     },
     "metadata": {},
     "output_type": "display_data"
    },
    {
     "data": {
      "text/html": [
       "<script type=\"text/javascript\">\n",
       "  $(function() {\n",
       "    $(\"#f4cb1888-616c-45a0-c59e-109620a30fc8\").html('Progress:<br>[1330001 / 11682144] [======>..........................................] ETA: 67 seconds - Batch Loss: 1464967.381975 - Avg. Epoch Loss: 1466918.233292<br>'); // clear any previous plot in window_id     \n",
       "  });\n",
       "</script>\n",
       "<div id=\"14fa8eac-f8f7-4366-c3e5-5f7646066f34\"></div>\n"
      ]
     },
     "metadata": {},
     "output_type": "display_data"
    },
    {
     "data": {
      "text/html": [
       "<script type=\"text/javascript\">\n",
       "  $(function() {\n",
       "    $(\"#f4cb1888-616c-45a0-c59e-109620a30fc8\").html('Progress:<br>[1340001 / 11682144] [======>..........................................] ETA: 67 seconds - Batch Loss: 1464940.346774 - Avg. Epoch Loss: 1466903.582292<br>'); // clear any previous plot in window_id     \n",
       "  });\n",
       "</script>\n",
       "<div id=\"12e6d30f-f429-4fcd-cf96-5bab9578bfcc\"></div>\n"
      ]
     },
     "metadata": {},
     "output_type": "display_data"
    },
    {
     "data": {
      "text/html": [
       "<script type=\"text/javascript\">\n",
       "  $(function() {\n",
       "    $(\"#f4cb1888-616c-45a0-c59e-109620a30fc8\").html('Progress:<br>[1350001 / 11682144] [======>..........................................] ETA: 67 seconds - Batch Loss: 1464910.758736 - Avg. Epoch Loss: 1466888.929188<br>'); // clear any previous plot in window_id     \n",
       "  });\n",
       "</script>\n",
       "<div id=\"42c1fb1d-76cd-4619-c6c3-be5473d9c219\"></div>\n"
      ]
     },
     "metadata": {},
     "output_type": "display_data"
    },
    {
     "data": {
      "text/html": [
       "<script type=\"text/javascript\">\n",
       "  $(function() {\n",
       "    $(\"#f4cb1888-616c-45a0-c59e-109620a30fc8\").html('Progress:<br>[1360001 / 11682144] [======>..........................................] ETA: 67 seconds - Batch Loss: 1464882.336484 - Avg. Epoch Loss: 1466874.282537<br>'); // clear any previous plot in window_id     \n",
       "  });\n",
       "</script>\n",
       "<div id=\"14a5a30c-4dfe-4108-c11d-c4fe72f427fb\"></div>\n"
      ]
     },
     "metadata": {},
     "output_type": "display_data"
    },
    {
     "data": {
      "text/html": [
       "<script type=\"text/javascript\">\n",
       "  $(function() {\n",
       "    $(\"#f4cb1888-616c-45a0-c59e-109620a30fc8\").html('Progress:<br>[1370001 / 11682144] [======>..........................................] ETA: 67 seconds - Batch Loss: 1464851.870777 - Avg. Epoch Loss: 1466859.627390<br>'); // clear any previous plot in window_id     \n",
       "  });\n",
       "</script>\n",
       "<div id=\"e6d74480-15da-42c7-c2e2-f977a5907f7a\"></div>\n"
      ]
     },
     "metadata": {},
     "output_type": "display_data"
    },
    {
     "data": {
      "text/html": [
       "<script type=\"text/javascript\">\n",
       "  $(function() {\n",
       "    $(\"#f4cb1888-616c-45a0-c59e-109620a30fc8\").html('Progress:<br>[1380001 / 11682144] [======>..........................................] ETA: 67 seconds - Batch Loss: 1464822.918871 - Avg. Epoch Loss: 1466844.974821<br>'); // clear any previous plot in window_id     \n",
       "  });\n",
       "</script>\n",
       "<div id=\"4efe6906-7f6e-4b7a-cbb6-c9581ae09565\"></div>\n"
      ]
     },
     "metadata": {},
     "output_type": "display_data"
    },
    {
     "data": {
      "text/html": [
       "<script type=\"text/javascript\">\n",
       "  $(function() {\n",
       "    $(\"#f4cb1888-616c-45a0-c59e-109620a30fc8\").html('Progress:<br>[1390001 / 11682144] [======>..........................................] ETA: 67 seconds - Batch Loss: 1464792.938229 - Avg. Epoch Loss: 1466830.317427<br>'); // clear any previous plot in window_id     \n",
       "  });\n",
       "</script>\n",
       "<div id=\"d98a3ad8-b633-4d21-cdd0-efbbece20df6\"></div>\n"
      ]
     },
     "metadata": {},
     "output_type": "display_data"
    },
    {
     "data": {
      "text/html": [
       "<script type=\"text/javascript\">\n",
       "  $(function() {\n",
       "    $(\"#f4cb1888-616c-45a0-c59e-109620a30fc8\").html('Progress:<br>[1400001 / 11682144] [======>..........................................] ETA: 67 seconds - Batch Loss: 1464765.036455 - Avg. Epoch Loss: 1466815.670055<br>'); // clear any previous plot in window_id     \n",
       "  });\n",
       "</script>\n",
       "<div id=\"9922e825-0443-475d-c72f-8c762696bc10\"></div>\n"
      ]
     },
     "metadata": {},
     "output_type": "display_data"
    },
    {
     "data": {
      "text/html": [
       "<script type=\"text/javascript\">\n",
       "  $(function() {\n",
       "    $(\"#f4cb1888-616c-45a0-c59e-109620a30fc8\").html('Progress:<br>[1410001 / 11682144] [======>..........................................] ETA: 67 seconds - Batch Loss: 1464733.474734 - Avg. Epoch Loss: 1466801.006718<br>'); // clear any previous plot in window_id     \n",
       "  });\n",
       "</script>\n",
       "<div id=\"769f8b92-aaae-4d8b-cd41-83186b96a017\"></div>\n"
      ]
     },
     "metadata": {},
     "output_type": "display_data"
    },
    {
     "data": {
      "text/html": [
       "<script type=\"text/javascript\">\n",
       "  $(function() {\n",
       "    $(\"#f4cb1888-616c-45a0-c59e-109620a30fc8\").html('Progress:<br>[1420001 / 11682144] [======>..........................................] ETA: 67 seconds - Batch Loss: 1464705.649816 - Avg. Epoch Loss: 1466786.353883<br>'); // clear any previous plot in window_id     \n",
       "  });\n",
       "</script>\n",
       "<div id=\"7fca70fd-9d1c-4648-c6e6-a30ccb24f472\"></div>\n"
      ]
     },
     "metadata": {},
     "output_type": "display_data"
    },
    {
     "data": {
      "text/html": [
       "<script type=\"text/javascript\">\n",
       "  $(function() {\n",
       "    $(\"#f4cb1888-616c-45a0-c59e-109620a30fc8\").html('Progress:<br>[1430001 / 11682144] [======>..........................................] ETA: 67 seconds - Batch Loss: 1464678.241276 - Avg. Epoch Loss: 1466771.714222<br>'); // clear any previous plot in window_id     \n",
       "  });\n",
       "</script>\n",
       "<div id=\"6e62bc0a-56ae-4232-c209-a5db6d912972\"></div>\n"
      ]
     },
     "metadata": {},
     "output_type": "display_data"
    },
    {
     "data": {
      "text/html": [
       "<script type=\"text/javascript\">\n",
       "  $(function() {\n",
       "    $(\"#f4cb1888-616c-45a0-c59e-109620a30fc8\").html('Progress:<br>[1440001 / 11682144] [======>..........................................] ETA: 67 seconds - Batch Loss: 1464646.337282 - Avg. Epoch Loss: 1466757.056460<br>'); // clear any previous plot in window_id     \n",
       "  });\n",
       "</script>\n",
       "<div id=\"97a491b3-49f5-4930-c940-b34d6b49548e\"></div>\n"
      ]
     },
     "metadata": {},
     "output_type": "display_data"
    },
    {
     "data": {
      "text/html": [
       "<script type=\"text/javascript\">\n",
       "  $(function() {\n",
       "    $(\"#f4cb1888-616c-45a0-c59e-109620a30fc8\").html('Progress:<br>[1450001 / 11682144] [======>..........................................] ETA: 67 seconds - Batch Loss: 1464617.483981 - Avg. Epoch Loss: 1466742.401864<br>'); // clear any previous plot in window_id     \n",
       "  });\n",
       "</script>\n",
       "<div id=\"3e85d1b1-efcf-44a6-c432-359a926ea8cb\"></div>\n"
      ]
     },
     "metadata": {},
     "output_type": "display_data"
    },
    {
     "data": {
      "text/html": [
       "<script type=\"text/javascript\">\n",
       "  $(function() {\n",
       "    $(\"#f4cb1888-616c-45a0-c59e-109620a30fc8\").html('Progress:<br>[1460001 / 11682144] [======>..........................................] ETA: 67 seconds - Batch Loss: 1464590.165753 - Avg. Epoch Loss: 1466727.760812<br>'); // clear any previous plot in window_id     \n",
       "  });\n",
       "</script>\n",
       "<div id=\"78216913-fc81-4161-c192-59a726c87eb2\"></div>\n"
      ]
     },
     "metadata": {},
     "output_type": "display_data"
    },
    {
     "data": {
      "text/html": [
       "<script type=\"text/javascript\">\n",
       "  $(function() {\n",
       "    $(\"#f4cb1888-616c-45a0-c59e-109620a30fc8\").html('Progress:<br>[1470001 / 11682144] [======>..........................................] ETA: 67 seconds - Batch Loss: 1464558.866142 - Avg. Epoch Loss: 1466713.106128<br>'); // clear any previous plot in window_id     \n",
       "  });\n",
       "</script>\n",
       "<div id=\"213c2c49-a925-45f6-c520-a222f5a0770e\"></div>\n"
      ]
     },
     "metadata": {},
     "output_type": "display_data"
    },
    {
     "data": {
      "text/html": [
       "<script type=\"text/javascript\">\n",
       "  $(function() {\n",
       "    $(\"#f4cb1888-616c-45a0-c59e-109620a30fc8\").html('Progress:<br>[1480001 / 11682144] [======>..........................................] ETA: 67 seconds - Batch Loss: 1464529.258415 - Avg. Epoch Loss: 1466698.449442<br>'); // clear any previous plot in window_id     \n",
       "  });\n",
       "</script>\n",
       "<div id=\"d23ce86f-087b-46e3-c619-132d514f8e91\"></div>\n"
      ]
     },
     "metadata": {},
     "output_type": "display_data"
    },
    {
     "data": {
      "text/html": [
       "<script type=\"text/javascript\">\n",
       "  $(function() {\n",
       "    $(\"#f4cb1888-616c-45a0-c59e-109620a30fc8\").html('Progress:<br>[1490001 / 11682144] [======>..........................................] ETA: 67 seconds - Batch Loss: 1464501.360743 - Avg. Epoch Loss: 1466683.802194<br>'); // clear any previous plot in window_id     \n",
       "  });\n",
       "</script>\n",
       "<div id=\"89c01115-a605-4edd-ce67-09b4840e82cc\"></div>\n"
      ]
     },
     "metadata": {},
     "output_type": "display_data"
    },
    {
     "data": {
      "text/html": [
       "<script type=\"text/javascript\">\n",
       "  $(function() {\n",
       "    $(\"#f4cb1888-616c-45a0-c59e-109620a30fc8\").html('Progress:<br>[1500001 / 11682144] [=======>.........................................] ETA: 57 seconds - Batch Loss: 1464470.213983 - Avg. Epoch Loss: 1466669.142679<br>'); // clear any previous plot in window_id     \n",
       "  });\n",
       "</script>\n",
       "<div id=\"85130c37-77ef-4876-c8e1-47cc07402bfd\"></div>\n"
      ]
     },
     "metadata": {},
     "output_type": "display_data"
    },
    {
     "data": {
      "text/html": [
       "<script type=\"text/javascript\">\n",
       "  $(function() {\n",
       "    $(\"#f4cb1888-616c-45a0-c59e-109620a30fc8\").html('Progress:<br>[1510001 / 11682144] [=======>.........................................] ETA: 57 seconds - Batch Loss: 1464441.335785 - Avg. Epoch Loss: 1466654.486064<br>'); // clear any previous plot in window_id     \n",
       "  });\n",
       "</script>\n",
       "<div id=\"b259807c-5d38-4a90-ca30-7d2f2677dab0\"></div>\n"
      ]
     },
     "metadata": {},
     "output_type": "display_data"
    },
    {
     "data": {
      "text/html": [
       "<script type=\"text/javascript\">\n",
       "  $(function() {\n",
       "    $(\"#f4cb1888-616c-45a0-c59e-109620a30fc8\").html('Progress:<br>[1520001 / 11682144] [=======>.........................................] ETA: 57 seconds - Batch Loss: 1464413.809309 - Avg. Epoch Loss: 1466639.841128<br>'); // clear any previous plot in window_id     \n",
       "  });\n",
       "</script>\n",
       "<div id=\"f3d598c2-52ba-4f9e-cfcf-38a660e89bed\"></div>\n"
      ]
     },
     "metadata": {},
     "output_type": "display_data"
    },
    {
     "data": {
      "text/html": [
       "<script type=\"text/javascript\">\n",
       "  $(function() {\n",
       "    $(\"#f4cb1888-616c-45a0-c59e-109620a30fc8\").html('Progress:<br>[1530001 / 11682144] [=======>.........................................] ETA: 57 seconds - Batch Loss: 1464382.558400 - Avg. Epoch Loss: 1466625.183457<br>'); // clear any previous plot in window_id     \n",
       "  });\n",
       "</script>\n",
       "<div id=\"3f4f6def-76fb-43e0-c35b-c789a9c8bbbd\"></div>\n"
      ]
     },
     "metadata": {},
     "output_type": "display_data"
    },
    {
     "data": {
      "text/html": [
       "<script type=\"text/javascript\">\n",
       "  $(function() {\n",
       "    $(\"#f4cb1888-616c-45a0-c59e-109620a30fc8\").html('Progress:<br>[1540001 / 11682144] [=======>.........................................] ETA: 57 seconds - Batch Loss: 1464354.428223 - Avg. Epoch Loss: 1466610.533433<br>'); // clear any previous plot in window_id     \n",
       "  });\n",
       "</script>\n",
       "<div id=\"3ac27487-5c10-4397-c3ee-c7599c62c4d7\"></div>\n"
      ]
     },
     "metadata": {},
     "output_type": "display_data"
    },
    {
     "data": {
      "text/html": [
       "<script type=\"text/javascript\">\n",
       "  $(function() {\n",
       "    $(\"#f4cb1888-616c-45a0-c59e-109620a30fc8\").html('Progress:<br>[1550001 / 11682144] [=======>.........................................] ETA: 57 seconds - Batch Loss: 1464324.958064 - Avg. Epoch Loss: 1466595.882318<br>'); // clear any previous plot in window_id     \n",
       "  });\n",
       "</script>\n",
       "<div id=\"1537fd50-fe51-41fb-c1cc-15be582665db\"></div>\n"
      ]
     },
     "metadata": {},
     "output_type": "display_data"
    },
    {
     "data": {
      "text/html": [
       "<script type=\"text/javascript\">\n",
       "  $(function() {\n",
       "    $(\"#f4cb1888-616c-45a0-c59e-109620a30fc8\").html('Progress:<br>[1560001 / 11682144] [=======>.........................................] ETA: 57 seconds - Batch Loss: 1464294.175450 - Avg. Epoch Loss: 1466581.221774<br>'); // clear any previous plot in window_id     \n",
       "  });\n",
       "</script>\n",
       "<div id=\"f7753cbc-99ea-4469-c4da-dc355ad729d1\"></div>\n"
      ]
     },
     "metadata": {},
     "output_type": "display_data"
    },
    {
     "data": {
      "text/html": [
       "<script type=\"text/javascript\">\n",
       "  $(function() {\n",
       "    $(\"#f4cb1888-616c-45a0-c59e-109620a30fc8\").html('Progress:<br>[1570001 / 11682144] [=======>.........................................] ETA: 57 seconds - Batch Loss: 1464267.458088 - Avg. Epoch Loss: 1466566.577709<br>'); // clear any previous plot in window_id     \n",
       "  });\n",
       "</script>\n",
       "<div id=\"146d2f6a-0632-42a8-c2cc-985da1da8ae3\"></div>\n"
      ]
     },
     "metadata": {},
     "output_type": "display_data"
    },
    {
     "data": {
      "text/html": [
       "<script type=\"text/javascript\">\n",
       "  $(function() {\n",
       "    $(\"#f4cb1888-616c-45a0-c59e-109620a30fc8\").html('Progress:<br>[1580001 / 11682144] [=======>.........................................] ETA: 63 seconds - Batch Loss: 1464238.083907 - Avg. Epoch Loss: 1466551.933103<br>'); // clear any previous plot in window_id     \n",
       "  });\n",
       "</script>\n",
       "<div id=\"0d38426c-d37d-4fcf-cfa4-3c18d361bf71\"></div>\n"
      ]
     },
     "metadata": {},
     "output_type": "display_data"
    },
    {
     "data": {
      "text/html": [
       "<script type=\"text/javascript\">\n",
       "  $(function() {\n",
       "    $(\"#f4cb1888-616c-45a0-c59e-109620a30fc8\").html('Progress:<br>[1590001 / 11682144] [=======>.........................................] ETA: 63 seconds - Batch Loss: 1464206.947698 - Avg. Epoch Loss: 1466537.276954<br>'); // clear any previous plot in window_id     \n",
       "  });\n",
       "</script>\n",
       "<div id=\"232f46e8-97c2-4234-c2ec-28e6e804147d\"></div>\n"
      ]
     },
     "metadata": {},
     "output_type": "display_data"
    },
    {
     "data": {
      "text/html": [
       "<script type=\"text/javascript\">\n",
       "  $(function() {\n",
       "    $(\"#f4cb1888-616c-45a0-c59e-109620a30fc8\").html('Progress:<br>[1600001 / 11682144] [=======>.........................................] ETA: 63 seconds - Batch Loss: 1464178.024557 - Avg. Epoch Loss: 1466522.623221<br>'); // clear any previous plot in window_id     \n",
       "  });\n",
       "</script>\n",
       "<div id=\"1c7ed4df-b478-4194-c1bb-0807c1f692ff\"></div>\n"
      ]
     },
     "metadata": {},
     "output_type": "display_data"
    },
    {
     "data": {
      "text/html": [
       "<script type=\"text/javascript\">\n",
       "  $(function() {\n",
       "    $(\"#f4cb1888-616c-45a0-c59e-109620a30fc8\").html('Progress:<br>[1610001 / 11682144] [=======>.........................................] ETA: 63 seconds - Batch Loss: 1464150.100282 - Avg. Epoch Loss: 1466507.978027<br>'); // clear any previous plot in window_id     \n",
       "  });\n",
       "</script>\n",
       "<div id=\"d7368302-75e9-4ff2-cf96-876fb6e05939\"></div>\n"
      ]
     },
     "metadata": {},
     "output_type": "display_data"
    },
    {
     "data": {
      "text/html": [
       "<script type=\"text/javascript\">\n",
       "  $(function() {\n",
       "    $(\"#f4cb1888-616c-45a0-c59e-109620a30fc8\").html('Progress:<br>[1620001 / 11682144] [=======>.........................................] ETA: 63 seconds - Batch Loss: 1464120.461610 - Avg. Epoch Loss: 1466493.330696<br>'); // clear any previous plot in window_id     \n",
       "  });\n",
       "</script>\n",
       "<div id=\"35b94f39-929a-4d9b-cd73-9e95900c882d\"></div>\n"
      ]
     },
     "metadata": {},
     "output_type": "display_data"
    },
    {
     "data": {
      "text/html": [
       "<script type=\"text/javascript\">\n",
       "  $(function() {\n",
       "    $(\"#f4cb1888-616c-45a0-c59e-109620a30fc8\").html('Progress:<br>[1630001 / 11682144] [=======>.........................................] ETA: 63 seconds - Batch Loss: 1464090.881777 - Avg. Epoch Loss: 1466478.681626<br>'); // clear any previous plot in window_id     \n",
       "  });\n",
       "</script>\n",
       "<div id=\"13dbe953-b8c2-4710-c7aa-4f6589aad91d\"></div>\n"
      ]
     },
     "metadata": {},
     "output_type": "display_data"
    },
    {
     "data": {
      "text/html": [
       "<script type=\"text/javascript\">\n",
       "  $(function() {\n",
       "    $(\"#f4cb1888-616c-45a0-c59e-109620a30fc8\").html('Progress:<br>[1640001 / 11682144] [=======>.........................................] ETA: 63 seconds - Batch Loss: 1464060.766944 - Avg. Epoch Loss: 1466464.027607<br>'); // clear any previous plot in window_id     \n",
       "  });\n",
       "</script>\n",
       "<div id=\"f25d1225-7f4b-4e7e-cedd-174ef04e3bf7\"></div>\n"
      ]
     },
     "metadata": {},
     "output_type": "display_data"
    },
    {
     "data": {
      "text/html": [
       "<script type=\"text/javascript\">\n",
       "  $(function() {\n",
       "    $(\"#f4cb1888-616c-45a0-c59e-109620a30fc8\").html('Progress:<br>[1650001 / 11682144] [=======>.........................................] ETA: 63 seconds - Batch Loss: 1464030.826595 - Avg. Epoch Loss: 1466449.369778<br>'); // clear any previous plot in window_id     \n",
       "  });\n",
       "</script>\n",
       "<div id=\"1dc4334f-56d4-4d92-cd56-ac0a18ac1f08\"></div>\n"
      ]
     },
     "metadata": {},
     "output_type": "display_data"
    },
    {
     "data": {
      "text/html": [
       "<script type=\"text/javascript\">\n",
       "  $(function() {\n",
       "    $(\"#f4cb1888-616c-45a0-c59e-109620a30fc8\").html('Progress:<br>[1660001 / 11682144] [=======>.........................................] ETA: 63 seconds - Batch Loss: 1464003.328809 - Avg. Epoch Loss: 1466434.722835<br>'); // clear any previous plot in window_id     \n",
       "  });\n",
       "</script>\n",
       "<div id=\"5a262e56-b5af-44f6-c44b-c24abbce72e9\"></div>\n"
      ]
     },
     "metadata": {},
     "output_type": "display_data"
    },
    {
     "data": {
      "text/html": [
       "<script type=\"text/javascript\">\n",
       "  $(function() {\n",
       "    $(\"#f4cb1888-616c-45a0-c59e-109620a30fc8\").html('Progress:<br>[1670001 / 11682144] [=======>.........................................] ETA: 63 seconds - Batch Loss: 1463972.852680 - Avg. Epoch Loss: 1466420.068855<br>'); // clear any previous plot in window_id     \n",
       "  });\n",
       "</script>\n",
       "<div id=\"830e1138-11c3-4865-c866-9eceb73e40ab\"></div>\n"
      ]
     },
     "metadata": {},
     "output_type": "display_data"
    },
    {
     "data": {
      "text/html": [
       "<script type=\"text/javascript\">\n",
       "  $(function() {\n",
       "    $(\"#f4cb1888-616c-45a0-c59e-109620a30fc8\").html('Progress:<br>[1680001 / 11682144] [=======>.........................................] ETA: 63 seconds - Batch Loss: 1463942.924202 - Avg. Epoch Loss: 1466405.411203<br>'); // clear any previous plot in window_id     \n",
       "  });\n",
       "</script>\n",
       "<div id=\"b360f51b-d555-432e-c3d1-7ac54f44a85a\"></div>\n"
      ]
     },
     "metadata": {},
     "output_type": "display_data"
    },
    {
     "data": {
      "text/html": [
       "<script type=\"text/javascript\">\n",
       "  $(function() {\n",
       "    $(\"#f4cb1888-616c-45a0-c59e-109620a30fc8\").html('Progress:<br>[1690001 / 11682144] [========>........................................] ETA: 54 seconds - Batch Loss: 1463913.812847 - Avg. Epoch Loss: 1466390.754750<br>'); // clear any previous plot in window_id     \n",
       "  });\n",
       "</script>\n",
       "<div id=\"fc0314bc-0fe2-489c-c876-791e0d82e1ec\"></div>\n"
      ]
     },
     "metadata": {},
     "output_type": "display_data"
    },
    {
     "data": {
      "text/html": [
       "<script type=\"text/javascript\">\n",
       "  $(function() {\n",
       "    $(\"#f4cb1888-616c-45a0-c59e-109620a30fc8\").html('Progress:<br>[1700001 / 11682144] [========>........................................] ETA: 54 seconds - Batch Loss: 1463884.277103 - Avg. Epoch Loss: 1466376.096995<br>'); // clear any previous plot in window_id     \n",
       "  });\n",
       "</script>\n",
       "<div id=\"e1571175-5a48-4ecc-ceb2-0841c3d5bdea\"></div>\n"
      ]
     },
     "metadata": {},
     "output_type": "display_data"
    },
    {
     "data": {
      "text/html": [
       "<script type=\"text/javascript\">\n",
       "  $(function() {\n",
       "    $(\"#f4cb1888-616c-45a0-c59e-109620a30fc8\").html('Progress:<br>[1710001 / 11682144] [========>........................................] ETA: 54 seconds - Batch Loss: 1463855.999719 - Avg. Epoch Loss: 1466361.445275<br>'); // clear any previous plot in window_id     \n",
       "  });\n",
       "</script>\n",
       "<div id=\"974c0a26-87b4-4dc5-cdc9-466c04f1431c\"></div>\n"
      ]
     },
     "metadata": {},
     "output_type": "display_data"
    },
    {
     "data": {
      "text/html": [
       "<script type=\"text/javascript\">\n",
       "  $(function() {\n",
       "    $(\"#f4cb1888-616c-45a0-c59e-109620a30fc8\").html('Progress:<br>[1720001 / 11682144] [========>........................................] ETA: 54 seconds - Batch Loss: 1463825.662809 - Avg. Epoch Loss: 1466346.787581<br>'); // clear any previous plot in window_id     \n",
       "  });\n",
       "</script>\n",
       "<div id=\"578bd496-91fc-4a1c-cac7-35adf66d2eb8\"></div>\n"
      ]
     },
     "metadata": {},
     "output_type": "display_data"
    },
    {
     "data": {
      "text/html": [
       "<script type=\"text/javascript\">\n",
       "  $(function() {\n",
       "    $(\"#f4cb1888-616c-45a0-c59e-109620a30fc8\").html('Progress:<br>[1730001 / 11682144] [========>........................................] ETA: 54 seconds - Batch Loss: 1463797.381485 - Avg. Epoch Loss: 1466332.135831<br>'); // clear any previous plot in window_id     \n",
       "  });\n",
       "</script>\n",
       "<div id=\"863ae1a8-9e64-4486-c4af-2e5e22318605\"></div>\n"
      ]
     },
     "metadata": {},
     "output_type": "display_data"
    },
    {
     "data": {
      "text/html": [
       "<script type=\"text/javascript\">\n",
       "  $(function() {\n",
       "    $(\"#f4cb1888-616c-45a0-c59e-109620a30fc8\").html('Progress:<br>[1740001 / 11682144] [========>........................................] ETA: 54 seconds - Batch Loss: 1463769.406786 - Avg. Epoch Loss: 1466317.491673<br>'); // clear any previous plot in window_id     \n",
       "  });\n",
       "</script>\n",
       "<div id=\"a7e3bb83-d126-49ca-c94b-4c809f1d5cc5\"></div>\n"
      ]
     },
     "metadata": {},
     "output_type": "display_data"
    },
    {
     "data": {
      "text/html": [
       "<script type=\"text/javascript\">\n",
       "  $(function() {\n",
       "    $(\"#f4cb1888-616c-45a0-c59e-109620a30fc8\").html('Progress:<br>[1750001 / 11682144] [========>........................................] ETA: 54 seconds - Batch Loss: 1463737.964262 - Avg. Epoch Loss: 1466302.835276<br>'); // clear any previous plot in window_id     \n",
       "  });\n",
       "</script>\n",
       "<div id=\"212e59e4-0cd6-4c40-cc4a-cfdaa4acb58b\"></div>\n"
      ]
     },
     "metadata": {},
     "output_type": "display_data"
    },
    {
     "data": {
      "text/html": [
       "<script type=\"text/javascript\">\n",
       "  $(function() {\n",
       "    $(\"#f4cb1888-616c-45a0-c59e-109620a30fc8\").html('Progress:<br>[1760001 / 11682144] [========>........................................] ETA: 54 seconds - Batch Loss: 1463710.239302 - Avg. Epoch Loss: 1466288.187849<br>'); // clear any previous plot in window_id     \n",
       "  });\n",
       "</script>\n",
       "<div id=\"45e4a512-9551-4e5f-cee5-3e6d9da34e00\"></div>\n"
      ]
     },
     "metadata": {},
     "output_type": "display_data"
    },
    {
     "data": {
      "text/html": [
       "<script type=\"text/javascript\">\n",
       "  $(function() {\n",
       "    $(\"#f4cb1888-616c-45a0-c59e-109620a30fc8\").html('Progress:<br>[1770001 / 11682144] [========>........................................] ETA: 54 seconds - Batch Loss: 1463680.069371 - Avg. Epoch Loss: 1466273.535506<br>'); // clear any previous plot in window_id     \n",
       "  });\n",
       "</script>\n",
       "<div id=\"4939da6e-36bf-4afb-ca2a-4006179fb624\"></div>\n"
      ]
     },
     "metadata": {},
     "output_type": "display_data"
    },
    {
     "data": {
      "text/html": [
       "<script type=\"text/javascript\">\n",
       "  $(function() {\n",
       "    $(\"#f4cb1888-616c-45a0-c59e-109620a30fc8\").html('Progress:<br>[1780001 / 11682144] [========>........................................] ETA: 54 seconds - Batch Loss: 1463650.069679 - Avg. Epoch Loss: 1466258.879281<br>'); // clear any previous plot in window_id     \n",
       "  });\n",
       "</script>\n",
       "<div id=\"23879913-6391-4f80-cf31-e92e725ef749\"></div>\n"
      ]
     },
     "metadata": {},
     "output_type": "display_data"
    },
    {
     "data": {
      "text/html": [
       "<script type=\"text/javascript\">\n",
       "  $(function() {\n",
       "    $(\"#f4cb1888-616c-45a0-c59e-109620a30fc8\").html('Progress:<br>[1790001 / 11682144] [========>........................................] ETA: 54 seconds - Batch Loss: 1463622.403117 - Avg. Epoch Loss: 1466244.232199<br>'); // clear any previous plot in window_id     \n",
       "  });\n",
       "</script>\n",
       "<div id=\"830cf6f2-7149-4ef3-cece-6b4cb4f67204\"></div>\n"
      ]
     },
     "metadata": {},
     "output_type": "display_data"
    },
    {
     "data": {
      "text/html": [
       "<script type=\"text/javascript\">\n",
       "  $(function() {\n",
       "    $(\"#f4cb1888-616c-45a0-c59e-109620a30fc8\").html('Progress:<br>[1800001 / 11682144] [========>........................................] ETA: 54 seconds - Batch Loss: 1463593.170802 - Avg. Epoch Loss: 1466229.585459<br>'); // clear any previous plot in window_id     \n",
       "  });\n",
       "</script>\n",
       "<div id=\"a8f61d8e-a72d-4886-c8ed-b6194659ca84\"></div>\n"
      ]
     },
     "metadata": {},
     "output_type": "display_data"
    },
    {
     "data": {
      "text/html": [
       "<script type=\"text/javascript\">\n",
       "  $(function() {\n",
       "    $(\"#f4cb1888-616c-45a0-c59e-109620a30fc8\").html('Progress:<br>[1810001 / 11682144] [========>........................................] ETA: 54 seconds - Batch Loss: 1463564.735330 - Avg. Epoch Loss: 1466214.943434<br>'); // clear any previous plot in window_id     \n",
       "  });\n",
       "</script>\n",
       "<div id=\"08e2a80b-d0fe-4fea-cf8b-c625ddd1969b\"></div>\n"
      ]
     },
     "metadata": {},
     "output_type": "display_data"
    },
    {
     "data": {
      "text/html": [
       "<script type=\"text/javascript\">\n",
       "  $(function() {\n",
       "    $(\"#f4cb1888-616c-45a0-c59e-109620a30fc8\").html('Progress:<br>[1820001 / 11682144] [========>........................................] ETA: 54 seconds - Batch Loss: 1463534.240714 - Avg. Epoch Loss: 1466200.294793<br>'); // clear any previous plot in window_id     \n",
       "  });\n",
       "</script>\n",
       "<div id=\"0f0ba149-bc8a-4f94-cf19-030b6ce76dc3\"></div>\n"
      ]
     },
     "metadata": {},
     "output_type": "display_data"
    },
    {
     "data": {
      "text/html": [
       "<script type=\"text/javascript\">\n",
       "  $(function() {\n",
       "    $(\"#f4cb1888-616c-45a0-c59e-109620a30fc8\").html('Progress:<br>[1830001 / 11682144] [========>........................................] ETA: 59 seconds - Batch Loss: 1463504.490217 - Avg. Epoch Loss: 1466185.643689<br>'); // clear any previous plot in window_id     \n",
       "  });\n",
       "</script>\n",
       "<div id=\"8194236d-8fcf-43ea-c33f-2748f920a52f\"></div>\n"
      ]
     },
     "metadata": {},
     "output_type": "display_data"
    },
    {
     "data": {
      "text/html": [
       "<script type=\"text/javascript\">\n",
       "  $(function() {\n",
       "    $(\"#f4cb1888-616c-45a0-c59e-109620a30fc8\").html('Progress:<br>[1840001 / 11682144] [========>........................................] ETA: 59 seconds - Batch Loss: 1463476.839823 - Avg. Epoch Loss: 1466171.001514<br>'); // clear any previous plot in window_id     \n",
       "  });\n",
       "</script>\n",
       "<div id=\"90df973b-2cd5-4107-c183-649b6e83dc89\"></div>\n"
      ]
     },
     "metadata": {},
     "output_type": "display_data"
    },
    {
     "data": {
      "text/html": [
       "<script type=\"text/javascript\">\n",
       "  $(function() {\n",
       "    $(\"#f4cb1888-616c-45a0-c59e-109620a30fc8\").html('Progress:<br>[1850001 / 11682144] [========>........................................] ETA: 59 seconds - Batch Loss: 1463445.492848 - Avg. Epoch Loss: 1466156.348249<br>'); // clear any previous plot in window_id     \n",
       "  });\n",
       "</script>\n",
       "<div id=\"792166c0-07cc-4a11-caf2-6392cfe06419\"></div>\n"
      ]
     },
     "metadata": {},
     "output_type": "display_data"
    },
    {
     "data": {
      "text/html": [
       "<script type=\"text/javascript\">\n",
       "  $(function() {\n",
       "    $(\"#f4cb1888-616c-45a0-c59e-109620a30fc8\").html('Progress:<br>[1860001 / 11682144] [========>........................................] ETA: 59 seconds - Batch Loss: 1463417.527247 - Avg. Epoch Loss: 1466141.702156<br>'); // clear any previous plot in window_id     \n",
       "  });\n",
       "</script>\n",
       "<div id=\"cca5124a-fe7d-4810-c804-ef9ed4c7cfc6\"></div>\n"
      ]
     },
     "metadata": {},
     "output_type": "display_data"
    },
    {
     "data": {
      "text/html": [
       "<script type=\"text/javascript\">\n",
       "  $(function() {\n",
       "    $(\"#f4cb1888-616c-45a0-c59e-109620a30fc8\").html('Progress:<br>[1870001 / 11682144] [=========>.......................................] ETA: 52 seconds - Batch Loss: 1463388.230630 - Avg. Epoch Loss: 1466127.056038<br>'); // clear any previous plot in window_id     \n",
       "  });\n",
       "</script>\n",
       "<div id=\"2172337d-ae1b-414a-c114-4be6e25c5ee3\"></div>\n"
      ]
     },
     "metadata": {},
     "output_type": "display_data"
    },
    {
     "data": {
      "text/html": [
       "<script type=\"text/javascript\">\n",
       "  $(function() {\n",
       "    $(\"#f4cb1888-616c-45a0-c59e-109620a30fc8\").html('Progress:<br>[1880001 / 11682144] [=========>.......................................] ETA: 52 seconds - Batch Loss: 1463359.031296 - Avg. Epoch Loss: 1466112.410412<br>'); // clear any previous plot in window_id     \n",
       "  });\n",
       "</script>\n",
       "<div id=\"0dbe3fd1-3f25-4f21-cfc0-69c3465e0c91\"></div>\n"
      ]
     },
     "metadata": {},
     "output_type": "display_data"
    },
    {
     "data": {
      "text/html": [
       "<script type=\"text/javascript\">\n",
       "  $(function() {\n",
       "    $(\"#f4cb1888-616c-45a0-c59e-109620a30fc8\").html('Progress:<br>[1890001 / 11682144] [=========>.......................................] ETA: 52 seconds - Batch Loss: 1463329.548776 - Avg. Epoch Loss: 1466097.763780<br>'); // clear any previous plot in window_id     \n",
       "  });\n",
       "</script>\n",
       "<div id=\"3a30567f-b7e0-47b2-c7c5-222f39bb0ddd\"></div>\n"
      ]
     },
     "metadata": {},
     "output_type": "display_data"
    },
    {
     "data": {
      "text/html": [
       "<script type=\"text/javascript\">\n",
       "  $(function() {\n",
       "    $(\"#f4cb1888-616c-45a0-c59e-109620a30fc8\").html('Progress:<br>[1900001 / 11682144] [=========>.......................................] ETA: 52 seconds - Batch Loss: 1463299.423638 - Avg. Epoch Loss: 1466083.112792<br>'); // clear any previous plot in window_id     \n",
       "  });\n",
       "</script>\n",
       "<div id=\"9c23ae02-cf18-44a6-c411-f0bdbb328362\"></div>\n"
      ]
     },
     "metadata": {},
     "output_type": "display_data"
    },
    {
     "data": {
      "text/html": [
       "<script type=\"text/javascript\">\n",
       "  $(function() {\n",
       "    $(\"#f4cb1888-616c-45a0-c59e-109620a30fc8\").html('Progress:<br>[1910001 / 11682144] [=========>.......................................] ETA: 52 seconds - Batch Loss: 1463270.372871 - Avg. Epoch Loss: 1466068.463113<br>'); // clear any previous plot in window_id     \n",
       "  });\n",
       "</script>\n",
       "<div id=\"d98a4780-ec05-4249-c2f2-3dbb488227f8\"></div>\n"
      ]
     },
     "metadata": {},
     "output_type": "display_data"
    },
    {
     "data": {
      "text/html": [
       "<script type=\"text/javascript\">\n",
       "  $(function() {\n",
       "    $(\"#f4cb1888-616c-45a0-c59e-109620a30fc8\").html('Progress:<br>[1920001 / 11682144] [=========>.......................................] ETA: 52 seconds - Batch Loss: 1463243.323378 - Avg. Epoch Loss: 1466053.825090<br>'); // clear any previous plot in window_id     \n",
       "  });\n",
       "</script>\n",
       "<div id=\"1d273c59-2fda-4f75-cfea-3e3c12367880\"></div>\n"
      ]
     },
     "metadata": {},
     "output_type": "display_data"
    },
    {
     "data": {
      "text/html": [
       "<script type=\"text/javascript\">\n",
       "  $(function() {\n",
       "    $(\"#f4cb1888-616c-45a0-c59e-109620a30fc8\").html('Progress:<br>[1930001 / 11682144] [=========>.......................................] ETA: 52 seconds - Batch Loss: 1463211.302351 - Avg. Epoch Loss: 1466039.172919<br>'); // clear any previous plot in window_id     \n",
       "  });\n",
       "</script>\n",
       "<div id=\"70dddc60-39e0-4500-c547-5f35c54af067\"></div>\n"
      ]
     },
     "metadata": {},
     "output_type": "display_data"
    },
    {
     "data": {
      "text/html": [
       "<script type=\"text/javascript\">\n",
       "  $(function() {\n",
       "    $(\"#f4cb1888-616c-45a0-c59e-109620a30fc8\").html('Progress:<br>[1940001 / 11682144] [=========>.......................................] ETA: 52 seconds - Batch Loss: 1463181.777878 - Avg. Epoch Loss: 1466024.519619<br>'); // clear any previous plot in window_id     \n",
       "  });\n",
       "</script>\n",
       "<div id=\"03064556-f69f-4814-c81e-ee15ec0fe09c\"></div>\n"
      ]
     },
     "metadata": {},
     "output_type": "display_data"
    },
    {
     "data": {
      "text/html": [
       "<script type=\"text/javascript\">\n",
       "  $(function() {\n",
       "    $(\"#f4cb1888-616c-45a0-c59e-109620a30fc8\").html('Progress:<br>[1950001 / 11682144] [=========>.......................................] ETA: 52 seconds - Batch Loss: 1463153.112202 - Avg. Epoch Loss: 1466009.869588<br>'); // clear any previous plot in window_id     \n",
       "  });\n",
       "</script>\n",
       "<div id=\"92d88c37-a41e-4268-c20d-0f1a768e0850\"></div>\n"
      ]
     },
     "metadata": {},
     "output_type": "display_data"
    },
    {
     "data": {
      "text/html": [
       "<script type=\"text/javascript\">\n",
       "  $(function() {\n",
       "    $(\"#f4cb1888-616c-45a0-c59e-109620a30fc8\").html('Progress:<br>[1960001 / 11682144] [=========>.......................................] ETA: 52 seconds - Batch Loss: 1463125.249822 - Avg. Epoch Loss: 1465995.226856<br>'); // clear any previous plot in window_id     \n",
       "  });\n",
       "</script>\n",
       "<div id=\"07bd25c5-bf93-4629-c65d-5775e4c2fd5b\"></div>\n"
      ]
     },
     "metadata": {},
     "output_type": "display_data"
    },
    {
     "data": {
      "text/html": [
       "<script type=\"text/javascript\">\n",
       "  $(function() {\n",
       "    $(\"#f4cb1888-616c-45a0-c59e-109620a30fc8\").html('Progress:<br>[1970001 / 11682144] [=========>.......................................] ETA: 52 seconds - Batch Loss: 1463093.630512 - Avg. Epoch Loss: 1465980.572336<br>'); // clear any previous plot in window_id     \n",
       "  });\n",
       "</script>\n",
       "<div id=\"a10155ab-9474-423a-c2f1-17dd98e454fd\"></div>\n"
      ]
     },
     "metadata": {},
     "output_type": "display_data"
    },
    {
     "data": {
      "text/html": [
       "<script type=\"text/javascript\">\n",
       "  $(function() {\n",
       "    $(\"#f4cb1888-616c-45a0-c59e-109620a30fc8\").html('Progress:<br>[1980001 / 11682144] [=========>.......................................] ETA: 52 seconds - Batch Loss: 1463065.977182 - Avg. Epoch Loss: 1465965.926137<br>'); // clear any previous plot in window_id     \n",
       "  });\n",
       "</script>\n",
       "<div id=\"770a7879-85d9-44b5-c45b-cb85ada0e4b4\"></div>\n"
      ]
     },
     "metadata": {},
     "output_type": "display_data"
    },
    {
     "data": {
      "text/html": [
       "<script type=\"text/javascript\">\n",
       "  $(function() {\n",
       "    $(\"#f4cb1888-616c-45a0-c59e-109620a30fc8\").html('Progress:<br>[1990001 / 11682144] [=========>.......................................] ETA: 52 seconds - Batch Loss: 1463036.073868 - Avg. Epoch Loss: 1465951.276883<br>'); // clear any previous plot in window_id     \n",
       "  });\n",
       "</script>\n",
       "<div id=\"40bac8d1-c1ce-40d7-c075-6cf2da3b7a49\"></div>\n"
      ]
     },
     "metadata": {},
     "output_type": "display_data"
    },
    {
     "data": {
      "text/html": [
       "<script type=\"text/javascript\">\n",
       "  $(function() {\n",
       "    $(\"#f4cb1888-616c-45a0-c59e-109620a30fc8\").html('Progress:<br>[2000001 / 11682144] [=========>.......................................] ETA: 52 seconds - Batch Loss: 1463007.699879 - Avg. Epoch Loss: 1465936.632228<br>'); // clear any previous plot in window_id     \n",
       "  });\n",
       "</script>\n",
       "<div id=\"7ba73070-c8a2-463a-c65b-4cbfe905a631\"></div>\n"
      ]
     },
     "metadata": {},
     "output_type": "display_data"
    },
    {
     "data": {
      "text/html": [
       "<script type=\"text/javascript\">\n",
       "  $(function() {\n",
       "    $(\"#f4cb1888-616c-45a0-c59e-109620a30fc8\").html('Progress:<br>[2010001 / 11682144] [=========>.......................................] ETA: 52 seconds - Batch Loss: 1462978.524132 - Avg. Epoch Loss: 1465921.988136<br>'); // clear any previous plot in window_id     \n",
       "  });\n",
       "</script>\n",
       "<div id=\"c09c387b-2da4-4229-c2a9-3acb10180450\"></div>\n"
      ]
     },
     "metadata": {},
     "output_type": "display_data"
    },
    {
     "data": {
      "text/html": [
       "<script type=\"text/javascript\">\n",
       "  $(function() {\n",
       "    $(\"#f4cb1888-616c-45a0-c59e-109620a30fc8\").html('Progress:<br>[2020001 / 11682144] [=========>.......................................] ETA: 52 seconds - Batch Loss: 1462948.613006 - Avg. Epoch Loss: 1465907.340975<br>'); // clear any previous plot in window_id     \n",
       "  });\n",
       "</script>\n",
       "<div id=\"7808e58d-d4ef-4a9d-ca89-f0ba62006fb5\"></div>\n"
      ]
     },
     "metadata": {},
     "output_type": "display_data"
    },
    {
     "data": {
      "text/html": [
       "<script type=\"text/javascript\">\n",
       "  $(function() {\n",
       "    $(\"#f4cb1888-616c-45a0-c59e-109620a30fc8\").html('Progress:<br>[2030001 / 11682144] [=========>.......................................] ETA: 52 seconds - Batch Loss: 1462919.805037 - Avg. Epoch Loss: 1465892.696198<br>'); // clear any previous plot in window_id     \n",
       "  });\n",
       "</script>\n",
       "<div id=\"1461cdfe-3e2b-4374-c321-22568e06dc06\"></div>\n"
      ]
     },
     "metadata": {},
     "output_type": "display_data"
    },
    {
     "data": {
      "text/html": [
       "<script type=\"text/javascript\">\n",
       "  $(function() {\n",
       "    $(\"#f4cb1888-616c-45a0-c59e-109620a30fc8\").html('Progress:<br>[2040001 / 11682144] [=========>.......................................] ETA: 52 seconds - Batch Loss: 1462889.190435 - Avg. Epoch Loss: 1465878.044958<br>'); // clear any previous plot in window_id     \n",
       "  });\n",
       "</script>\n",
       "<div id=\"4dc13d2b-ceef-4739-c795-06eefa650722\"></div>\n"
      ]
     },
     "metadata": {},
     "output_type": "display_data"
    },
    {
     "data": {
      "text/html": [
       "<script type=\"text/javascript\">\n",
       "  $(function() {\n",
       "    $(\"#f4cb1888-616c-45a0-c59e-109620a30fc8\").html('Progress:<br>[2050001 / 11682144] [=========>.......................................] ETA: 52 seconds - Batch Loss: 1462862.754056 - Avg. Epoch Loss: 1465863.407630<br>'); // clear any previous plot in window_id     \n",
       "  });\n",
       "</script>\n",
       "<div id=\"ea18ed2b-a749-4c47-cc22-99fa0c0b0120\"></div>\n"
      ]
     },
     "metadata": {},
     "output_type": "display_data"
    },
    {
     "data": {
      "text/html": [
       "<script type=\"text/javascript\">\n",
       "  $(function() {\n",
       "    $(\"#f4cb1888-616c-45a0-c59e-109620a30fc8\").html('Progress:<br>[2060001 / 11682144] [==========>......................................] ETA: 46 seconds - Batch Loss: 1462832.530105 - Avg. Epoch Loss: 1465848.765717<br>'); // clear any previous plot in window_id     \n",
       "  });\n",
       "</script>\n",
       "<div id=\"f0fc08d5-b1b5-4594-c594-7a18d786a3c4\"></div>\n"
      ]
     },
     "metadata": {},
     "output_type": "display_data"
    },
    {
     "data": {
      "text/html": [
       "<script type=\"text/javascript\">\n",
       "  $(function() {\n",
       "    $(\"#f4cb1888-616c-45a0-c59e-109620a30fc8\").html('Progress:<br>[2070001 / 11682144] [==========>......................................] ETA: 46 seconds - Batch Loss: 1462802.255508 - Avg. Epoch Loss: 1465834.119040<br>'); // clear any previous plot in window_id     \n",
       "  });\n",
       "</script>\n",
       "<div id=\"73081c8b-2664-4b6e-cb56-74660e0da1e7\"></div>\n"
      ]
     },
     "metadata": {},
     "output_type": "display_data"
    },
    {
     "data": {
      "text/html": [
       "<script type=\"text/javascript\">\n",
       "  $(function() {\n",
       "    $(\"#f4cb1888-616c-45a0-c59e-109620a30fc8\").html('Progress:<br>[2080001 / 11682144] [==========>......................................] ETA: 49 seconds - Batch Loss: 1462773.369535 - Avg. Epoch Loss: 1465819.474313<br>'); // clear any previous plot in window_id     \n",
       "  });\n",
       "</script>\n",
       "<div id=\"3eca45b8-539c-4b87-cbc4-1afc391edb62\"></div>\n"
      ]
     },
     "metadata": {},
     "output_type": "display_data"
    },
    {
     "data": {
      "text/html": [
       "<script type=\"text/javascript\">\n",
       "  $(function() {\n",
       "    $(\"#f4cb1888-616c-45a0-c59e-109620a30fc8\").html('Progress:<br>[2090001 / 11682144] [==========>......................................] ETA: 49 seconds - Batch Loss: 1462742.383417 - Avg. Epoch Loss: 1465804.821506<br>'); // clear any previous plot in window_id     \n",
       "  });\n",
       "</script>\n",
       "<div id=\"73a28f59-d8c4-4ca4-cc71-71db7b52d8da\"></div>\n"
      ]
     },
     "metadata": {},
     "output_type": "display_data"
    },
    {
     "data": {
      "text/html": [
       "<script type=\"text/javascript\">\n",
       "  $(function() {\n",
       "    $(\"#f4cb1888-616c-45a0-c59e-109620a30fc8\").html('Progress:<br>[2100001 / 11682144] [==========>......................................] ETA: 49 seconds - Batch Loss: 1462714.902310 - Avg. Epoch Loss: 1465790.177346<br>'); // clear any previous plot in window_id     \n",
       "  });\n",
       "</script>\n",
       "<div id=\"9212bf17-a9c2-4a9f-cab8-42e43974f841\"></div>\n"
      ]
     },
     "metadata": {},
     "output_type": "display_data"
    },
    {
     "data": {
      "text/html": [
       "<script type=\"text/javascript\">\n",
       "  $(function() {\n",
       "    $(\"#f4cb1888-616c-45a0-c59e-109620a30fc8\").html('Progress:<br>[2110001 / 11682144] [==========>......................................] ETA: 49 seconds - Batch Loss: 1462684.517323 - Avg. Epoch Loss: 1465775.528013<br>'); // clear any previous plot in window_id     \n",
       "  });\n",
       "</script>\n",
       "<div id=\"ae2a0542-2549-4a72-cac5-1cad79787bd3\"></div>\n"
      ]
     },
     "metadata": {},
     "output_type": "display_data"
    },
    {
     "data": {
      "text/html": [
       "<script type=\"text/javascript\">\n",
       "  $(function() {\n",
       "    $(\"#f4cb1888-616c-45a0-c59e-109620a30fc8\").html('Progress:<br>[2120001 / 11682144] [==========>......................................] ETA: 49 seconds - Batch Loss: 1462656.393865 - Avg. Epoch Loss: 1465760.884198<br>'); // clear any previous plot in window_id     \n",
       "  });\n",
       "</script>\n",
       "<div id=\"516e8a06-b232-4486-c4fa-ba25c0e3d849\"></div>\n"
      ]
     },
     "metadata": {},
     "output_type": "display_data"
    },
    {
     "data": {
      "text/html": [
       "<script type=\"text/javascript\">\n",
       "  $(function() {\n",
       "    $(\"#f4cb1888-616c-45a0-c59e-109620a30fc8\").html('Progress:<br>[2130001 / 11682144] [==========>......................................] ETA: 49 seconds - Batch Loss: 1462626.865560 - Avg. Epoch Loss: 1465746.239258<br>'); // clear any previous plot in window_id     \n",
       "  });\n",
       "</script>\n",
       "<div id=\"521e3de1-c9db-4fd2-cfe6-9972a994c6e8\"></div>\n"
      ]
     },
     "metadata": {},
     "output_type": "display_data"
    },
    {
     "data": {
      "text/html": [
       "<script type=\"text/javascript\">\n",
       "  $(function() {\n",
       "    $(\"#f4cb1888-616c-45a0-c59e-109620a30fc8\").html('Progress:<br>[2140001 / 11682144] [==========>......................................] ETA: 49 seconds - Batch Loss: 1462598.216820 - Avg. Epoch Loss: 1465731.597300<br>'); // clear any previous plot in window_id     \n",
       "  });\n",
       "</script>\n",
       "<div id=\"cd96aae3-103d-44fc-c401-f6d66cafe264\"></div>\n"
      ]
     },
     "metadata": {},
     "output_type": "display_data"
    },
    {
     "data": {
      "text/html": [
       "<script type=\"text/javascript\">\n",
       "  $(function() {\n",
       "    $(\"#f4cb1888-616c-45a0-c59e-109620a30fc8\").html('Progress:<br>[2150001 / 11682144] [==========>......................................] ETA: 49 seconds - Batch Loss: 1462567.485036 - Avg. Epoch Loss: 1465716.948639<br>'); // clear any previous plot in window_id     \n",
       "  });\n",
       "</script>\n",
       "<div id=\"cd02371a-0cae-4382-c35c-74991a1cfb73\"></div>\n"
      ]
     },
     "metadata": {},
     "output_type": "display_data"
    },
    {
     "data": {
      "text/html": [
       "<script type=\"text/javascript\">\n",
       "  $(function() {\n",
       "    $(\"#f4cb1888-616c-45a0-c59e-109620a30fc8\").html('Progress:<br>[2160001 / 11682144] [==========>......................................] ETA: 49 seconds - Batch Loss: 1462538.243741 - Avg. Epoch Loss: 1465702.300236<br>'); // clear any previous plot in window_id     \n",
       "  });\n",
       "</script>\n",
       "<div id=\"affae9af-3900-4608-c6fd-d70a37da5dbd\"></div>\n"
      ]
     },
     "metadata": {},
     "output_type": "display_data"
    },
    {
     "data": {
      "text/html": [
       "<script type=\"text/javascript\">\n",
       "  $(function() {\n",
       "    $(\"#f4cb1888-616c-45a0-c59e-109620a30fc8\").html('Progress:<br>[2170001 / 11682144] [==========>......................................] ETA: 49 seconds - Batch Loss: 1462509.203117 - Avg. Epoch Loss: 1465687.653008<br>'); // clear any previous plot in window_id     \n",
       "  });\n",
       "</script>\n",
       "<div id=\"4229ca69-01e8-49d5-c9ec-c27aae772468\"></div>\n"
      ]
     },
     "metadata": {},
     "output_type": "display_data"
    },
    {
     "data": {
      "text/html": [
       "<script type=\"text/javascript\">\n",
       "  $(function() {\n",
       "    $(\"#f4cb1888-616c-45a0-c59e-109620a30fc8\").html('Progress:<br>[2180001 / 11682144] [==========>......................................] ETA: 49 seconds - Batch Loss: 1462481.539248 - Avg. Epoch Loss: 1465673.013226<br>'); // clear any previous plot in window_id     \n",
       "  });\n",
       "</script>\n",
       "<div id=\"d6793c57-f34b-4a09-ca35-9d64fad174d9\"></div>\n"
      ]
     },
     "metadata": {},
     "output_type": "display_data"
    },
    {
     "data": {
      "text/html": [
       "<script type=\"text/javascript\">\n",
       "  $(function() {\n",
       "    $(\"#f4cb1888-616c-45a0-c59e-109620a30fc8\").html('Progress:<br>[2190001 / 11682144] [==========>......................................] ETA: 49 seconds - Batch Loss: 1462450.724647 - Avg. Epoch Loss: 1465658.366466<br>'); // clear any previous plot in window_id     \n",
       "  });\n",
       "</script>\n",
       "<div id=\"d2c96562-e781-4fb3-cf0c-cab3ab10fd3b\"></div>\n"
      ]
     },
     "metadata": {},
     "output_type": "display_data"
    },
    {
     "data": {
      "text/html": [
       "<script type=\"text/javascript\">\n",
       "  $(function() {\n",
       "    $(\"#f4cb1888-616c-45a0-c59e-109620a30fc8\").html('Progress:<br>[2200001 / 11682144] [==========>......................................] ETA: 49 seconds - Batch Loss: 1462422.031679 - Avg. Epoch Loss: 1465643.722424<br>'); // clear any previous plot in window_id     \n",
       "  });\n",
       "</script>\n",
       "<div id=\"9a83d2e2-7a8d-4f32-cf58-c0acdba2e19e\"></div>\n"
      ]
     },
     "metadata": {},
     "output_type": "display_data"
    },
    {
     "data": {
      "text/html": [
       "<script type=\"text/javascript\">\n",
       "  $(function() {\n",
       "    $(\"#f4cb1888-616c-45a0-c59e-109620a30fc8\").html('Progress:<br>[2210001 / 11682144] [==========>......................................] ETA: 49 seconds - Batch Loss: 1462393.739783 - Avg. Epoch Loss: 1465629.082869<br>'); // clear any previous plot in window_id     \n",
       "  });\n",
       "</script>\n",
       "<div id=\"a1b01d92-d3d4-4525-c556-3e770152a0d5\"></div>\n"
      ]
     },
     "metadata": {},
     "output_type": "display_data"
    },
    {
     "data": {
      "text/html": [
       "<script type=\"text/javascript\">\n",
       "  $(function() {\n",
       "    $(\"#f4cb1888-616c-45a0-c59e-109620a30fc8\").html('Progress:<br>[2220001 / 11682144] [==========>......................................] ETA: 49 seconds - Batch Loss: 1462364.049943 - Avg. Epoch Loss: 1465614.441473<br>'); // clear any previous plot in window_id     \n",
       "  });\n",
       "</script>\n",
       "<div id=\"d6bd2f10-6429-4f2e-cf2f-da34f45564db\"></div>\n"
      ]
     },
     "metadata": {},
     "output_type": "display_data"
    },
    {
     "data": {
      "text/html": [
       "<script type=\"text/javascript\">\n",
       "  $(function() {\n",
       "    $(\"#f4cb1888-616c-45a0-c59e-109620a30fc8\").html('Progress:<br>[2230001 / 11682144] [==========>......................................] ETA: 49 seconds - Batch Loss: 1462334.696792 - Avg. Epoch Loss: 1465599.799762<br>'); // clear any previous plot in window_id     \n",
       "  });\n",
       "</script>\n",
       "<div id=\"5fe84d0e-69dd-4310-c34e-d6277bc11087\"></div>\n"
      ]
     },
     "metadata": {},
     "output_type": "display_data"
    },
    {
     "data": {
      "text/html": [
       "<script type=\"text/javascript\">\n",
       "  $(function() {\n",
       "    $(\"#f4cb1888-616c-45a0-c59e-109620a30fc8\").html('Progress:<br>[2240001 / 11682144] [==========>......................................] ETA: 49 seconds - Batch Loss: 1462305.577698 - Avg. Epoch Loss: 1465585.158781<br>'); // clear any previous plot in window_id     \n",
       "  });\n",
       "</script>\n",
       "<div id=\"620d3be2-2d2b-4f45-cf76-8b95f7c2608a\"></div>\n"
      ]
     },
     "metadata": {},
     "output_type": "display_data"
    },
    {
     "data": {
      "text/html": [
       "<script type=\"text/javascript\">\n",
       "  $(function() {\n",
       "    $(\"#f4cb1888-616c-45a0-c59e-109620a30fc8\").html('Progress:<br>[2250001 / 11682144] [===========>.....................................] ETA: 44 seconds - Batch Loss: 1462276.079018 - Avg. Epoch Loss: 1465570.516842<br>'); // clear any previous plot in window_id     \n",
       "  });\n",
       "</script>\n",
       "<div id=\"8b746a83-0d4e-4060-c07f-bca6d516a1ff\"></div>\n"
      ]
     },
     "metadata": {},
     "output_type": "display_data"
    },
    {
     "data": {
      "text/html": [
       "<script type=\"text/javascript\">\n",
       "  $(function() {\n",
       "    $(\"#f4cb1888-616c-45a0-c59e-109620a30fc8\").html('Progress:<br>[2260001 / 11682144] [===========>.....................................] ETA: 44 seconds - Batch Loss: 1462247.348937 - Avg. Epoch Loss: 1465555.877342<br>'); // clear any previous plot in window_id     \n",
       "  });\n",
       "</script>\n",
       "<div id=\"44ef4baf-dfee-4b59-cb1a-cf0f17c89f0f\"></div>\n"
      ]
     },
     "metadata": {},
     "output_type": "display_data"
    },
    {
     "data": {
      "text/html": [
       "<script type=\"text/javascript\">\n",
       "  $(function() {\n",
       "    $(\"#f4cb1888-616c-45a0-c59e-109620a30fc8\").html('Progress:<br>[2270001 / 11682144] [===========>.....................................] ETA: 44 seconds - Batch Loss: 1462218.040138 - Avg. Epoch Loss: 1465541.237712<br>'); // clear any previous plot in window_id     \n",
       "  });\n",
       "</script>\n",
       "<div id=\"574cb259-25b6-457d-c557-2302fcbb2e92\"></div>\n"
      ]
     },
     "metadata": {},
     "output_type": "display_data"
    },
    {
     "data": {
      "text/html": [
       "<script type=\"text/javascript\">\n",
       "  $(function() {\n",
       "    $(\"#f4cb1888-616c-45a0-c59e-109620a30fc8\").html('Progress:<br>[2280001 / 11682144] [===========>.....................................] ETA: 44 seconds - Batch Loss: 1462188.915609 - Avg. Epoch Loss: 1465526.598757<br>'); // clear any previous plot in window_id     \n",
       "  });\n",
       "</script>\n",
       "<div id=\"8b68100f-0fd3-4400-c43f-8eb511c8153a\"></div>\n"
      ]
     },
     "metadata": {},
     "output_type": "display_data"
    },
    {
     "data": {
      "text/html": [
       "<script type=\"text/javascript\">\n",
       "  $(function() {\n",
       "    $(\"#f4cb1888-616c-45a0-c59e-109620a30fc8\").html('Progress:<br>[2290001 / 11682144] [===========>.....................................] ETA: 44 seconds - Batch Loss: 1462159.058538 - Avg. Epoch Loss: 1465511.957284<br>'); // clear any previous plot in window_id     \n",
       "  });\n",
       "</script>\n",
       "<div id=\"088f0318-5f28-47bf-c7a3-21282b3c1767\"></div>\n"
      ]
     },
     "metadata": {},
     "output_type": "display_data"
    },
    {
     "data": {
      "text/html": [
       "<script type=\"text/javascript\">\n",
       "  $(function() {\n",
       "    $(\"#f4cb1888-616c-45a0-c59e-109620a30fc8\").html('Progress:<br>[2300001 / 11682144] [===========>.....................................] ETA: 44 seconds - Batch Loss: 1462129.395750 - Avg. Epoch Loss: 1465497.314167<br>'); // clear any previous plot in window_id     \n",
       "  });\n",
       "</script>\n",
       "<div id=\"a2ce4f98-354f-47bd-c7ea-27a81d2f5ff4\"></div>\n"
      ]
     },
     "metadata": {},
     "output_type": "display_data"
    },
    {
     "data": {
      "text/html": [
       "<script type=\"text/javascript\">\n",
       "  $(function() {\n",
       "    $(\"#f4cb1888-616c-45a0-c59e-109620a30fc8\").html('Progress:<br>[2310001 / 11682144] [===========>.....................................] ETA: 44 seconds - Batch Loss: 1462101.166917 - Avg. Epoch Loss: 1465482.675608<br>'); // clear any previous plot in window_id     \n",
       "  });\n",
       "</script>\n",
       "<div id=\"ab505dbf-dc04-4918-c927-21544c2e6e1c\"></div>\n"
      ]
     },
     "metadata": {},
     "output_type": "display_data"
    },
    {
     "data": {
      "text/html": [
       "<script type=\"text/javascript\">\n",
       "  $(function() {\n",
       "    $(\"#f4cb1888-616c-45a0-c59e-109620a30fc8\").html('Progress:<br>[2320001 / 11682144] [===========>.....................................] ETA: 44 seconds - Batch Loss: 1462070.632431 - Avg. Epoch Loss: 1465468.031652<br>'); // clear any previous plot in window_id     \n",
       "  });\n",
       "</script>\n",
       "<div id=\"bcaf01a3-f410-45b6-c54c-8390123e87a4\"></div>\n"
      ]
     },
     "metadata": {},
     "output_type": "display_data"
    },
    {
     "data": {
      "text/html": [
       "<script type=\"text/javascript\">\n",
       "  $(function() {\n",
       "    $(\"#f4cb1888-616c-45a0-c59e-109620a30fc8\").html('Progress:<br>[2330001 / 11682144] [===========>.....................................] ETA: 44 seconds - Batch Loss: 1462043.617538 - Avg. Epoch Loss: 1465453.397410<br>'); // clear any previous plot in window_id     \n",
       "  });\n",
       "</script>\n",
       "<div id=\"097a8f0e-ff4b-4541-c5aa-19c81514ea0d\"></div>\n"
      ]
     },
     "metadata": {},
     "output_type": "display_data"
    },
    {
     "data": {
      "text/html": [
       "<script type=\"text/javascript\">\n",
       "  $(function() {\n",
       "    $(\"#f4cb1888-616c-45a0-c59e-109620a30fc8\").html('Progress:<br>[2340001 / 11682144] [===========>.....................................] ETA: 47 seconds - Batch Loss: 1462011.127930 - Avg. Epoch Loss: 1465438.749461<br>'); // clear any previous plot in window_id     \n",
       "  });\n",
       "</script>\n",
       "<div id=\"e00e4214-37f2-494e-c9f1-b37479082941\"></div>\n"
      ]
     },
     "metadata": {},
     "output_type": "display_data"
    },
    {
     "data": {
      "text/html": [
       "<script type=\"text/javascript\">\n",
       "  $(function() {\n",
       "    $(\"#f4cb1888-616c-45a0-c59e-109620a30fc8\").html('Progress:<br>[2350001 / 11682144] [===========>.....................................] ETA: 47 seconds - Batch Loss: 1461983.711100 - Avg. Epoch Loss: 1465424.109474<br>'); // clear any previous plot in window_id     \n",
       "  });\n",
       "</script>\n",
       "<div id=\"2efc34d0-62d0-4e4a-ce4f-682112a04426\"></div>\n"
      ]
     },
     "metadata": {},
     "output_type": "display_data"
    },
    {
     "data": {
      "text/html": [
       "<script type=\"text/javascript\">\n",
       "  $(function() {\n",
       "    $(\"#f4cb1888-616c-45a0-c59e-109620a30fc8\").html('Progress:<br>[2360001 / 11682144] [===========>.....................................] ETA: 47 seconds - Batch Loss: 1461957.032000 - Avg. Epoch Loss: 1465409.480461<br>'); // clear any previous plot in window_id     \n",
       "  });\n",
       "</script>\n",
       "<div id=\"93e2b222-8a85-4516-c516-c22138dc3c57\"></div>\n"
      ]
     },
     "metadata": {},
     "output_type": "display_data"
    },
    {
     "data": {
      "text/html": [
       "<script type=\"text/javascript\">\n",
       "  $(function() {\n",
       "    $(\"#f4cb1888-616c-45a0-c59e-109620a30fc8\").html('Progress:<br>[2370001 / 11682144] [===========>.....................................] ETA: 47 seconds - Batch Loss: 1461925.810828 - Avg. Epoch Loss: 1465394.843200<br>'); // clear any previous plot in window_id     \n",
       "  });\n",
       "</script>\n",
       "<div id=\"8d59473f-a539-4764-c755-7f3c9e6c25ea\"></div>\n"
      ]
     },
     "metadata": {},
     "output_type": "display_data"
    },
    {
     "data": {
      "text/html": [
       "<script type=\"text/javascript\">\n",
       "  $(function() {\n",
       "    $(\"#f4cb1888-616c-45a0-c59e-109620a30fc8\").html('Progress:<br>[2380001 / 11682144] [===========>.....................................] ETA: 47 seconds - Batch Loss: 1461894.730688 - Avg. Epoch Loss: 1465380.198384<br>'); // clear any previous plot in window_id     \n",
       "  });\n",
       "</script>\n",
       "<div id=\"cfddc6cb-9060-4317-c3fd-e8f55e91995a\"></div>\n"
      ]
     },
     "metadata": {},
     "output_type": "display_data"
    },
    {
     "data": {
      "text/html": [
       "<script type=\"text/javascript\">\n",
       "  $(function() {\n",
       "    $(\"#f4cb1888-616c-45a0-c59e-109620a30fc8\").html('Progress:<br>[2390001 / 11682144] [===========>.....................................] ETA: 47 seconds - Batch Loss: 1461866.650518 - Avg. Epoch Loss: 1465365.558607<br>'); // clear any previous plot in window_id     \n",
       "  });\n",
       "</script>\n",
       "<div id=\"3400df7f-51c9-4237-c26a-313306e5833c\"></div>\n"
      ]
     },
     "metadata": {},
     "output_type": "display_data"
    },
    {
     "data": {
      "text/html": [
       "<script type=\"text/javascript\">\n",
       "  $(function() {\n",
       "    $(\"#f4cb1888-616c-45a0-c59e-109620a30fc8\").html('Progress:<br>[2400001 / 11682144] [===========>.....................................] ETA: 47 seconds - Batch Loss: 1461836.522274 - Avg. Epoch Loss: 1465350.915309<br>'); // clear any previous plot in window_id     \n",
       "  });\n",
       "</script>\n",
       "<div id=\"825a12fb-f61b-476c-c719-7814249767ff\"></div>\n"
      ]
     },
     "metadata": {},
     "output_type": "display_data"
    },
    {
     "data": {
      "text/html": [
       "<script type=\"text/javascript\">\n",
       "  $(function() {\n",
       "    $(\"#f4cb1888-616c-45a0-c59e-109620a30fc8\").html('Progress:<br>[2410001 / 11682144] [===========>.....................................] ETA: 47 seconds - Batch Loss: 1461807.504148 - Avg. Epoch Loss: 1465336.273120<br>'); // clear any previous plot in window_id     \n",
       "  });\n",
       "</script>\n",
       "<div id=\"34006e58-42fd-42b2-c2ba-6cdb99ac8a62\"></div>\n"
      ]
     },
     "metadata": {},
     "output_type": "display_data"
    },
    {
     "data": {
      "text/html": [
       "<script type=\"text/javascript\">\n",
       "  $(function() {\n",
       "    $(\"#f4cb1888-616c-45a0-c59e-109620a30fc8\").html('Progress:<br>[2420001 / 11682144] [===========>.....................................] ETA: 47 seconds - Batch Loss: 1461778.783253 - Avg. Epoch Loss: 1465321.633250<br>'); // clear any previous plot in window_id     \n",
       "  });\n",
       "</script>\n",
       "<div id=\"e0a8ef4e-871c-471d-c73c-e161565766f7\"></div>\n"
      ]
     },
     "metadata": {},
     "output_type": "display_data"
    },
    {
     "data": {
      "text/html": [
       "<script type=\"text/javascript\">\n",
       "  $(function() {\n",
       "    $(\"#f4cb1888-616c-45a0-c59e-109620a30fc8\").html('Progress:<br>[2430001 / 11682144] [============>....................................] ETA: 42 seconds - Batch Loss: 1461750.173865 - Avg. Epoch Loss: 1465306.996127<br>'); // clear any previous plot in window_id     \n",
       "  });\n",
       "</script>\n",
       "<div id=\"4a51f9d1-e848-4824-c8c7-1d4a1ce2b5ae\"></div>\n"
      ]
     },
     "metadata": {},
     "output_type": "display_data"
    },
    {
     "data": {
      "text/html": [
       "<script type=\"text/javascript\">\n",
       "  $(function() {\n",
       "    $(\"#f4cb1888-616c-45a0-c59e-109620a30fc8\").html('Progress:<br>[2440001 / 11682144] [============>....................................] ETA: 42 seconds - Batch Loss: 1461719.953680 - Avg. Epoch Loss: 1465292.355144<br>'); // clear any previous plot in window_id     \n",
       "  });\n",
       "</script>\n",
       "<div id=\"1d30fb41-00d1-4664-c6dc-33a1f5d7ce6d\"></div>\n"
      ]
     },
     "metadata": {},
     "output_type": "display_data"
    },
    {
     "data": {
      "text/html": [
       "<script type=\"text/javascript\">\n",
       "  $(function() {\n",
       "    $(\"#f4cb1888-616c-45a0-c59e-109620a30fc8\").html('Progress:<br>[2450001 / 11682144] [============>....................................] ETA: 42 seconds - Batch Loss: 1461691.676954 - Avg. Epoch Loss: 1465277.718247<br>'); // clear any previous plot in window_id     \n",
       "  });\n",
       "</script>\n",
       "<div id=\"547c73ab-9f5b-4ce8-cc95-5cc9df3c947c\"></div>\n"
      ]
     },
     "metadata": {},
     "output_type": "display_data"
    },
    {
     "data": {
      "text/html": [
       "<script type=\"text/javascript\">\n",
       "  $(function() {\n",
       "    $(\"#f4cb1888-616c-45a0-c59e-109620a30fc8\").html('Progress:<br>[2460001 / 11682144] [============>....................................] ETA: 42 seconds - Batch Loss: 1461662.976827 - Avg. Epoch Loss: 1465263.083672<br>'); // clear any previous plot in window_id     \n",
       "  });\n",
       "</script>\n",
       "<div id=\"0ee5d3d9-158b-4209-c265-c67eb653a7b8\"></div>\n"
      ]
     },
     "metadata": {},
     "output_type": "display_data"
    },
    {
     "data": {
      "text/html": [
       "<script type=\"text/javascript\">\n",
       "  $(function() {\n",
       "    $(\"#f4cb1888-616c-45a0-c59e-109620a30fc8\").html('Progress:<br>[2470001 / 11682144] [============>....................................] ETA: 42 seconds - Batch Loss: 1461635.238068 - Avg. Epoch Loss: 1465248.455268<br>'); // clear any previous plot in window_id     \n",
       "  });\n",
       "</script>\n",
       "<div id=\"4eed7424-f329-4b35-cbae-d30da29d3688\"></div>\n"
      ]
     },
     "metadata": {},
     "output_type": "display_data"
    },
    {
     "data": {
      "text/html": [
       "<script type=\"text/javascript\">\n",
       "  $(function() {\n",
       "    $(\"#f4cb1888-616c-45a0-c59e-109620a30fc8\").html('Progress:<br>[2480001 / 11682144] [============>....................................] ETA: 42 seconds - Batch Loss: 1461603.002064 - Avg. Epoch Loss: 1465233.814900<br>'); // clear any previous plot in window_id     \n",
       "  });\n",
       "</script>\n",
       "<div id=\"6644b98a-a650-429b-c26a-67a6f878d194\"></div>\n"
      ]
     },
     "metadata": {},
     "output_type": "display_data"
    },
    {
     "data": {
      "text/html": [
       "<script type=\"text/javascript\">\n",
       "  $(function() {\n",
       "    $(\"#f4cb1888-616c-45a0-c59e-109620a30fc8\").html('Progress:<br>[2490001 / 11682144] [============>....................................] ETA: 42 seconds - Batch Loss: 1461575.491012 - Avg. Epoch Loss: 1465219.181610<br>'); // clear any previous plot in window_id     \n",
       "  });\n",
       "</script>\n",
       "<div id=\"e53ebf22-0490-4092-c0e9-5d468432554e\"></div>\n"
      ]
     },
     "metadata": {},
     "output_type": "display_data"
    },
    {
     "data": {
      "text/html": [
       "<script type=\"text/javascript\">\n",
       "  $(function() {\n",
       "    $(\"#f4cb1888-616c-45a0-c59e-109620a30fc8\").html('Progress:<br>[2500001 / 11682144] [============>....................................] ETA: 42 seconds - Batch Loss: 1461544.305826 - Avg. Epoch Loss: 1465204.540676<br>'); // clear any previous plot in window_id     \n",
       "  });\n",
       "</script>\n",
       "<div id=\"34836c02-0902-4419-c45a-f86a2d0ebc39\"></div>\n"
      ]
     },
     "metadata": {},
     "output_type": "display_data"
    },
    {
     "data": {
      "text/html": [
       "<script type=\"text/javascript\">\n",
       "  $(function() {\n",
       "    $(\"#f4cb1888-616c-45a0-c59e-109620a30fc8\").html('Progress:<br>[2510001 / 11682144] [============>....................................] ETA: 42 seconds - Batch Loss: 1461514.607568 - Avg. Epoch Loss: 1465189.898091<br>'); // clear any previous plot in window_id     \n",
       "  });\n",
       "</script>\n",
       "<div id=\"6aba9f36-a873-4c41-cccf-ee25baf691bd\"></div>\n"
      ]
     },
     "metadata": {},
     "output_type": "display_data"
    },
    {
     "data": {
      "text/html": [
       "<script type=\"text/javascript\">\n",
       "  $(function() {\n",
       "    $(\"#f4cb1888-616c-45a0-c59e-109620a30fc8\").html('Progress:<br>[2520001 / 11682144] [============>....................................] ETA: 42 seconds - Batch Loss: 1461486.292594 - Avg. Epoch Loss: 1465175.259339<br>'); // clear any previous plot in window_id     \n",
       "  });\n",
       "</script>\n",
       "<div id=\"2ece7664-9345-499d-c946-d1dc98d3cb69\"></div>\n"
      ]
     },
     "metadata": {},
     "output_type": "display_data"
    },
    {
     "data": {
      "text/html": [
       "<script type=\"text/javascript\">\n",
       "  $(function() {\n",
       "    $(\"#f4cb1888-616c-45a0-c59e-109620a30fc8\").html('Progress:<br>[2530001 / 11682144] [============>....................................] ETA: 42 seconds - Batch Loss: 1461458.031347 - Avg. Epoch Loss: 1465160.624589<br>'); // clear any previous plot in window_id     \n",
       "  });\n",
       "</script>\n",
       "<div id=\"39893efc-60af-4ed8-cef2-c0c1c7c70d70\"></div>\n"
      ]
     },
     "metadata": {},
     "output_type": "display_data"
    },
    {
     "data": {
      "text/html": [
       "<script type=\"text/javascript\">\n",
       "  $(function() {\n",
       "    $(\"#f4cb1888-616c-45a0-c59e-109620a30fc8\").html('Progress:<br>[2540001 / 11682144] [============>....................................] ETA: 42 seconds - Batch Loss: 1461426.913907 - Avg. Epoch Loss: 1465145.982592<br>'); // clear any previous plot in window_id     \n",
       "  });\n",
       "</script>\n",
       "<div id=\"a25fc8b7-b1c7-4190-c1e0-68742757b7f5\"></div>\n"
      ]
     },
     "metadata": {},
     "output_type": "display_data"
    },
    {
     "data": {
      "text/html": [
       "<script type=\"text/javascript\">\n",
       "  $(function() {\n",
       "    $(\"#f4cb1888-616c-45a0-c59e-109620a30fc8\").html('Progress:<br>[2550001 / 11682144] [============>....................................] ETA: 42 seconds - Batch Loss: 1461400.659211 - Avg. Epoch Loss: 1465131.352429<br>'); // clear any previous plot in window_id     \n",
       "  });\n",
       "</script>\n",
       "<div id=\"2ce4f6a3-480a-4812-c8e5-98e3bddf6b57\"></div>\n"
      ]
     },
     "metadata": {},
     "output_type": "display_data"
    },
    {
     "data": {
      "text/html": [
       "<script type=\"text/javascript\">\n",
       "  $(function() {\n",
       "    $(\"#f4cb1888-616c-45a0-c59e-109620a30fc8\").html('Progress:<br>[2560001 / 11682144] [============>....................................] ETA: 42 seconds - Batch Loss: 1461369.468854 - Avg. Epoch Loss: 1465116.714755<br>'); // clear any previous plot in window_id     \n",
       "  });\n",
       "</script>\n",
       "<div id=\"03932453-5baf-46d3-c6ef-bb9ecec54d95\"></div>\n"
      ]
     },
     "metadata": {},
     "output_type": "display_data"
    },
    {
     "data": {
      "text/html": [
       "<script type=\"text/javascript\">\n",
       "  $(function() {\n",
       "    $(\"#f4cb1888-616c-45a0-c59e-109620a30fc8\").html('Progress:<br>[2570001 / 11682144] [============>....................................] ETA: 42 seconds - Batch Loss: 1461339.639646 - Avg. Epoch Loss: 1465102.074935<br>'); // clear any previous plot in window_id     \n",
       "  });\n",
       "</script>\n",
       "<div id=\"f4ccbbad-0b64-49ef-c95c-20c73b51b69f\"></div>\n"
      ]
     },
     "metadata": {},
     "output_type": "display_data"
    },
    {
     "data": {
      "text/html": [
       "<script type=\"text/javascript\">\n",
       "  $(function() {\n",
       "    $(\"#f4cb1888-616c-45a0-c59e-109620a30fc8\").html('Progress:<br>[2580001 / 11682144] [============>....................................] ETA: 42 seconds - Batch Loss: 1461311.232555 - Avg. Epoch Loss: 1465087.438483<br>'); // clear any previous plot in window_id     \n",
       "  });\n",
       "</script>\n",
       "<div id=\"51ec30dd-eb8a-48b3-c891-348b11859120\"></div>\n"
      ]
     },
     "metadata": {},
     "output_type": "display_data"
    },
    {
     "data": {
      "text/html": [
       "<script type=\"text/javascript\">\n",
       "  $(function() {\n",
       "    $(\"#f4cb1888-616c-45a0-c59e-109620a30fc8\").html('Progress:<br>[2590001 / 11682144] [============>....................................] ETA: 45 seconds - Batch Loss: 1461282.476193 - Avg. Epoch Loss: 1465072.804019<br>'); // clear any previous plot in window_id     \n",
       "  });\n",
       "</script>\n",
       "<div id=\"13cc3acd-158a-4868-c8ad-6dfb981c6d8f\"></div>\n"
      ]
     },
     "metadata": {},
     "output_type": "display_data"
    },
    {
     "data": {
      "text/html": [
       "<script type=\"text/javascript\">\n",
       "  $(function() {\n",
       "    $(\"#f4cb1888-616c-45a0-c59e-109620a30fc8\").html('Progress:<br>[2600001 / 11682144] [============>....................................] ETA: 45 seconds - Batch Loss: 1461253.916323 - Avg. Epoch Loss: 1465058.172271<br>'); // clear any previous plot in window_id     \n",
       "  });\n",
       "</script>\n",
       "<div id=\"866ab061-0ef5-4f91-cfe2-ed49bda5c25f\"></div>\n"
      ]
     },
     "metadata": {},
     "output_type": "display_data"
    },
    {
     "data": {
      "text/html": [
       "<script type=\"text/javascript\">\n",
       "  $(function() {\n",
       "    $(\"#f4cb1888-616c-45a0-c59e-109620a30fc8\").html('Progress:<br>[2610001 / 11682144] [============>....................................] ETA: 45 seconds - Batch Loss: 1461225.375305 - Avg. Epoch Loss: 1465043.543280<br>'); // clear any previous plot in window_id     \n",
       "  });\n",
       "</script>\n",
       "<div id=\"c46cc193-bf3e-414d-c147-ae95cf42ad56\"></div>\n"
      ]
     },
     "metadata": {},
     "output_type": "display_data"
    },
    {
     "data": {
      "text/html": [
       "<script type=\"text/javascript\">\n",
       "  $(function() {\n",
       "    $(\"#f4cb1888-616c-45a0-c59e-109620a30fc8\").html('Progress:<br>[2620001 / 11682144] [=============>...................................] ETA: 41 seconds - Batch Loss: 1461195.800325 - Avg. Epoch Loss: 1465028.913084<br>'); // clear any previous plot in window_id     \n",
       "  });\n",
       "</script>\n",
       "<div id=\"b1cf19d2-db59-4252-c2b8-fd3e61d23053\"></div>\n"
      ]
     },
     "metadata": {},
     "output_type": "display_data"
    },
    {
     "data": {
      "text/html": [
       "<script type=\"text/javascript\">\n",
       "  $(function() {\n",
       "    $(\"#f4cb1888-616c-45a0-c59e-109620a30fc8\").html('Progress:<br>[2630001 / 11682144] [=============>...................................] ETA: 41 seconds - Batch Loss: 1461163.821214 - Avg. Epoch Loss: 1465014.272590<br>'); // clear any previous plot in window_id     \n",
       "  });\n",
       "</script>\n",
       "<div id=\"75b4b478-a767-460b-c63e-dc90fda07add\"></div>\n"
      ]
     },
     "metadata": {},
     "output_type": "display_data"
    },
    {
     "data": {
      "text/html": [
       "<script type=\"text/javascript\">\n",
       "  $(function() {\n",
       "    $(\"#f4cb1888-616c-45a0-c59e-109620a30fc8\").html('Progress:<br>[2640001 / 11682144] [=============>...................................] ETA: 41 seconds - Batch Loss: 1461135.574999 - Avg. Epoch Loss: 1464999.636001<br>'); // clear any previous plot in window_id     \n",
       "  });\n",
       "</script>\n",
       "<div id=\"13011467-3884-4968-c9bb-1411f02da8af\"></div>\n"
      ]
     },
     "metadata": {},
     "output_type": "display_data"
    },
    {
     "data": {
      "text/html": [
       "<script type=\"text/javascript\">\n",
       "  $(function() {\n",
       "    $(\"#f4cb1888-616c-45a0-c59e-109620a30fc8\").html('Progress:<br>[2650001 / 11682144] [=============>...................................] ETA: 41 seconds - Batch Loss: 1461106.572951 - Avg. Epoch Loss: 1464985.000431<br>'); // clear any previous plot in window_id     \n",
       "  });\n",
       "</script>\n",
       "<div id=\"9d4d113d-7a10-4075-c0d4-d2ece70c7edd\"></div>\n"
      ]
     },
     "metadata": {},
     "output_type": "display_data"
    },
    {
     "data": {
      "text/html": [
       "<script type=\"text/javascript\">\n",
       "  $(function() {\n",
       "    $(\"#f4cb1888-616c-45a0-c59e-109620a30fc8\").html('Progress:<br>[2660001 / 11682144] [=============>...................................] ETA: 41 seconds - Batch Loss: 1461077.165261 - Avg. Epoch Loss: 1464970.364350<br>'); // clear any previous plot in window_id     \n",
       "  });\n",
       "</script>\n",
       "<div id=\"d31ab036-f2f1-4a02-caaf-fc896055be83\"></div>\n"
      ]
     },
     "metadata": {},
     "output_type": "display_data"
    },
    {
     "data": {
      "text/html": [
       "<script type=\"text/javascript\">\n",
       "  $(function() {\n",
       "    $(\"#f4cb1888-616c-45a0-c59e-109620a30fc8\").html('Progress:<br>[2670001 / 11682144] [=============>...................................] ETA: 41 seconds - Batch Loss: 1461049.791754 - Avg. Epoch Loss: 1464955.735353<br>'); // clear any previous plot in window_id     \n",
       "  });\n",
       "</script>\n",
       "<div id=\"f06cc549-a84a-4167-c1e7-b120e99362a9\"></div>\n"
      ]
     },
     "metadata": {},
     "output_type": "display_data"
    },
    {
     "data": {
      "text/html": [
       "<script type=\"text/javascript\">\n",
       "  $(function() {\n",
       "    $(\"#f4cb1888-616c-45a0-c59e-109620a30fc8\").html('Progress:<br>[2680001 / 11682144] [=============>...................................] ETA: 41 seconds - Batch Loss: 1461020.127087 - Avg. Epoch Loss: 1464941.104845<br>'); // clear any previous plot in window_id     \n",
       "  });\n",
       "</script>\n",
       "<div id=\"964de5d8-d745-4983-c947-14b21547e468\"></div>\n"
      ]
     },
     "metadata": {},
     "output_type": "display_data"
    },
    {
     "data": {
      "text/html": [
       "<script type=\"text/javascript\">\n",
       "  $(function() {\n",
       "    $(\"#f4cb1888-616c-45a0-c59e-109620a30fc8\").html('Progress:<br>[2690001 / 11682144] [=============>...................................] ETA: 41 seconds - Batch Loss: 1460991.013357 - Avg. Epoch Loss: 1464926.474882<br>'); // clear any previous plot in window_id     \n",
       "  });\n",
       "</script>\n",
       "<div id=\"8cdc222b-d938-4279-c2de-cbd7088db060\"></div>\n"
      ]
     },
     "metadata": {},
     "output_type": "display_data"
    },
    {
     "data": {
      "text/html": [
       "<script type=\"text/javascript\">\n",
       "  $(function() {\n",
       "    $(\"#f4cb1888-616c-45a0-c59e-109620a30fc8\").html('Progress:<br>[2700001 / 11682144] [=============>...................................] ETA: 41 seconds - Batch Loss: 1460959.855093 - Avg. Epoch Loss: 1464911.837914<br>'); // clear any previous plot in window_id     \n",
       "  });\n",
       "</script>\n",
       "<div id=\"2c3230a2-fd04-4f48-cf50-3e345a1c1264\"></div>\n"
      ]
     },
     "metadata": {},
     "output_type": "display_data"
    },
    {
     "data": {
      "text/html": [
       "<script type=\"text/javascript\">\n",
       "  $(function() {\n",
       "    $(\"#f4cb1888-616c-45a0-c59e-109620a30fc8\").html('Progress:<br>[2710001 / 11682144] [=============>...................................] ETA: 41 seconds - Batch Loss: 1460931.510199 - Avg. Epoch Loss: 1464897.204361<br>'); // clear any previous plot in window_id     \n",
       "  });\n",
       "</script>\n",
       "<div id=\"9e87cb9f-442a-488f-c8ee-96ee4240fcc6\"></div>\n"
      ]
     },
     "metadata": {},
     "output_type": "display_data"
    },
    {
     "data": {
      "text/html": [
       "<script type=\"text/javascript\">\n",
       "  $(function() {\n",
       "    $(\"#f4cb1888-616c-45a0-c59e-109620a30fc8\").html('Progress:<br>[2720001 / 11682144] [=============>...................................] ETA: 41 seconds - Batch Loss: 1460900.502357 - Avg. Epoch Loss: 1464882.564433<br>'); // clear any previous plot in window_id     \n",
       "  });\n",
       "</script>\n",
       "<div id=\"2997ad37-2878-40b3-c0ab-b80c36b5c077\"></div>\n"
      ]
     },
     "metadata": {},
     "output_type": "display_data"
    },
    {
     "data": {
      "text/html": [
       "<script type=\"text/javascript\">\n",
       "  $(function() {\n",
       "    $(\"#f4cb1888-616c-45a0-c59e-109620a30fc8\").html('Progress:<br>[2730001 / 11682144] [=============>...................................] ETA: 41 seconds - Batch Loss: 1460873.094428 - Avg. Epoch Loss: 1464867.931336<br>'); // clear any previous plot in window_id     \n",
       "  });\n",
       "</script>\n",
       "<div id=\"e4cc8d72-fed9-49e6-c910-32773e676bd8\"></div>\n"
      ]
     },
     "metadata": {},
     "output_type": "display_data"
    },
    {
     "data": {
      "text/html": [
       "<script type=\"text/javascript\">\n",
       "  $(function() {\n",
       "    $(\"#f4cb1888-616c-45a0-c59e-109620a30fc8\").html('Progress:<br>[2740001 / 11682144] [=============>...................................] ETA: 41 seconds - Batch Loss: 1460843.663846 - Avg. Epoch Loss: 1464853.297641<br>'); // clear any previous plot in window_id     \n",
       "  });\n",
       "</script>\n",
       "<div id=\"44b249a6-fcd5-4c74-ccb1-3919a6a77a5f\"></div>\n"
      ]
     },
     "metadata": {},
     "output_type": "display_data"
    },
    {
     "data": {
      "text/html": [
       "<script type=\"text/javascript\">\n",
       "  $(function() {\n",
       "    $(\"#f4cb1888-616c-45a0-c59e-109620a30fc8\").html('Progress:<br>[2750001 / 11682144] [=============>...................................] ETA: 41 seconds - Batch Loss: 1460815.207256 - Avg. Epoch Loss: 1464838.666884<br>'); // clear any previous plot in window_id     \n",
       "  });\n",
       "</script>\n",
       "<div id=\"afccc572-0606-4a01-ca54-48040d1cac2b\"></div>\n"
      ]
     },
     "metadata": {},
     "output_type": "display_data"
    },
    {
     "data": {
      "text/html": [
       "<script type=\"text/javascript\">\n",
       "  $(function() {\n",
       "    $(\"#f4cb1888-616c-45a0-c59e-109620a30fc8\").html('Progress:<br>[2760001 / 11682144] [=============>...................................] ETA: 41 seconds - Batch Loss: 1460786.032056 - Avg. Epoch Loss: 1464824.036439<br>'); // clear any previous plot in window_id     \n",
       "  });\n",
       "</script>\n",
       "<div id=\"31734463-131c-4fc2-cfa9-c2afd07301f6\"></div>\n"
      ]
     },
     "metadata": {},
     "output_type": "display_data"
    },
    {
     "data": {
      "text/html": [
       "<script type=\"text/javascript\">\n",
       "  $(function() {\n",
       "    $(\"#f4cb1888-616c-45a0-c59e-109620a30fc8\").html('Progress:<br>[2770001 / 11682144] [=============>...................................] ETA: 41 seconds - Batch Loss: 1460756.511214 - Avg. Epoch Loss: 1464809.405058<br>'); // clear any previous plot in window_id     \n",
       "  });\n",
       "</script>\n",
       "<div id=\"c408be76-7a6b-4d6b-cdad-6fa70d34a758\"></div>\n"
      ]
     },
     "metadata": {},
     "output_type": "display_data"
    },
    {
     "data": {
      "text/html": [
       "<script type=\"text/javascript\">\n",
       "  $(function() {\n",
       "    $(\"#f4cb1888-616c-45a0-c59e-109620a30fc8\").html('Progress:<br>[2780001 / 11682144] [=============>...................................] ETA: 41 seconds - Batch Loss: 1460727.772777 - Avg. Epoch Loss: 1464794.775557<br>'); // clear any previous plot in window_id     \n",
       "  });\n",
       "</script>\n",
       "<div id=\"7c269d03-98c3-4771-c72a-d50340aefa8d\"></div>\n"
      ]
     },
     "metadata": {},
     "output_type": "display_data"
    },
    {
     "data": {
      "text/html": [
       "<script type=\"text/javascript\">\n",
       "  $(function() {\n",
       "    $(\"#f4cb1888-616c-45a0-c59e-109620a30fc8\").html('Progress:<br>[2790001 / 11682144] [=============>...................................] ETA: 41 seconds - Batch Loss: 1460699.083450 - Avg. Epoch Loss: 1464780.148091<br>'); // clear any previous plot in window_id     \n",
       "  });\n",
       "</script>\n",
       "<div id=\"e4c31ebf-3ce7-456f-c57c-40013c0c7d79\"></div>\n"
      ]
     },
     "metadata": {},
     "output_type": "display_data"
    },
    {
     "data": {
      "text/html": [
       "<script type=\"text/javascript\">\n",
       "  $(function() {\n",
       "    $(\"#f4cb1888-616c-45a0-c59e-109620a30fc8\").html('Progress:<br>[2800001 / 11682144] [=============>...................................] ETA: 41 seconds - Batch Loss: 1460667.109310 - Avg. Epoch Loss: 1464765.510947<br>'); // clear any previous plot in window_id     \n",
       "  });\n",
       "</script>\n",
       "<div id=\"252d03c1-c9bc-46fe-c6f4-7c3ac38bdd5c\"></div>\n"
      ]
     },
     "metadata": {},
     "output_type": "display_data"
    },
    {
     "data": {
      "text/html": [
       "<script type=\"text/javascript\">\n",
       "  $(function() {\n",
       "    $(\"#f4cb1888-616c-45a0-c59e-109620a30fc8\").html('Progress:<br>[2810001 / 11682144] [==============>..................................] ETA: 37 seconds - Batch Loss: 1460640.986536 - Avg. Epoch Loss: 1464750.884979<br>'); // clear any previous plot in window_id     \n",
       "  });\n",
       "</script>\n",
       "<div id=\"6363df15-5be0-47c0-c7bc-a46d3ea0f0c3\"></div>\n"
      ]
     },
     "metadata": {},
     "output_type": "display_data"
    },
    {
     "data": {
      "text/html": [
       "<script type=\"text/javascript\">\n",
       "  $(function() {\n",
       "    $(\"#f4cb1888-616c-45a0-c59e-109620a30fc8\").html('Progress:<br>[2820001 / 11682144] [==============>..................................] ETA: 37 seconds - Batch Loss: 1460609.648841 - Avg. Epoch Loss: 1464736.251641<br>'); // clear any previous plot in window_id     \n",
       "  });\n",
       "</script>\n",
       "<div id=\"04a9d657-dd4c-4871-c850-32ad01f8fc6c\"></div>\n"
      ]
     },
     "metadata": {},
     "output_type": "display_data"
    },
    {
     "data": {
      "text/html": [
       "<script type=\"text/javascript\">\n",
       "  $(function() {\n",
       "    $(\"#f4cb1888-616c-45a0-c59e-109620a30fc8\").html('Progress:<br>[2830001 / 11682144] [==============>..................................] ETA: 37 seconds - Batch Loss: 1460580.826810 - Avg. Epoch Loss: 1464721.619869<br>'); // clear any previous plot in window_id     \n",
       "  });\n",
       "</script>\n",
       "<div id=\"caa9fda9-1ce0-4222-c2dc-313f1e170fed\"></div>\n"
      ]
     },
     "metadata": {},
     "output_type": "display_data"
    },
    {
     "data": {
      "text/html": [
       "<script type=\"text/javascript\">\n",
       "  $(function() {\n",
       "    $(\"#f4cb1888-616c-45a0-c59e-109620a30fc8\").html('Progress:<br>[2840001 / 11682144] [==============>..................................] ETA: 39 seconds - Batch Loss: 1460550.717442 - Avg. Epoch Loss: 1464706.985128<br>'); // clear any previous plot in window_id     \n",
       "  });\n",
       "</script>\n",
       "<div id=\"f6eaf7e8-4503-4290-c246-81c7887b8ab1\"></div>\n"
      ]
     },
     "metadata": {},
     "output_type": "display_data"
    },
    {
     "data": {
      "text/html": [
       "<script type=\"text/javascript\">\n",
       "  $(function() {\n",
       "    $(\"#f4cb1888-616c-45a0-c59e-109620a30fc8\").html('Progress:<br>[2850001 / 11682144] [==============>..................................] ETA: 39 seconds - Batch Loss: 1460523.118338 - Avg. Epoch Loss: 1464692.356229<br>'); // clear any previous plot in window_id     \n",
       "  });\n",
       "</script>\n",
       "<div id=\"b234ceb4-879a-4259-c21f-a3db6c7bfcab\"></div>\n"
      ]
     },
     "metadata": {},
     "output_type": "display_data"
    },
    {
     "data": {
      "text/html": [
       "<script type=\"text/javascript\">\n",
       "  $(function() {\n",
       "    $(\"#f4cb1888-616c-45a0-c59e-109620a30fc8\").html('Progress:<br>[2860001 / 11682144] [==============>..................................] ETA: 39 seconds - Batch Loss: 1460492.526661 - Avg. Epoch Loss: 1464677.722681<br>'); // clear any previous plot in window_id     \n",
       "  });\n",
       "</script>\n",
       "<div id=\"e89fa920-e952-4883-c8b8-e52d27c19141\"></div>\n"
      ]
     },
     "metadata": {},
     "output_type": "display_data"
    },
    {
     "data": {
      "text/html": [
       "<script type=\"text/javascript\">\n",
       "  $(function() {\n",
       "    $(\"#f4cb1888-616c-45a0-c59e-109620a30fc8\").html('Progress:<br>[2870001 / 11682144] [==============>..................................] ETA: 39 seconds - Batch Loss: 1460462.493501 - Avg. Epoch Loss: 1464663.086474<br>'); // clear any previous plot in window_id     \n",
       "  });\n",
       "</script>\n",
       "<div id=\"17cb3292-5c2f-472a-c73a-76279f625af4\"></div>\n"
      ]
     },
     "metadata": {},
     "output_type": "display_data"
    },
    {
     "data": {
      "text/html": [
       "<script type=\"text/javascript\">\n",
       "  $(function() {\n",
       "    $(\"#f4cb1888-616c-45a0-c59e-109620a30fc8\").html('Progress:<br>[2880001 / 11682144] [==============>..................................] ETA: 39 seconds - Batch Loss: 1460433.870608 - Avg. Epoch Loss: 1464648.452514<br>'); // clear any previous plot in window_id     \n",
       "  });\n",
       "</script>\n",
       "<div id=\"a4d1d990-025d-4338-c3d1-e733e89f52e3\"></div>\n"
      ]
     },
     "metadata": {},
     "output_type": "display_data"
    },
    {
     "data": {
      "text/html": [
       "<script type=\"text/javascript\">\n",
       "  $(function() {\n",
       "    $(\"#f4cb1888-616c-45a0-c59e-109620a30fc8\").html('Progress:<br>[2890001 / 11682144] [==============>..................................] ETA: 39 seconds - Batch Loss: 1460405.555681 - Avg. Epoch Loss: 1464633.821840<br>'); // clear any previous plot in window_id     \n",
       "  });\n",
       "</script>\n",
       "<div id=\"bc29ef9b-2f2d-4b2f-cb53-04cf6e1c59e6\"></div>\n"
      ]
     },
     "metadata": {},
     "output_type": "display_data"
    },
    {
     "data": {
      "text/html": [
       "<script type=\"text/javascript\">\n",
       "  $(function() {\n",
       "    $(\"#f4cb1888-616c-45a0-c59e-109620a30fc8\").html('Progress:<br>[2900001 / 11682144] [==============>..................................] ETA: 39 seconds - Batch Loss: 1460376.809145 - Avg. Epoch Loss: 1464619.192936<br>'); // clear any previous plot in window_id     \n",
       "  });\n",
       "</script>\n",
       "<div id=\"5e23918a-9e6c-4e81-ce31-f47d3a8f1c8c\"></div>\n"
      ]
     },
     "metadata": {},
     "output_type": "display_data"
    },
    {
     "data": {
      "text/html": [
       "<script type=\"text/javascript\">\n",
       "  $(function() {\n",
       "    $(\"#f4cb1888-616c-45a0-c59e-109620a30fc8\").html('Progress:<br>[2910001 / 11682144] [==============>..................................] ETA: 39 seconds - Batch Loss: 1460347.553420 - Avg. Epoch Loss: 1464604.564038<br>'); // clear any previous plot in window_id     \n",
       "  });\n",
       "</script>\n",
       "<div id=\"d7db4a74-5111-4e5b-ce4e-9d47816431ca\"></div>\n"
      ]
     },
     "metadata": {},
     "output_type": "display_data"
    },
    {
     "data": {
      "text/html": [
       "<script type=\"text/javascript\">\n",
       "  $(function() {\n",
       "    $(\"#f4cb1888-616c-45a0-c59e-109620a30fc8\").html('Progress:<br>[2920001 / 11682144] [==============>..................................] ETA: 39 seconds - Batch Loss: 1460318.252578 - Avg. Epoch Loss: 1464589.934994<br>'); // clear any previous plot in window_id     \n",
       "  });\n",
       "</script>\n",
       "<div id=\"99fddbbf-c947-4d98-cd9d-cfde08543b2e\"></div>\n"
      ]
     },
     "metadata": {},
     "output_type": "display_data"
    },
    {
     "data": {
      "text/html": [
       "<script type=\"text/javascript\">\n",
       "  $(function() {\n",
       "    $(\"#f4cb1888-616c-45a0-c59e-109620a30fc8\").html('Progress:<br>[2930001 / 11682144] [==============>..................................] ETA: 39 seconds - Batch Loss: 1460288.837853 - Avg. Epoch Loss: 1464575.305417<br>'); // clear any previous plot in window_id     \n",
       "  });\n",
       "</script>\n",
       "<div id=\"b56b3649-6fb0-47c7-c7d2-652fc99b2547\"></div>\n"
      ]
     },
     "metadata": {},
     "output_type": "display_data"
    },
    {
     "data": {
      "text/html": [
       "<script type=\"text/javascript\">\n",
       "  $(function() {\n",
       "    $(\"#f4cb1888-616c-45a0-c59e-109620a30fc8\").html('Progress:<br>[2940001 / 11682144] [==============>..................................] ETA: 39 seconds - Batch Loss: 1460260.130130 - Avg. Epoch Loss: 1464560.677709<br>'); // clear any previous plot in window_id     \n",
       "  });\n",
       "</script>\n",
       "<div id=\"f7da0849-091d-4e82-ce77-0410d8b4e4f1\"></div>\n"
      ]
     },
     "metadata": {},
     "output_type": "display_data"
    },
    {
     "data": {
      "text/html": [
       "<script type=\"text/javascript\">\n",
       "  $(function() {\n",
       "    $(\"#f4cb1888-616c-45a0-c59e-109620a30fc8\").html('Progress:<br>[2950001 / 11682144] [==============>..................................] ETA: 39 seconds - Batch Loss: 1460229.830788 - Avg. Epoch Loss: 1464546.046474<br>'); // clear any previous plot in window_id     \n",
       "  });\n",
       "</script>\n",
       "<div id=\"af1800bf-195c-4260-c2cd-fad0d22d1d04\"></div>\n"
      ]
     },
     "metadata": {},
     "output_type": "display_data"
    },
    {
     "data": {
      "text/html": [
       "<script type=\"text/javascript\">\n",
       "  $(function() {\n",
       "    $(\"#f4cb1888-616c-45a0-c59e-109620a30fc8\").html('Progress:<br>[2960001 / 11682144] [==============>..................................] ETA: 39 seconds - Batch Loss: 1460202.840996 - Avg. Epoch Loss: 1464531.422892<br>'); // clear any previous plot in window_id     \n",
       "  });\n",
       "</script>\n",
       "<div id=\"e006cdfb-80eb-4595-c560-40766cacb47a\"></div>\n"
      ]
     },
     "metadata": {},
     "output_type": "display_data"
    },
    {
     "data": {
      "text/html": [
       "<script type=\"text/javascript\">\n",
       "  $(function() {\n",
       "    $(\"#f4cb1888-616c-45a0-c59e-109620a30fc8\").html('Progress:<br>[2970001 / 11682144] [==============>..................................] ETA: 39 seconds - Batch Loss: 1460170.597616 - Avg. Epoch Loss: 1464516.789255<br>'); // clear any previous plot in window_id     \n",
       "  });\n",
       "</script>\n",
       "<div id=\"8098eaa1-a02d-4540-c5cf-8211b6989969\"></div>\n"
      ]
     },
     "metadata": {},
     "output_type": "display_data"
    },
    {
     "data": {
      "text/html": [
       "<script type=\"text/javascript\">\n",
       "  $(function() {\n",
       "    $(\"#f4cb1888-616c-45a0-c59e-109620a30fc8\").html('Progress:<br>[2980001 / 11682144] [==============>..................................] ETA: 39 seconds - Batch Loss: 1460142.684378 - Avg. Epoch Loss: 1464502.160146<br>'); // clear any previous plot in window_id     \n",
       "  });\n",
       "</script>\n",
       "<div id=\"e3e101e3-7e9b-462a-c66e-db0231d9963e\"></div>\n"
      ]
     },
     "metadata": {},
     "output_type": "display_data"
    },
    {
     "data": {
      "text/html": [
       "<script type=\"text/javascript\">\n",
       "  $(function() {\n",
       "    $(\"#f4cb1888-616c-45a0-c59e-109620a30fc8\").html('Progress:<br>[2990001 / 11682144] [==============>..................................] ETA: 39 seconds - Batch Loss: 1460114.038204 - Avg. Epoch Loss: 1464487.533078<br>'); // clear any previous plot in window_id     \n",
       "  });\n",
       "</script>\n",
       "<div id=\"2147c563-08ee-4b19-cbe4-a707e5e3a7ac\"></div>\n"
      ]
     },
     "metadata": {},
     "output_type": "display_data"
    },
    {
     "data": {
      "text/html": [
       "<script type=\"text/javascript\">\n",
       "  $(function() {\n",
       "    $(\"#f4cb1888-616c-45a0-c59e-109620a30fc8\").html('Progress:<br>[3000001 / 11682144] [===============>.................................] ETA: 36 seconds - Batch Loss: 1460085.492834 - Avg. Epoch Loss: 1464472.908365<br>'); // clear any previous plot in window_id     \n",
       "  });\n",
       "</script>\n",
       "<div id=\"e20071fd-22f1-4eeb-cea5-b26656d5198f\"></div>\n"
      ]
     },
     "metadata": {},
     "output_type": "display_data"
    },
    {
     "data": {
      "text/html": [
       "<script type=\"text/javascript\">\n",
       "  $(function() {\n",
       "    $(\"#f4cb1888-616c-45a0-c59e-109620a30fc8\").html('Progress:<br>[3010001 / 11682144] [===============>.................................] ETA: 36 seconds - Batch Loss: 1460055.902366 - Avg. Epoch Loss: 1464458.282522<br>'); // clear any previous plot in window_id     \n",
       "  });\n",
       "</script>\n",
       "<div id=\"786e4e56-96a1-4797-c77c-1c5281aec095\"></div>\n"
      ]
     },
     "metadata": {},
     "output_type": "display_data"
    },
    {
     "data": {
      "text/html": [
       "<script type=\"text/javascript\">\n",
       "  $(function() {\n",
       "    $(\"#f4cb1888-616c-45a0-c59e-109620a30fc8\").html('Progress:<br>[3020001 / 11682144] [===============>.................................] ETA: 36 seconds - Batch Loss: 1460026.246338 - Avg. Epoch Loss: 1464443.655344<br>'); // clear any previous plot in window_id     \n",
       "  });\n",
       "</script>\n",
       "<div id=\"f6a70f69-ea55-4bf5-cb0b-73fd74787678\"></div>\n"
      ]
     },
     "metadata": {},
     "output_type": "display_data"
    },
    {
     "data": {
      "text/html": [
       "<script type=\"text/javascript\">\n",
       "  $(function() {\n",
       "    $(\"#f4cb1888-616c-45a0-c59e-109620a30fc8\").html('Progress:<br>[3030001 / 11682144] [===============>.................................] ETA: 36 seconds - Batch Loss: 1459995.992399 - Avg. Epoch Loss: 1464429.024879<br>'); // clear any previous plot in window_id     \n",
       "  });\n",
       "</script>\n",
       "<div id=\"d6350dd5-9452-45e7-c55d-a445e2af7b9c\"></div>\n"
      ]
     },
     "metadata": {},
     "output_type": "display_data"
    },
    {
     "data": {
      "text/html": [
       "<script type=\"text/javascript\">\n",
       "  $(function() {\n",
       "    $(\"#f4cb1888-616c-45a0-c59e-109620a30fc8\").html('Progress:<br>[3040001 / 11682144] [===============>.................................] ETA: 36 seconds - Batch Loss: 1459967.583645 - Avg. Epoch Loss: 1464414.397208<br>'); // clear any previous plot in window_id     \n",
       "  });\n",
       "</script>\n",
       "<div id=\"6ed035db-b29e-41ca-c190-5b310af57b5b\"></div>\n"
      ]
     },
     "metadata": {},
     "output_type": "display_data"
    },
    {
     "data": {
      "text/html": [
       "<script type=\"text/javascript\">\n",
       "  $(function() {\n",
       "    $(\"#f4cb1888-616c-45a0-c59e-109620a30fc8\").html('Progress:<br>[3050001 / 11682144] [===============>.................................] ETA: 36 seconds - Batch Loss: 1459937.834735 - Avg. Epoch Loss: 1464399.767923<br>'); // clear any previous plot in window_id     \n",
       "  });\n",
       "</script>\n",
       "<div id=\"02912a3a-0461-4132-c1e7-7ae6f3a2823c\"></div>\n"
      ]
     },
     "metadata": {},
     "output_type": "display_data"
    },
    {
     "data": {
      "text/html": [
       "<script type=\"text/javascript\">\n",
       "  $(function() {\n",
       "    $(\"#f4cb1888-616c-45a0-c59e-109620a30fc8\").html('Progress:<br>[3060001 / 11682144] [===============>.................................] ETA: 36 seconds - Batch Loss: 1459908.775633 - Avg. Epoch Loss: 1464385.139289<br>'); // clear any previous plot in window_id     \n",
       "  });\n",
       "</script>\n",
       "<div id=\"05c565dc-093f-4e26-ce8f-75510b139f87\"></div>\n"
      ]
     },
     "metadata": {},
     "output_type": "display_data"
    },
    {
     "data": {
      "text/html": [
       "<script type=\"text/javascript\">\n",
       "  $(function() {\n",
       "    $(\"#f4cb1888-616c-45a0-c59e-109620a30fc8\").html('Progress:<br>[3070001 / 11682144] [===============>.................................] ETA: 36 seconds - Batch Loss: 1459878.305309 - Avg. Epoch Loss: 1464370.506716<br>'); // clear any previous plot in window_id     \n",
       "  });\n",
       "</script>\n",
       "<div id=\"5cb527e6-8ee8-44e2-c412-a670de6ec1c3\"></div>\n"
      ]
     },
     "metadata": {},
     "output_type": "display_data"
    },
    {
     "data": {
      "text/html": [
       "<script type=\"text/javascript\">\n",
       "  $(function() {\n",
       "    $(\"#f4cb1888-616c-45a0-c59e-109620a30fc8\").html('Progress:<br>[3080001 / 11682144] [===============>.................................] ETA: 36 seconds - Batch Loss: 1459850.248513 - Avg. Epoch Loss: 1464355.878053<br>'); // clear any previous plot in window_id     \n",
       "  });\n",
       "</script>\n",
       "<div id=\"a89ac8ac-f663-481e-c84f-8995c805ca40\"></div>\n"
      ]
     },
     "metadata": {},
     "output_type": "display_data"
    },
    {
     "data": {
      "text/html": [
       "<script type=\"text/javascript\">\n",
       "  $(function() {\n",
       "    $(\"#f4cb1888-616c-45a0-c59e-109620a30fc8\").html('Progress:<br>[3090001 / 11682144] [===============>.................................] ETA: 36 seconds - Batch Loss: 1459821.033092 - Avg. Epoch Loss: 1464341.249526<br>'); // clear any previous plot in window_id     \n",
       "  });\n",
       "</script>\n",
       "<div id=\"c5083ecd-8591-487d-c849-2481b455152b\"></div>\n"
      ]
     },
     "metadata": {},
     "output_type": "display_data"
    },
    {
     "data": {
      "text/html": [
       "<script type=\"text/javascript\">\n",
       "  $(function() {\n",
       "    $(\"#f4cb1888-616c-45a0-c59e-109620a30fc8\").html('Progress:<br>[3100001 / 11682144] [===============>.................................] ETA: 36 seconds - Batch Loss: 1459793.557210 - Avg. Epoch Loss: 1464326.626725<br>'); // clear any previous plot in window_id     \n",
       "  });\n",
       "</script>\n",
       "<div id=\"39f2a439-5012-4c52-cca5-d24eae95c4ab\"></div>\n"
      ]
     },
     "metadata": {},
     "output_type": "display_data"
    },
    {
     "data": {
      "text/html": [
       "<script type=\"text/javascript\">\n",
       "  $(function() {\n",
       "    $(\"#f4cb1888-616c-45a0-c59e-109620a30fc8\").html('Progress:<br>[3110001 / 11682144] [===============>.................................] ETA: 38 seconds - Batch Loss: 1459765.700240 - Avg. Epoch Loss: 1464312.008376<br>'); // clear any previous plot in window_id     \n",
       "  });\n",
       "</script>\n",
       "<div id=\"5d814c77-c1f3-4578-c5ae-937f6fd00400\"></div>\n"
      ]
     },
     "metadata": {},
     "output_type": "display_data"
    },
    {
     "data": {
      "text/html": [
       "<script type=\"text/javascript\">\n",
       "  $(function() {\n",
       "    $(\"#f4cb1888-616c-45a0-c59e-109620a30fc8\").html('Progress:<br>[3120001 / 11682144] [===============>.................................] ETA: 38 seconds - Batch Loss: 1459733.099244 - Avg. Epoch Loss: 1464297.379278<br>'); // clear any previous plot in window_id     \n",
       "  });\n",
       "</script>\n",
       "<div id=\"b460de3f-07d7-4af5-cac5-4a8fe282382f\"></div>\n"
      ]
     },
     "metadata": {},
     "output_type": "display_data"
    },
    {
     "data": {
      "text/html": [
       "<script type=\"text/javascript\">\n",
       "  $(function() {\n",
       "    $(\"#f4cb1888-616c-45a0-c59e-109620a30fc8\").html('Progress:<br>[3130001 / 11682144] [===============>.................................] ETA: 38 seconds - Batch Loss: 1459703.351435 - Avg. Epoch Loss: 1464282.748621<br>'); // clear any previous plot in window_id     \n",
       "  });\n",
       "</script>\n",
       "<div id=\"003765cd-5c32-43f4-c335-04e396ab005d\"></div>\n"
      ]
     },
     "metadata": {},
     "output_type": "display_data"
    },
    {
     "data": {
      "text/html": [
       "<script type=\"text/javascript\">\n",
       "  $(function() {\n",
       "    $(\"#f4cb1888-616c-45a0-c59e-109620a30fc8\").html('Progress:<br>[3140001 / 11682144] [===============>.................................] ETA: 38 seconds - Batch Loss: 1459675.871653 - Avg. Epoch Loss: 1464268.123619<br>'); // clear any previous plot in window_id     \n",
       "  });\n",
       "</script>\n",
       "<div id=\"430b3412-6160-45e0-c544-afa10d677d4c\"></div>\n"
      ]
     },
     "metadata": {},
     "output_type": "display_data"
    },
    {
     "data": {
      "text/html": [
       "<script type=\"text/javascript\">\n",
       "  $(function() {\n",
       "    $(\"#f4cb1888-616c-45a0-c59e-109620a30fc8\").html('Progress:<br>[3150001 / 11682144] [===============>.................................] ETA: 38 seconds - Batch Loss: 1459645.600424 - Avg. Epoch Loss: 1464253.495386<br>'); // clear any previous plot in window_id     \n",
       "  });\n",
       "</script>\n",
       "<div id=\"a8245cc8-4914-4f5a-cfc9-4c89b70bcdc7\"></div>\n"
      ]
     },
     "metadata": {},
     "output_type": "display_data"
    },
    {
     "data": {
      "text/html": [
       "<script type=\"text/javascript\">\n",
       "  $(function() {\n",
       "    $(\"#f4cb1888-616c-45a0-c59e-109620a30fc8\").html('Progress:<br>[3160001 / 11682144] [===============>.................................] ETA: 38 seconds - Batch Loss: 1459619.554783 - Avg. Epoch Loss: 1464238.877281<br>'); // clear any previous plot in window_id     \n",
       "  });\n",
       "</script>\n",
       "<div id=\"29d5ebd2-9fbd-42d3-c2b9-fac420214c37\"></div>\n"
      ]
     },
     "metadata": {},
     "output_type": "display_data"
    },
    {
     "data": {
      "text/html": [
       "<script type=\"text/javascript\">\n",
       "  $(function() {\n",
       "    $(\"#f4cb1888-616c-45a0-c59e-109620a30fc8\").html('Progress:<br>[3170001 / 11682144] [===============>.................................] ETA: 38 seconds - Batch Loss: 1459588.132869 - Avg. Epoch Loss: 1464224.252303<br>'); // clear any previous plot in window_id     \n",
       "  });\n",
       "</script>\n",
       "<div id=\"94ce86a3-da84-4dee-cdfa-8447154fa2e6\"></div>\n"
      ]
     },
     "metadata": {},
     "output_type": "display_data"
    },
    {
     "data": {
      "text/html": [
       "<script type=\"text/javascript\">\n",
       "  $(function() {\n",
       "    $(\"#f4cb1888-616c-45a0-c59e-109620a30fc8\").html('Progress:<br>[3180001 / 11682144] [================>................................] ETA: 34 seconds - Batch Loss: 1459558.241241 - Avg. Epoch Loss: 1464209.625314<br>'); // clear any previous plot in window_id     \n",
       "  });\n",
       "</script>\n",
       "<div id=\"122b56ae-d653-44e6-c41d-25a11cd2e046\"></div>\n"
      ]
     },
     "metadata": {},
     "output_type": "display_data"
    },
    {
     "data": {
      "text/html": [
       "<script type=\"text/javascript\">\n",
       "  $(function() {\n",
       "    $(\"#f4cb1888-616c-45a0-c59e-109620a30fc8\").html('Progress:<br>[3190001 / 11682144] [================>................................] ETA: 34 seconds - Batch Loss: 1459530.251995 - Avg. Epoch Loss: 1464195.002277<br>'); // clear any previous plot in window_id     \n",
       "  });\n",
       "</script>\n",
       "<div id=\"4838e0b9-4add-450b-c5f5-551e47611112\"></div>\n"
      ]
     },
     "metadata": {},
     "output_type": "display_data"
    },
    {
     "data": {
      "text/html": [
       "<script type=\"text/javascript\">\n",
       "  $(function() {\n",
       "    $(\"#f4cb1888-616c-45a0-c59e-109620a30fc8\").html('Progress:<br>[3200001 / 11682144] [================>................................] ETA: 34 seconds - Batch Loss: 1459499.964391 - Avg. Epoch Loss: 1464180.375995<br>'); // clear any previous plot in window_id     \n",
       "  });\n",
       "</script>\n",
       "<div id=\"9cd3c40f-16d9-4213-c22d-be8d815b8e5c\"></div>\n"
      ]
     },
     "metadata": {},
     "output_type": "display_data"
    },
    {
     "data": {
      "text/html": [
       "<script type=\"text/javascript\">\n",
       "  $(function() {\n",
       "    $(\"#f4cb1888-616c-45a0-c59e-109620a30fc8\").html('Progress:<br>[3210001 / 11682144] [================>................................] ETA: 34 seconds - Batch Loss: 1459470.671758 - Avg. Epoch Loss: 1464165.749589<br>'); // clear any previous plot in window_id     \n",
       "  });\n",
       "</script>\n",
       "<div id=\"e79af5cc-efc5-43c1-c37a-9a90b4408df9\"></div>\n"
      ]
     },
     "metadata": {},
     "output_type": "display_data"
    },
    {
     "data": {
      "text/html": [
       "<script type=\"text/javascript\">\n",
       "  $(function() {\n",
       "    $(\"#f4cb1888-616c-45a0-c59e-109620a30fc8\").html('Progress:<br>[3220001 / 11682144] [================>................................] ETA: 34 seconds - Batch Loss: 1459440.997054 - Avg. Epoch Loss: 1464151.121877<br>'); // clear any previous plot in window_id     \n",
       "  });\n",
       "</script>\n",
       "<div id=\"a8d8ccfd-77d8-4a91-ca7f-1e9a5d4ae66a\"></div>\n"
      ]
     },
     "metadata": {},
     "output_type": "display_data"
    },
    {
     "data": {
      "text/html": [
       "<script type=\"text/javascript\">\n",
       "  $(function() {\n",
       "    $(\"#f4cb1888-616c-45a0-c59e-109620a30fc8\").html('Progress:<br>[3230001 / 11682144] [================>................................] ETA: 34 seconds - Batch Loss: 1459413.779444 - Avg. Epoch Loss: 1464136.500454<br>'); // clear any previous plot in window_id     \n",
       "  });\n",
       "</script>\n",
       "<div id=\"08dae103-9a8f-4a9d-caeb-5edd39abfa12\"></div>\n"
      ]
     },
     "metadata": {},
     "output_type": "display_data"
    },
    {
     "data": {
      "text/html": [
       "<script type=\"text/javascript\">\n",
       "  $(function() {\n",
       "    $(\"#f4cb1888-616c-45a0-c59e-109620a30fc8\").html('Progress:<br>[3240001 / 11682144] [================>................................] ETA: 34 seconds - Batch Loss: 1459384.821089 - Avg. Epoch Loss: 1464121.879907<br>'); // clear any previous plot in window_id     \n",
       "  });\n",
       "</script>\n",
       "<div id=\"3d50d0a6-b080-42fa-c233-bbf2b46f5f9f\"></div>\n"
      ]
     },
     "metadata": {},
     "output_type": "display_data"
    },
    {
     "data": {
      "text/html": [
       "<script type=\"text/javascript\">\n",
       "  $(function() {\n",
       "    $(\"#f4cb1888-616c-45a0-c59e-109620a30fc8\").html('Progress:<br>[3250001 / 11682144] [================>................................] ETA: 34 seconds - Batch Loss: 1459354.175157 - Avg. Epoch Loss: 1464107.255050<br>'); // clear any previous plot in window_id     \n",
       "  });\n",
       "</script>\n",
       "<div id=\"0fd98f6c-4ce9-4e97-ce4d-1fd823c2f4cc\"></div>\n"
      ]
     },
     "metadata": {},
     "output_type": "display_data"
    },
    {
     "data": {
      "text/html": [
       "<script type=\"text/javascript\">\n",
       "  $(function() {\n",
       "    $(\"#f4cb1888-616c-45a0-c59e-109620a30fc8\").html('Progress:<br>[3260001 / 11682144] [================>................................] ETA: 34 seconds - Batch Loss: 1459325.729402 - Avg. Epoch Loss: 1464092.632652<br>'); // clear any previous plot in window_id     \n",
       "  });\n",
       "</script>\n",
       "<div id=\"37bd3785-7142-4424-c4a1-2a321703613f\"></div>\n"
      ]
     },
     "metadata": {},
     "output_type": "display_data"
    },
    {
     "data": {
      "text/html": [
       "<script type=\"text/javascript\">\n",
       "  $(function() {\n",
       "    $(\"#f4cb1888-616c-45a0-c59e-109620a30fc8\").html('Progress:<br>[3270001 / 11682144] [================>................................] ETA: 34 seconds - Batch Loss: 1459295.731544 - Avg. Epoch Loss: 1464078.007958<br>'); // clear any previous plot in window_id     \n",
       "  });\n",
       "</script>\n",
       "<div id=\"181e2fe9-8af1-4f7f-cfde-0b363530311a\"></div>\n"
      ]
     },
     "metadata": {},
     "output_type": "display_data"
    },
    {
     "data": {
      "text/html": [
       "<script type=\"text/javascript\">\n",
       "  $(function() {\n",
       "    $(\"#f4cb1888-616c-45a0-c59e-109620a30fc8\").html('Progress:<br>[3280001 / 11682144] [================>................................] ETA: 34 seconds - Batch Loss: 1459266.756709 - Avg. Epoch Loss: 1464063.384098<br>'); // clear any previous plot in window_id     \n",
       "  });\n",
       "</script>\n",
       "<div id=\"a74e3f19-d6c7-45ca-c5f6-3ebca0adb4ca\"></div>\n"
      ]
     },
     "metadata": {},
     "output_type": "display_data"
    },
    {
     "data": {
      "text/html": [
       "<script type=\"text/javascript\">\n",
       "  $(function() {\n",
       "    $(\"#f4cb1888-616c-45a0-c59e-109620a30fc8\").html('Progress:<br>[3290001 / 11682144] [================>................................] ETA: 34 seconds - Batch Loss: 1459238.867659 - Avg. Epoch Loss: 1464048.764356<br>'); // clear any previous plot in window_id     \n",
       "  });\n",
       "</script>\n",
       "<div id=\"7b62ce32-1f29-4b0c-cbe4-15a8a88f5d34\"></div>\n"
      ]
     },
     "metadata": {},
     "output_type": "display_data"
    },
    {
     "data": {
      "text/html": [
       "<script type=\"text/javascript\">\n",
       "  $(function() {\n",
       "    $(\"#f4cb1888-616c-45a0-c59e-109620a30fc8\").html('Progress:<br>[3300001 / 11682144] [================>................................] ETA: 34 seconds - Batch Loss: 1459210.095907 - Avg. Epoch Loss: 1464034.146027<br>'); // clear any previous plot in window_id     \n",
       "  });\n",
       "</script>\n",
       "<div id=\"1c8337bd-fb23-4d0d-cdc5-202df5c697cc\"></div>\n"
      ]
     },
     "metadata": {},
     "output_type": "display_data"
    },
    {
     "data": {
      "text/html": [
       "<script type=\"text/javascript\">\n",
       "  $(function() {\n",
       "    $(\"#f4cb1888-616c-45a0-c59e-109620a30fc8\").html('Progress:<br>[3310001 / 11682144] [================>................................] ETA: 34 seconds - Batch Loss: 1459180.413828 - Avg. Epoch Loss: 1464019.526356<br>'); // clear any previous plot in window_id     \n",
       "  });\n",
       "</script>\n",
       "<div id=\"9b634bb3-2f1d-4cb0-ccea-0f95a182eae2\"></div>\n"
      ]
     },
     "metadata": {},
     "output_type": "display_data"
    },
    {
     "data": {
      "text/html": [
       "<script type=\"text/javascript\">\n",
       "  $(function() {\n",
       "    $(\"#f4cb1888-616c-45a0-c59e-109620a30fc8\").html('Progress:<br>[3320001 / 11682144] [================>................................] ETA: 34 seconds - Batch Loss: 1459151.685969 - Avg. Epoch Loss: 1464004.908221<br>'); // clear any previous plot in window_id     \n",
       "  });\n",
       "</script>\n",
       "<div id=\"138eae06-ee23-4e71-ce48-257dfbd40233\"></div>\n"
      ]
     },
     "metadata": {},
     "output_type": "display_data"
    },
    {
     "data": {
      "text/html": [
       "<script type=\"text/javascript\">\n",
       "  $(function() {\n",
       "    $(\"#f4cb1888-616c-45a0-c59e-109620a30fc8\").html('Progress:<br>[3330001 / 11682144] [================>................................] ETA: 34 seconds - Batch Loss: 1459121.253563 - Avg. Epoch Loss: 1463990.286505<br>'); // clear any previous plot in window_id     \n",
       "  });\n",
       "</script>\n",
       "<div id=\"0a3c6a14-adb0-4000-c094-c6d13f5a42aa\"></div>\n"
      ]
     },
     "metadata": {},
     "output_type": "display_data"
    },
    {
     "data": {
      "text/html": [
       "<script type=\"text/javascript\">\n",
       "  $(function() {\n",
       "    $(\"#f4cb1888-616c-45a0-c59e-109620a30fc8\").html('Progress:<br>[3340001 / 11682144] [================>................................] ETA: 34 seconds - Batch Loss: 1459092.003512 - Avg. Epoch Loss: 1463975.664769<br>'); // clear any previous plot in window_id     \n",
       "  });\n",
       "</script>\n",
       "<div id=\"5d604078-268b-4ed0-cecc-395ee660f1a9\"></div>\n"
      ]
     },
     "metadata": {},
     "output_type": "display_data"
    },
    {
     "data": {
      "text/html": [
       "<script type=\"text/javascript\">\n",
       "  $(function() {\n",
       "    $(\"#f4cb1888-616c-45a0-c59e-109620a30fc8\").html('Progress:<br>[3350001 / 11682144] [================>................................] ETA: 34 seconds - Batch Loss: 1459061.962792 - Avg. Epoch Loss: 1463961.040660<br>'); // clear any previous plot in window_id     \n",
       "  });\n",
       "</script>\n",
       "<div id=\"a050d81a-4112-452d-c5f9-4c2a79b3a0a1\"></div>\n"
      ]
     },
     "metadata": {},
     "output_type": "display_data"
    },
    {
     "data": {
      "text/html": [
       "<script type=\"text/javascript\">\n",
       "  $(function() {\n",
       "    $(\"#f4cb1888-616c-45a0-c59e-109620a30fc8\").html('Progress:<br>[3360001 / 11682144] [================>................................] ETA: 34 seconds - Batch Loss: 1459032.488438 - Avg. Epoch Loss: 1463946.415881<br>'); // clear any previous plot in window_id     \n",
       "  });\n",
       "</script>\n",
       "<div id=\"842e2324-d17e-40ee-c071-403cbb79023c\"></div>\n"
      ]
     },
     "metadata": {},
     "output_type": "display_data"
    },
    {
     "data": {
      "text/html": [
       "<script type=\"text/javascript\">\n",
       "  $(function() {\n",
       "    $(\"#f4cb1888-616c-45a0-c59e-109620a30fc8\").html('Progress:<br>[3370001 / 11682144] [=================>...............................] ETA: 33 seconds - Batch Loss: 1459004.082602 - Avg. Epoch Loss: 1463931.793597<br>'); // clear any previous plot in window_id     \n",
       "  });\n",
       "</script>\n",
       "<div id=\"57ce2271-849c-4a2e-ca6b-5a60bd6c1e6f\"></div>\n"
      ]
     },
     "metadata": {},
     "output_type": "display_data"
    },
    {
     "data": {
      "text/html": [
       "<script type=\"text/javascript\">\n",
       "  $(function() {\n",
       "    $(\"#f4cb1888-616c-45a0-c59e-109620a30fc8\").html('Progress:<br>[3380001 / 11682144] [=================>...............................] ETA: 33 seconds - Batch Loss: 1458974.783718 - Avg. Epoch Loss: 1463917.171153<br>'); // clear any previous plot in window_id     \n",
       "  });\n",
       "</script>\n",
       "<div id=\"af4124f8-35d1-4d5d-cd83-276d3e14acb5\"></div>\n"
      ]
     },
     "metadata": {},
     "output_type": "display_data"
    },
    {
     "data": {
      "text/html": [
       "<script type=\"text/javascript\">\n",
       "  $(function() {\n",
       "    $(\"#f4cb1888-616c-45a0-c59e-109620a30fc8\").html('Progress:<br>[3390001 / 11682144] [=================>...............................] ETA: 33 seconds - Batch Loss: 1458945.767272 - Avg. Epoch Loss: 1463902.549382<br>'); // clear any previous plot in window_id     \n",
       "  });\n",
       "</script>\n",
       "<div id=\"294d2410-b46d-46f1-c6f3-a70315417bc0\"></div>\n"
      ]
     },
     "metadata": {},
     "output_type": "display_data"
    },
    {
     "data": {
      "text/html": [
       "<script type=\"text/javascript\">\n",
       "  $(function() {\n",
       "    $(\"#f4cb1888-616c-45a0-c59e-109620a30fc8\").html('Progress:<br>[3400001 / 11682144] [=================>...............................] ETA: 33 seconds - Batch Loss: 1458916.224522 - Avg. Epoch Loss: 1463887.926732<br>'); // clear any previous plot in window_id     \n",
       "  });\n",
       "</script>\n",
       "<div id=\"10c6f5e6-ae91-4b65-cb3a-2113d22163d4\"></div>\n"
      ]
     },
     "metadata": {},
     "output_type": "display_data"
    },
    {
     "data": {
      "text/html": [
       "<script type=\"text/javascript\">\n",
       "  $(function() {\n",
       "    $(\"#f4cb1888-616c-45a0-c59e-109620a30fc8\").html('Progress:<br>[3410001 / 11682144] [=================>...............................] ETA: 33 seconds - Batch Loss: 1458888.531307 - Avg. Epoch Loss: 1463873.308621<br>'); // clear any previous plot in window_id     \n",
       "  });\n",
       "</script>\n",
       "<div id=\"03decdee-de1d-4cd6-ccfa-84db9bd08f48\"></div>\n"
      ]
     },
     "metadata": {},
     "output_type": "display_data"
    },
    {
     "data": {
      "text/html": [
       "<script type=\"text/javascript\">\n",
       "  $(function() {\n",
       "    $(\"#f4cb1888-616c-45a0-c59e-109620a30fc8\").html('Progress:<br>[3420001 / 11682144] [=================>...............................] ETA: 33 seconds - Batch Loss: 1458858.658878 - Avg. Epoch Loss: 1463858.688655<br>'); // clear any previous plot in window_id     \n",
       "  });\n",
       "</script>\n",
       "<div id=\"34d079b6-711e-4324-c3d0-2f89f9cf4d38\"></div>\n"
      ]
     },
     "metadata": {},
     "output_type": "display_data"
    },
    {
     "data": {
      "text/html": [
       "<script type=\"text/javascript\">\n",
       "  $(function() {\n",
       "    $(\"#f4cb1888-616c-45a0-c59e-109620a30fc8\").html('Progress:<br>[3430001 / 11682144] [=================>...............................] ETA: 33 seconds - Batch Loss: 1458828.755204 - Avg. Epoch Loss: 1463844.066760<br>'); // clear any previous plot in window_id     \n",
       "  });\n",
       "</script>\n",
       "<div id=\"b0d8e3f3-b546-4e7a-cef8-4ffbd79b62e6\"></div>\n"
      ]
     },
     "metadata": {},
     "output_type": "display_data"
    },
    {
     "data": {
      "text/html": [
       "<script type=\"text/javascript\">\n",
       "  $(function() {\n",
       "    $(\"#f4cb1888-616c-45a0-c59e-109620a30fc8\").html('Progress:<br>[3440001 / 11682144] [=================>...............................] ETA: 33 seconds - Batch Loss: 1458800.726952 - Avg. Epoch Loss: 1463829.448388<br>'); // clear any previous plot in window_id     \n",
       "  });\n",
       "</script>\n",
       "<div id=\"51d9fc1f-f6a2-443c-c400-33bff3350057\"></div>\n"
      ]
     },
     "metadata": {},
     "output_type": "display_data"
    },
    {
     "data": {
      "text/html": [
       "<script type=\"text/javascript\">\n",
       "  $(function() {\n",
       "    $(\"#f4cb1888-616c-45a0-c59e-109620a30fc8\").html('Progress:<br>[3450001 / 11682144] [=================>...............................] ETA: 33 seconds - Batch Loss: 1458772.047365 - Avg. Epoch Loss: 1463814.831626<br>'); // clear any previous plot in window_id     \n",
       "  });\n",
       "</script>\n",
       "<div id=\"15b1ff1f-4239-4075-c0aa-a71a76cdc42b\"></div>\n"
      ]
     },
     "metadata": {},
     "output_type": "display_data"
    },
    {
     "data": {
      "text/html": [
       "<script type=\"text/javascript\">\n",
       "  $(function() {\n",
       "    $(\"#f4cb1888-616c-45a0-c59e-109620a30fc8\").html('Progress:<br>[3460001 / 11682144] [=================>...............................] ETA: 33 seconds - Batch Loss: 1458740.732532 - Avg. Epoch Loss: 1463800.208867<br>'); // clear any previous plot in window_id     \n",
       "  });\n",
       "</script>\n",
       "<div id=\"983c8da5-bc13-45d7-c5be-556af50300de\"></div>\n"
      ]
     },
     "metadata": {},
     "output_type": "display_data"
    },
    {
     "data": {
      "text/html": [
       "<script type=\"text/javascript\">\n",
       "  $(function() {\n",
       "    $(\"#f4cb1888-616c-45a0-c59e-109620a30fc8\").html('Progress:<br>[3470001 / 11682144] [=================>...............................] ETA: 33 seconds - Batch Loss: 1458712.006735 - Avg. Epoch Loss: 1463785.587600<br>'); // clear any previous plot in window_id     \n",
       "  });\n",
       "</script>\n",
       "<div id=\"731dfdf6-c4ee-4301-c389-b06c72b13287\"></div>\n"
      ]
     },
     "metadata": {},
     "output_type": "display_data"
    },
    {
     "data": {
      "text/html": [
       "<script type=\"text/javascript\">\n",
       "  $(function() {\n",
       "    $(\"#f4cb1888-616c-45a0-c59e-109620a30fc8\").html('Progress:<br>[3480001 / 11682144] [=================>...............................] ETA: 33 seconds - Batch Loss: 1458684.488043 - Avg. Epoch Loss: 1463770.971273<br>'); // clear any previous plot in window_id     \n",
       "  });\n",
       "</script>\n",
       "<div id=\"b5036c92-c085-47a5-c73d-99e415361139\"></div>\n"
      ]
     },
     "metadata": {},
     "output_type": "display_data"
    },
    {
     "data": {
      "text/html": [
       "<script type=\"text/javascript\">\n",
       "  $(function() {\n",
       "    $(\"#f4cb1888-616c-45a0-c59e-109620a30fc8\").html('Progress:<br>[3490001 / 11682144] [=================>...............................] ETA: 33 seconds - Batch Loss: 1458655.061051 - Avg. Epoch Loss: 1463756.354391<br>'); // clear any previous plot in window_id     \n",
       "  });\n",
       "</script>\n",
       "<div id=\"c6406047-699c-4843-c8d1-11a5b27711a5\"></div>\n"
      ]
     },
     "metadata": {},
     "output_type": "display_data"
    },
    {
     "data": {
      "text/html": [
       "<script type=\"text/javascript\">\n",
       "  $(function() {\n",
       "    $(\"#f4cb1888-616c-45a0-c59e-109620a30fc8\").html('Progress:<br>[3500001 / 11682144] [=================>...............................] ETA: 33 seconds - Batch Loss: 1458625.489611 - Avg. Epoch Loss: 1463741.736547<br>'); // clear any previous plot in window_id     \n",
       "  });\n",
       "</script>\n",
       "<div id=\"9712ed15-a1c0-471e-c770-94ff17c30fd0\"></div>\n"
      ]
     },
     "metadata": {},
     "output_type": "display_data"
    },
    {
     "data": {
      "text/html": [
       "<script type=\"text/javascript\">\n",
       "  $(function() {\n",
       "    $(\"#f4cb1888-616c-45a0-c59e-109620a30fc8\").html('Progress:<br>[3510001 / 11682144] [=================>...............................] ETA: 33 seconds - Batch Loss: 1458595.840792 - Avg. Epoch Loss: 1463727.117529<br>'); // clear any previous plot in window_id     \n",
       "  });\n",
       "</script>\n",
       "<div id=\"3e152bee-9d85-4b5f-cbc2-b103a2cb509b\"></div>\n"
      ]
     },
     "metadata": {},
     "output_type": "display_data"
    },
    {
     "data": {
      "text/html": [
       "<script type=\"text/javascript\">\n",
       "  $(function() {\n",
       "    $(\"#f4cb1888-616c-45a0-c59e-109620a30fc8\").html('Progress:<br>[3520001 / 11682144] [=================>...............................] ETA: 33 seconds - Batch Loss: 1458566.454255 - Avg. Epoch Loss: 1463712.498091<br>'); // clear any previous plot in window_id     \n",
       "  });\n",
       "</script>\n",
       "<div id=\"3a916dbe-13d3-40a3-c068-40fde4c1d210\"></div>\n"
      ]
     },
     "metadata": {},
     "output_type": "display_data"
    },
    {
     "data": {
      "text/html": [
       "<script type=\"text/javascript\">\n",
       "  $(function() {\n",
       "    $(\"#f4cb1888-616c-45a0-c59e-109620a30fc8\").html('Progress:<br>[3530001 / 11682144] [=================>...............................] ETA: 33 seconds - Batch Loss: 1458538.044479 - Avg. Epoch Loss: 1463697.880994<br>'); // clear any previous plot in window_id     \n",
       "  });\n",
       "</script>\n",
       "<div id=\"aeefbce6-b7b0-405a-c076-b63401d6c578\"></div>\n"
      ]
     },
     "metadata": {},
     "output_type": "display_data"
    },
    {
     "data": {
      "text/html": [
       "<script type=\"text/javascript\">\n",
       "  $(function() {\n",
       "    $(\"#f4cb1888-616c-45a0-c59e-109620a30fc8\").html('Progress:<br>[3540001 / 11682144] [=================>...............................] ETA: 33 seconds - Batch Loss: 1458506.317575 - Avg. Epoch Loss: 1463683.256876<br>'); // clear any previous plot in window_id     \n",
       "  });\n",
       "</script>\n",
       "<div id=\"fa45d1ef-0fb6-42bc-c251-2df198f9b734\"></div>\n"
      ]
     },
     "metadata": {},
     "output_type": "display_data"
    },
    {
     "data": {
      "text/html": [
       "<script type=\"text/javascript\">\n",
       "  $(function() {\n",
       "    $(\"#f4cb1888-616c-45a0-c59e-109620a30fc8\").html('Progress:<br>[3550001 / 11682144] [=================>...............................] ETA: 33 seconds - Batch Loss: 1458478.328513 - Avg. Epoch Loss: 1463668.636295<br>'); // clear any previous plot in window_id     \n",
       "  });\n",
       "</script>\n",
       "<div id=\"ae293444-2030-4468-c4b7-aec2e720a4a6\"></div>\n"
      ]
     },
     "metadata": {},
     "output_type": "display_data"
    },
    {
     "data": {
      "text/html": [
       "<script type=\"text/javascript\">\n",
       "  $(function() {\n",
       "    $(\"#f4cb1888-616c-45a0-c59e-109620a30fc8\").html('Progress:<br>[3560001 / 11682144] [==================>..............................] ETA: 31 seconds - Batch Loss: 1458448.439282 - Avg. Epoch Loss: 1463654.013898<br>'); // clear any previous plot in window_id     \n",
       "  });\n",
       "</script>\n",
       "<div id=\"aae55b90-22e6-4807-c8fd-56b426d24b8a\"></div>\n"
      ]
     },
     "metadata": {},
     "output_type": "display_data"
    },
    {
     "data": {
      "text/html": [
       "<script type=\"text/javascript\">\n",
       "  $(function() {\n",
       "    $(\"#f4cb1888-616c-45a0-c59e-109620a30fc8\").html('Progress:<br>[3570001 / 11682144] [==================>..............................] ETA: 31 seconds - Batch Loss: 1458421.818824 - Avg. Epoch Loss: 1463639.398832<br>'); // clear any previous plot in window_id     \n",
       "  });\n",
       "</script>\n",
       "<div id=\"65fd9321-714f-4755-c754-cf21b883c2ca\"></div>\n"
      ]
     },
     "metadata": {},
     "output_type": "display_data"
    },
    {
     "data": {
      "text/html": [
       "<script type=\"text/javascript\">\n",
       "  $(function() {\n",
       "    $(\"#f4cb1888-616c-45a0-c59e-109620a30fc8\").html('Progress:<br>[3580001 / 11682144] [==================>..............................] ETA: 31 seconds - Batch Loss: 1458392.486314 - Avg. Epoch Loss: 1463624.783481<br>'); // clear any previous plot in window_id     \n",
       "  });\n",
       "</script>\n",
       "<div id=\"92a10ba4-025c-476c-c76f-c6ea001848fb\"></div>\n"
      ]
     },
     "metadata": {},
     "output_type": "display_data"
    },
    {
     "data": {
      "text/html": [
       "<script type=\"text/javascript\">\n",
       "  $(function() {\n",
       "    $(\"#f4cb1888-616c-45a0-c59e-109620a30fc8\").html('Progress:<br>[3590001 / 11682144] [==================>..............................] ETA: 31 seconds - Batch Loss: 1458363.412480 - Avg. Epoch Loss: 1463610.168566<br>'); // clear any previous plot in window_id     \n",
       "  });\n",
       "</script>\n",
       "<div id=\"2798c917-9ab7-4af3-ca01-149cf4cc7628\"></div>\n"
      ]
     },
     "metadata": {},
     "output_type": "display_data"
    },
    {
     "data": {
      "text/html": [
       "<script type=\"text/javascript\">\n",
       "  $(function() {\n",
       "    $(\"#f4cb1888-616c-45a0-c59e-109620a30fc8\").html('Progress:<br>[3600001 / 11682144] [==================>..............................] ETA: 31 seconds - Batch Loss: 1458333.959714 - Avg. Epoch Loss: 1463595.553033<br>'); // clear any previous plot in window_id     \n",
       "  });\n",
       "</script>\n",
       "<div id=\"fd701b34-65fc-4e51-cefb-31cc34a556d3\"></div>\n"
      ]
     },
     "metadata": {},
     "output_type": "display_data"
    },
    {
     "data": {
      "text/html": [
       "<script type=\"text/javascript\">\n",
       "  $(function() {\n",
       "    $(\"#f4cb1888-616c-45a0-c59e-109620a30fc8\").html('Progress:<br>[3610001 / 11682144] [==================>..............................] ETA: 31 seconds - Batch Loss: 1458303.132129 - Avg. Epoch Loss: 1463580.933090<br>'); // clear any previous plot in window_id     \n",
       "  });\n",
       "</script>\n",
       "<div id=\"95a86283-dd96-4ff0-cf8a-6dc4f3702f6f\"></div>\n"
      ]
     },
     "metadata": {},
     "output_type": "display_data"
    },
    {
     "data": {
      "text/html": [
       "<script type=\"text/javascript\">\n",
       "  $(function() {\n",
       "    $(\"#f4cb1888-616c-45a0-c59e-109620a30fc8\").html('Progress:<br>[3620001 / 11682144] [==================>..............................] ETA: 31 seconds - Batch Loss: 1458275.892799 - Avg. Epoch Loss: 1463566.318658<br>'); // clear any previous plot in window_id     \n",
       "  });\n",
       "</script>\n",
       "<div id=\"a7a84fe5-0b14-4143-c122-4e70cf60d597\"></div>\n"
      ]
     },
     "metadata": {},
     "output_type": "display_data"
    },
    {
     "data": {
      "text/html": [
       "<script type=\"text/javascript\">\n",
       "  $(function() {\n",
       "    $(\"#f4cb1888-616c-45a0-c59e-109620a30fc8\").html('Progress:<br>[3630001 / 11682144] [==================>..............................] ETA: 32 seconds - Batch Loss: 1458246.160860 - Avg. Epoch Loss: 1463551.702843<br>'); // clear any previous plot in window_id     \n",
       "  });\n",
       "</script>\n",
       "<div id=\"3cff80a1-d987-438f-c3c8-838982629f54\"></div>\n"
      ]
     },
     "metadata": {},
     "output_type": "display_data"
    },
    {
     "data": {
      "text/html": [
       "<script type=\"text/javascript\">\n",
       "  $(function() {\n",
       "    $(\"#f4cb1888-616c-45a0-c59e-109620a30fc8\").html('Progress:<br>[3640001 / 11682144] [==================>..............................] ETA: 32 seconds - Batch Loss: 1458216.601981 - Avg. Epoch Loss: 1463537.086133<br>'); // clear any previous plot in window_id     \n",
       "  });\n",
       "</script>\n",
       "<div id=\"cbc48ee1-1907-4f1f-cf7c-f2c1bceb8fe4\"></div>\n"
      ]
     },
     "metadata": {},
     "output_type": "display_data"
    },
    {
     "data": {
      "text/html": [
       "<script type=\"text/javascript\">\n",
       "  $(function() {\n",
       "    $(\"#f4cb1888-616c-45a0-c59e-109620a30fc8\").html('Progress:<br>[3650001 / 11682144] [==================>..............................] ETA: 32 seconds - Batch Loss: 1458188.677133 - Avg. Epoch Loss: 1463522.472997<br>'); // clear any previous plot in window_id     \n",
       "  });\n",
       "</script>\n",
       "<div id=\"1f6e8e77-37da-43f5-c39e-a81722944014\"></div>\n"
      ]
     },
     "metadata": {},
     "output_type": "display_data"
    },
    {
     "data": {
      "text/html": [
       "<script type=\"text/javascript\">\n",
       "  $(function() {\n",
       "    $(\"#f4cb1888-616c-45a0-c59e-109620a30fc8\").html('Progress:<br>[3660001 / 11682144] [==================>..............................] ETA: 32 seconds - Batch Loss: 1458157.902689 - Avg. Epoch Loss: 1463507.855644<br>'); // clear any previous plot in window_id     \n",
       "  });\n",
       "</script>\n",
       "<div id=\"157f3e8e-93c9-47e9-c775-a3a0c0e6279f\"></div>\n"
      ]
     },
     "metadata": {},
     "output_type": "display_data"
    },
    {
     "data": {
      "text/html": [
       "<script type=\"text/javascript\">\n",
       "  $(function() {\n",
       "    $(\"#f4cb1888-616c-45a0-c59e-109620a30fc8\").html('Progress:<br>[3670001 / 11682144] [==================>..............................] ETA: 32 seconds - Batch Loss: 1458128.378793 - Avg. Epoch Loss: 1463493.237504<br>'); // clear any previous plot in window_id     \n",
       "  });\n",
       "</script>\n",
       "<div id=\"47e8a7ec-502c-4ad5-caea-04975f42e779\"></div>\n"
      ]
     },
     "metadata": {},
     "output_type": "display_data"
    },
    {
     "data": {
      "text/html": [
       "<script type=\"text/javascript\">\n",
       "  $(function() {\n",
       "    $(\"#f4cb1888-616c-45a0-c59e-109620a30fc8\").html('Progress:<br>[3680001 / 11682144] [==================>..............................] ETA: 32 seconds - Batch Loss: 1458100.512789 - Avg. Epoch Loss: 1463478.623078<br>'); // clear any previous plot in window_id     \n",
       "  });\n",
       "</script>\n",
       "<div id=\"0a88aeb7-5009-45b6-c5c2-d99eda4662ef\"></div>\n"
      ]
     },
     "metadata": {},
     "output_type": "display_data"
    },
    {
     "data": {
      "text/html": [
       "<script type=\"text/javascript\">\n",
       "  $(function() {\n",
       "    $(\"#f4cb1888-616c-45a0-c59e-109620a30fc8\").html('Progress:<br>[3690001 / 11682144] [==================>..............................] ETA: 32 seconds - Batch Loss: 1458071.225780 - Avg. Epoch Loss: 1463464.008494<br>'); // clear any previous plot in window_id     \n",
       "  });\n",
       "</script>\n",
       "<div id=\"a584514d-ad0d-48e8-c834-856412f1fb9b\"></div>\n"
      ]
     },
     "metadata": {},
     "output_type": "display_data"
    },
    {
     "data": {
      "text/html": [
       "<script type=\"text/javascript\">\n",
       "  $(function() {\n",
       "    $(\"#f4cb1888-616c-45a0-c59e-109620a30fc8\").html('Progress:<br>[3700001 / 11682144] [==================>..............................] ETA: 32 seconds - Batch Loss: 1458041.989877 - Avg. Epoch Loss: 1463449.393893<br>'); // clear any previous plot in window_id     \n",
       "  });\n",
       "</script>\n",
       "<div id=\"9cb69e4c-d4a0-46ce-c667-0d0712c097d0\"></div>\n"
      ]
     },
     "metadata": {},
     "output_type": "display_data"
    },
    {
     "data": {
      "text/html": [
       "<script type=\"text/javascript\">\n",
       "  $(function() {\n",
       "    $(\"#f4cb1888-616c-45a0-c59e-109620a30fc8\").html('Progress:<br>[3710001 / 11682144] [==================>..............................] ETA: 32 seconds - Batch Loss: 1458012.169334 - Avg. Epoch Loss: 1463434.777702<br>'); // clear any previous plot in window_id     \n",
       "  });\n",
       "</script>\n",
       "<div id=\"98f2030e-8f7f-4ac2-caca-4921d8adc90d\"></div>\n"
      ]
     },
     "metadata": {},
     "output_type": "display_data"
    },
    {
     "data": {
      "text/html": [
       "<script type=\"text/javascript\">\n",
       "  $(function() {\n",
       "    $(\"#f4cb1888-616c-45a0-c59e-109620a30fc8\").html('Progress:<br>[3720001 / 11682144] [==================>..............................] ETA: 32 seconds - Batch Loss: 1457982.667842 - Avg. Epoch Loss: 1463420.160789<br>'); // clear any previous plot in window_id     \n",
       "  });\n",
       "</script>\n",
       "<div id=\"3dc6868f-5db7-4548-c57a-dbf8789e411d\"></div>\n"
      ]
     },
     "metadata": {},
     "output_type": "display_data"
    },
    {
     "data": {
      "text/html": [
       "<script type=\"text/javascript\">\n",
       "  $(function() {\n",
       "    $(\"#f4cb1888-616c-45a0-c59e-109620a30fc8\").html('Progress:<br>[3730001 / 11682144] [==================>..............................] ETA: 32 seconds - Batch Loss: 1457952.026938 - Avg. Epoch Loss: 1463405.540114<br>'); // clear any previous plot in window_id     \n",
       "  });\n",
       "</script>\n",
       "<div id=\"7977cc71-2201-4adf-caa3-abb43d553c0f\"></div>\n"
      ]
     },
     "metadata": {},
     "output_type": "display_data"
    },
    {
     "data": {
      "text/html": [
       "<script type=\"text/javascript\">\n",
       "  $(function() {\n",
       "    $(\"#f4cb1888-616c-45a0-c59e-109620a30fc8\").html('Progress:<br>[3740001 / 11682144] [===================>.............................] ETA: 30 seconds - Batch Loss: 1457925.065377 - Avg. Epoch Loss: 1463390.925519<br>'); // clear any previous plot in window_id     \n",
       "  });\n",
       "</script>\n",
       "<div id=\"b711f81e-d318-4edc-ce1f-d559ca53a82f\"></div>\n"
      ]
     },
     "metadata": {},
     "output_type": "display_data"
    },
    {
     "data": {
      "text/html": [
       "<script type=\"text/javascript\">\n",
       "  $(function() {\n",
       "    $(\"#f4cb1888-616c-45a0-c59e-109620a30fc8\").html('Progress:<br>[3750001 / 11682144] [===================>.............................] ETA: 30 seconds - Batch Loss: 1457897.101741 - Avg. Epoch Loss: 1463376.314289<br>'); // clear any previous plot in window_id     \n",
       "  });\n",
       "</script>\n",
       "<div id=\"20fa42a9-d50c-4b64-cbaa-c86ffc11ed99\"></div>\n"
      ]
     },
     "metadata": {},
     "output_type": "display_data"
    },
    {
     "data": {
      "text/html": [
       "<script type=\"text/javascript\">\n",
       "  $(function() {\n",
       "    $(\"#f4cb1888-616c-45a0-c59e-109620a30fc8\").html('Progress:<br>[3760001 / 11682144] [===================>.............................] ETA: 30 seconds - Batch Loss: 1457866.585921 - Avg. Epoch Loss: 1463361.699629<br>'); // clear any previous plot in window_id     \n",
       "  });\n",
       "</script>\n",
       "<div id=\"52fa061d-6286-4551-c5bc-7a1628e2d31e\"></div>\n"
      ]
     },
     "metadata": {},
     "output_type": "display_data"
    },
    {
     "data": {
      "text/html": [
       "<script type=\"text/javascript\">\n",
       "  $(function() {\n",
       "    $(\"#f4cb1888-616c-45a0-c59e-109620a30fc8\").html('Progress:<br>[3770001 / 11682144] [===================>.............................] ETA: 30 seconds - Batch Loss: 1457838.870157 - Avg. Epoch Loss: 1463347.088973<br>'); // clear any previous plot in window_id     \n",
       "  });\n",
       "</script>\n",
       "<div id=\"049873a4-fafe-480a-c8e5-6652a0b2c9b6\"></div>\n"
      ]
     },
     "metadata": {},
     "output_type": "display_data"
    },
    {
     "data": {
      "text/html": [
       "<script type=\"text/javascript\">\n",
       "  $(function() {\n",
       "    $(\"#f4cb1888-616c-45a0-c59e-109620a30fc8\").html('Progress:<br>[3780001 / 11682144] [===================>.............................] ETA: 30 seconds - Batch Loss: 1457807.978821 - Avg. Epoch Loss: 1463332.473911<br>'); // clear any previous plot in window_id     \n",
       "  });\n",
       "</script>\n",
       "<div id=\"e95eec59-b0f2-43f3-c30c-59e2a851b6d3\"></div>\n"
      ]
     },
     "metadata": {},
     "output_type": "display_data"
    },
    {
     "data": {
      "text/html": [
       "<script type=\"text/javascript\">\n",
       "  $(function() {\n",
       "    $(\"#f4cb1888-616c-45a0-c59e-109620a30fc8\").html('Progress:<br>[3790001 / 11682144] [===================>.............................] ETA: 30 seconds - Batch Loss: 1457778.835041 - Avg. Epoch Loss: 1463317.859075<br>'); // clear any previous plot in window_id     \n",
       "  });\n",
       "</script>\n",
       "<div id=\"3e6358c7-0ff5-46b7-c6fd-780b83415b4f\"></div>\n"
      ]
     },
     "metadata": {},
     "output_type": "display_data"
    },
    {
     "data": {
      "text/html": [
       "<script type=\"text/javascript\">\n",
       "  $(function() {\n",
       "    $(\"#f4cb1888-616c-45a0-c59e-109620a30fc8\").html('Progress:<br>[3800001 / 11682144] [===================>.............................] ETA: 30 seconds - Batch Loss: 1457750.424358 - Avg. Epoch Loss: 1463303.246390<br>'); // clear any previous plot in window_id     \n",
       "  });\n",
       "</script>\n",
       "<div id=\"3f270abf-bb68-4de4-cd8e-3f00d829bf37\"></div>\n"
      ]
     },
     "metadata": {},
     "output_type": "display_data"
    },
    {
     "data": {
      "text/html": [
       "<script type=\"text/javascript\">\n",
       "  $(function() {\n",
       "    $(\"#f4cb1888-616c-45a0-c59e-109620a30fc8\").html('Progress:<br>[3810001 / 11682144] [===================>.............................] ETA: 30 seconds - Batch Loss: 1457720.476355 - Avg. Epoch Loss: 1463288.631812<br>'); // clear any previous plot in window_id     \n",
       "  });\n",
       "</script>\n",
       "<div id=\"1c1a9bf7-0a71-4cee-cce6-206a8add057f\"></div>\n"
      ]
     },
     "metadata": {},
     "output_type": "display_data"
    },
    {
     "data": {
      "text/html": [
       "<script type=\"text/javascript\">\n",
       "  $(function() {\n",
       "    $(\"#f4cb1888-616c-45a0-c59e-109620a30fc8\").html('Progress:<br>[3820001 / 11682144] [===================>.............................] ETA: 30 seconds - Batch Loss: 1457692.051209 - Avg. Epoch Loss: 1463274.019334<br>'); // clear any previous plot in window_id     \n",
       "  });\n",
       "</script>\n",
       "<div id=\"1f2c85ce-898b-4952-c974-21279e77377d\"></div>\n"
      ]
     },
     "metadata": {},
     "output_type": "display_data"
    },
    {
     "data": {
      "text/html": [
       "<script type=\"text/javascript\">\n",
       "  $(function() {\n",
       "    $(\"#f4cb1888-616c-45a0-c59e-109620a30fc8\").html('Progress:<br>[3830001 / 11682144] [===================>.............................] ETA: 30 seconds - Batch Loss: 1457662.031720 - Avg. Epoch Loss: 1463259.404787<br>'); // clear any previous plot in window_id     \n",
       "  });\n",
       "</script>\n",
       "<div id=\"076f4c5a-de70-4a1e-cafe-79a8ea860057\"></div>\n"
      ]
     },
     "metadata": {},
     "output_type": "display_data"
    },
    {
     "data": {
      "text/html": [
       "<script type=\"text/javascript\">\n",
       "  $(function() {\n",
       "    $(\"#f4cb1888-616c-45a0-c59e-109620a30fc8\").html('Progress:<br>[3840001 / 11682144] [===================>.............................] ETA: 30 seconds - Batch Loss: 1457634.461820 - Avg. Epoch Loss: 1463244.794549<br>'); // clear any previous plot in window_id     \n",
       "  });\n",
       "</script>\n",
       "<div id=\"488b8390-6931-43d0-c37a-509a107c8358\"></div>\n"
      ]
     },
     "metadata": {},
     "output_type": "display_data"
    },
    {
     "data": {
      "text/html": [
       "<script type=\"text/javascript\">\n",
       "  $(function() {\n",
       "    $(\"#f4cb1888-616c-45a0-c59e-109620a30fc8\").html('Progress:<br>[3850001 / 11682144] [===================>.............................] ETA: 30 seconds - Batch Loss: 1457604.631836 - Avg. Epoch Loss: 1463230.182732<br>'); // clear any previous plot in window_id     \n",
       "  });\n",
       "</script>\n",
       "<div id=\"7b37ee34-fb74-4d92-cd8a-0199ade5b338\"></div>\n"
      ]
     },
     "metadata": {},
     "output_type": "display_data"
    },
    {
     "data": {
      "text/html": [
       "<script type=\"text/javascript\">\n",
       "  $(function() {\n",
       "    $(\"#f4cb1888-616c-45a0-c59e-109620a30fc8\").html('Progress:<br>[3860001 / 11682144] [===================>.............................] ETA: 30 seconds - Batch Loss: 1457574.443157 - Avg. Epoch Loss: 1463215.568422<br>'); // clear any previous plot in window_id     \n",
       "  });\n",
       "</script>\n",
       "<div id=\"87f117ff-abd8-4562-c5e1-b9e7aae6af36\"></div>\n"
      ]
     },
     "metadata": {},
     "output_type": "display_data"
    },
    {
     "data": {
      "text/html": [
       "<script type=\"text/javascript\">\n",
       "  $(function() {\n",
       "    $(\"#f4cb1888-616c-45a0-c59e-109620a30fc8\").html('Progress:<br>[3870001 / 11682144] [===================>.............................] ETA: 30 seconds - Batch Loss: 1457546.272224 - Avg. Epoch Loss: 1463200.956838<br>'); // clear any previous plot in window_id     \n",
       "  });\n",
       "</script>\n",
       "<div id=\"d6d6bc90-0621-4bc2-cb75-5417d9e765d5\"></div>\n"
      ]
     },
     "metadata": {},
     "output_type": "display_data"
    },
    {
     "data": {
      "text/html": [
       "<script type=\"text/javascript\">\n",
       "  $(function() {\n",
       "    $(\"#f4cb1888-616c-45a0-c59e-109620a30fc8\").html('Progress:<br>[3880001 / 11682144] [===================>.............................] ETA: 31 seconds - Batch Loss: 1457516.529018 - Avg. Epoch Loss: 1463186.343916<br>'); // clear any previous plot in window_id     \n",
       "  });\n",
       "</script>\n",
       "<div id=\"0d2bcf3a-341d-414e-c14d-e19c87d7b7a5\"></div>\n"
      ]
     },
     "metadata": {},
     "output_type": "display_data"
    },
    {
     "data": {
      "text/html": [
       "<script type=\"text/javascript\">\n",
       "  $(function() {\n",
       "    $(\"#f4cb1888-616c-45a0-c59e-109620a30fc8\").html('Progress:<br>[3890001 / 11682144] [===================>.............................] ETA: 31 seconds - Batch Loss: 1457488.150949 - Avg. Epoch Loss: 1463171.733169<br>'); // clear any previous plot in window_id     \n",
       "  });\n",
       "</script>\n",
       "<div id=\"4f507c29-da22-4b9e-cb21-895e41fb0f04\"></div>\n"
      ]
     },
     "metadata": {},
     "output_type": "display_data"
    },
    {
     "data": {
      "text/html": [
       "<script type=\"text/javascript\">\n",
       "  $(function() {\n",
       "    $(\"#f4cb1888-616c-45a0-c59e-109620a30fc8\").html('Progress:<br>[3900001 / 11682144] [===================>.............................] ETA: 31 seconds - Batch Loss: 1457457.601630 - Avg. Epoch Loss: 1463157.119025<br>'); // clear any previous plot in window_id     \n",
       "  });\n",
       "</script>\n",
       "<div id=\"8bf483d8-70c7-4526-c5a6-d41e21bb8e79\"></div>\n"
      ]
     },
     "metadata": {},
     "output_type": "display_data"
    },
    {
     "data": {
      "text/html": [
       "<script type=\"text/javascript\">\n",
       "  $(function() {\n",
       "    $(\"#f4cb1888-616c-45a0-c59e-109620a30fc8\").html('Progress:<br>[3910001 / 11682144] [===================>.............................] ETA: 31 seconds - Batch Loss: 1457429.297981 - Avg. Epoch Loss: 1463142.507241<br>'); // clear any previous plot in window_id     \n",
       "  });\n",
       "</script>\n",
       "<div id=\"06eafa3c-506c-43c3-c3d0-6e6823aacbe1\"></div>\n"
      ]
     },
     "metadata": {},
     "output_type": "display_data"
    },
    {
     "data": {
      "text/html": [
       "<script type=\"text/javascript\">\n",
       "  $(function() {\n",
       "    $(\"#f4cb1888-616c-45a0-c59e-109620a30fc8\").html('Progress:<br>[3920001 / 11682144] [===================>.............................] ETA: 31 seconds - Batch Loss: 1457400.476238 - Avg. Epoch Loss: 1463127.896479<br>'); // clear any previous plot in window_id     \n",
       "  });\n",
       "</script>\n",
       "<div id=\"96690d2e-4a85-445f-c491-da2d7cb1c968\"></div>\n"
      ]
     },
     "metadata": {},
     "output_type": "display_data"
    },
    {
     "data": {
      "text/html": [
       "<script type=\"text/javascript\">\n",
       "  $(function() {\n",
       "    $(\"#f4cb1888-616c-45a0-c59e-109620a30fc8\").html('Progress:<br>[3930001 / 11682144] [====================>............................] ETA: 29 seconds - Batch Loss: 1457372.333734 - Avg. Epoch Loss: 1463113.288455<br>'); // clear any previous plot in window_id     \n",
       "  });\n",
       "</script>\n",
       "<div id=\"12a8cdf0-49c7-4a0c-cae2-89a5f34e9d3d\"></div>\n"
      ]
     },
     "metadata": {},
     "output_type": "display_data"
    },
    {
     "data": {
      "text/html": [
       "<script type=\"text/javascript\">\n",
       "  $(function() {\n",
       "    $(\"#f4cb1888-616c-45a0-c59e-109620a30fc8\").html('Progress:<br>[3940001 / 11682144] [====================>............................] ETA: 29 seconds - Batch Loss: 1457341.020549 - Avg. Epoch Loss: 1463098.675122<br>'); // clear any previous plot in window_id     \n",
       "  });\n",
       "</script>\n",
       "<div id=\"0c3e3abb-262d-457e-c59f-ff59f8982136\"></div>\n"
      ]
     },
     "metadata": {},
     "output_type": "display_data"
    },
    {
     "data": {
      "text/html": [
       "<script type=\"text/javascript\">\n",
       "  $(function() {\n",
       "    $(\"#f4cb1888-616c-45a0-c59e-109620a30fc8\").html('Progress:<br>[3950001 / 11682144] [====================>............................] ETA: 29 seconds - Batch Loss: 1457314.178668 - Avg. Epoch Loss: 1463084.067812<br>'); // clear any previous plot in window_id     \n",
       "  });\n",
       "</script>\n",
       "<div id=\"a67985a7-7632-4c14-ccf1-9981c45f1517\"></div>\n"
      ]
     },
     "metadata": {},
     "output_type": "display_data"
    },
    {
     "data": {
      "text/html": [
       "<script type=\"text/javascript\">\n",
       "  $(function() {\n",
       "    $(\"#f4cb1888-616c-45a0-c59e-109620a30fc8\").html('Progress:<br>[3960001 / 11682144] [====================>............................] ETA: 29 seconds - Batch Loss: 1457283.206576 - Avg. Epoch Loss: 1463069.456074<br>'); // clear any previous plot in window_id     \n",
       "  });\n",
       "</script>\n",
       "<div id=\"a1d765ff-8c95-41a6-c149-b989f5fdd560\"></div>\n"
      ]
     },
     "metadata": {},
     "output_type": "display_data"
    },
    {
     "data": {
      "text/html": [
       "<script type=\"text/javascript\">\n",
       "  $(function() {\n",
       "    $(\"#f4cb1888-616c-45a0-c59e-109620a30fc8\").html('Progress:<br>[3970001 / 11682144] [====================>............................] ETA: 29 seconds - Batch Loss: 1457254.856662 - Avg. Epoch Loss: 1463054.846532<br>'); // clear any previous plot in window_id     \n",
       "  });\n",
       "</script>\n",
       "<div id=\"e1016f04-699a-4111-c163-e35820a524c5\"></div>\n"
      ]
     },
     "metadata": {},
     "output_type": "display_data"
    },
    {
     "data": {
      "text/html": [
       "<script type=\"text/javascript\">\n",
       "  $(function() {\n",
       "    $(\"#f4cb1888-616c-45a0-c59e-109620a30fc8\").html('Progress:<br>[3980001 / 11682144] [====================>............................] ETA: 29 seconds - Batch Loss: 1457224.860175 - Avg. Epoch Loss: 1463040.235041<br>'); // clear any previous plot in window_id     \n",
       "  });\n",
       "</script>\n",
       "<div id=\"bcba3e2f-ccdb-4038-c085-ac67361d3bf3\"></div>\n"
      ]
     },
     "metadata": {},
     "output_type": "display_data"
    },
    {
     "data": {
      "text/html": [
       "<script type=\"text/javascript\">\n",
       "  $(function() {\n",
       "    $(\"#f4cb1888-616c-45a0-c59e-109620a30fc8\").html('Progress:<br>[3990001 / 11682144] [====================>............................] ETA: 29 seconds - Batch Loss: 1457194.833937 - Avg. Epoch Loss: 1463025.621542<br>'); // clear any previous plot in window_id     \n",
       "  });\n",
       "</script>\n",
       "<div id=\"da54d61f-a1ca-451a-c571-a6b4183437bd\"></div>\n"
      ]
     },
     "metadata": {},
     "output_type": "display_data"
    },
    {
     "data": {
      "text/html": [
       "<script type=\"text/javascript\">\n",
       "  $(function() {\n",
       "    $(\"#f4cb1888-616c-45a0-c59e-109620a30fc8\").html('Progress:<br>[4000001 / 11682144] [====================>............................] ETA: 29 seconds - Batch Loss: 1457166.187009 - Avg. Epoch Loss: 1463011.009489<br>'); // clear any previous plot in window_id     \n",
       "  });\n",
       "</script>\n",
       "<div id=\"f0328877-d33d-436c-c3a7-e06bfb2f0d1c\"></div>\n"
      ]
     },
     "metadata": {},
     "output_type": "display_data"
    },
    {
     "data": {
      "text/html": [
       "<script type=\"text/javascript\">\n",
       "  $(function() {\n",
       "    $(\"#f4cb1888-616c-45a0-c59e-109620a30fc8\").html('Progress:<br>[4010001 / 11682144] [====================>............................] ETA: 29 seconds - Batch Loss: 1457138.823919 - Avg. Epoch Loss: 1462996.402066<br>'); // clear any previous plot in window_id     \n",
       "  });\n",
       "</script>\n",
       "<div id=\"8a3e2a95-af56-4992-c904-9c368843aeb0\"></div>\n"
      ]
     },
     "metadata": {},
     "output_type": "display_data"
    },
    {
     "data": {
      "text/html": [
       "<script type=\"text/javascript\">\n",
       "  $(function() {\n",
       "    $(\"#f4cb1888-616c-45a0-c59e-109620a30fc8\").html('Progress:<br>[4020001 / 11682144] [====================>............................] ETA: 29 seconds - Batch Loss: 1457108.893927 - Avg. Epoch Loss: 1462981.792868<br>'); // clear any previous plot in window_id     \n",
       "  });\n",
       "</script>\n",
       "<div id=\"6814ca20-eb4d-4032-c0d9-4e9230d885d2\"></div>\n"
      ]
     },
     "metadata": {},
     "output_type": "display_data"
    },
    {
     "data": {
      "text/html": [
       "<script type=\"text/javascript\">\n",
       "  $(function() {\n",
       "    $(\"#f4cb1888-616c-45a0-c59e-109620a30fc8\").html('Progress:<br>[4030001 / 11682144] [====================>............................] ETA: 29 seconds - Batch Loss: 1457079.211953 - Avg. Epoch Loss: 1462967.182523<br>'); // clear any previous plot in window_id     \n",
       "  });\n",
       "</script>\n",
       "<div id=\"a5f24448-d534-408a-c04f-70044a7ba413\"></div>\n"
      ]
     },
     "metadata": {},
     "output_type": "display_data"
    },
    {
     "data": {
      "text/html": [
       "<script type=\"text/javascript\">\n",
       "  $(function() {\n",
       "    $(\"#f4cb1888-616c-45a0-c59e-109620a30fc8\").html('Progress:<br>[4040001 / 11682144] [====================>............................] ETA: 29 seconds - Batch Loss: 1457050.418412 - Avg. Epoch Loss: 1462952.573232<br>'); // clear any previous plot in window_id     \n",
       "  });\n",
       "</script>\n",
       "<div id=\"1b54f86b-68ab-4d4e-cdd3-9b6d0f96b9ba\"></div>\n"
      ]
     },
     "metadata": {},
     "output_type": "display_data"
    },
    {
     "data": {
      "text/html": [
       "<script type=\"text/javascript\">\n",
       "  $(function() {\n",
       "    $(\"#f4cb1888-616c-45a0-c59e-109620a30fc8\").html('Progress:<br>[4050001 / 11682144] [====================>............................] ETA: 29 seconds - Batch Loss: 1457020.455992 - Avg. Epoch Loss: 1462937.962110<br>'); // clear any previous plot in window_id     \n",
       "  });\n",
       "</script>\n",
       "<div id=\"0de0667d-475a-47be-c7ee-674ad27f901e\"></div>\n"
      ]
     },
     "metadata": {},
     "output_type": "display_data"
    },
    {
     "data": {
      "text/html": [
       "<script type=\"text/javascript\">\n",
       "  $(function() {\n",
       "    $(\"#f4cb1888-616c-45a0-c59e-109620a30fc8\").html('Progress:<br>[4060001 / 11682144] [====================>............................] ETA: 29 seconds - Batch Loss: 1456992.509871 - Avg. Epoch Loss: 1462923.354123<br>'); // clear any previous plot in window_id     \n",
       "  });\n",
       "</script>\n",
       "<div id=\"058b007f-2027-481f-c843-0fcd8ba92e09\"></div>\n"
      ]
     },
     "metadata": {},
     "output_type": "display_data"
    },
    {
     "data": {
      "text/html": [
       "<script type=\"text/javascript\">\n",
       "  $(function() {\n",
       "    $(\"#f4cb1888-616c-45a0-c59e-109620a30fc8\").html('Progress:<br>[4070001 / 11682144] [====================>............................] ETA: 29 seconds - Batch Loss: 1456963.630968 - Avg. Epoch Loss: 1462908.746962<br>'); // clear any previous plot in window_id     \n",
       "  });\n",
       "</script>\n",
       "<div id=\"5cf6efac-056a-42a0-c266-d97a5ba6ca8e\"></div>\n"
      ]
     },
     "metadata": {},
     "output_type": "display_data"
    },
    {
     "data": {
      "text/html": [
       "<script type=\"text/javascript\">\n",
       "  $(function() {\n",
       "    $(\"#f4cb1888-616c-45a0-c59e-109620a30fc8\").html('Progress:<br>[4080001 / 11682144] [====================>............................] ETA: 29 seconds - Batch Loss: 1456934.822659 - Avg. Epoch Loss: 1462894.140793<br>'); // clear any previous plot in window_id     \n",
       "  });\n",
       "</script>\n",
       "<div id=\"faf6fb56-f505-4c9c-cc70-b781a7c9151f\"></div>\n"
      ]
     },
     "metadata": {},
     "output_type": "display_data"
    },
    {
     "data": {
      "text/html": [
       "<script type=\"text/javascript\">\n",
       "  $(function() {\n",
       "    $(\"#f4cb1888-616c-45a0-c59e-109620a30fc8\").html('Progress:<br>[4090001 / 11682144] [====================>............................] ETA: 29 seconds - Batch Loss: 1456905.321605 - Avg. Epoch Loss: 1462879.533921<br>'); // clear any previous plot in window_id     \n",
       "  });\n",
       "</script>\n",
       "<div id=\"af53a505-cfe9-4d37-cdb5-420769a4fdb6\"></div>\n"
      ]
     },
     "metadata": {},
     "output_type": "display_data"
    },
    {
     "data": {
      "text/html": [
       "<script type=\"text/javascript\">\n",
       "  $(function() {\n",
       "    $(\"#f4cb1888-616c-45a0-c59e-109620a30fc8\").html('Progress:<br>[4100001 / 11682144] [====================>............................] ETA: 29 seconds - Batch Loss: 1456875.768763 - Avg. Epoch Loss: 1462864.926223<br>'); // clear any previous plot in window_id     \n",
       "  });\n",
       "</script>\n",
       "<div id=\"5e50d4bd-64eb-43fa-c337-ec09c6d7329c\"></div>\n"
      ]
     },
     "metadata": {},
     "output_type": "display_data"
    },
    {
     "data": {
      "text/html": [
       "<script type=\"text/javascript\">\n",
       "  $(function() {\n",
       "    $(\"#f4cb1888-616c-45a0-c59e-109620a30fc8\").html('Progress:<br>[4110001 / 11682144] [====================>............................] ETA: 29 seconds - Batch Loss: 1456847.372075 - Avg. Epoch Loss: 1462850.320513<br>'); // clear any previous plot in window_id     \n",
       "  });\n",
       "</script>\n",
       "<div id=\"0174cb55-8abe-47a7-c727-8ddd75cc9013\"></div>\n"
      ]
     },
     "metadata": {},
     "output_type": "display_data"
    },
    {
     "data": {
      "text/html": [
       "<script type=\"text/javascript\">\n",
       "  $(function() {\n",
       "    $(\"#f4cb1888-616c-45a0-c59e-109620a30fc8\").html('Progress:<br>[4120001 / 11682144] [=====================>...........................] ETA: 26 seconds - Batch Loss: 1456818.142540 - Avg. Epoch Loss: 1462835.714759<br>'); // clear any previous plot in window_id     \n",
       "  });\n",
       "</script>\n",
       "<div id=\"206832aa-1438-44fb-c410-199b86d6b43d\"></div>\n"
      ]
     },
     "metadata": {},
     "output_type": "display_data"
    },
    {
     "data": {
      "text/html": [
       "<script type=\"text/javascript\">\n",
       "  $(function() {\n",
       "    $(\"#f4cb1888-616c-45a0-c59e-109620a30fc8\").html('Progress:<br>[4130001 / 11682144] [=====================>...........................] ETA: 26 seconds - Batch Loss: 1456787.948382 - Avg. Epoch Loss: 1462821.106631<br>'); // clear any previous plot in window_id     \n",
       "  });\n",
       "</script>\n",
       "<div id=\"21c6b709-6172-4756-c7e5-a476fb6f05d4\"></div>\n"
      ]
     },
     "metadata": {},
     "output_type": "display_data"
    },
    {
     "data": {
      "text/html": [
       "<script type=\"text/javascript\">\n",
       "  $(function() {\n",
       "    $(\"#f4cb1888-616c-45a0-c59e-109620a30fc8\").html('Progress:<br>[4140001 / 11682144] [=====================>...........................] ETA: 28 seconds - Batch Loss: 1456761.439559 - Avg. Epoch Loss: 1462806.505027<br>'); // clear any previous plot in window_id     \n",
       "  });\n",
       "</script>\n",
       "<div id=\"11ee173d-9b86-41fe-c1b7-8710a4c7ab3a\"></div>\n"
      ]
     },
     "metadata": {},
     "output_type": "display_data"
    },
    {
     "data": {
      "text/html": [
       "<script type=\"text/javascript\">\n",
       "  $(function() {\n",
       "    $(\"#f4cb1888-616c-45a0-c59e-109620a30fc8\").html('Progress:<br>[4150001 / 11682144] [=====================>...........................] ETA: 28 seconds - Batch Loss: 1456730.132517 - Avg. Epoch Loss: 1462791.898366<br>'); // clear any previous plot in window_id     \n",
       "  });\n",
       "</script>\n",
       "<div id=\"e459b777-b097-46f9-c60b-15be9b7df618\"></div>\n"
      ]
     },
     "metadata": {},
     "output_type": "display_data"
    },
    {
     "data": {
      "text/html": [
       "<script type=\"text/javascript\">\n",
       "  $(function() {\n",
       "    $(\"#f4cb1888-616c-45a0-c59e-109620a30fc8\").html('Progress:<br>[4160001 / 11682144] [=====================>...........................] ETA: 28 seconds - Batch Loss: 1456699.892912 - Avg. Epoch Loss: 1462777.289243<br>'); // clear any previous plot in window_id     \n",
       "  });\n",
       "</script>\n",
       "<div id=\"6e1ea6eb-7987-48b5-c81f-7f216ae7d67a\"></div>\n"
      ]
     },
     "metadata": {},
     "output_type": "display_data"
    },
    {
     "data": {
      "text/html": [
       "<script type=\"text/javascript\">\n",
       "  $(function() {\n",
       "    $(\"#f4cb1888-616c-45a0-c59e-109620a30fc8\").html('Progress:<br>[4170001 / 11682144] [=====================>...........................] ETA: 28 seconds - Batch Loss: 1456670.904318 - Avg. Epoch Loss: 1462762.680671<br>'); // clear any previous plot in window_id     \n",
       "  });\n",
       "</script>\n",
       "<div id=\"cc4bb834-f39e-43d5-c3c4-c9ce9e969483\"></div>\n"
      ]
     },
     "metadata": {},
     "output_type": "display_data"
    },
    {
     "data": {
      "text/html": [
       "<script type=\"text/javascript\">\n",
       "  $(function() {\n",
       "    $(\"#f4cb1888-616c-45a0-c59e-109620a30fc8\").html('Progress:<br>[4180001 / 11682144] [=====================>...........................] ETA: 28 seconds - Batch Loss: 1456642.423039 - Avg. Epoch Loss: 1462748.073854<br>'); // clear any previous plot in window_id     \n",
       "  });\n",
       "</script>\n",
       "<div id=\"71887301-b763-454d-c59b-25307386458a\"></div>\n"
      ]
     },
     "metadata": {},
     "output_type": "display_data"
    },
    {
     "data": {
      "text/html": [
       "<script type=\"text/javascript\">\n",
       "  $(function() {\n",
       "    $(\"#f4cb1888-616c-45a0-c59e-109620a30fc8\").html('Progress:<br>[4190001 / 11682144] [=====================>...........................] ETA: 28 seconds - Batch Loss: 1456614.342061 - Avg. Epoch Loss: 1462733.469734<br>'); // clear any previous plot in window_id     \n",
       "  });\n",
       "</script>\n",
       "<div id=\"88d9f891-6661-4329-c34d-16825383b523\"></div>\n"
      ]
     },
     "metadata": {},
     "output_type": "display_data"
    },
    {
     "data": {
      "text/html": [
       "<script type=\"text/javascript\">\n",
       "  $(function() {\n",
       "    $(\"#f4cb1888-616c-45a0-c59e-109620a30fc8\").html('Progress:<br>[4200001 / 11682144] [=====================>...........................] ETA: 28 seconds - Batch Loss: 1456584.190640 - Avg. Epoch Loss: 1462718.863374<br>'); // clear any previous plot in window_id     \n",
       "  });\n",
       "</script>\n",
       "<div id=\"1b3983b8-8f6b-4242-c2a1-d9a2a1a15697\"></div>\n"
      ]
     },
     "metadata": {},
     "output_type": "display_data"
    },
    {
     "data": {
      "text/html": [
       "<script type=\"text/javascript\">\n",
       "  $(function() {\n",
       "    $(\"#f4cb1888-616c-45a0-c59e-109620a30fc8\").html('Progress:<br>[4210001 / 11682144] [=====================>...........................] ETA: 28 seconds - Batch Loss: 1456554.655900 - Avg. Epoch Loss: 1462704.256251<br>'); // clear any previous plot in window_id     \n",
       "  });\n",
       "</script>\n",
       "<div id=\"ee11318e-0e29-4c66-cce3-b4414283ffa0\"></div>\n"
      ]
     },
     "metadata": {},
     "output_type": "display_data"
    },
    {
     "data": {
      "text/html": [
       "<script type=\"text/javascript\">\n",
       "  $(function() {\n",
       "    $(\"#f4cb1888-616c-45a0-c59e-109620a30fc8\").html('Progress:<br>[4220001 / 11682144] [=====================>...........................] ETA: 28 seconds - Batch Loss: 1456525.566156 - Avg. Epoch Loss: 1462689.649422<br>'); // clear any previous plot in window_id     \n",
       "  });\n",
       "</script>\n",
       "<div id=\"25a96fcd-42eb-4b2a-cb3c-d8ad32da8f72\"></div>\n"
      ]
     },
     "metadata": {},
     "output_type": "display_data"
    },
    {
     "data": {
      "text/html": [
       "<script type=\"text/javascript\">\n",
       "  $(function() {\n",
       "    $(\"#f4cb1888-616c-45a0-c59e-109620a30fc8\").html('Progress:<br>[4230001 / 11682144] [=====================>...........................] ETA: 28 seconds - Batch Loss: 1456497.843370 - Avg. Epoch Loss: 1462675.046109<br>'); // clear any previous plot in window_id     \n",
       "  });\n",
       "</script>\n",
       "<div id=\"d99b2efa-06e6-486a-c8e0-7ef522286866\"></div>\n"
      ]
     },
     "metadata": {},
     "output_type": "display_data"
    },
    {
     "data": {
      "text/html": [
       "<script type=\"text/javascript\">\n",
       "  $(function() {\n",
       "    $(\"#f4cb1888-616c-45a0-c59e-109620a30fc8\").html('Progress:<br>[4240001 / 11682144] [=====================>...........................] ETA: 28 seconds - Batch Loss: 1456467.740122 - Avg. Epoch Loss: 1462660.440687<br>'); // clear any previous plot in window_id     \n",
       "  });\n",
       "</script>\n",
       "<div id=\"27a2de8c-eb37-42f3-c287-d57e7f6b5d76\"></div>\n"
      ]
     },
     "metadata": {},
     "output_type": "display_data"
    },
    {
     "data": {
      "text/html": [
       "<script type=\"text/javascript\">\n",
       "  $(function() {\n",
       "    $(\"#f4cb1888-616c-45a0-c59e-109620a30fc8\").html('Progress:<br>[4250001 / 11682144] [=====================>...........................] ETA: 28 seconds - Batch Loss: 1456439.737663 - Avg. Epoch Loss: 1462645.838101<br>'); // clear any previous plot in window_id     \n",
       "  });\n",
       "</script>\n",
       "<div id=\"a5acc40a-923a-4f7a-cf11-dad2fe9606cf\"></div>\n"
      ]
     },
     "metadata": {},
     "output_type": "display_data"
    },
    {
     "data": {
      "text/html": [
       "<script type=\"text/javascript\">\n",
       "  $(function() {\n",
       "    $(\"#f4cb1888-616c-45a0-c59e-109620a30fc8\").html('Progress:<br>[4260001 / 11682144] [=====================>...........................] ETA: 28 seconds - Batch Loss: 1456407.081054 - Avg. Epoch Loss: 1462631.227432<br>'); // clear any previous plot in window_id     \n",
       "  });\n",
       "</script>\n",
       "<div id=\"e0e1fba2-f7ce-41ca-c117-e8ea1a0ca1a5\"></div>\n"
      ]
     },
     "metadata": {},
     "output_type": "display_data"
    },
    {
     "data": {
      "text/html": [
       "<script type=\"text/javascript\">\n",
       "  $(function() {\n",
       "    $(\"#f4cb1888-616c-45a0-c59e-109620a30fc8\").html('Progress:<br>[4270001 / 11682144] [=====================>...........................] ETA: 28 seconds - Batch Loss: 1456379.166943 - Avg. Epoch Loss: 1462616.619817<br>'); // clear any previous plot in window_id     \n",
       "  });\n",
       "</script>\n",
       "<div id=\"3f9852bb-f568-4fe6-cf98-87bcf57e0637\"></div>\n"
      ]
     },
     "metadata": {},
     "output_type": "display_data"
    },
    {
     "data": {
      "text/html": [
       "<script type=\"text/javascript\">\n",
       "  $(function() {\n",
       "    $(\"#f4cb1888-616c-45a0-c59e-109620a30fc8\").html('Progress:<br>[4280001 / 11682144] [=====================>...........................] ETA: 28 seconds - Batch Loss: 1456352.606187 - Avg. Epoch Loss: 1462602.018390<br>'); // clear any previous plot in window_id     \n",
       "  });\n",
       "</script>\n",
       "<div id=\"5719d44c-a913-4956-c96d-9aafab0ce723\"></div>\n"
      ]
     },
     "metadata": {},
     "output_type": "display_data"
    },
    {
     "data": {
      "text/html": [
       "<script type=\"text/javascript\">\n",
       "  $(function() {\n",
       "    $(\"#f4cb1888-616c-45a0-c59e-109620a30fc8\").html('Progress:<br>[4290001 / 11682144] [=====================>...........................] ETA: 28 seconds - Batch Loss: 1456322.232454 - Avg. Epoch Loss: 1462587.414241<br>'); // clear any previous plot in window_id     \n",
       "  });\n",
       "</script>\n",
       "<div id=\"b68bfd2a-40b7-4d79-cdee-2c34a8ff3dd9\"></div>\n"
      ]
     },
     "metadata": {},
     "output_type": "display_data"
    },
    {
     "data": {
      "text/html": [
       "<script type=\"text/javascript\">\n",
       "  $(function() {\n",
       "    $(\"#f4cb1888-616c-45a0-c59e-109620a30fc8\").html('Progress:<br>[4300001 / 11682144] [======================>..........................] ETA: 25 seconds - Batch Loss: 1456292.506504 - Avg. Epoch Loss: 1462572.808890<br>'); // clear any previous plot in window_id     \n",
       "  });\n",
       "</script>\n",
       "<div id=\"fb5254b4-33ea-45ec-c568-948c5fb84ea0\"></div>\n"
      ]
     },
     "metadata": {},
     "output_type": "display_data"
    },
    {
     "data": {
      "text/html": [
       "<script type=\"text/javascript\">\n",
       "  $(function() {\n",
       "    $(\"#f4cb1888-616c-45a0-c59e-109620a30fc8\").html('Progress:<br>[4310001 / 11682144] [======================>..........................] ETA: 25 seconds - Batch Loss: 1456263.793514 - Avg. Epoch Loss: 1462558.204691<br>'); // clear any previous plot in window_id     \n",
       "  });\n",
       "</script>\n",
       "<div id=\"96414fb9-1fda-4a61-ca29-79e9c0b7e98b\"></div>\n"
      ]
     },
     "metadata": {},
     "output_type": "display_data"
    },
    {
     "data": {
      "text/html": [
       "<script type=\"text/javascript\">\n",
       "  $(function() {\n",
       "    $(\"#f4cb1888-616c-45a0-c59e-109620a30fc8\").html('Progress:<br>[4320001 / 11682144] [======================>..........................] ETA: 25 seconds - Batch Loss: 1456235.509286 - Avg. Epoch Loss: 1462543.602626<br>'); // clear any previous plot in window_id     \n",
       "  });\n",
       "</script>\n",
       "<div id=\"d202180c-0110-49e5-c964-0d32ea755b1e\"></div>\n"
      ]
     },
     "metadata": {},
     "output_type": "display_data"
    },
    {
     "data": {
      "text/html": [
       "<script type=\"text/javascript\">\n",
       "  $(function() {\n",
       "    $(\"#f4cb1888-616c-45a0-c59e-109620a30fc8\").html('Progress:<br>[4330001 / 11682144] [======================>..........................] ETA: 25 seconds - Batch Loss: 1456205.537200 - Avg. Epoch Loss: 1462528.998792<br>'); // clear any previous plot in window_id     \n",
       "  });\n",
       "</script>\n",
       "<div id=\"fd1e5e30-a844-42c5-c268-aab958bc1c25\"></div>\n"
      ]
     },
     "metadata": {},
     "output_type": "display_data"
    },
    {
     "data": {
      "text/html": [
       "<script type=\"text/javascript\">\n",
       "  $(function() {\n",
       "    $(\"#f4cb1888-616c-45a0-c59e-109620a30fc8\").html('Progress:<br>[4340001 / 11682144] [======================>..........................] ETA: 25 seconds - Batch Loss: 1456174.245521 - Avg. Epoch Loss: 1462514.390167<br>'); // clear any previous plot in window_id     \n",
       "  });\n",
       "</script>\n",
       "<div id=\"5d149012-40ee-4259-c2f9-6b788db92797\"></div>\n"
      ]
     },
     "metadata": {},
     "output_type": "display_data"
    },
    {
     "data": {
      "text/html": [
       "<script type=\"text/javascript\">\n",
       "  $(function() {\n",
       "    $(\"#f4cb1888-616c-45a0-c59e-109620a30fc8\").html('Progress:<br>[4350001 / 11682144] [======================>..........................] ETA: 25 seconds - Batch Loss: 1456147.093372 - Avg. Epoch Loss: 1462499.786279<br>'); // clear any previous plot in window_id     \n",
       "  });\n",
       "</script>\n",
       "<div id=\"60b374fd-1e10-438a-c374-ed92601f6dc0\"></div>\n"
      ]
     },
     "metadata": {},
     "output_type": "display_data"
    },
    {
     "data": {
      "text/html": [
       "<script type=\"text/javascript\">\n",
       "  $(function() {\n",
       "    $(\"#f4cb1888-616c-45a0-c59e-109620a30fc8\").html('Progress:<br>[4360001 / 11682144] [======================>..........................] ETA: 25 seconds - Batch Loss: 1456117.638361 - Avg. Epoch Loss: 1462485.181825<br>'); // clear any previous plot in window_id     \n",
       "  });\n",
       "</script>\n",
       "<div id=\"e26826bd-e295-473a-c7e5-f85a2be5dd5c\"></div>\n"
      ]
     },
     "metadata": {},
     "output_type": "display_data"
    },
    {
     "data": {
      "text/html": [
       "<script type=\"text/javascript\">\n",
       "  $(function() {\n",
       "    $(\"#f4cb1888-616c-45a0-c59e-109620a30fc8\").html('Progress:<br>[4370001 / 11682144] [======================>..........................] ETA: 25 seconds - Batch Loss: 1456089.753588 - Avg. Epoch Loss: 1462470.580394<br>'); // clear any previous plot in window_id     \n",
       "  });\n",
       "</script>\n",
       "<div id=\"0c806fd4-0de7-462a-c6c2-c294038bdec1\"></div>\n"
      ]
     },
     "metadata": {},
     "output_type": "display_data"
    },
    {
     "data": {
      "text/html": [
       "<script type=\"text/javascript\">\n",
       "  $(function() {\n",
       "    $(\"#f4cb1888-616c-45a0-c59e-109620a30fc8\").html('Progress:<br>[4380001 / 11682144] [======================>..........................] ETA: 25 seconds - Batch Loss: 1456058.787746 - Avg. Epoch Loss: 1462455.974947<br>'); // clear any previous plot in window_id     \n",
       "  });\n",
       "</script>\n",
       "<div id=\"70089b72-09c4-4c0d-ccc8-64e3baef37c5\"></div>\n"
      ]
     },
     "metadata": {},
     "output_type": "display_data"
    },
    {
     "data": {
      "text/html": [
       "<script type=\"text/javascript\">\n",
       "  $(function() {\n",
       "    $(\"#f4cb1888-616c-45a0-c59e-109620a30fc8\").html('Progress:<br>[4390001 / 11682144] [======================>..........................] ETA: 27 seconds - Batch Loss: 1456029.463128 - Avg. Epoch Loss: 1462441.369241<br>'); // clear any previous plot in window_id     \n",
       "  });\n",
       "</script>\n",
       "<div id=\"4c05e04f-8844-4843-c849-7a752d5ea6ab\"></div>\n"
      ]
     },
     "metadata": {},
     "output_type": "display_data"
    },
    {
     "data": {
      "text/html": [
       "<script type=\"text/javascript\">\n",
       "  $(function() {\n",
       "    $(\"#f4cb1888-616c-45a0-c59e-109620a30fc8\").html('Progress:<br>[4400001 / 11682144] [======================>..........................] ETA: 27 seconds - Batch Loss: 1456001.586353 - Avg. Epoch Loss: 1462426.766563<br>'); // clear any previous plot in window_id     \n",
       "  });\n",
       "</script>\n",
       "<div id=\"50fa5d83-76c7-4407-c419-c18da535832c\"></div>\n"
      ]
     },
     "metadata": {},
     "output_type": "display_data"
    },
    {
     "data": {
      "text/html": [
       "<script type=\"text/javascript\">\n",
       "  $(function() {\n",
       "    $(\"#f4cb1888-616c-45a0-c59e-109620a30fc8\").html('Progress:<br>[4410001 / 11682144] [======================>..........................] ETA: 27 seconds - Batch Loss: 1455972.710337 - Avg. Epoch Loss: 1462412.164629<br>'); // clear any previous plot in window_id     \n",
       "  });\n",
       "</script>\n",
       "<div id=\"b7cdab8a-fd63-4071-c0d6-bb8acf9b5fdc\"></div>\n"
      ]
     },
     "metadata": {},
     "output_type": "display_data"
    },
    {
     "data": {
      "text/html": [
       "<script type=\"text/javascript\">\n",
       "  $(function() {\n",
       "    $(\"#f4cb1888-616c-45a0-c59e-109620a30fc8\").html('Progress:<br>[4420001 / 11682144] [======================>..........................] ETA: 27 seconds - Batch Loss: 1455942.885627 - Avg. Epoch Loss: 1462397.561293<br>'); // clear any previous plot in window_id     \n",
       "  });\n",
       "</script>\n",
       "<div id=\"5c83a122-55c3-4068-c0b3-f4248e84f120\"></div>\n"
      ]
     },
     "metadata": {},
     "output_type": "display_data"
    },
    {
     "data": {
      "text/html": [
       "<script type=\"text/javascript\">\n",
       "  $(function() {\n",
       "    $(\"#f4cb1888-616c-45a0-c59e-109620a30fc8\").html('Progress:<br>[4430001 / 11682144] [======================>..........................] ETA: 27 seconds - Batch Loss: 1455912.837893 - Avg. Epoch Loss: 1462382.956064<br>'); // clear any previous plot in window_id     \n",
       "  });\n",
       "</script>\n",
       "<div id=\"a27c0281-3d4d-49cb-c99f-2b3b31fa4f71\"></div>\n"
      ]
     },
     "metadata": {},
     "output_type": "display_data"
    },
    {
     "data": {
      "text/html": [
       "<script type=\"text/javascript\">\n",
       "  $(function() {\n",
       "    $(\"#f4cb1888-616c-45a0-c59e-109620a30fc8\").html('Progress:<br>[4440001 / 11682144] [======================>..........................] ETA: 27 seconds - Batch Loss: 1455884.991019 - Avg. Epoch Loss: 1462368.353898<br>'); // clear any previous plot in window_id     \n",
       "  });\n",
       "</script>\n",
       "<div id=\"d9eb7292-c1a5-4e16-ce05-15ff15d2aa8d\"></div>\n"
      ]
     },
     "metadata": {},
     "output_type": "display_data"
    },
    {
     "data": {
      "text/html": [
       "<script type=\"text/javascript\">\n",
       "  $(function() {\n",
       "    $(\"#f4cb1888-616c-45a0-c59e-109620a30fc8\").html('Progress:<br>[4450001 / 11682144] [======================>..........................] ETA: 27 seconds - Batch Loss: 1455855.565484 - Avg. Epoch Loss: 1462353.751237<br>'); // clear any previous plot in window_id     \n",
       "  });\n",
       "</script>\n",
       "<div id=\"715885d4-a74f-4856-c884-4b86268fcbec\"></div>\n"
      ]
     },
     "metadata": {},
     "output_type": "display_data"
    },
    {
     "data": {
      "text/html": [
       "<script type=\"text/javascript\">\n",
       "  $(function() {\n",
       "    $(\"#f4cb1888-616c-45a0-c59e-109620a30fc8\").html('Progress:<br>[4460001 / 11682144] [======================>..........................] ETA: 27 seconds - Batch Loss: 1455827.108751 - Avg. Epoch Loss: 1462339.150250<br>'); // clear any previous plot in window_id     \n",
       "  });\n",
       "</script>\n",
       "<div id=\"60314b0f-88d8-472c-c738-51ebb2cbe90c\"></div>\n"
      ]
     },
     "metadata": {},
     "output_type": "display_data"
    },
    {
     "data": {
      "text/html": [
       "<script type=\"text/javascript\">\n",
       "  $(function() {\n",
       "    $(\"#f4cb1888-616c-45a0-c59e-109620a30fc8\").html('Progress:<br>[4470001 / 11682144] [======================>..........................] ETA: 27 seconds - Batch Loss: 1455798.039120 - Avg. Epoch Loss: 1462324.549559<br>'); // clear any previous plot in window_id     \n",
       "  });\n",
       "</script>\n",
       "<div id=\"628bdd7d-0129-4b00-cb9d-ee59ec005f47\"></div>\n"
      ]
     },
     "metadata": {},
     "output_type": "display_data"
    },
    {
     "data": {
      "text/html": [
       "<script type=\"text/javascript\">\n",
       "  $(function() {\n",
       "    $(\"#f4cb1888-616c-45a0-c59e-109620a30fc8\").html('Progress:<br>[4480001 / 11682144] [======================>..........................] ETA: 27 seconds - Batch Loss: 1455768.866067 - Avg. Epoch Loss: 1462309.948931<br>'); // clear any previous plot in window_id     \n",
       "  });\n",
       "</script>\n",
       "<div id=\"c7f6b636-30d1-4210-c262-306a32a5120d\"></div>\n"
      ]
     },
     "metadata": {},
     "output_type": "display_data"
    },
    {
     "data": {
      "text/html": [
       "<script type=\"text/javascript\">\n",
       "  $(function() {\n",
       "    $(\"#f4cb1888-616c-45a0-c59e-109620a30fc8\").html('Progress:<br>[4490001 / 11682144] [=======================>.........................] ETA: 24 seconds - Batch Loss: 1455740.410784 - Avg. Epoch Loss: 1462295.349961<br>'); // clear any previous plot in window_id     \n",
       "  });\n",
       "</script>\n",
       "<div id=\"83aafdef-91aa-4771-c7ae-5fa2c06d359c\"></div>\n"
      ]
     },
     "metadata": {},
     "output_type": "display_data"
    },
    {
     "data": {
      "text/html": [
       "<script type=\"text/javascript\">\n",
       "  $(function() {\n",
       "    $(\"#f4cb1888-616c-45a0-c59e-109620a30fc8\").html('Progress:<br>[4500001 / 11682144] [=======================>.........................] ETA: 24 seconds - Batch Loss: 1455711.178391 - Avg. Epoch Loss: 1462280.750914<br>'); // clear any previous plot in window_id     \n",
       "  });\n",
       "</script>\n",
       "<div id=\"78e86195-bfb3-4b9a-cb0e-154ed30c7062\"></div>\n"
      ]
     },
     "metadata": {},
     "output_type": "display_data"
    },
    {
     "data": {
      "text/html": [
       "<script type=\"text/javascript\">\n",
       "  $(function() {\n",
       "    $(\"#f4cb1888-616c-45a0-c59e-109620a30fc8\").html('Progress:<br>[4510001 / 11682144] [=======================>.........................] ETA: 24 seconds - Batch Loss: 1455681.332201 - Avg. Epoch Loss: 1462266.150433<br>'); // clear any previous plot in window_id     \n",
       "  });\n",
       "</script>\n",
       "<div id=\"3a29abaa-38e3-4797-c7b7-78dcc77a738b\"></div>\n"
      ]
     },
     "metadata": {},
     "output_type": "display_data"
    },
    {
     "data": {
      "text/html": [
       "<script type=\"text/javascript\">\n",
       "  $(function() {\n",
       "    $(\"#f4cb1888-616c-45a0-c59e-109620a30fc8\").html('Progress:<br>[4520001 / 11682144] [=======================>.........................] ETA: 24 seconds - Batch Loss: 1455651.835021 - Avg. Epoch Loss: 1462251.549299<br>'); // clear any previous plot in window_id     \n",
       "  });\n",
       "</script>\n",
       "<div id=\"fc965f40-30b9-4c75-cc0d-e827a0cc1ea3\"></div>\n"
      ]
     },
     "metadata": {},
     "output_type": "display_data"
    },
    {
     "data": {
      "text/html": [
       "<script type=\"text/javascript\">\n",
       "  $(function() {\n",
       "    $(\"#f4cb1888-616c-45a0-c59e-109620a30fc8\").html('Progress:<br>[4530001 / 11682144] [=======================>.........................] ETA: 24 seconds - Batch Loss: 1455624.022241 - Avg. Epoch Loss: 1462236.951225<br>'); // clear any previous plot in window_id     \n",
       "  });\n",
       "</script>\n",
       "<div id=\"e0db899b-5828-4f84-cf3f-37be1d981956\"></div>\n"
      ]
     },
     "metadata": {},
     "output_type": "display_data"
    },
    {
     "data": {
      "text/html": [
       "<script type=\"text/javascript\">\n",
       "  $(function() {\n",
       "    $(\"#f4cb1888-616c-45a0-c59e-109620a30fc8\").html('Progress:<br>[4540001 / 11682144] [=======================>.........................] ETA: 24 seconds - Batch Loss: 1455592.536576 - Avg. Epoch Loss: 1462222.348119<br>'); // clear any previous plot in window_id     \n",
       "  });\n",
       "</script>\n",
       "<div id=\"8f5db4fc-de12-4c88-ccec-247b0116243c\"></div>\n"
      ]
     },
     "metadata": {},
     "output_type": "display_data"
    },
    {
     "data": {
      "text/html": [
       "<script type=\"text/javascript\">\n",
       "  $(function() {\n",
       "    $(\"#f4cb1888-616c-45a0-c59e-109620a30fc8\").html('Progress:<br>[4550001 / 11682144] [=======================>.........................] ETA: 24 seconds - Batch Loss: 1455563.936476 - Avg. Epoch Loss: 1462207.746342<br>'); // clear any previous plot in window_id     \n",
       "  });\n",
       "</script>\n",
       "<div id=\"7cabf6cd-812b-4a8a-cabb-54f54f4ac37a\"></div>\n"
      ]
     },
     "metadata": {},
     "output_type": "display_data"
    },
    {
     "data": {
      "text/html": [
       "<script type=\"text/javascript\">\n",
       "  $(function() {\n",
       "    $(\"#f4cb1888-616c-45a0-c59e-109620a30fc8\").html('Progress:<br>[4560001 / 11682144] [=======================>.........................] ETA: 24 seconds - Batch Loss: 1455534.409477 - Avg. Epoch Loss: 1462193.143858<br>'); // clear any previous plot in window_id     \n",
       "  });\n",
       "</script>\n",
       "<div id=\"838edaca-01fe-4d41-cdbe-e1d23ad154e1\"></div>\n"
      ]
     },
     "metadata": {},
     "output_type": "display_data"
    },
    {
     "data": {
      "text/html": [
       "<script type=\"text/javascript\">\n",
       "  $(function() {\n",
       "    $(\"#f4cb1888-616c-45a0-c59e-109620a30fc8\").html('Progress:<br>[4570001 / 11682144] [=======================>.........................] ETA: 24 seconds - Batch Loss: 1455507.882189 - Avg. Epoch Loss: 1462178.547220<br>'); // clear any previous plot in window_id     \n",
       "  });\n",
       "</script>\n",
       "<div id=\"84df1150-0476-4609-c6e6-427abfa09ed1\"></div>\n"
      ]
     },
     "metadata": {},
     "output_type": "display_data"
    },
    {
     "data": {
      "text/html": [
       "<script type=\"text/javascript\">\n",
       "  $(function() {\n",
       "    $(\"#f4cb1888-616c-45a0-c59e-109620a30fc8\").html('Progress:<br>[4580001 / 11682144] [=======================>.........................] ETA: 24 seconds - Batch Loss: 1455477.377873 - Avg. Epoch Loss: 1462163.947725<br>'); // clear any previous plot in window_id     \n",
       "  });\n",
       "</script>\n",
       "<div id=\"514388ca-8040-49ab-c970-da13edd8366a\"></div>\n"
      ]
     },
     "metadata": {},
     "output_type": "display_data"
    },
    {
     "data": {
      "text/html": [
       "<script type=\"text/javascript\">\n",
       "  $(function() {\n",
       "    $(\"#f4cb1888-616c-45a0-c59e-109620a30fc8\").html('Progress:<br>[4590001 / 11682144] [=======================>.........................] ETA: 24 seconds - Batch Loss: 1455449.881300 - Avg. Epoch Loss: 1462149.351932<br>'); // clear any previous plot in window_id     \n",
       "  });\n",
       "</script>\n",
       "<div id=\"348e5164-1100-43d6-c371-41d314fe0893\"></div>\n"
      ]
     },
     "metadata": {},
     "output_type": "display_data"
    },
    {
     "data": {
      "text/html": [
       "<script type=\"text/javascript\">\n",
       "  $(function() {\n",
       "    $(\"#f4cb1888-616c-45a0-c59e-109620a30fc8\").html('Progress:<br>[4600001 / 11682144] [=======================>.........................] ETA: 24 seconds - Batch Loss: 1455419.295729 - Avg. Epoch Loss: 1462134.753115<br>'); // clear any previous plot in window_id     \n",
       "  });\n",
       "</script>\n",
       "<div id=\"aa8e1891-99c2-484d-c8b8-632745394cf7\"></div>\n"
      ]
     },
     "metadata": {},
     "output_type": "display_data"
    },
    {
     "data": {
      "text/html": [
       "<script type=\"text/javascript\">\n",
       "  $(function() {\n",
       "    $(\"#f4cb1888-616c-45a0-c59e-109620a30fc8\").html('Progress:<br>[4610001 / 11682144] [=======================>.........................] ETA: 24 seconds - Batch Loss: 1455389.683288 - Avg. Epoch Loss: 1462120.153400<br>'); // clear any previous plot in window_id     \n",
       "  });\n",
       "</script>\n",
       "<div id=\"da3fb758-8a43-42a0-c2de-3e033445164b\"></div>\n"
      ]
     },
     "metadata": {},
     "output_type": "display_data"
    },
    {
     "data": {
      "text/html": [
       "<script type=\"text/javascript\">\n",
       "  $(function() {\n",
       "    $(\"#f4cb1888-616c-45a0-c59e-109620a30fc8\").html('Progress:<br>[4620001 / 11682144] [=======================>.........................] ETA: 24 seconds - Batch Loss: 1455361.512868 - Avg. Epoch Loss: 1462105.555907<br>'); // clear any previous plot in window_id     \n",
       "  });\n",
       "</script>\n",
       "<div id=\"b90c6f62-4211-499a-c9b3-57fadc39fb47\"></div>\n"
      ]
     },
     "metadata": {},
     "output_type": "display_data"
    },
    {
     "data": {
      "text/html": [
       "<script type=\"text/javascript\">\n",
       "  $(function() {\n",
       "    $(\"#f4cb1888-616c-45a0-c59e-109620a30fc8\").html('Progress:<br>[4630001 / 11682144] [=======================>.........................] ETA: 24 seconds - Batch Loss: 1455331.688942 - Avg. Epoch Loss: 1462090.957059<br>'); // clear any previous plot in window_id     \n",
       "  });\n",
       "</script>\n",
       "<div id=\"d60ec39e-2e2e-46e9-c61f-f4ae4c6ea555\"></div>\n"
      ]
     },
     "metadata": {},
     "output_type": "display_data"
    },
    {
     "data": {
      "text/html": [
       "<script type=\"text/javascript\">\n",
       "  $(function() {\n",
       "    $(\"#f4cb1888-616c-45a0-c59e-109620a30fc8\").html('Progress:<br>[4640001 / 11682144] [=======================>.........................] ETA: 24 seconds - Batch Loss: 1455302.368733 - Avg. Epoch Loss: 1462076.357947<br>'); // clear any previous plot in window_id     \n",
       "  });\n",
       "</script>\n",
       "<div id=\"04a25a4e-5015-4e33-cecf-32102ac6103a\"></div>\n"
      ]
     },
     "metadata": {},
     "output_type": "display_data"
    },
    {
     "data": {
      "text/html": [
       "<script type=\"text/javascript\">\n",
       "  $(function() {\n",
       "    $(\"#f4cb1888-616c-45a0-c59e-109620a30fc8\").html('Progress:<br>[4650001 / 11682144] [=======================>.........................] ETA: 24 seconds - Batch Loss: 1455273.128509 - Avg. Epoch Loss: 1462061.758746<br>'); // clear any previous plot in window_id     \n",
       "  });\n",
       "</script>\n",
       "<div id=\"862aafd8-6a42-4198-c1d3-2e57a4383134\"></div>\n"
      ]
     },
     "metadata": {},
     "output_type": "display_data"
    },
    {
     "data": {
      "text/html": [
       "<script type=\"text/javascript\">\n",
       "  $(function() {\n",
       "    $(\"#f4cb1888-616c-45a0-c59e-109620a30fc8\").html('Progress:<br>[4660001 / 11682144] [=======================>.........................] ETA: 26 seconds - Batch Loss: 1455244.186694 - Avg. Epoch Loss: 1462047.160093<br>'); // clear any previous plot in window_id     \n",
       "  });\n",
       "</script>\n",
       "<div id=\"b782cbf9-bc46-4a23-ca76-99363a4e3a0c\"></div>\n"
      ]
     },
     "metadata": {},
     "output_type": "display_data"
    },
    {
     "data": {
      "text/html": [
       "<script type=\"text/javascript\">\n",
       "  $(function() {\n",
       "    $(\"#f4cb1888-616c-45a0-c59e-109620a30fc8\").html('Progress:<br>[4670001 / 11682144] [=======================>.........................] ETA: 26 seconds - Batch Loss: 1455214.281934 - Avg. Epoch Loss: 1462032.559930<br>'); // clear any previous plot in window_id     \n",
       "  });\n",
       "</script>\n",
       "<div id=\"79903160-c193-449b-c407-fe60ecf2e51e\"></div>\n"
      ]
     },
     "metadata": {},
     "output_type": "display_data"
    },
    {
     "data": {
      "text/html": [
       "<script type=\"text/javascript\">\n",
       "  $(function() {\n",
       "    $(\"#f4cb1888-616c-45a0-c59e-109620a30fc8\").html('Progress:<br>[4680001 / 11682144] [========================>........................] ETA: 24 seconds - Batch Loss: 1455185.272970 - Avg. Epoch Loss: 1462017.960174<br>'); // clear any previous plot in window_id     \n",
       "  });\n",
       "</script>\n",
       "<div id=\"ec8e11db-12bc-46b0-c61f-cfa89489c027\"></div>\n"
      ]
     },
     "metadata": {},
     "output_type": "display_data"
    },
    {
     "data": {
      "text/html": [
       "<script type=\"text/javascript\">\n",
       "  $(function() {\n",
       "    $(\"#f4cb1888-616c-45a0-c59e-109620a30fc8\").html('Progress:<br>[4690001 / 11682144] [========================>........................] ETA: 24 seconds - Batch Loss: 1455157.254219 - Avg. Epoch Loss: 1462003.362930<br>'); // clear any previous plot in window_id     \n",
       "  });\n",
       "</script>\n",
       "<div id=\"945b31d4-4d0d-4418-c4db-f94baa22fa3a\"></div>\n"
      ]
     },
     "metadata": {},
     "output_type": "display_data"
    },
    {
     "data": {
      "text/html": [
       "<script type=\"text/javascript\">\n",
       "  $(function() {\n",
       "    $(\"#f4cb1888-616c-45a0-c59e-109620a30fc8\").html('Progress:<br>[4700001 / 11682144] [========================>........................] ETA: 24 seconds - Batch Loss: 1455128.213026 - Avg. Epoch Loss: 1461988.766012<br>'); // clear any previous plot in window_id     \n",
       "  });\n",
       "</script>\n",
       "<div id=\"75e821fc-3628-4fc5-cfc1-0a628ffbd2a9\"></div>\n"
      ]
     },
     "metadata": {},
     "output_type": "display_data"
    },
    {
     "data": {
      "text/html": [
       "<script type=\"text/javascript\">\n",
       "  $(function() {\n",
       "    $(\"#f4cb1888-616c-45a0-c59e-109620a30fc8\").html('Progress:<br>[4710001 / 11682144] [========================>........................] ETA: 24 seconds - Batch Loss: 1455100.581225 - Avg. Epoch Loss: 1461974.172403<br>'); // clear any previous plot in window_id     \n",
       "  });\n",
       "</script>\n",
       "<div id=\"fdcfc3ed-e362-4349-c316-b61318964fa7\"></div>\n"
      ]
     },
     "metadata": {},
     "output_type": "display_data"
    },
    {
     "data": {
      "text/html": [
       "<script type=\"text/javascript\">\n",
       "  $(function() {\n",
       "    $(\"#f4cb1888-616c-45a0-c59e-109620a30fc8\").html('Progress:<br>[4720001 / 11682144] [========================>........................] ETA: 24 seconds - Batch Loss: 1455070.149726 - Avg. Epoch Loss: 1461959.576164<br>'); // clear any previous plot in window_id     \n",
       "  });\n",
       "</script>\n",
       "<div id=\"cf4508c5-6227-4926-c945-73829dc33c34\"></div>\n"
      ]
     },
     "metadata": {},
     "output_type": "display_data"
    },
    {
     "data": {
      "text/html": [
       "<script type=\"text/javascript\">\n",
       "  $(function() {\n",
       "    $(\"#f4cb1888-616c-45a0-c59e-109620a30fc8\").html('Progress:<br>[4730001 / 11682144] [========================>........................] ETA: 24 seconds - Batch Loss: 1455041.116730 - Avg. Epoch Loss: 1461944.980261<br>'); // clear any previous plot in window_id     \n",
       "  });\n",
       "</script>\n",
       "<div id=\"4bc58424-ca13-48ef-c813-065c07b8b287\"></div>\n"
      ]
     },
     "metadata": {},
     "output_type": "display_data"
    },
    {
     "data": {
      "text/html": [
       "<script type=\"text/javascript\">\n",
       "  $(function() {\n",
       "    $(\"#f4cb1888-616c-45a0-c59e-109620a30fc8\").html('Progress:<br>[4740001 / 11682144] [========================>........................] ETA: 24 seconds - Batch Loss: 1455011.446498 - Avg. Epoch Loss: 1461930.383351<br>'); // clear any previous plot in window_id     \n",
       "  });\n",
       "</script>\n",
       "<div id=\"4b7e02cb-e8e5-447c-c458-8e8f9d33e27e\"></div>\n"
      ]
     },
     "metadata": {},
     "output_type": "display_data"
    },
    {
     "data": {
      "text/html": [
       "<script type=\"text/javascript\">\n",
       "  $(function() {\n",
       "    $(\"#f4cb1888-616c-45a0-c59e-109620a30fc8\").html('Progress:<br>[4750001 / 11682144] [========================>........................] ETA: 24 seconds - Batch Loss: 1454981.579711 - Avg. Epoch Loss: 1461915.785027<br>'); // clear any previous plot in window_id     \n",
       "  });\n",
       "</script>\n",
       "<div id=\"0de36399-6016-4b7c-cb95-454f647cbd84\"></div>\n"
      ]
     },
     "metadata": {},
     "output_type": "display_data"
    },
    {
     "data": {
      "text/html": [
       "<script type=\"text/javascript\">\n",
       "  $(function() {\n",
       "    $(\"#f4cb1888-616c-45a0-c59e-109620a30fc8\").html('Progress:<br>[4760001 / 11682144] [========================>........................] ETA: 24 seconds - Batch Loss: 1454952.767672 - Avg. Epoch Loss: 1461901.187509<br>'); // clear any previous plot in window_id     \n",
       "  });\n",
       "</script>\n",
       "<div id=\"1c9152f8-def7-4a17-ca4f-af5b9b97a043\"></div>\n"
      ]
     },
     "metadata": {},
     "output_type": "display_data"
    },
    {
     "data": {
      "text/html": [
       "<script type=\"text/javascript\">\n",
       "  $(function() {\n",
       "    $(\"#f4cb1888-616c-45a0-c59e-109620a30fc8\").html('Progress:<br>[4770001 / 11682144] [========================>........................] ETA: 24 seconds - Batch Loss: 1454925.176570 - Avg. Epoch Loss: 1461886.593347<br>'); // clear any previous plot in window_id     \n",
       "  });\n",
       "</script>\n",
       "<div id=\"01f439c2-a539-4fdf-cf08-3fc32b0e0c68\"></div>\n"
      ]
     },
     "metadata": {},
     "output_type": "display_data"
    },
    {
     "data": {
      "text/html": [
       "<script type=\"text/javascript\">\n",
       "  $(function() {\n",
       "    $(\"#f4cb1888-616c-45a0-c59e-109620a30fc8\").html('Progress:<br>[4780001 / 11682144] [========================>........................] ETA: 24 seconds - Batch Loss: 1454895.935904 - Avg. Epoch Loss: 1461871.999076<br>'); // clear any previous plot in window_id     \n",
       "  });\n",
       "</script>\n",
       "<div id=\"2cae450b-95f7-4ca9-cc99-44242b62a826\"></div>\n"
      ]
     },
     "metadata": {},
     "output_type": "display_data"
    },
    {
     "data": {
      "text/html": [
       "<script type=\"text/javascript\">\n",
       "  $(function() {\n",
       "    $(\"#f4cb1888-616c-45a0-c59e-109620a30fc8\").html('Progress:<br>[4790001 / 11682144] [========================>........................] ETA: 24 seconds - Batch Loss: 1454865.556579 - Avg. Epoch Loss: 1461857.402324<br>'); // clear any previous plot in window_id     \n",
       "  });\n",
       "</script>\n",
       "<div id=\"5baf01e3-9098-4408-c451-a5a12403ea91\"></div>\n"
      ]
     },
     "metadata": {},
     "output_type": "display_data"
    },
    {
     "data": {
      "text/html": [
       "<script type=\"text/javascript\">\n",
       "  $(function() {\n",
       "    $(\"#f4cb1888-616c-45a0-c59e-109620a30fc8\").html('Progress:<br>[4800001 / 11682144] [========================>........................] ETA: 24 seconds - Batch Loss: 1454838.543310 - Avg. Epoch Loss: 1461842.810104<br>'); // clear any previous plot in window_id     \n",
       "  });\n",
       "</script>\n",
       "<div id=\"2ffe0b2c-00f5-46ac-c6be-e110a822d28d\"></div>\n"
      ]
     },
     "metadata": {},
     "output_type": "display_data"
    },
    {
     "data": {
      "text/html": [
       "<script type=\"text/javascript\">\n",
       "  $(function() {\n",
       "    $(\"#f4cb1888-616c-45a0-c59e-109620a30fc8\").html('Progress:<br>[4810001 / 11682144] [========================>........................] ETA: 24 seconds - Batch Loss: 1454808.274154 - Avg. Epoch Loss: 1461828.215634<br>'); // clear any previous plot in window_id     \n",
       "  });\n",
       "</script>\n",
       "<div id=\"d9f9c207-27ba-42c3-c2ce-7e462a7a2512\"></div>\n"
      ]
     },
     "metadata": {},
     "output_type": "display_data"
    },
    {
     "data": {
      "text/html": [
       "<script type=\"text/javascript\">\n",
       "  $(function() {\n",
       "    $(\"#f4cb1888-616c-45a0-c59e-109620a30fc8\").html('Progress:<br>[4820001 / 11682144] [========================>........................] ETA: 24 seconds - Batch Loss: 1454779.356337 - Avg. Epoch Loss: 1461813.621726<br>'); // clear any previous plot in window_id     \n",
       "  });\n",
       "</script>\n",
       "<div id=\"fe98abcc-642f-45ed-c53e-7fac4884fe5f\"></div>\n"
      ]
     },
     "metadata": {},
     "output_type": "display_data"
    },
    {
     "data": {
      "text/html": [
       "<script type=\"text/javascript\">\n",
       "  $(function() {\n",
       "    $(\"#f4cb1888-616c-45a0-c59e-109620a30fc8\").html('Progress:<br>[4830001 / 11682144] [========================>........................] ETA: 24 seconds - Batch Loss: 1454750.026884 - Avg. Epoch Loss: 1461799.027525<br>'); // clear any previous plot in window_id     \n",
       "  });\n",
       "</script>\n",
       "<div id=\"68948536-ea13-4d52-cdd4-dfc78e2c26d9\"></div>\n"
      ]
     },
     "metadata": {},
     "output_type": "display_data"
    },
    {
     "data": {
      "text/html": [
       "<script type=\"text/javascript\">\n",
       "  $(function() {\n",
       "    $(\"#f4cb1888-616c-45a0-c59e-109620a30fc8\").html('Progress:<br>[4840001 / 11682144] [========================>........................] ETA: 24 seconds - Batch Loss: 1454720.492322 - Avg. Epoch Loss: 1461784.432610<br>'); // clear any previous plot in window_id     \n",
       "  });\n",
       "</script>\n",
       "<div id=\"dd15acf6-c041-4c2e-cccf-d18cb3b8b3e7\"></div>\n"
      ]
     },
     "metadata": {},
     "output_type": "display_data"
    },
    {
     "data": {
      "text/html": [
       "<script type=\"text/javascript\">\n",
       "  $(function() {\n",
       "    $(\"#f4cb1888-616c-45a0-c59e-109620a30fc8\").html('Progress:<br>[4850001 / 11682144] [========================>........................] ETA: 24 seconds - Batch Loss: 1454691.159562 - Avg. Epoch Loss: 1461769.837401<br>'); // clear any previous plot in window_id     \n",
       "  });\n",
       "</script>\n",
       "<div id=\"5d352a20-e60d-4a87-cade-9fae58086fa8\"></div>\n"
      ]
     },
     "metadata": {},
     "output_type": "display_data"
    },
    {
     "data": {
      "text/html": [
       "<script type=\"text/javascript\">\n",
       "  $(function() {\n",
       "    $(\"#f4cb1888-616c-45a0-c59e-109620a30fc8\").html('Progress:<br>[4860001 / 11682144] [=========================>.......................] ETA: 22 seconds - Batch Loss: 1454664.090185 - Avg. Epoch Loss: 1461755.246547<br>'); // clear any previous plot in window_id     \n",
       "  });\n",
       "</script>\n",
       "<div id=\"2b183f1f-4ab4-4577-c545-351a5ca7dd88\"></div>\n"
      ]
     },
     "metadata": {},
     "output_type": "display_data"
    },
    {
     "data": {
      "text/html": [
       "<script type=\"text/javascript\">\n",
       "  $(function() {\n",
       "    $(\"#f4cb1888-616c-45a0-c59e-109620a30fc8\").html('Progress:<br>[4870001 / 11682144] [=========================>.......................] ETA: 22 seconds - Batch Loss: 1454633.965121 - Avg. Epoch Loss: 1461740.653760<br>'); // clear any previous plot in window_id     \n",
       "  });\n",
       "</script>\n",
       "<div id=\"8409fbf3-40e0-45d0-c5c4-e1e4b13c692a\"></div>\n"
      ]
     },
     "metadata": {},
     "output_type": "display_data"
    },
    {
     "data": {
      "text/html": [
       "<script type=\"text/javascript\">\n",
       "  $(function() {\n",
       "    $(\"#f4cb1888-616c-45a0-c59e-109620a30fc8\").html('Progress:<br>[4880001 / 11682144] [=========================>.......................] ETA: 22 seconds - Batch Loss: 1454604.646031 - Avg. Epoch Loss: 1461726.060700<br>'); // clear any previous plot in window_id     \n",
       "  });\n",
       "</script>\n",
       "<div id=\"0641a12c-e32e-43ac-c3b9-6c5d0913b1d6\"></div>\n"
      ]
     },
     "metadata": {},
     "output_type": "display_data"
    },
    {
     "data": {
      "text/html": [
       "<script type=\"text/javascript\">\n",
       "  $(function() {\n",
       "    $(\"#f4cb1888-616c-45a0-c59e-109620a30fc8\").html('Progress:<br>[4890001 / 11682144] [=========================>.......................] ETA: 22 seconds - Batch Loss: 1454574.298024 - Avg. Epoch Loss: 1461711.465269<br>'); // clear any previous plot in window_id     \n",
       "  });\n",
       "</script>\n",
       "<div id=\"813d65c0-ac49-45a2-c51a-ff6295092d3b\"></div>\n"
      ]
     },
     "metadata": {},
     "output_type": "display_data"
    },
    {
     "data": {
      "text/html": [
       "<script type=\"text/javascript\">\n",
       "  $(function() {\n",
       "    $(\"#f4cb1888-616c-45a0-c59e-109620a30fc8\").html('Progress:<br>[4900001 / 11682144] [=========================>.......................] ETA: 22 seconds - Batch Loss: 1454545.884390 - Avg. Epoch Loss: 1461696.871421<br>'); // clear any previous plot in window_id     \n",
       "  });\n",
       "</script>\n",
       "<div id=\"02ebeeae-6fb3-4696-c67a-734b385e7384\"></div>\n"
      ]
     },
     "metadata": {},
     "output_type": "display_data"
    },
    {
     "data": {
      "text/html": [
       "<script type=\"text/javascript\">\n",
       "  $(function() {\n",
       "    $(\"#f4cb1888-616c-45a0-c59e-109620a30fc8\").html('Progress:<br>[4910001 / 11682144] [=========================>.......................] ETA: 23 seconds - Batch Loss: 1454517.287705 - Avg. Epoch Loss: 1461682.278774<br>'); // clear any previous plot in window_id     \n",
       "  });\n",
       "</script>\n",
       "<div id=\"dd48f48e-622b-4adb-caa5-725fb18ae733\"></div>\n"
      ]
     },
     "metadata": {},
     "output_type": "display_data"
    },
    {
     "data": {
      "text/html": [
       "<script type=\"text/javascript\">\n",
       "  $(function() {\n",
       "    $(\"#f4cb1888-616c-45a0-c59e-109620a30fc8\").html('Progress:<br>[4920001 / 11682144] [=========================>.......................] ETA: 23 seconds - Batch Loss: 1454489.916678 - Avg. Epoch Loss: 1461667.689807<br>'); // clear any previous plot in window_id     \n",
       "  });\n",
       "</script>\n",
       "<div id=\"062688d3-8162-4f7b-cf76-e8e02ad1d724\"></div>\n"
      ]
     },
     "metadata": {},
     "output_type": "display_data"
    },
    {
     "data": {
      "text/html": [
       "<script type=\"text/javascript\">\n",
       "  $(function() {\n",
       "    $(\"#f4cb1888-616c-45a0-c59e-109620a30fc8\").html('Progress:<br>[4930001 / 11682144] [=========================>.......................] ETA: 23 seconds - Batch Loss: 1454458.703012 - Avg. Epoch Loss: 1461653.096720<br>'); // clear any previous plot in window_id     \n",
       "  });\n",
       "</script>\n",
       "<div id=\"dd54e853-bb4f-46f8-c6c3-bc0e708f0be7\"></div>\n"
      ]
     },
     "metadata": {},
     "output_type": "display_data"
    },
    {
     "data": {
      "text/html": [
       "<script type=\"text/javascript\">\n",
       "  $(function() {\n",
       "    $(\"#f4cb1888-616c-45a0-c59e-109620a30fc8\").html('Progress:<br>[4940001 / 11682144] [=========================>.......................] ETA: 23 seconds - Batch Loss: 1454428.562574 - Avg. Epoch Loss: 1461638.501704<br>'); // clear any previous plot in window_id     \n",
       "  });\n",
       "</script>\n",
       "<div id=\"66cacf07-fdda-4793-c7af-f9c179b142e7\"></div>\n"
      ]
     },
     "metadata": {},
     "output_type": "display_data"
    },
    {
     "data": {
      "text/html": [
       "<script type=\"text/javascript\">\n",
       "  $(function() {\n",
       "    $(\"#f4cb1888-616c-45a0-c59e-109620a30fc8\").html('Progress:<br>[4950001 / 11682144] [=========================>.......................] ETA: 23 seconds - Batch Loss: 1454400.916493 - Avg. Epoch Loss: 1461623.909801<br>'); // clear any previous plot in window_id     \n",
       "  });\n",
       "</script>\n",
       "<div id=\"f2938d0f-fefc-48e6-c8df-c1e6dce943a6\"></div>\n"
      ]
     },
     "metadata": {},
     "output_type": "display_data"
    },
    {
     "data": {
      "text/html": [
       "<script type=\"text/javascript\">\n",
       "  $(function() {\n",
       "    $(\"#f4cb1888-616c-45a0-c59e-109620a30fc8\").html('Progress:<br>[4960001 / 11682144] [=========================>.......................] ETA: 23 seconds - Batch Loss: 1454372.894263 - Avg. Epoch Loss: 1461609.320236<br>'); // clear any previous plot in window_id     \n",
       "  });\n",
       "</script>\n",
       "<div id=\"d640fbb9-188a-4f94-cf5e-f2285825405d\"></div>\n"
      ]
     },
     "metadata": {},
     "output_type": "display_data"
    },
    {
     "data": {
      "text/html": [
       "<script type=\"text/javascript\">\n",
       "  $(function() {\n",
       "    $(\"#f4cb1888-616c-45a0-c59e-109620a30fc8\").html('Progress:<br>[4970001 / 11682144] [=========================>.......................] ETA: 23 seconds - Batch Loss: 1454341.977887 - Avg. Epoch Loss: 1461594.727182<br>'); // clear any previous plot in window_id     \n",
       "  });\n",
       "</script>\n",
       "<div id=\"c5c783b6-725a-45aa-c5da-599afd6a29c6\"></div>\n"
      ]
     },
     "metadata": {},
     "output_type": "display_data"
    },
    {
     "data": {
      "text/html": [
       "<script type=\"text/javascript\">\n",
       "  $(function() {\n",
       "    $(\"#f4cb1888-616c-45a0-c59e-109620a30fc8\").html('Progress:<br>[4980001 / 11682144] [=========================>.......................] ETA: 23 seconds - Batch Loss: 1454312.507310 - Avg. Epoch Loss: 1461580.133558<br>'); // clear any previous plot in window_id     \n",
       "  });\n",
       "</script>\n",
       "<div id=\"ae6ea7dd-4976-4220-c268-8b666924d562\"></div>\n"
      ]
     },
     "metadata": {},
     "output_type": "display_data"
    },
    {
     "data": {
      "text/html": [
       "<script type=\"text/javascript\">\n",
       "  $(function() {\n",
       "    $(\"#f4cb1888-616c-45a0-c59e-109620a30fc8\").html('Progress:<br>[4990001 / 11682144] [=========================>.......................] ETA: 23 seconds - Batch Loss: 1454285.266952 - Avg. Epoch Loss: 1461565.543827<br>'); // clear any previous plot in window_id     \n",
       "  });\n",
       "</script>\n",
       "<div id=\"49973e5d-35f7-488d-c8d1-3b29d0af3c55\"></div>\n"
      ]
     },
     "metadata": {},
     "output_type": "display_data"
    },
    {
     "data": {
      "text/html": [
       "<script type=\"text/javascript\">\n",
       "  $(function() {\n",
       "    $(\"#f4cb1888-616c-45a0-c59e-109620a30fc8\").html('Progress:<br>[5000001 / 11682144] [=========================>.......................] ETA: 23 seconds - Batch Loss: 1454252.987262 - Avg. Epoch Loss: 1461550.947909<br>'); // clear any previous plot in window_id     \n",
       "  });\n",
       "</script>\n",
       "<div id=\"c7f1a3f3-18a3-43a3-c31b-db0ac644ffce\"></div>\n"
      ]
     },
     "metadata": {},
     "output_type": "display_data"
    },
    {
     "data": {
      "text/html": [
       "<script type=\"text/javascript\">\n",
       "  $(function() {\n",
       "    $(\"#f4cb1888-616c-45a0-c59e-109620a30fc8\").html('Progress:<br>[5010001 / 11682144] [=========================>.......................] ETA: 23 seconds - Batch Loss: 1454226.086180 - Avg. Epoch Loss: 1461536.356554<br>'); // clear any previous plot in window_id     \n",
       "  });\n",
       "</script>\n",
       "<div id=\"0bb10656-9d33-4ae0-cac1-f3265e0b7068\"></div>\n"
      ]
     },
     "metadata": {},
     "output_type": "display_data"
    },
    {
     "data": {
      "text/html": [
       "<script type=\"text/javascript\">\n",
       "  $(function() {\n",
       "    $(\"#f4cb1888-616c-45a0-c59e-109620a30fc8\").html('Progress:<br>[5020001 / 11682144] [=========================>.......................] ETA: 23 seconds - Batch Loss: 1454198.167476 - Avg. Epoch Loss: 1461521.767712<br>'); // clear any previous plot in window_id     \n",
       "  });\n",
       "</script>\n",
       "<div id=\"afe32cad-0091-47be-c7e2-e8bbf95d6df8\"></div>\n"
      ]
     },
     "metadata": {},
     "output_type": "display_data"
    },
    {
     "data": {
      "text/html": [
       "<script type=\"text/javascript\">\n",
       "  $(function() {\n",
       "    $(\"#f4cb1888-616c-45a0-c59e-109620a30fc8\").html('Progress:<br>[5030001 / 11682144] [=========================>.......................] ETA: 23 seconds - Batch Loss: 1454168.604168 - Avg. Epoch Loss: 1461507.178104<br>'); // clear any previous plot in window_id     \n",
       "  });\n",
       "</script>\n",
       "<div id=\"5b17414d-db33-40be-c0ee-49540deaa3a3\"></div>\n"
      ]
     },
     "metadata": {},
     "output_type": "display_data"
    },
    {
     "data": {
      "text/html": [
       "<script type=\"text/javascript\">\n",
       "  $(function() {\n",
       "    $(\"#f4cb1888-616c-45a0-c59e-109620a30fc8\").html('Progress:<br>[5040001 / 11682144] [=========================>.......................] ETA: 23 seconds - Batch Loss: 1454140.460317 - Avg. Epoch Loss: 1461492.590547<br>'); // clear any previous plot in window_id     \n",
       "  });\n",
       "</script>\n",
       "<div id=\"ba6ba112-6aa0-4420-c415-67c19f94fbd8\"></div>\n"
      ]
     },
     "metadata": {},
     "output_type": "display_data"
    },
    {
     "data": {
      "text/html": [
       "<script type=\"text/javascript\">\n",
       "  $(function() {\n",
       "    $(\"#f4cb1888-616c-45a0-c59e-109620a30fc8\").html('Progress:<br>[5050001 / 11682144] [==========================>......................] ETA: 21 seconds - Batch Loss: 1454110.698237 - Avg. Epoch Loss: 1461478.001830<br>'); // clear any previous plot in window_id     \n",
       "  });\n",
       "</script>\n",
       "<div id=\"d30ac905-2c5b-47ec-c7c4-6e49b42162e8\"></div>\n"
      ]
     },
     "metadata": {},
     "output_type": "display_data"
    },
    {
     "data": {
      "text/html": [
       "<script type=\"text/javascript\">\n",
       "  $(function() {\n",
       "    $(\"#f4cb1888-616c-45a0-c59e-109620a30fc8\").html('Progress:<br>[5060001 / 11682144] [==========================>......................] ETA: 21 seconds - Batch Loss: 1454082.204065 - Avg. Epoch Loss: 1461463.414461<br>'); // clear any previous plot in window_id     \n",
       "  });\n",
       "</script>\n",
       "<div id=\"2e1a394d-264e-489e-c8c9-8d6819de36fd\"></div>\n"
      ]
     },
     "metadata": {},
     "output_type": "display_data"
    },
    {
     "data": {
      "text/html": [
       "<script type=\"text/javascript\">\n",
       "  $(function() {\n",
       "    $(\"#f4cb1888-616c-45a0-c59e-109620a30fc8\").html('Progress:<br>[5070001 / 11682144] [==========================>......................] ETA: 21 seconds - Batch Loss: 1454049.956100 - Avg. Epoch Loss: 1461448.821042<br>'); // clear any previous plot in window_id     \n",
       "  });\n",
       "</script>\n",
       "<div id=\"725c9bb0-a21e-48aa-c80d-c5d1038794f7\"></div>\n"
      ]
     },
     "metadata": {},
     "output_type": "display_data"
    },
    {
     "data": {
      "text/html": [
       "<script type=\"text/javascript\">\n",
       "  $(function() {\n",
       "    $(\"#f4cb1888-616c-45a0-c59e-109620a30fc8\").html('Progress:<br>[5080001 / 11682144] [==========================>......................] ETA: 21 seconds - Batch Loss: 1454023.134765 - Avg. Epoch Loss: 1461434.232270<br>'); // clear any previous plot in window_id     \n",
       "  });\n",
       "</script>\n",
       "<div id=\"9a98251c-2c80-4119-c1b5-13edf6d615a9\"></div>\n"
      ]
     },
     "metadata": {},
     "output_type": "display_data"
    },
    {
     "data": {
      "text/html": [
       "<script type=\"text/javascript\">\n",
       "  $(function() {\n",
       "    $(\"#f4cb1888-616c-45a0-c59e-109620a30fc8\").html('Progress:<br>[5090001 / 11682144] [==========================>......................] ETA: 21 seconds - Batch Loss: 1453993.574634 - Avg. Epoch Loss: 1461419.642748<br>'); // clear any previous plot in window_id     \n",
       "  });\n",
       "</script>\n",
       "<div id=\"4bee697b-b758-4279-c264-f569b4b1bb15\"></div>\n"
      ]
     },
     "metadata": {},
     "output_type": "display_data"
    },
    {
     "data": {
      "text/html": [
       "<script type=\"text/javascript\">\n",
       "  $(function() {\n",
       "    $(\"#f4cb1888-616c-45a0-c59e-109620a30fc8\").html('Progress:<br>[5100001 / 11682144] [==========================>......................] ETA: 21 seconds - Batch Loss: 1453965.233899 - Avg. Epoch Loss: 1461405.054867<br>'); // clear any previous plot in window_id     \n",
       "  });\n",
       "</script>\n",
       "<div id=\"cee1b3ad-3f67-4b17-cb1b-ff55db6debb3\"></div>\n"
      ]
     },
     "metadata": {},
     "output_type": "display_data"
    },
    {
     "data": {
      "text/html": [
       "<script type=\"text/javascript\">\n",
       "  $(function() {\n",
       "    $(\"#f4cb1888-616c-45a0-c59e-109620a30fc8\").html('Progress:<br>[5110001 / 11682144] [==========================>......................] ETA: 21 seconds - Batch Loss: 1453935.942909 - Avg. Epoch Loss: 1461390.466760<br>'); // clear any previous plot in window_id     \n",
       "  });\n",
       "</script>\n",
       "<div id=\"795238a4-38ef-45fc-c5a0-dd9262f47c6c\"></div>\n"
      ]
     },
     "metadata": {},
     "output_type": "display_data"
    },
    {
     "data": {
      "text/html": [
       "<script type=\"text/javascript\">\n",
       "  $(function() {\n",
       "    $(\"#f4cb1888-616c-45a0-c59e-109620a30fc8\").html('Progress:<br>[5120001 / 11682144] [==========================>......................] ETA: 21 seconds - Batch Loss: 1453907.835192 - Avg. Epoch Loss: 1461375.880737<br>'); // clear any previous plot in window_id     \n",
       "  });\n",
       "</script>\n",
       "<div id=\"66d5fdbe-fea7-491c-c930-19963d358d36\"></div>\n"
      ]
     },
     "metadata": {},
     "output_type": "display_data"
    },
    {
     "data": {
      "text/html": [
       "<script type=\"text/javascript\">\n",
       "  $(function() {\n",
       "    $(\"#f4cb1888-616c-45a0-c59e-109620a30fc8\").html('Progress:<br>[5130001 / 11682144] [==========================>......................] ETA: 21 seconds - Batch Loss: 1453877.402477 - Avg. Epoch Loss: 1461361.292260<br>'); // clear any previous plot in window_id     \n",
       "  });\n",
       "</script>\n",
       "<div id=\"b48838b7-c5d5-40df-c0e4-c152e3fbc90b\"></div>\n"
      ]
     },
     "metadata": {},
     "output_type": "display_data"
    },
    {
     "data": {
      "text/html": [
       "<script type=\"text/javascript\">\n",
       "  $(function() {\n",
       "    $(\"#f4cb1888-616c-45a0-c59e-109620a30fc8\").html('Progress:<br>[5140001 / 11682144] [==========================>......................] ETA: 21 seconds - Batch Loss: 1453848.535702 - Avg. Epoch Loss: 1461346.704386<br>'); // clear any previous plot in window_id     \n",
       "  });\n",
       "</script>\n",
       "<div id=\"84ccaee9-1a8c-433d-c351-a807401d1ddc\"></div>\n"
      ]
     },
     "metadata": {},
     "output_type": "display_data"
    },
    {
     "data": {
      "text/html": [
       "<script type=\"text/javascript\">\n",
       "  $(function() {\n",
       "    $(\"#f4cb1888-616c-45a0-c59e-109620a30fc8\").html('Progress:<br>[5150001 / 11682144] [==========================>......................] ETA: 21 seconds - Batch Loss: 1453818.743449 - Avg. Epoch Loss: 1461332.115318<br>'); // clear any previous plot in window_id     \n",
       "  });\n",
       "</script>\n",
       "<div id=\"a65c017c-3bb5-4302-c3a9-f9f09f6765e6\"></div>\n"
      ]
     },
     "metadata": {},
     "output_type": "display_data"
    },
    {
     "data": {
      "text/html": [
       "<script type=\"text/javascript\">\n",
       "  $(function() {\n",
       "    $(\"#f4cb1888-616c-45a0-c59e-109620a30fc8\").html('Progress:<br>[5160001 / 11682144] [==========================>......................] ETA: 21 seconds - Batch Loss: 1453789.226795 - Avg. Epoch Loss: 1461317.525594<br>'); // clear any previous plot in window_id     \n",
       "  });\n",
       "</script>\n",
       "<div id=\"a8b3d8f6-3a8f-4e59-ce3c-42fb66013c43\"></div>\n"
      ]
     },
     "metadata": {},
     "output_type": "display_data"
    },
    {
     "data": {
      "text/html": [
       "<script type=\"text/javascript\">\n",
       "  $(function() {\n",
       "    $(\"#f4cb1888-616c-45a0-c59e-109620a30fc8\").html('Progress:<br>[5170001 / 11682144] [==========================>......................] ETA: 22 seconds - Batch Loss: 1453760.965494 - Avg. Epoch Loss: 1461302.937643<br>'); // clear any previous plot in window_id     \n",
       "  });\n",
       "</script>\n",
       "<div id=\"b71de2e6-eda0-49fe-c95a-257bbddd69f9\"></div>\n"
      ]
     },
     "metadata": {},
     "output_type": "display_data"
    },
    {
     "data": {
      "text/html": [
       "<script type=\"text/javascript\">\n",
       "  $(function() {\n",
       "    $(\"#f4cb1888-616c-45a0-c59e-109620a30fc8\").html('Progress:<br>[5180001 / 11682144] [==========================>......................] ETA: 22 seconds - Batch Loss: 1453731.586140 - Avg. Epoch Loss: 1461288.349300<br>'); // clear any previous plot in window_id     \n",
       "  });\n",
       "</script>\n",
       "<div id=\"f7f2b6d3-19ab-427a-c27d-8aa64e7b962d\"></div>\n"
      ]
     },
     "metadata": {},
     "output_type": "display_data"
    },
    {
     "data": {
      "text/html": [
       "<script type=\"text/javascript\">\n",
       "  $(function() {\n",
       "    $(\"#f4cb1888-616c-45a0-c59e-109620a30fc8\").html('Progress:<br>[5190001 / 11682144] [==========================>......................] ETA: 22 seconds - Batch Loss: 1453703.494758 - Avg. Epoch Loss: 1461273.763044<br>'); // clear any previous plot in window_id     \n",
       "  });\n",
       "</script>\n",
       "<div id=\"41e1a20c-219c-4553-c5fa-7c16a945512f\"></div>\n"
      ]
     },
     "metadata": {},
     "output_type": "display_data"
    },
    {
     "data": {
      "text/html": [
       "<script type=\"text/javascript\">\n",
       "  $(function() {\n",
       "    $(\"#f4cb1888-616c-45a0-c59e-109620a30fc8\").html('Progress:<br>[5200001 / 11682144] [==========================>......................] ETA: 22 seconds - Batch Loss: 1453674.255916 - Avg. Epoch Loss: 1461259.176661<br>'); // clear any previous plot in window_id     \n",
       "  });\n",
       "</script>\n",
       "<div id=\"abe8373b-dd1c-4f12-cf7f-bbaeb4d8198b\"></div>\n"
      ]
     },
     "metadata": {},
     "output_type": "display_data"
    },
    {
     "data": {
      "text/html": [
       "<script type=\"text/javascript\">\n",
       "  $(function() {\n",
       "    $(\"#f4cb1888-616c-45a0-c59e-109620a30fc8\").html('Progress:<br>[5210001 / 11682144] [==========================>......................] ETA: 22 seconds - Batch Loss: 1453644.566291 - Avg. Epoch Loss: 1461244.589287<br>'); // clear any previous plot in window_id     \n",
       "  });\n",
       "</script>\n",
       "<div id=\"651cd986-f9e2-48db-c8e2-0662f4ab8dd1\"></div>\n"
      ]
     },
     "metadata": {},
     "output_type": "display_data"
    },
    {
     "data": {
      "text/html": [
       "<script type=\"text/javascript\">\n",
       "  $(function() {\n",
       "    $(\"#f4cb1888-616c-45a0-c59e-109620a30fc8\").html('Progress:<br>[5220001 / 11682144] [==========================>......................] ETA: 22 seconds - Batch Loss: 1453615.885808 - Avg. Epoch Loss: 1461230.002859<br>'); // clear any previous plot in window_id     \n",
       "  });\n",
       "</script>\n",
       "<div id=\"876561d7-4aa1-402e-c062-b6826b6cc926\"></div>\n"
      ]
     },
     "metadata": {},
     "output_type": "display_data"
    },
    {
     "data": {
      "text/html": [
       "<script type=\"text/javascript\">\n",
       "  $(function() {\n",
       "    $(\"#f4cb1888-616c-45a0-c59e-109620a30fc8\").html('Progress:<br>[5230001 / 11682144] [==========================>......................] ETA: 22 seconds - Batch Loss: 1453587.975853 - Avg. Epoch Loss: 1461215.418841<br>'); // clear any previous plot in window_id     \n",
       "  });\n",
       "</script>\n",
       "<div id=\"ee496caa-8875-4f10-cfde-70ff6004fa80\"></div>\n"
      ]
     },
     "metadata": {},
     "output_type": "display_data"
    },
    {
     "data": {
      "text/html": [
       "<script type=\"text/javascript\">\n",
       "  $(function() {\n",
       "    $(\"#f4cb1888-616c-45a0-c59e-109620a30fc8\").html('Progress:<br>[5240001 / 11682144] [===========================>.....................] ETA: 20 seconds - Batch Loss: 1453558.762436 - Avg. Epoch Loss: 1461200.834736<br>'); // clear any previous plot in window_id     \n",
       "  });\n",
       "</script>\n",
       "<div id=\"4b64dac6-26e2-492b-c975-2bc43013f683\"></div>\n"
      ]
     },
     "metadata": {},
     "output_type": "display_data"
    },
    {
     "data": {
      "text/html": [
       "<script type=\"text/javascript\">\n",
       "  $(function() {\n",
       "    $(\"#f4cb1888-616c-45a0-c59e-109620a30fc8\").html('Progress:<br>[5250001 / 11682144] [===========================>.....................] ETA: 20 seconds - Batch Loss: 1453527.753690 - Avg. Epoch Loss: 1461186.247132<br>'); // clear any previous plot in window_id     \n",
       "  });\n",
       "</script>\n",
       "<div id=\"8cf178c3-994f-4cb4-cc65-e684f3539de4\"></div>\n"
      ]
     },
     "metadata": {},
     "output_type": "display_data"
    },
    {
     "data": {
      "text/html": [
       "<script type=\"text/javascript\">\n",
       "  $(function() {\n",
       "    $(\"#f4cb1888-616c-45a0-c59e-109620a30fc8\").html('Progress:<br>[5260001 / 11682144] [===========================>.....................] ETA: 20 seconds - Batch Loss: 1453501.255223 - Avg. Epoch Loss: 1461171.664608<br>'); // clear any previous plot in window_id     \n",
       "  });\n",
       "</script>\n",
       "<div id=\"21a7c899-ad84-4a4f-cad0-3c62b62b80df\"></div>\n"
      ]
     },
     "metadata": {},
     "output_type": "display_data"
    },
    {
     "data": {
      "text/html": [
       "<script type=\"text/javascript\">\n",
       "  $(function() {\n",
       "    $(\"#f4cb1888-616c-45a0-c59e-109620a30fc8\").html('Progress:<br>[5270001 / 11682144] [===========================>.....................] ETA: 20 seconds - Batch Loss: 1453469.715004 - Avg. Epoch Loss: 1461157.077585<br>'); // clear any previous plot in window_id     \n",
       "  });\n",
       "</script>\n",
       "<div id=\"42aa146d-4ba4-41aa-c131-c09a61a0cc0f\"></div>\n"
      ]
     },
     "metadata": {},
     "output_type": "display_data"
    },
    {
     "data": {
      "text/html": [
       "<script type=\"text/javascript\">\n",
       "  $(function() {\n",
       "    $(\"#f4cb1888-616c-45a0-c59e-109620a30fc8\").html('Progress:<br>[5280001 / 11682144] [===========================>.....................] ETA: 20 seconds - Batch Loss: 1453441.439852 - Avg. Epoch Loss: 1461142.492261<br>'); // clear any previous plot in window_id     \n",
       "  });\n",
       "</script>\n",
       "<div id=\"7ee8d5da-474d-478f-c707-cf2c9c2202a5\"></div>\n"
      ]
     },
     "metadata": {},
     "output_type": "display_data"
    },
    {
     "data": {
      "text/html": [
       "<script type=\"text/javascript\">\n",
       "  $(function() {\n",
       "    $(\"#f4cb1888-616c-45a0-c59e-109620a30fc8\").html('Progress:<br>[5290001 / 11682144] [===========================>.....................] ETA: 20 seconds - Batch Loss: 1453413.498477 - Avg. Epoch Loss: 1461127.909257<br>'); // clear any previous plot in window_id     \n",
       "  });\n",
       "</script>\n",
       "<div id=\"d12b0913-522a-49c7-c951-45bc2c4f127a\"></div>\n"
      ]
     },
     "metadata": {},
     "output_type": "display_data"
    },
    {
     "data": {
      "text/html": [
       "<script type=\"text/javascript\">\n",
       "  $(function() {\n",
       "    $(\"#f4cb1888-616c-45a0-c59e-109620a30fc8\").html('Progress:<br>[5300001 / 11682144] [===========================>.....................] ETA: 20 seconds - Batch Loss: 1453384.097336 - Avg. Epoch Loss: 1461113.325810<br>'); // clear any previous plot in window_id     \n",
       "  });\n",
       "</script>\n",
       "<div id=\"e7326de7-215d-4fbb-cff7-86fe6533d7c8\"></div>\n"
      ]
     },
     "metadata": {},
     "output_type": "display_data"
    },
    {
     "data": {
      "text/html": [
       "<script type=\"text/javascript\">\n",
       "  $(function() {\n",
       "    $(\"#f4cb1888-616c-45a0-c59e-109620a30fc8\").html('Progress:<br>[5310001 / 11682144] [===========================>.....................] ETA: 20 seconds - Batch Loss: 1453356.873745 - Avg. Epoch Loss: 1461098.746015<br>'); // clear any previous plot in window_id     \n",
       "  });\n",
       "</script>\n",
       "<div id=\"d8975aee-60b7-4eee-ceb1-0dabc66e4654\"></div>\n"
      ]
     },
     "metadata": {},
     "output_type": "display_data"
    },
    {
     "data": {
      "text/html": [
       "<script type=\"text/javascript\">\n",
       "  $(function() {\n",
       "    $(\"#f4cb1888-616c-45a0-c59e-109620a30fc8\").html('Progress:<br>[5320001 / 11682144] [===========================>.....................] ETA: 20 seconds - Batch Loss: 1453325.292591 - Avg. Epoch Loss: 1461084.161678<br>'); // clear any previous plot in window_id     \n",
       "  });\n",
       "</script>\n",
       "<div id=\"0d29e661-82a2-497c-c96f-19b759a6ea15\"></div>\n"
      ]
     },
     "metadata": {},
     "output_type": "display_data"
    },
    {
     "data": {
      "text/html": [
       "<script type=\"text/javascript\">\n",
       "  $(function() {\n",
       "    $(\"#f4cb1888-616c-45a0-c59e-109620a30fc8\").html('Progress:<br>[5330001 / 11682144] [===========================>.....................] ETA: 20 seconds - Batch Loss: 1453295.417050 - Avg. Epoch Loss: 1461069.576016<br>'); // clear any previous plot in window_id     \n",
       "  });\n",
       "</script>\n",
       "<div id=\"725c9e66-b13b-42dd-c261-09f2e9ded997\"></div>\n"
      ]
     },
     "metadata": {},
     "output_type": "display_data"
    },
    {
     "data": {
      "text/html": [
       "<script type=\"text/javascript\">\n",
       "  $(function() {\n",
       "    $(\"#f4cb1888-616c-45a0-c59e-109620a30fc8\").html('Progress:<br>[5340001 / 11682144] [===========================>.....................] ETA: 20 seconds - Batch Loss: 1453265.909999 - Avg. Epoch Loss: 1461054.989727<br>'); // clear any previous plot in window_id     \n",
       "  });\n",
       "</script>\n",
       "<div id=\"f973c5b7-8f80-4a4c-cae0-bd7894be557b\"></div>\n"
      ]
     },
     "metadata": {},
     "output_type": "display_data"
    },
    {
     "data": {
      "text/html": [
       "<script type=\"text/javascript\">\n",
       "  $(function() {\n",
       "    $(\"#f4cb1888-616c-45a0-c59e-109620a30fc8\").html('Progress:<br>[5350001 / 11682144] [===========================>.....................] ETA: 20 seconds - Batch Loss: 1453237.328046 - Avg. Epoch Loss: 1461040.404540<br>'); // clear any previous plot in window_id     \n",
       "  });\n",
       "</script>\n",
       "<div id=\"90a3c97c-e0b3-4147-c1c0-27cd41359b8b\"></div>\n"
      ]
     },
     "metadata": {},
     "output_type": "display_data"
    },
    {
     "data": {
      "text/html": [
       "<script type=\"text/javascript\">\n",
       "  $(function() {\n",
       "    $(\"#f4cb1888-616c-45a0-c59e-109620a30fc8\").html('Progress:<br>[5360001 / 11682144] [===========================>.....................] ETA: 20 seconds - Batch Loss: 1453209.412523 - Avg. Epoch Loss: 1461025.821690<br>'); // clear any previous plot in window_id     \n",
       "  });\n",
       "</script>\n",
       "<div id=\"57272793-4967-44cc-c4b5-8bd188e1a435\"></div>\n"
      ]
     },
     "metadata": {},
     "output_type": "display_data"
    },
    {
     "data": {
      "text/html": [
       "<script type=\"text/javascript\">\n",
       "  $(function() {\n",
       "    $(\"#f4cb1888-616c-45a0-c59e-109620a30fc8\").html('Progress:<br>[5370001 / 11682144] [===========================>.....................] ETA: 20 seconds - Batch Loss: 1453180.903373 - Avg. Epoch Loss: 1461011.240060<br>'); // clear any previous plot in window_id     \n",
       "  });\n",
       "</script>\n",
       "<div id=\"280e9c50-426b-47c5-c7dc-3eb4d1646b14\"></div>\n"
      ]
     },
     "metadata": {},
     "output_type": "display_data"
    },
    {
     "data": {
      "text/html": [
       "<script type=\"text/javascript\">\n",
       "  $(function() {\n",
       "    $(\"#f4cb1888-616c-45a0-c59e-109620a30fc8\").html('Progress:<br>[5380001 / 11682144] [===========================>.....................] ETA: 20 seconds - Batch Loss: 1453150.602289 - Avg. Epoch Loss: 1460996.656319<br>'); // clear any previous plot in window_id     \n",
       "  });\n",
       "</script>\n",
       "<div id=\"33793331-35aa-47da-c7ad-154632f02cbd\"></div>\n"
      ]
     },
     "metadata": {},
     "output_type": "display_data"
    },
    {
     "data": {
      "text/html": [
       "<script type=\"text/javascript\">\n",
       "  $(function() {\n",
       "    $(\"#f4cb1888-616c-45a0-c59e-109620a30fc8\").html('Progress:<br>[5390001 / 11682144] [===========================>.....................] ETA: 20 seconds - Batch Loss: 1453120.278411 - Avg. Epoch Loss: 1460982.070437<br>'); // clear any previous plot in window_id     \n",
       "  });\n",
       "</script>\n",
       "<div id=\"a8b94c7b-c0d8-446b-c49d-ebf17eded235\"></div>\n"
      ]
     },
     "metadata": {},
     "output_type": "display_data"
    },
    {
     "data": {
      "text/html": [
       "<script type=\"text/javascript\">\n",
       "  $(function() {\n",
       "    $(\"#f4cb1888-616c-45a0-c59e-109620a30fc8\").html('Progress:<br>[5400001 / 11682144] [===========================>.....................] ETA: 20 seconds - Batch Loss: 1453092.178716 - Avg. Epoch Loss: 1460967.486536<br>'); // clear any previous plot in window_id     \n",
       "  });\n",
       "</script>\n",
       "<div id=\"d8f273c6-a527-4a23-ca9e-155338515f5e\"></div>\n"
      ]
     },
     "metadata": {},
     "output_type": "display_data"
    },
    {
     "data": {
      "text/html": [
       "<script type=\"text/javascript\">\n",
       "  $(function() {\n",
       "    $(\"#f4cb1888-616c-45a0-c59e-109620a30fc8\").html('Progress:<br>[5410001 / 11682144] [===========================>.....................] ETA: 20 seconds - Batch Loss: 1453064.643881 - Avg. Epoch Loss: 1460952.905649<br>'); // clear any previous plot in window_id     \n",
       "  });\n",
       "</script>\n",
       "<div id=\"28c5b42a-a508-498e-c9e0-42167262c434\"></div>\n"
      ]
     },
     "metadata": {},
     "output_type": "display_data"
    },
    {
     "data": {
      "text/html": [
       "<script type=\"text/javascript\">\n",
       "  $(function() {\n",
       "    $(\"#f4cb1888-616c-45a0-c59e-109620a30fc8\").html('Progress:<br>[5420001 / 11682144] [===========================>.....................] ETA: 20 seconds - Batch Loss: 1453034.766491 - Avg. Epoch Loss: 1460938.323443<br>'); // clear any previous plot in window_id     \n",
       "  });\n",
       "</script>\n",
       "<div id=\"6a8cca3c-6a34-4ec5-ceed-a3ada1a3a6d3\"></div>\n"
      ]
     },
     "metadata": {},
     "output_type": "display_data"
    },
    {
     "data": {
      "text/html": [
       "<script type=\"text/javascript\">\n",
       "  $(function() {\n",
       "    $(\"#f4cb1888-616c-45a0-c59e-109620a30fc8\").html('Progress:<br>[5430001 / 11682144] [============================>....................] ETA: 19 seconds - Batch Loss: 1453006.138576 - Avg. Epoch Loss: 1460923.742223<br>'); // clear any previous plot in window_id     \n",
       "  });\n",
       "</script>\n",
       "<div id=\"6a2f5e39-feb4-4242-c258-a54606d3194d\"></div>\n"
      ]
     },
     "metadata": {},
     "output_type": "display_data"
    },
    {
     "data": {
      "text/html": [
       "<script type=\"text/javascript\">\n",
       "  $(function() {\n",
       "    $(\"#f4cb1888-616c-45a0-c59e-109620a30fc8\").html('Progress:<br>[5440001 / 11682144] [============================>....................] ETA: 19 seconds - Batch Loss: 1452975.843421 - Avg. Epoch Loss: 1460909.158925<br>'); // clear any previous plot in window_id     \n",
       "  });\n",
       "</script>\n",
       "<div id=\"fbb59436-6886-4724-c799-a6580ca016ac\"></div>\n"
      ]
     },
     "metadata": {},
     "output_type": "display_data"
    },
    {
     "data": {
      "text/html": [
       "<script type=\"text/javascript\">\n",
       "  $(function() {\n",
       "    $(\"#f4cb1888-616c-45a0-c59e-109620a30fc8\").html('Progress:<br>[5450001 / 11682144] [============================>....................] ETA: 19 seconds - Batch Loss: 1452947.233271 - Avg. Epoch Loss: 1460894.576647<br>'); // clear any previous plot in window_id     \n",
       "  });\n",
       "</script>\n",
       "<div id=\"dfac6795-8bb6-4aab-ca43-8564b7b28700\"></div>\n"
      ]
     },
     "metadata": {},
     "output_type": "display_data"
    },
    {
     "data": {
      "text/html": [
       "<script type=\"text/javascript\">\n",
       "  $(function() {\n",
       "    $(\"#f4cb1888-616c-45a0-c59e-109620a30fc8\").html('Progress:<br>[5460001 / 11682144] [============================>....................] ETA: 19 seconds - Batch Loss: 1452919.285419 - Avg. Epoch Loss: 1460879.996592<br>'); // clear any previous plot in window_id     \n",
       "  });\n",
       "</script>\n",
       "<div id=\"cfdb6f6c-11c6-4b1c-cbb6-549033854011\"></div>\n"
      ]
     },
     "metadata": {},
     "output_type": "display_data"
    },
    {
     "data": {
      "text/html": [
       "<script type=\"text/javascript\">\n",
       "  $(function() {\n",
       "    $(\"#f4cb1888-616c-45a0-c59e-109620a30fc8\").html('Progress:<br>[5470001 / 11682144] [============================>....................] ETA: 19 seconds - Batch Loss: 1452889.090781 - Avg. Epoch Loss: 1460865.414650<br>'); // clear any previous plot in window_id     \n",
       "  });\n",
       "</script>\n",
       "<div id=\"bf99c4c3-538f-4780-c722-3d56f0fc0ece\"></div>\n"
      ]
     },
     "metadata": {},
     "output_type": "display_data"
    },
    {
     "data": {
      "text/html": [
       "<script type=\"text/javascript\">\n",
       "  $(function() {\n",
       "    $(\"#f4cb1888-616c-45a0-c59e-109620a30fc8\").html('Progress:<br>[5480001 / 11682144] [============================>....................] ETA: 19 seconds - Batch Loss: 1452859.869322 - Avg. Epoch Loss: 1460850.832603<br>'); // clear any previous plot in window_id     \n",
       "  });\n",
       "</script>\n",
       "<div id=\"ebd19277-e68f-4859-c805-17d6471245cf\"></div>\n"
      ]
     },
     "metadata": {},
     "output_type": "display_data"
    },
    {
     "data": {
      "text/html": [
       "<script type=\"text/javascript\">\n",
       "  $(function() {\n",
       "    $(\"#f4cb1888-616c-45a0-c59e-109620a30fc8\").html('Progress:<br>[5490001 / 11682144] [============================>....................] ETA: 19 seconds - Batch Loss: 1452831.851223 - Avg. Epoch Loss: 1460836.252639<br>'); // clear any previous plot in window_id     \n",
       "  });\n",
       "</script>\n",
       "<div id=\"42408716-6fb3-448e-c445-25c0581dfbd7\"></div>\n"
      ]
     },
     "metadata": {},
     "output_type": "display_data"
    },
    {
     "data": {
      "text/html": [
       "<script type=\"text/javascript\">\n",
       "  $(function() {\n",
       "    $(\"#f4cb1888-616c-45a0-c59e-109620a30fc8\").html('Progress:<br>[5500001 / 11682144] [============================>....................] ETA: 19 seconds - Batch Loss: 1452802.978532 - Avg. Epoch Loss: 1460821.673197<br>'); // clear any previous plot in window_id     \n",
       "  });\n",
       "</script>\n",
       "<div id=\"2522d8f9-663d-499c-c9c1-012a3b7038ce\"></div>\n"
      ]
     },
     "metadata": {},
     "output_type": "display_data"
    },
    {
     "data": {
      "text/html": [
       "<script type=\"text/javascript\">\n",
       "  $(function() {\n",
       "    $(\"#f4cb1888-616c-45a0-c59e-109620a30fc8\").html('Progress:<br>[5510001 / 11682144] [============================>....................] ETA: 19 seconds - Batch Loss: 1452772.813199 - Avg. Epoch Loss: 1460807.091932<br>'); // clear any previous plot in window_id     \n",
       "  });\n",
       "</script>\n",
       "<div id=\"0bf023a1-f69e-4f81-cf61-4e061de24816\"></div>\n"
      ]
     },
     "metadata": {},
     "output_type": "display_data"
    },
    {
     "data": {
      "text/html": [
       "<script type=\"text/javascript\">\n",
       "  $(function() {\n",
       "    $(\"#f4cb1888-616c-45a0-c59e-109620a30fc8\").html('Progress:<br>[5520001 / 11682144] [============================>....................] ETA: 19 seconds - Batch Loss: 1452743.411169 - Avg. Epoch Loss: 1460792.510233<br>'); // clear any previous plot in window_id     \n",
       "  });\n",
       "</script>\n",
       "<div id=\"859dbc31-0013-4d7d-cd0b-d0d8b94b13f8\"></div>\n"
      ]
     },
     "metadata": {},
     "output_type": "display_data"
    },
    {
     "data": {
      "text/html": [
       "<script type=\"text/javascript\">\n",
       "  $(function() {\n",
       "    $(\"#f4cb1888-616c-45a0-c59e-109620a30fc8\").html('Progress:<br>[5530001 / 11682144] [============================>....................] ETA: 19 seconds - Batch Loss: 1452716.335594 - Avg. Epoch Loss: 1460777.932303<br>'); // clear any previous plot in window_id     \n",
       "  });\n",
       "</script>\n",
       "<div id=\"6328d6e7-0318-4146-c1ca-19836ad5ab9c\"></div>\n"
      ]
     },
     "metadata": {},
     "output_type": "display_data"
    },
    {
     "data": {
      "text/html": [
       "<script type=\"text/javascript\">\n",
       "  $(function() {\n",
       "    $(\"#f4cb1888-616c-45a0-c59e-109620a30fc8\").html('Progress:<br>[5540001 / 11682144] [============================>....................] ETA: 19 seconds - Batch Loss: 1452688.163466 - Avg. Epoch Loss: 1460763.356146<br>'); // clear any previous plot in window_id     \n",
       "  });\n",
       "</script>\n",
       "<div id=\"9726f75b-f141-40c7-c00c-5dbcd44b5eaa\"></div>\n"
      ]
     },
     "metadata": {},
     "output_type": "display_data"
    },
    {
     "data": {
      "text/html": [
       "<script type=\"text/javascript\">\n",
       "  $(function() {\n",
       "    $(\"#f4cb1888-616c-45a0-c59e-109620a30fc8\").html('Progress:<br>[5550001 / 11682144] [============================>....................] ETA: 19 seconds - Batch Loss: 1452656.909782 - Avg. Epoch Loss: 1460748.776209<br>'); // clear any previous plot in window_id     \n",
       "  });\n",
       "</script>\n",
       "<div id=\"789af9f6-5505-4236-c245-753fc398b736\"></div>\n"
      ]
     },
     "metadata": {},
     "output_type": "display_data"
    },
    {
     "data": {
      "text/html": [
       "<script type=\"text/javascript\">\n",
       "  $(function() {\n",
       "    $(\"#f4cb1888-616c-45a0-c59e-109620a30fc8\").html('Progress:<br>[5560001 / 11682144] [============================>....................] ETA: 19 seconds - Batch Loss: 1452628.311699 - Avg. Epoch Loss: 1460734.197281<br>'); // clear any previous plot in window_id     \n",
       "  });\n",
       "</script>\n",
       "<div id=\"e6797ed4-0488-4c7c-cce6-03ec54a9b286\"></div>\n"
      ]
     },
     "metadata": {},
     "output_type": "display_data"
    },
    {
     "data": {
      "text/html": [
       "<script type=\"text/javascript\">\n",
       "  $(function() {\n",
       "    $(\"#f4cb1888-616c-45a0-c59e-109620a30fc8\").html('Progress:<br>[5570001 / 11682144] [============================>....................] ETA: 19 seconds - Batch Loss: 1452598.992980 - Avg. Epoch Loss: 1460719.618064<br>'); // clear any previous plot in window_id     \n",
       "  });\n",
       "</script>\n",
       "<div id=\"c67dc7c4-6c8d-47d2-c736-55a8732fea91\"></div>\n"
      ]
     },
     "metadata": {},
     "output_type": "display_data"
    },
    {
     "data": {
      "text/html": [
       "<script type=\"text/javascript\">\n",
       "  $(function() {\n",
       "    $(\"#f4cb1888-616c-45a0-c59e-109620a30fc8\").html('Progress:<br>[5580001 / 11682144] [============================>....................] ETA: 19 seconds - Batch Loss: 1452569.336207 - Avg. Epoch Loss: 1460705.037956<br>'); // clear any previous plot in window_id     \n",
       "  });\n",
       "</script>\n",
       "<div id=\"e27e3091-b262-4146-c109-88533d1c2939\"></div>\n"
      ]
     },
     "metadata": {},
     "output_type": "display_data"
    },
    {
     "data": {
      "text/html": [
       "<script type=\"text/javascript\">\n",
       "  $(function() {\n",
       "    $(\"#f4cb1888-616c-45a0-c59e-109620a30fc8\").html('Progress:<br>[5590001 / 11682144] [============================>....................] ETA: 19 seconds - Batch Loss: 1452539.415014 - Avg. Epoch Loss: 1460690.456489<br>'); // clear any previous plot in window_id     \n",
       "  });\n",
       "</script>\n",
       "<div id=\"2ccdf6f5-610e-4bae-cbaa-d8dd2f1b2dd5\"></div>\n"
      ]
     },
     "metadata": {},
     "output_type": "display_data"
    },
    {
     "data": {
      "text/html": [
       "<script type=\"text/javascript\">\n",
       "  $(function() {\n",
       "    $(\"#f4cb1888-616c-45a0-c59e-109620a30fc8\").html('Progress:<br>[5600001 / 11682144] [============================>....................] ETA: 19 seconds - Batch Loss: 1452511.744147 - Avg. Epoch Loss: 1460675.877682<br>'); // clear any previous plot in window_id     \n",
       "  });\n",
       "</script>\n",
       "<div id=\"34c86567-3159-470c-c77d-31df7f9d9c86\"></div>\n"
      ]
     },
     "metadata": {},
     "output_type": "display_data"
    },
    {
     "data": {
      "text/html": [
       "<script type=\"text/javascript\">\n",
       "  $(function() {\n",
       "    $(\"#f4cb1888-616c-45a0-c59e-109620a30fc8\").html('Progress:<br>[5610001 / 11682144] [=============================>...................] ETA: 18 seconds - Batch Loss: 1452481.890456 - Avg. Epoch Loss: 1460661.297636<br>'); // clear any previous plot in window_id     \n",
       "  });\n",
       "</script>\n",
       "<div id=\"1abef2d2-bede-4457-c41a-57eb1d17abe3\"></div>\n"
      ]
     },
     "metadata": {},
     "output_type": "display_data"
    },
    {
     "data": {
      "text/html": [
       "<script type=\"text/javascript\">\n",
       "  $(function() {\n",
       "    $(\"#f4cb1888-616c-45a0-c59e-109620a30fc8\").html('Progress:<br>[5620001 / 11682144] [=============================>...................] ETA: 18 seconds - Batch Loss: 1452453.003083 - Avg. Epoch Loss: 1460646.718075<br>'); // clear any previous plot in window_id     \n",
       "  });\n",
       "</script>\n",
       "<div id=\"0614ec2d-17ef-432f-c3d2-c27ff94b4c39\"></div>\n"
      ]
     },
     "metadata": {},
     "output_type": "display_data"
    },
    {
     "data": {
      "text/html": [
       "<script type=\"text/javascript\">\n",
       "  $(function() {\n",
       "    $(\"#f4cb1888-616c-45a0-c59e-109620a30fc8\").html('Progress:<br>[5630001 / 11682144] [=============================>...................] ETA: 18 seconds - Batch Loss: 1452424.343163 - Avg. Epoch Loss: 1460632.139398<br>'); // clear any previous plot in window_id     \n",
       "  });\n",
       "</script>\n",
       "<div id=\"92ec9145-e066-4cf7-cc07-345cd10f36fe\"></div>\n"
      ]
     },
     "metadata": {},
     "output_type": "display_data"
    },
    {
     "data": {
      "text/html": [
       "<script type=\"text/javascript\">\n",
       "  $(function() {\n",
       "    $(\"#f4cb1888-616c-45a0-c59e-109620a30fc8\").html('Progress:<br>[5640001 / 11682144] [=============================>...................] ETA: 18 seconds - Batch Loss: 1452394.859419 - Avg. Epoch Loss: 1460617.560144<br>'); // clear any previous plot in window_id     \n",
       "  });\n",
       "</script>\n",
       "<div id=\"9108809f-086b-4902-c9ea-374f33ae3705\"></div>\n"
      ]
     },
     "metadata": {},
     "output_type": "display_data"
    },
    {
     "data": {
      "text/html": [
       "<script type=\"text/javascript\">\n",
       "  $(function() {\n",
       "    $(\"#f4cb1888-616c-45a0-c59e-109620a30fc8\").html('Progress:<br>[5650001 / 11682144] [=============================>...................] ETA: 18 seconds - Batch Loss: 1452365.102515 - Avg. Epoch Loss: 1460602.979833<br>'); // clear any previous plot in window_id     \n",
       "  });\n",
       "</script>\n",
       "<div id=\"f11539ff-23e2-4b65-cb0a-214fba98681a\"></div>\n"
      ]
     },
     "metadata": {},
     "output_type": "display_data"
    },
    {
     "data": {
      "text/html": [
       "<script type=\"text/javascript\">\n",
       "  $(function() {\n",
       "    $(\"#f4cb1888-616c-45a0-c59e-109620a30fc8\").html('Progress:<br>[5660001 / 11682144] [=============================>...................] ETA: 18 seconds - Batch Loss: 1452335.908783 - Avg. Epoch Loss: 1460588.399463<br>'); // clear any previous plot in window_id     \n",
       "  });\n",
       "</script>\n",
       "<div id=\"3da74b32-9c81-40b1-c0b6-d12693520cbe\"></div>\n"
      ]
     },
     "metadata": {},
     "output_type": "display_data"
    },
    {
     "data": {
      "text/html": [
       "<script type=\"text/javascript\">\n",
       "  $(function() {\n",
       "    $(\"#f4cb1888-616c-45a0-c59e-109620a30fc8\").html('Progress:<br>[5670001 / 11682144] [=============================>...................] ETA: 18 seconds - Batch Loss: 1452308.523102 - Avg. Epoch Loss: 1460573.822219<br>'); // clear any previous plot in window_id     \n",
       "  });\n",
       "</script>\n",
       "<div id=\"3a239ad0-d78a-412f-c1a4-dd6ccbe1cba6\"></div>\n"
      ]
     },
     "metadata": {},
     "output_type": "display_data"
    },
    {
     "data": {
      "text/html": [
       "<script type=\"text/javascript\">\n",
       "  $(function() {\n",
       "    $(\"#f4cb1888-616c-45a0-c59e-109620a30fc8\").html('Progress:<br>[5680001 / 11682144] [=============================>...................] ETA: 18 seconds - Batch Loss: 1452277.963654 - Avg. Epoch Loss: 1460559.242505<br>'); // clear any previous plot in window_id     \n",
       "  });\n",
       "</script>\n",
       "<div id=\"05ce4f68-4d3b-4159-c187-8e1a499649f3\"></div>\n"
      ]
     },
     "metadata": {},
     "output_type": "display_data"
    },
    {
     "data": {
      "text/html": [
       "<script type=\"text/javascript\">\n",
       "  $(function() {\n",
       "    $(\"#f4cb1888-616c-45a0-c59e-109620a30fc8\").html('Progress:<br>[5690001 / 11682144] [=============================>...................] ETA: 18 seconds - Batch Loss: 1452250.178013 - Avg. Epoch Loss: 1460544.665201<br>'); // clear any previous plot in window_id     \n",
       "  });\n",
       "</script>\n",
       "<div id=\"f7748070-e0da-4a6a-ca20-d2b3e71b4a72\"></div>\n"
      ]
     },
     "metadata": {},
     "output_type": "display_data"
    },
    {
     "data": {
      "text/html": [
       "<script type=\"text/javascript\">\n",
       "  $(function() {\n",
       "    $(\"#f4cb1888-616c-45a0-c59e-109620a30fc8\").html('Progress:<br>[5700001 / 11682144] [=============================>...................] ETA: 18 seconds - Batch Loss: 1452219.916759 - Avg. Epoch Loss: 1460530.085960<br>'); // clear any previous plot in window_id     \n",
       "  });\n",
       "</script>\n",
       "<div id=\"626d40dd-6a2e-4d64-cd48-a319ed5939ec\"></div>\n"
      ]
     },
     "metadata": {},
     "output_type": "display_data"
    },
    {
     "data": {
      "text/html": [
       "<script type=\"text/javascript\">\n",
       "  $(function() {\n",
       "    $(\"#f4cb1888-616c-45a0-c59e-109620a30fc8\").html('Progress:<br>[5710001 / 11682144] [=============================>...................] ETA: 18 seconds - Batch Loss: 1452192.012170 - Avg. Epoch Loss: 1460515.508910<br>'); // clear any previous plot in window_id     \n",
       "  });\n",
       "</script>\n",
       "<div id=\"82cff814-16f6-4d47-cd47-6fb7493a7710\"></div>\n"
      ]
     },
     "metadata": {},
     "output_type": "display_data"
    },
    {
     "data": {
      "text/html": [
       "<script type=\"text/javascript\">\n",
       "  $(function() {\n",
       "    $(\"#f4cb1888-616c-45a0-c59e-109620a30fc8\").html('Progress:<br>[5720001 / 11682144] [=============================>...................] ETA: 18 seconds - Batch Loss: 1452163.227919 - Avg. Epoch Loss: 1460500.932506<br>'); // clear any previous plot in window_id     \n",
       "  });\n",
       "</script>\n",
       "<div id=\"81cb3a4f-f936-4cf3-cc7d-76d5c67c08bb\"></div>\n"
      ]
     },
     "metadata": {},
     "output_type": "display_data"
    },
    {
     "data": {
      "text/html": [
       "<script type=\"text/javascript\">\n",
       "  $(function() {\n",
       "    $(\"#f4cb1888-616c-45a0-c59e-109620a30fc8\").html('Progress:<br>[5730001 / 11682144] [=============================>...................] ETA: 18 seconds - Batch Loss: 1452133.690988 - Avg. Epoch Loss: 1460486.355433<br>'); // clear any previous plot in window_id     \n",
       "  });\n",
       "</script>\n",
       "<div id=\"56f31cad-4dfc-453e-c50c-3f645065f476\"></div>\n"
      ]
     },
     "metadata": {},
     "output_type": "display_data"
    },
    {
     "data": {
      "text/html": [
       "<script type=\"text/javascript\">\n",
       "  $(function() {\n",
       "    $(\"#f4cb1888-616c-45a0-c59e-109620a30fc8\").html('Progress:<br>[5740001 / 11682144] [=============================>...................] ETA: 18 seconds - Batch Loss: 1452106.030110 - Avg. Epoch Loss: 1460471.780957<br>'); // clear any previous plot in window_id     \n",
       "  });\n",
       "</script>\n",
       "<div id=\"bfe31262-2ac5-473f-c759-19ea6a1685d9\"></div>\n"
      ]
     },
     "metadata": {},
     "output_type": "display_data"
    },
    {
     "data": {
      "text/html": [
       "<script type=\"text/javascript\">\n",
       "  $(function() {\n",
       "    $(\"#f4cb1888-616c-45a0-c59e-109620a30fc8\").html('Progress:<br>[5750001 / 11682144] [=============================>...................] ETA: 18 seconds - Batch Loss: 1452075.334145 - Avg. Epoch Loss: 1460457.203795<br>'); // clear any previous plot in window_id     \n",
       "  });\n",
       "</script>\n",
       "<div id=\"7537f756-2a49-416f-c154-05c1cce90179\"></div>\n"
      ]
     },
     "metadata": {},
     "output_type": "display_data"
    },
    {
     "data": {
      "text/html": [
       "<script type=\"text/javascript\">\n",
       "  $(function() {\n",
       "    $(\"#f4cb1888-616c-45a0-c59e-109620a30fc8\").html('Progress:<br>[5760001 / 11682144] [=============================>...................] ETA: 18 seconds - Batch Loss: 1452048.574402 - Avg. Epoch Loss: 1460442.630783<br>'); // clear any previous plot in window_id     \n",
       "  });\n",
       "</script>\n",
       "<div id=\"ca7506ff-1e44-4c87-ccbe-5dec035fcea3\"></div>\n"
      ]
     },
     "metadata": {},
     "output_type": "display_data"
    },
    {
     "data": {
      "text/html": [
       "<script type=\"text/javascript\">\n",
       "  $(function() {\n",
       "    $(\"#f4cb1888-616c-45a0-c59e-109620a30fc8\").html('Progress:<br>[5770001 / 11682144] [=============================>...................] ETA: 18 seconds - Batch Loss: 1452017.437286 - Avg. Epoch Loss: 1460428.054326<br>'); // clear any previous plot in window_id     \n",
       "  });\n",
       "</script>\n",
       "<div id=\"ac828e8c-06ef-4efe-ce08-8b457c44c7d8\"></div>\n"
      ]
     },
     "metadata": {},
     "output_type": "display_data"
    },
    {
     "data": {
      "text/html": [
       "<script type=\"text/javascript\">\n",
       "  $(function() {\n",
       "    $(\"#f4cb1888-616c-45a0-c59e-109620a30fc8\").html('Progress:<br>[5780001 / 11682144] [=============================>...................] ETA: 18 seconds - Batch Loss: 1451987.033694 - Avg. Epoch Loss: 1460413.475709<br>'); // clear any previous plot in window_id     \n",
       "  });\n",
       "</script>\n",
       "<div id=\"d08555bc-98e3-4728-c740-3be08ea81899\"></div>\n"
      ]
     },
     "metadata": {},
     "output_type": "display_data"
    },
    {
     "data": {
      "text/html": [
       "<script type=\"text/javascript\">\n",
       "  $(function() {\n",
       "    $(\"#f4cb1888-616c-45a0-c59e-109620a30fc8\").html('Progress:<br>[5790001 / 11682144] [=============================>...................] ETA: 18 seconds - Batch Loss: 1451960.128922 - Avg. Epoch Loss: 1460398.900976<br>'); // clear any previous plot in window_id     \n",
       "  });\n",
       "</script>\n",
       "<div id=\"07af567d-58f4-4707-c77f-1336e4f004b8\"></div>\n"
      ]
     },
     "metadata": {},
     "output_type": "display_data"
    },
    {
     "data": {
      "text/html": [
       "<script type=\"text/javascript\">\n",
       "  $(function() {\n",
       "    $(\"#f4cb1888-616c-45a0-c59e-109620a30fc8\").html('Progress:<br>[5800001 / 11682144] [==============================>..................] ETA: 17 seconds - Batch Loss: 1451931.414665 - Avg. Epoch Loss: 1460384.326991<br>'); // clear any previous plot in window_id     \n",
       "  });\n",
       "</script>\n",
       "<div id=\"2ea08c81-5b4d-4461-c474-95a3fd8fb642\"></div>\n"
      ]
     },
     "metadata": {},
     "output_type": "display_data"
    },
    {
     "data": {
      "text/html": [
       "<script type=\"text/javascript\">\n",
       "  $(function() {\n",
       "    $(\"#f4cb1888-616c-45a0-c59e-109620a30fc8\").html('Progress:<br>[5810001 / 11682144] [==============================>..................] ETA: 17 seconds - Batch Loss: 1451901.218715 - Avg. Epoch Loss: 1460369.751206<br>'); // clear any previous plot in window_id     \n",
       "  });\n",
       "</script>\n",
       "<div id=\"d1ca1702-4f72-4dce-cdeb-cdd2ce9a6f59\"></div>\n"
      ]
     },
     "metadata": {},
     "output_type": "display_data"
    },
    {
     "data": {
      "text/html": [
       "<script type=\"text/javascript\">\n",
       "  $(function() {\n",
       "    $(\"#f4cb1888-616c-45a0-c59e-109620a30fc8\").html('Progress:<br>[5820001 / 11682144] [==============================>..................] ETA: 17 seconds - Batch Loss: 1451871.847081 - Avg. Epoch Loss: 1460355.175044<br>'); // clear any previous plot in window_id     \n",
       "  });\n",
       "</script>\n",
       "<div id=\"cd78b730-7158-4b23-cb53-c79d77bf6bfc\"></div>\n"
      ]
     },
     "metadata": {},
     "output_type": "display_data"
    },
    {
     "data": {
      "text/html": [
       "<script type=\"text/javascript\">\n",
       "  $(function() {\n",
       "    $(\"#f4cb1888-616c-45a0-c59e-109620a30fc8\").html('Progress:<br>[5830001 / 11682144] [==============================>..................] ETA: 17 seconds - Batch Loss: 1451844.566868 - Avg. Epoch Loss: 1460340.602087<br>'); // clear any previous plot in window_id     \n",
       "  });\n",
       "</script>\n",
       "<div id=\"0168b587-e70e-47fb-c7e3-0c71cdb5cca8\"></div>\n"
      ]
     },
     "metadata": {},
     "output_type": "display_data"
    },
    {
     "data": {
      "text/html": [
       "<script type=\"text/javascript\">\n",
       "  $(function() {\n",
       "    $(\"#f4cb1888-616c-45a0-c59e-109620a30fc8\").html('Progress:<br>[5840001 / 11682144] [==============================>..................] ETA: 17 seconds - Batch Loss: 1451814.910918 - Avg. Epoch Loss: 1460326.028259<br>'); // clear any previous plot in window_id     \n",
       "  });\n",
       "</script>\n",
       "<div id=\"db7be2dd-ce95-4c53-cc97-a730deddb705\"></div>\n"
      ]
     },
     "metadata": {},
     "output_type": "display_data"
    },
    {
     "data": {
      "text/html": [
       "<script type=\"text/javascript\">\n",
       "  $(function() {\n",
       "    $(\"#f4cb1888-616c-45a0-c59e-109620a30fc8\").html('Progress:<br>[5850001 / 11682144] [==============================>..................] ETA: 17 seconds - Batch Loss: 1451785.436721 - Avg. Epoch Loss: 1460311.453873<br>'); // clear any previous plot in window_id     \n",
       "  });\n",
       "</script>\n",
       "<div id=\"dca56f1e-ca14-4806-c881-ade5dfc89657\"></div>\n"
      ]
     },
     "metadata": {},
     "output_type": "display_data"
    },
    {
     "data": {
      "text/html": [
       "<script type=\"text/javascript\">\n",
       "  $(function() {\n",
       "    $(\"#f4cb1888-616c-45a0-c59e-109620a30fc8\").html('Progress:<br>[5860001 / 11682144] [==============================>..................] ETA: 17 seconds - Batch Loss: 1451756.814186 - Avg. Epoch Loss: 1460296.880384<br>'); // clear any previous plot in window_id     \n",
       "  });\n",
       "</script>\n",
       "<div id=\"634a7e6e-b108-4c60-cc8a-f922d1a57e36\"></div>\n"
      ]
     },
     "metadata": {},
     "output_type": "display_data"
    },
    {
     "data": {
      "text/html": [
       "<script type=\"text/javascript\">\n",
       "  $(function() {\n",
       "    $(\"#f4cb1888-616c-45a0-c59e-109620a30fc8\").html('Progress:<br>[5870001 / 11682144] [==============================>..................] ETA: 17 seconds - Batch Loss: 1451727.946149 - Avg. Epoch Loss: 1460282.307369<br>'); // clear any previous plot in window_id     \n",
       "  });\n",
       "</script>\n",
       "<div id=\"f4295e77-845a-4df5-cdea-846e5b310a0d\"></div>\n"
      ]
     },
     "metadata": {},
     "output_type": "display_data"
    },
    {
     "data": {
      "text/html": [
       "<script type=\"text/javascript\">\n",
       "  $(function() {\n",
       "    $(\"#f4cb1888-616c-45a0-c59e-109620a30fc8\").html('Progress:<br>[5880001 / 11682144] [==============================>..................] ETA: 17 seconds - Batch Loss: 1451698.825098 - Avg. Epoch Loss: 1460267.734396<br>'); // clear any previous plot in window_id     \n",
       "  });\n",
       "</script>\n",
       "<div id=\"172a33f0-2d09-4956-c95a-e1460e695a29\"></div>\n"
      ]
     },
     "metadata": {},
     "output_type": "display_data"
    },
    {
     "data": {
      "text/html": [
       "<script type=\"text/javascript\">\n",
       "  $(function() {\n",
       "    $(\"#f4cb1888-616c-45a0-c59e-109620a30fc8\").html('Progress:<br>[5890001 / 11682144] [==============================>..................] ETA: 17 seconds - Batch Loss: 1451669.217570 - Avg. Epoch Loss: 1460253.160641<br>'); // clear any previous plot in window_id     \n",
       "  });\n",
       "</script>\n",
       "<div id=\"4e7815ea-3fbd-4378-c30f-86c7e4e399c2\"></div>\n"
      ]
     },
     "metadata": {},
     "output_type": "display_data"
    },
    {
     "data": {
      "text/html": [
       "<script type=\"text/javascript\">\n",
       "  $(function() {\n",
       "    $(\"#f4cb1888-616c-45a0-c59e-109620a30fc8\").html('Progress:<br>[5900001 / 11682144] [==============================>..................] ETA: 17 seconds - Batch Loss: 1451641.101854 - Avg. Epoch Loss: 1460238.588632<br>'); // clear any previous plot in window_id     \n",
       "  });\n",
       "</script>\n",
       "<div id=\"08ebcdf2-75b0-4069-c04f-ef9c5a8b367d\"></div>\n"
      ]
     },
     "metadata": {},
     "output_type": "display_data"
    },
    {
     "data": {
      "text/html": [
       "<script type=\"text/javascript\">\n",
       "  $(function() {\n",
       "    $(\"#f4cb1888-616c-45a0-c59e-109620a30fc8\").html('Progress:<br>[5910001 / 11682144] [==============================>..................] ETA: 17 seconds - Batch Loss: 1451611.292307 - Avg. Epoch Loss: 1460224.015499<br>'); // clear any previous plot in window_id     \n",
       "  });\n",
       "</script>\n",
       "<div id=\"ffdb957c-654e-48e6-c873-ae2ee8f96007\"></div>\n"
      ]
     },
     "metadata": {},
     "output_type": "display_data"
    },
    {
     "data": {
      "text/html": [
       "<script type=\"text/javascript\">\n",
       "  $(function() {\n",
       "    $(\"#f4cb1888-616c-45a0-c59e-109620a30fc8\").html('Progress:<br>[5920001 / 11682144] [==============================>..................] ETA: 17 seconds - Batch Loss: 1451584.533229 - Avg. Epoch Loss: 1460209.446391<br>'); // clear any previous plot in window_id     \n",
       "  });\n",
       "</script>\n",
       "<div id=\"c0768301-0633-4135-c1ce-5030bb803c14\"></div>\n"
      ]
     },
     "metadata": {},
     "output_type": "display_data"
    },
    {
     "data": {
      "text/html": [
       "<script type=\"text/javascript\">\n",
       "  $(function() {\n",
       "    $(\"#f4cb1888-616c-45a0-c59e-109620a30fc8\").html('Progress:<br>[5930001 / 11682144] [==============================>..................] ETA: 17 seconds - Batch Loss: 1451554.162702 - Avg. Epoch Loss: 1460194.875209<br>'); // clear any previous plot in window_id     \n",
       "  });\n",
       "</script>\n",
       "<div id=\"f265c227-281b-4cc3-cc3d-824df5a435d2\"></div>\n"
      ]
     },
     "metadata": {},
     "output_type": "display_data"
    },
    {
     "data": {
      "text/html": [
       "<script type=\"text/javascript\">\n",
       "  $(function() {\n",
       "    $(\"#f4cb1888-616c-45a0-c59e-109620a30fc8\").html('Progress:<br>[5940001 / 11682144] [==============================>..................] ETA: 17 seconds - Batch Loss: 1451523.865113 - Avg. Epoch Loss: 1460180.302085<br>'); // clear any previous plot in window_id     \n",
       "  });\n",
       "</script>\n",
       "<div id=\"2f4c2b0d-a5f2-4687-c6c3-4087494ede67\"></div>\n"
      ]
     },
     "metadata": {},
     "output_type": "display_data"
    },
    {
     "data": {
      "text/html": [
       "<script type=\"text/javascript\">\n",
       "  $(function() {\n",
       "    $(\"#f4cb1888-616c-45a0-c59e-109620a30fc8\").html('Progress:<br>[5950001 / 11682144] [==============================>..................] ETA: 17 seconds - Batch Loss: 1451494.206116 - Avg. Epoch Loss: 1460165.728101<br>'); // clear any previous plot in window_id     \n",
       "  });\n",
       "</script>\n",
       "<div id=\"31adcdcd-f81c-4325-c386-e2121ffb3801\"></div>\n"
      ]
     },
     "metadata": {},
     "output_type": "display_data"
    },
    {
     "data": {
      "text/html": [
       "<script type=\"text/javascript\">\n",
       "  $(function() {\n",
       "    $(\"#f4cb1888-616c-45a0-c59e-109620a30fc8\").html('Progress:<br>[5960001 / 11682144] [==============================>..................] ETA: 17 seconds - Batch Loss: 1451465.946143 - Avg. Epoch Loss: 1460151.155605<br>'); // clear any previous plot in window_id     \n",
       "  });\n",
       "</script>\n",
       "<div id=\"0f5f9099-faca-495b-c964-8a4b991e6dcf\"></div>\n"
      ]
     },
     "metadata": {},
     "output_type": "display_data"
    },
    {
     "data": {
      "text/html": [
       "<script type=\"text/javascript\">\n",
       "  $(function() {\n",
       "    $(\"#f4cb1888-616c-45a0-c59e-109620a30fc8\").html('Progress:<br>[5970001 / 11682144] [==============================>..................] ETA: 17 seconds - Batch Loss: 1451436.858084 - Avg. Epoch Loss: 1460136.583203<br>'); // clear any previous plot in window_id     \n",
       "  });\n",
       "</script>\n",
       "<div id=\"19fc7a0b-77ec-46dd-c6e7-d01d33e20d75\"></div>\n"
      ]
     },
     "metadata": {},
     "output_type": "display_data"
    },
    {
     "data": {
      "text/html": [
       "<script type=\"text/javascript\">\n",
       "  $(function() {\n",
       "    $(\"#f4cb1888-616c-45a0-c59e-109620a30fc8\").html('Progress:<br>[5980001 / 11682144] [==============================>..................] ETA: 17 seconds - Batch Loss: 1451407.328796 - Avg. Epoch Loss: 1460122.010160<br>'); // clear any previous plot in window_id     \n",
       "  });\n",
       "</script>\n",
       "<div id=\"fd88a202-82e3-4eb0-ce56-b50cdae5ef4a\"></div>\n"
      ]
     },
     "metadata": {},
     "output_type": "display_data"
    },
    {
     "data": {
      "text/html": [
       "<script type=\"text/javascript\">\n",
       "  $(function() {\n",
       "    $(\"#f4cb1888-616c-45a0-c59e-109620a30fc8\").html('Progress:<br>[5990001 / 11682144] [===============================>.................] ETA: 16 seconds - Batch Loss: 1451377.570170 - Avg. Epoch Loss: 1460107.436096<br>'); // clear any previous plot in window_id     \n",
       "  });\n",
       "</script>\n",
       "<div id=\"b0803650-e0d8-43a2-c36f-0504eec9938e\"></div>\n"
      ]
     },
     "metadata": {},
     "output_type": "display_data"
    },
    {
     "data": {
      "text/html": [
       "<script type=\"text/javascript\">\n",
       "  $(function() {\n",
       "    $(\"#f4cb1888-616c-45a0-c59e-109620a30fc8\").html('Progress:<br>[6000001 / 11682144] [===============================>.................] ETA: 16 seconds - Batch Loss: 1451349.728543 - Avg. Epoch Loss: 1460092.864205<br>'); // clear any previous plot in window_id     \n",
       "  });\n",
       "</script>\n",
       "<div id=\"91bebb8d-9042-4b03-cbb1-95a13c1db995\"></div>\n"
      ]
     },
     "metadata": {},
     "output_type": "display_data"
    },
    {
     "data": {
      "text/html": [
       "<script type=\"text/javascript\">\n",
       "  $(function() {\n",
       "    $(\"#f4cb1888-616c-45a0-c59e-109620a30fc8\").html('Progress:<br>[6010001 / 11682144] [===============================>.................] ETA: 16 seconds - Batch Loss: 1451322.048296 - Avg. Epoch Loss: 1460078.294746<br>'); // clear any previous plot in window_id     \n",
       "  });\n",
       "</script>\n",
       "<div id=\"2452d15f-7820-4cf9-cc19-ead6fdc49eae\"></div>\n"
      ]
     },
     "metadata": {},
     "output_type": "display_data"
    },
    {
     "data": {
      "text/html": [
       "<script type=\"text/javascript\">\n",
       "  $(function() {\n",
       "    $(\"#f4cb1888-616c-45a0-c59e-109620a30fc8\").html('Progress:<br>[6020001 / 11682144] [===============================>.................] ETA: 16 seconds - Batch Loss: 1451291.055786 - Avg. Epoch Loss: 1460063.722213<br>'); // clear any previous plot in window_id     \n",
       "  });\n",
       "</script>\n",
       "<div id=\"81097506-19af-4662-c607-ea0829f50386\"></div>\n"
      ]
     },
     "metadata": {},
     "output_type": "display_data"
    },
    {
     "data": {
      "text/html": [
       "<script type=\"text/javascript\">\n",
       "  $(function() {\n",
       "    $(\"#f4cb1888-616c-45a0-c59e-109620a30fc8\").html('Progress:<br>[6030001 / 11682144] [===============================>.................] ETA: 16 seconds - Batch Loss: 1451261.645373 - Avg. Epoch Loss: 1460049.149241<br>'); // clear any previous plot in window_id     \n",
       "  });\n",
       "</script>\n",
       "<div id=\"9e5f2044-7692-43b2-c36e-29e834f42dd1\"></div>\n"
      ]
     },
     "metadata": {},
     "output_type": "display_data"
    },
    {
     "data": {
      "text/html": [
       "<script type=\"text/javascript\">\n",
       "  $(function() {\n",
       "    $(\"#f4cb1888-616c-45a0-c59e-109620a30fc8\").html('Progress:<br>[6040001 / 11682144] [===============================>.................] ETA: 16 seconds - Batch Loss: 1451233.815876 - Avg. Epoch Loss: 1460034.578444<br>'); // clear any previous plot in window_id     \n",
       "  });\n",
       "</script>\n",
       "<div id=\"f16b1999-3765-4ab8-ca1e-3c8fe8acb238\"></div>\n"
      ]
     },
     "metadata": {},
     "output_type": "display_data"
    },
    {
     "data": {
      "text/html": [
       "<script type=\"text/javascript\">\n",
       "  $(function() {\n",
       "    $(\"#f4cb1888-616c-45a0-c59e-109620a30fc8\").html('Progress:<br>[6050001 / 11682144] [===============================>.................] ETA: 16 seconds - Batch Loss: 1451206.618652 - Avg. Epoch Loss: 1460020.010856<br>'); // clear any previous plot in window_id     \n",
       "  });\n",
       "</script>\n",
       "<div id=\"00f0b298-fc75-4cad-cca5-2472e67054a9\"></div>\n"
      ]
     },
     "metadata": {},
     "output_type": "display_data"
    },
    {
     "data": {
      "text/html": [
       "<script type=\"text/javascript\">\n",
       "  $(function() {\n",
       "    $(\"#f4cb1888-616c-45a0-c59e-109620a30fc8\").html('Progress:<br>[6060001 / 11682144] [===============================>.................] ETA: 16 seconds - Batch Loss: 1451173.890955 - Avg. Epoch Loss: 1460005.437349<br>'); // clear any previous plot in window_id     \n",
       "  });\n",
       "</script>\n",
       "<div id=\"74fb34bf-a5ab-450e-c551-bc70cb083b55\"></div>\n"
      ]
     },
     "metadata": {},
     "output_type": "display_data"
    },
    {
     "data": {
      "text/html": [
       "<script type=\"text/javascript\">\n",
       "  $(function() {\n",
       "    $(\"#f4cb1888-616c-45a0-c59e-109620a30fc8\").html('Progress:<br>[6070001 / 11682144] [===============================>.................] ETA: 16 seconds - Batch Loss: 1451145.568176 - Avg. Epoch Loss: 1459990.865199<br>'); // clear any previous plot in window_id     \n",
       "  });\n",
       "</script>\n",
       "<div id=\"90d6afa5-28c6-463a-c689-82c1476e7602\"></div>\n"
      ]
     },
     "metadata": {},
     "output_type": "display_data"
    },
    {
     "data": {
      "text/html": [
       "<script type=\"text/javascript\">\n",
       "  $(function() {\n",
       "    $(\"#f4cb1888-616c-45a0-c59e-109620a30fc8\").html('Progress:<br>[6080001 / 11682144] [===============================>.................] ETA: 16 seconds - Batch Loss: 1451118.459943 - Avg. Epoch Loss: 1459976.296391<br>'); // clear any previous plot in window_id     \n",
       "  });\n",
       "</script>\n",
       "<div id=\"95d5e156-c808-40a1-c060-1156eee77cd7\"></div>\n"
      ]
     },
     "metadata": {},
     "output_type": "display_data"
    },
    {
     "data": {
      "text/html": [
       "<script type=\"text/javascript\">\n",
       "  $(function() {\n",
       "    $(\"#f4cb1888-616c-45a0-c59e-109620a30fc8\").html('Progress:<br>[6090001 / 11682144] [===============================>.................] ETA: 16 seconds - Batch Loss: 1451086.875140 - Avg. Epoch Loss: 1459961.723572<br>'); // clear any previous plot in window_id     \n",
       "  });\n",
       "</script>\n",
       "<div id=\"a73d5b5b-d802-4885-c8ed-2eec17964861\"></div>\n"
      ]
     },
     "metadata": {},
     "output_type": "display_data"
    },
    {
     "data": {
      "text/html": [
       "<script type=\"text/javascript\">\n",
       "  $(function() {\n",
       "    $(\"#f4cb1888-616c-45a0-c59e-109620a30fc8\").html('Progress:<br>[6100001 / 11682144] [===============================>.................] ETA: 16 seconds - Batch Loss: 1451059.095040 - Avg. Epoch Loss: 1459947.152987<br>'); // clear any previous plot in window_id     \n",
       "  });\n",
       "</script>\n",
       "<div id=\"4560efac-9067-4c4f-cc97-4741d6c829b6\"></div>\n"
      ]
     },
     "metadata": {},
     "output_type": "display_data"
    },
    {
     "data": {
      "text/html": [
       "<script type=\"text/javascript\">\n",
       "  $(function() {\n",
       "    $(\"#f4cb1888-616c-45a0-c59e-109620a30fc8\").html('Progress:<br>[6110001 / 11682144] [===============================>.................] ETA: 16 seconds - Batch Loss: 1451031.804295 - Avg. Epoch Loss: 1459932.585426<br>'); // clear any previous plot in window_id     \n",
       "  });\n",
       "</script>\n",
       "<div id=\"33818948-eb0f-4843-c8a2-6a84b229d3f2\"></div>\n"
      ]
     },
     "metadata": {},
     "output_type": "display_data"
    },
    {
     "data": {
      "text/html": [
       "<script type=\"text/javascript\">\n",
       "  $(function() {\n",
       "    $(\"#f4cb1888-616c-45a0-c59e-109620a30fc8\").html('Progress:<br>[6120001 / 11682144] [===============================>.................] ETA: 16 seconds - Batch Loss: 1451003.048933 - Avg. Epoch Loss: 1459918.018485<br>'); // clear any previous plot in window_id     \n",
       "  });\n",
       "</script>\n",
       "<div id=\"e1a4784a-29d7-4805-c873-ca94e5df7299\"></div>\n"
      ]
     },
     "metadata": {},
     "output_type": "display_data"
    },
    {
     "data": {
      "text/html": [
       "<script type=\"text/javascript\">\n",
       "  $(function() {\n",
       "    $(\"#f4cb1888-616c-45a0-c59e-109620a30fc8\").html('Progress:<br>[6130001 / 11682144] [===============================>.................] ETA: 16 seconds - Batch Loss: 1450971.684509 - Avg. Epoch Loss: 1459903.447911<br>'); // clear any previous plot in window_id     \n",
       "  });\n",
       "</script>\n",
       "<div id=\"bc248ba3-049d-4d74-cd57-a4c376ff1856\"></div>\n"
      ]
     },
     "metadata": {},
     "output_type": "display_data"
    },
    {
     "data": {
      "text/html": [
       "<script type=\"text/javascript\">\n",
       "  $(function() {\n",
       "    $(\"#f4cb1888-616c-45a0-c59e-109620a30fc8\").html('Progress:<br>[6140001 / 11682144] [===============================>.................] ETA: 16 seconds - Batch Loss: 1450944.629652 - Avg. Epoch Loss: 1459888.880729<br>'); // clear any previous plot in window_id     \n",
       "  });\n",
       "</script>\n",
       "<div id=\"8ce94943-b41b-4080-c0f7-613b49396d47\"></div>\n"
      ]
     },
     "metadata": {},
     "output_type": "display_data"
    },
    {
     "data": {
      "text/html": [
       "<script type=\"text/javascript\">\n",
       "  $(function() {\n",
       "    $(\"#f4cb1888-616c-45a0-c59e-109620a30fc8\").html('Progress:<br>[6150001 / 11682144] [===============================>.................] ETA: 16 seconds - Batch Loss: 1450915.706328 - Avg. Epoch Loss: 1459874.313890<br>'); // clear any previous plot in window_id     \n",
       "  });\n",
       "</script>\n",
       "<div id=\"14ee033b-c8ef-46d1-c690-4c8af25f2ddb\"></div>\n"
      ]
     },
     "metadata": {},
     "output_type": "display_data"
    },
    {
     "data": {
      "text/html": [
       "<script type=\"text/javascript\">\n",
       "  $(function() {\n",
       "    $(\"#f4cb1888-616c-45a0-c59e-109620a30fc8\").html('Progress:<br>[6160001 / 11682144] [===============================>.................] ETA: 16 seconds - Batch Loss: 1450886.301869 - Avg. Epoch Loss: 1459859.746612<br>'); // clear any previous plot in window_id     \n",
       "  });\n",
       "</script>\n",
       "<div id=\"5971e504-c7bd-4979-c94c-2ed037290425\"></div>\n"
      ]
     },
     "metadata": {},
     "output_type": "display_data"
    },
    {
     "data": {
      "text/html": [
       "<script type=\"text/javascript\">\n",
       "  $(function() {\n",
       "    $(\"#f4cb1888-616c-45a0-c59e-109620a30fc8\").html('Progress:<br>[6170001 / 11682144] [================================>................] ETA: 14 seconds - Batch Loss: 1450857.053719 - Avg. Epoch Loss: 1459845.179150<br>'); // clear any previous plot in window_id     \n",
       "  });\n",
       "</script>\n",
       "<div id=\"5a1cd297-1d52-4eb4-ceb4-6fe9d6003bf5\"></div>\n"
      ]
     },
     "metadata": {},
     "output_type": "display_data"
    },
    {
     "data": {
      "text/html": [
       "<script type=\"text/javascript\">\n",
       "  $(function() {\n",
       "    $(\"#f4cb1888-616c-45a0-c59e-109620a30fc8\").html('Progress:<br>[6180001 / 11682144] [================================>................] ETA: 14 seconds - Batch Loss: 1450828.183688 - Avg. Epoch Loss: 1459830.612116<br>'); // clear any previous plot in window_id     \n",
       "  });\n",
       "</script>\n",
       "<div id=\"faedd12a-d412-4dad-cde7-d735e5e3a650\"></div>\n"
      ]
     },
     "metadata": {},
     "output_type": "display_data"
    },
    {
     "data": {
      "text/html": [
       "<script type=\"text/javascript\">\n",
       "  $(function() {\n",
       "    $(\"#f4cb1888-616c-45a0-c59e-109620a30fc8\").html('Progress:<br>[6190001 / 11682144] [================================>................] ETA: 14 seconds - Batch Loss: 1450797.934217 - Avg. Epoch Loss: 1459816.043283<br>'); // clear any previous plot in window_id     \n",
       "  });\n",
       "</script>\n",
       "<div id=\"14bfcf65-bc87-45e7-c550-5960ddb613ed\"></div>\n"
      ]
     },
     "metadata": {},
     "output_type": "display_data"
    },
    {
     "data": {
      "text/html": [
       "<script type=\"text/javascript\">\n",
       "  $(function() {\n",
       "    $(\"#f4cb1888-616c-45a0-c59e-109620a30fc8\").html('Progress:<br>[6200001 / 11682144] [================================>................] ETA: 14 seconds - Batch Loss: 1450768.651310 - Avg. Epoch Loss: 1459801.474216<br>'); // clear any previous plot in window_id     \n",
       "  });\n",
       "</script>\n",
       "<div id=\"6d5d4594-954c-4468-c4c1-d08b22846fcf\"></div>\n"
      ]
     },
     "metadata": {},
     "output_type": "display_data"
    },
    {
     "data": {
      "text/html": [
       "<script type=\"text/javascript\">\n",
       "  $(function() {\n",
       "    $(\"#f4cb1888-616c-45a0-c59e-109620a30fc8\").html('Progress:<br>[6210001 / 11682144] [================================>................] ETA: 15 seconds - Batch Loss: 1450740.304719 - Avg. Epoch Loss: 1459786.906422<br>'); // clear any previous plot in window_id     \n",
       "  });\n",
       "</script>\n",
       "<div id=\"380e50c3-e58b-45b3-c514-769babe1c0cf\"></div>\n"
      ]
     },
     "metadata": {},
     "output_type": "display_data"
    },
    {
     "data": {
      "text/html": [
       "<script type=\"text/javascript\">\n",
       "  $(function() {\n",
       "    $(\"#f4cb1888-616c-45a0-c59e-109620a30fc8\").html('Progress:<br>[6220001 / 11682144] [================================>................] ETA: 15 seconds - Batch Loss: 1450711.241301 - Avg. Epoch Loss: 1459772.338744<br>'); // clear any previous plot in window_id     \n",
       "  });\n",
       "</script>\n",
       "<div id=\"5c6ec0c9-bacc-45d9-c591-eac00415a35c\"></div>\n"
      ]
     },
     "metadata": {},
     "output_type": "display_data"
    },
    {
     "data": {
      "text/html": [
       "<script type=\"text/javascript\">\n",
       "  $(function() {\n",
       "    $(\"#f4cb1888-616c-45a0-c59e-109620a30fc8\").html('Progress:<br>[6230001 / 11682144] [================================>................] ETA: 15 seconds - Batch Loss: 1450682.497234 - Avg. Epoch Loss: 1459757.771692<br>'); // clear any previous plot in window_id     \n",
       "  });\n",
       "</script>\n",
       "<div id=\"f733792f-9f26-490f-c9fd-40bf3097904b\"></div>\n"
      ]
     },
     "metadata": {},
     "output_type": "display_data"
    },
    {
     "data": {
      "text/html": [
       "<script type=\"text/javascript\">\n",
       "  $(function() {\n",
       "    $(\"#f4cb1888-616c-45a0-c59e-109620a30fc8\").html('Progress:<br>[6240001 / 11682144] [================================>................] ETA: 15 seconds - Batch Loss: 1450653.121083 - Avg. Epoch Loss: 1459743.204254<br>'); // clear any previous plot in window_id     \n",
       "  });\n",
       "</script>\n",
       "<div id=\"8c6d51d4-016a-4445-c498-1b56940127c1\"></div>\n"
      ]
     },
     "metadata": {},
     "output_type": "display_data"
    },
    {
     "data": {
      "text/html": [
       "<script type=\"text/javascript\">\n",
       "  $(function() {\n",
       "    $(\"#f4cb1888-616c-45a0-c59e-109620a30fc8\").html('Progress:<br>[6250001 / 11682144] [================================>................] ETA: 15 seconds - Batch Loss: 1450624.332696 - Avg. Epoch Loss: 1459728.637368<br>'); // clear any previous plot in window_id     \n",
       "  });\n",
       "</script>\n",
       "<div id=\"06f6149a-2f59-4891-c842-870294eebf65\"></div>\n"
      ]
     },
     "metadata": {},
     "output_type": "display_data"
    },
    {
     "data": {
      "text/html": [
       "<script type=\"text/javascript\">\n",
       "  $(function() {\n",
       "    $(\"#f4cb1888-616c-45a0-c59e-109620a30fc8\").html('Progress:<br>[6260001 / 11682144] [================================>................] ETA: 15 seconds - Batch Loss: 1450595.750788 - Avg. Epoch Loss: 1459714.071363<br>'); // clear any previous plot in window_id     \n",
       "  });\n",
       "</script>\n",
       "<div id=\"e1d85c29-6bd2-4de2-cd9e-36fe7e53f2a8\"></div>\n"
      ]
     },
     "metadata": {},
     "output_type": "display_data"
    },
    {
     "data": {
      "text/html": [
       "<script type=\"text/javascript\">\n",
       "  $(function() {\n",
       "    $(\"#f4cb1888-616c-45a0-c59e-109620a30fc8\").html('Progress:<br>[6270001 / 11682144] [================================>................] ETA: 15 seconds - Batch Loss: 1450568.952310 - Avg. Epoch Loss: 1459699.509074<br>'); // clear any previous plot in window_id     \n",
       "  });\n",
       "</script>\n",
       "<div id=\"da084b38-3559-4729-c7d5-43b0cd530bbf\"></div>\n"
      ]
     },
     "metadata": {},
     "output_type": "display_data"
    },
    {
     "data": {
      "text/html": [
       "<script type=\"text/javascript\">\n",
       "  $(function() {\n",
       "    $(\"#f4cb1888-616c-45a0-c59e-109620a30fc8\").html('Progress:<br>[6280001 / 11682144] [================================>................] ETA: 15 seconds - Batch Loss: 1450536.744571 - Avg. Epoch Loss: 1459684.941883<br>'); // clear any previous plot in window_id     \n",
       "  });\n",
       "</script>\n",
       "<div id=\"a9bbf23b-033d-42b5-c252-9046becfc219\"></div>\n"
      ]
     },
     "metadata": {},
     "output_type": "display_data"
    },
    {
     "data": {
      "text/html": [
       "<script type=\"text/javascript\">\n",
       "  $(function() {\n",
       "    $(\"#f4cb1888-616c-45a0-c59e-109620a30fc8\").html('Progress:<br>[6290001 / 11682144] [================================>................] ETA: 15 seconds - Batch Loss: 1450509.043037 - Avg. Epoch Loss: 1459670.376967<br>'); // clear any previous plot in window_id     \n",
       "  });\n",
       "</script>\n",
       "<div id=\"0e014e04-7d9e-4c9d-cc8e-179ca2b2e1b8\"></div>\n"
      ]
     },
     "metadata": {},
     "output_type": "display_data"
    },
    {
     "data": {
      "text/html": [
       "<script type=\"text/javascript\">\n",
       "  $(function() {\n",
       "    $(\"#f4cb1888-616c-45a0-c59e-109620a30fc8\").html('Progress:<br>[6300001 / 11682144] [================================>................] ETA: 15 seconds - Batch Loss: 1450479.263564 - Avg. Epoch Loss: 1459655.811021<br>'); // clear any previous plot in window_id     \n",
       "  });\n",
       "</script>\n",
       "<div id=\"db0e9cf9-adc8-41e4-c171-22244f55ade0\"></div>\n"
      ]
     },
     "metadata": {},
     "output_type": "display_data"
    },
    {
     "data": {
      "text/html": [
       "<script type=\"text/javascript\">\n",
       "  $(function() {\n",
       "    $(\"#f4cb1888-616c-45a0-c59e-109620a30fc8\").html('Progress:<br>[6310001 / 11682144] [================================>................] ETA: 15 seconds - Batch Loss: 1450449.604997 - Avg. Epoch Loss: 1459641.244242<br>'); // clear any previous plot in window_id     \n",
       "  });\n",
       "</script>\n",
       "<div id=\"be982d6d-2275-40e3-c0e9-6ecd25636567\"></div>\n"
      ]
     },
     "metadata": {},
     "output_type": "display_data"
    },
    {
     "data": {
      "text/html": [
       "<script type=\"text/javascript\">\n",
       "  $(function() {\n",
       "    $(\"#f4cb1888-616c-45a0-c59e-109620a30fc8\").html('Progress:<br>[6320001 / 11682144] [================================>................] ETA: 15 seconds - Batch Loss: 1450420.942783 - Avg. Epoch Loss: 1459626.678207<br>'); // clear any previous plot in window_id     \n",
       "  });\n",
       "</script>\n",
       "<div id=\"04e419d5-2379-49ef-c950-1158d6839970\"></div>\n"
      ]
     },
     "metadata": {},
     "output_type": "display_data"
    },
    {
     "data": {
      "text/html": [
       "<script type=\"text/javascript\">\n",
       "  $(function() {\n",
       "    $(\"#f4cb1888-616c-45a0-c59e-109620a30fc8\").html('Progress:<br>[6330001 / 11682144] [================================>................] ETA: 15 seconds - Batch Loss: 1450392.351577 - Avg. Epoch Loss: 1459612.113025<br>'); // clear any previous plot in window_id     \n",
       "  });\n",
       "</script>\n",
       "<div id=\"44335792-821c-43f6-c309-c0e40f5ae25c\"></div>\n"
      ]
     },
     "metadata": {},
     "output_type": "display_data"
    },
    {
     "data": {
      "text/html": [
       "<script type=\"text/javascript\">\n",
       "  $(function() {\n",
       "    $(\"#f4cb1888-616c-45a0-c59e-109620a30fc8\").html('Progress:<br>[6340001 / 11682144] [================================>................] ETA: 15 seconds - Batch Loss: 1450364.460832 - Avg. Epoch Loss: 1459597.549796<br>'); // clear any previous plot in window_id     \n",
       "  });\n",
       "</script>\n",
       "<div id=\"4173d13f-5975-4fbf-cf61-ae74aa193675\"></div>\n"
      ]
     },
     "metadata": {},
     "output_type": "display_data"
    },
    {
     "data": {
      "text/html": [
       "<script type=\"text/javascript\">\n",
       "  $(function() {\n",
       "    $(\"#f4cb1888-616c-45a0-c59e-109620a30fc8\").html('Progress:<br>[6350001 / 11682144] [================================>................] ETA: 15 seconds - Batch Loss: 1450334.712550 - Avg. Epoch Loss: 1459582.985588<br>'); // clear any previous plot in window_id     \n",
       "  });\n",
       "</script>\n",
       "<div id=\"b170f816-a23e-4672-c610-ebbaebca9838\"></div>\n"
      ]
     },
     "metadata": {},
     "output_type": "display_data"
    },
    {
     "data": {
      "text/html": [
       "<script type=\"text/javascript\">\n",
       "  $(function() {\n",
       "    $(\"#f4cb1888-616c-45a0-c59e-109620a30fc8\").html('Progress:<br>[6360001 / 11682144] [=================================>...............] ETA: 14 seconds - Batch Loss: 1450304.537180 - Avg. Epoch Loss: 1459568.419738<br>'); // clear any previous plot in window_id     \n",
       "  });\n",
       "</script>\n",
       "<div id=\"1105f04e-1e62-4639-c66d-c10675df063a\"></div>\n"
      ]
     },
     "metadata": {},
     "output_type": "display_data"
    },
    {
     "data": {
      "text/html": [
       "<script type=\"text/javascript\">\n",
       "  $(function() {\n",
       "    $(\"#f4cb1888-616c-45a0-c59e-109620a30fc8\").html('Progress:<br>[6370001 / 11682144] [=================================>...............] ETA: 14 seconds - Batch Loss: 1450275.263000 - Avg. Epoch Loss: 1459553.853664<br>'); // clear any previous plot in window_id     \n",
       "  });\n",
       "</script>\n",
       "<div id=\"a3c2001e-77ce-434b-c35b-704dea49d350\"></div>\n"
      ]
     },
     "metadata": {},
     "output_type": "display_data"
    },
    {
     "data": {
      "text/html": [
       "<script type=\"text/javascript\">\n",
       "  $(function() {\n",
       "    $(\"#f4cb1888-616c-45a0-c59e-109620a30fc8\").html('Progress:<br>[6380001 / 11682144] [=================================>...............] ETA: 14 seconds - Batch Loss: 1450246.781939 - Avg. Epoch Loss: 1459539.288608<br>'); // clear any previous plot in window_id     \n",
       "  });\n",
       "</script>\n",
       "<div id=\"b86da6fa-0f50-4864-c80b-73decd3ef808\"></div>\n"
      ]
     },
     "metadata": {},
     "output_type": "display_data"
    },
    {
     "data": {
      "text/html": [
       "<script type=\"text/javascript\">\n",
       "  $(function() {\n",
       "    $(\"#f4cb1888-616c-45a0-c59e-109620a30fc8\").html('Progress:<br>[6390001 / 11682144] [=================================>...............] ETA: 14 seconds - Batch Loss: 1450219.091733 - Avg. Epoch Loss: 1459524.725803<br>'); // clear any previous plot in window_id     \n",
       "  });\n",
       "</script>\n",
       "<div id=\"1844c8e0-32da-4849-c8d7-35d8b1d06a2d\"></div>\n"
      ]
     },
     "metadata": {},
     "output_type": "display_data"
    },
    {
     "data": {
      "text/html": [
       "<script type=\"text/javascript\">\n",
       "  $(function() {\n",
       "    $(\"#f4cb1888-616c-45a0-c59e-109620a30fc8\").html('Progress:<br>[6400001 / 11682144] [=================================>...............] ETA: 14 seconds - Batch Loss: 1450189.057836 - Avg. Epoch Loss: 1459510.161581<br>'); // clear any previous plot in window_id     \n",
       "  });\n",
       "</script>\n",
       "<div id=\"82d9529c-e30b-4556-c5e6-65557af83467\"></div>\n"
      ]
     },
     "metadata": {},
     "output_type": "display_data"
    },
    {
     "data": {
      "text/html": [
       "<script type=\"text/javascript\">\n",
       "  $(function() {\n",
       "    $(\"#f4cb1888-616c-45a0-c59e-109620a30fc8\").html('Progress:<br>[6410001 / 11682144] [=================================>...............] ETA: 14 seconds - Batch Loss: 1450160.665296 - Avg. Epoch Loss: 1459495.598505<br>'); // clear any previous plot in window_id     \n",
       "  });\n",
       "</script>\n",
       "<div id=\"56adef53-f48a-4757-c76d-a8b980fe5739\"></div>\n"
      ]
     },
     "metadata": {},
     "output_type": "display_data"
    },
    {
     "data": {
      "text/html": [
       "<script type=\"text/javascript\">\n",
       "  $(function() {\n",
       "    $(\"#f4cb1888-616c-45a0-c59e-109620a30fc8\").html('Progress:<br>[6420001 / 11682144] [=================================>...............] ETA: 14 seconds - Batch Loss: 1450130.515377 - Avg. Epoch Loss: 1459481.033836<br>'); // clear any previous plot in window_id     \n",
       "  });\n",
       "</script>\n",
       "<div id=\"49e262f7-c4b2-443c-c4be-f04657ce7e06\"></div>\n"
      ]
     },
     "metadata": {},
     "output_type": "display_data"
    },
    {
     "data": {
      "text/html": [
       "<script type=\"text/javascript\">\n",
       "  $(function() {\n",
       "    $(\"#f4cb1888-616c-45a0-c59e-109620a30fc8\").html('Progress:<br>[6430001 / 11682144] [=================================>...............] ETA: 14 seconds - Batch Loss: 1450101.227392 - Avg. Epoch Loss: 1459466.468922<br>'); // clear any previous plot in window_id     \n",
       "  });\n",
       "</script>\n",
       "<div id=\"ac80ef6b-593d-4670-c6b7-48f50c0ca4b7\"></div>\n"
      ]
     },
     "metadata": {},
     "output_type": "display_data"
    },
    {
     "data": {
      "text/html": [
       "<script type=\"text/javascript\">\n",
       "  $(function() {\n",
       "    $(\"#f4cb1888-616c-45a0-c59e-109620a30fc8\").html('Progress:<br>[6440001 / 11682144] [=================================>...............] ETA: 14 seconds - Batch Loss: 1450073.070112 - Avg. Epoch Loss: 1459451.905515<br>'); // clear any previous plot in window_id     \n",
       "  });\n",
       "</script>\n",
       "<div id=\"872efa07-a2f9-46ea-c617-fbf1bd8f7c8b\"></div>\n"
      ]
     },
     "metadata": {},
     "output_type": "display_data"
    },
    {
     "data": {
      "text/html": [
       "<script type=\"text/javascript\">\n",
       "  $(function() {\n",
       "    $(\"#f4cb1888-616c-45a0-c59e-109620a30fc8\").html('Progress:<br>[6450001 / 11682144] [=================================>...............] ETA: 14 seconds - Batch Loss: 1450045.963550 - Avg. Epoch Loss: 1459437.345236<br>'); // clear any previous plot in window_id     \n",
       "  });\n",
       "</script>\n",
       "<div id=\"05940d24-4aeb-4705-c74e-22cdc73a540f\"></div>\n"
      ]
     },
     "metadata": {},
     "output_type": "display_data"
    },
    {
     "data": {
      "text/html": [
       "<script type=\"text/javascript\">\n",
       "  $(function() {\n",
       "    $(\"#f4cb1888-616c-45a0-c59e-109620a30fc8\").html('Progress:<br>[6460001 / 11682144] [=================================>...............] ETA: 14 seconds - Batch Loss: 1450015.450954 - Avg. Epoch Loss: 1459422.782805<br>'); // clear any previous plot in window_id     \n",
       "  });\n",
       "</script>\n",
       "<div id=\"2056fdb7-d8ef-4aa3-caba-a4ff8d217172\"></div>\n"
      ]
     },
     "metadata": {},
     "output_type": "display_data"
    },
    {
     "data": {
      "text/html": [
       "<script type=\"text/javascript\">\n",
       "  $(function() {\n",
       "    $(\"#f4cb1888-616c-45a0-c59e-109620a30fc8\").html('Progress:<br>[6470001 / 11682144] [=================================>...............] ETA: 14 seconds - Batch Loss: 1449986.121736 - Avg. Epoch Loss: 1459408.220058<br>'); // clear any previous plot in window_id     \n",
       "  });\n",
       "</script>\n",
       "<div id=\"a9c34f32-ac8c-4f4b-cf81-a130acfdaecd\"></div>\n"
      ]
     },
     "metadata": {},
     "output_type": "display_data"
    },
    {
     "data": {
      "text/html": [
       "<script type=\"text/javascript\">\n",
       "  $(function() {\n",
       "    $(\"#f4cb1888-616c-45a0-c59e-109620a30fc8\").html('Progress:<br>[6480001 / 11682144] [=================================>...............] ETA: 14 seconds - Batch Loss: 1449956.280342 - Avg. Epoch Loss: 1459393.656209<br>'); // clear any previous plot in window_id     \n",
       "  });\n",
       "</script>\n",
       "<div id=\"231843c5-46c5-4247-c235-24e9c9660d83\"></div>\n"
      ]
     },
     "metadata": {},
     "output_type": "display_data"
    },
    {
     "data": {
      "text/html": [
       "<script type=\"text/javascript\">\n",
       "  $(function() {\n",
       "    $(\"#f4cb1888-616c-45a0-c59e-109620a30fc8\").html('Progress:<br>[6490001 / 11682144] [=================================>...............] ETA: 14 seconds - Batch Loss: 1449928.746830 - Avg. Epoch Loss: 1459379.094812<br>'); // clear any previous plot in window_id     \n",
       "  });\n",
       "</script>\n",
       "<div id=\"a5caa889-c1f1-4ebd-cead-bdccef89fed5\"></div>\n"
      ]
     },
     "metadata": {},
     "output_type": "display_data"
    },
    {
     "data": {
      "text/html": [
       "<script type=\"text/javascript\">\n",
       "  $(function() {\n",
       "    $(\"#f4cb1888-616c-45a0-c59e-109620a30fc8\").html('Progress:<br>[6500001 / 11682144] [=================================>...............] ETA: 14 seconds - Batch Loss: 1449898.397706 - Avg. Epoch Loss: 1459364.531532<br>'); // clear any previous plot in window_id     \n",
       "  });\n",
       "</script>\n",
       "<div id=\"22f90257-2f16-43f3-c3da-3c3508933035\"></div>\n"
      ]
     },
     "metadata": {},
     "output_type": "display_data"
    },
    {
     "data": {
      "text/html": [
       "<script type=\"text/javascript\">\n",
       "  $(function() {\n",
       "    $(\"#f4cb1888-616c-45a0-c59e-109620a30fc8\").html('Progress:<br>[6510001 / 11682144] [=================================>...............] ETA: 14 seconds - Batch Loss: 1449870.262019 - Avg. Epoch Loss: 1459349.969771<br>'); // clear any previous plot in window_id     \n",
       "  });\n",
       "</script>\n",
       "<div id=\"e41484f2-4349-404f-c080-b2077dfa8116\"></div>\n"
      ]
     },
     "metadata": {},
     "output_type": "display_data"
    },
    {
     "data": {
      "text/html": [
       "<script type=\"text/javascript\">\n",
       "  $(function() {\n",
       "    $(\"#f4cb1888-616c-45a0-c59e-109620a30fc8\").html('Progress:<br>[6520001 / 11682144] [=================================>...............] ETA: 14 seconds - Batch Loss: 1449841.479626 - Avg. Epoch Loss: 1459335.408532<br>'); // clear any previous plot in window_id     \n",
       "  });\n",
       "</script>\n",
       "<div id=\"e5288a89-d267-4b30-cb04-55e60e689805\"></div>\n"
      ]
     },
     "metadata": {},
     "output_type": "display_data"
    },
    {
     "data": {
      "text/html": [
       "<script type=\"text/javascript\">\n",
       "  $(function() {\n",
       "    $(\"#f4cb1888-616c-45a0-c59e-109620a30fc8\").html('Progress:<br>[6530001 / 11682144] [=================================>...............] ETA: 14 seconds - Batch Loss: 1449811.773945 - Avg. Epoch Loss: 1459320.846402<br>'); // clear any previous plot in window_id     \n",
       "  });\n",
       "</script>\n",
       "<div id=\"3e4dcbf8-8486-406a-c03a-788f0c7078fa\"></div>\n"
      ]
     },
     "metadata": {},
     "output_type": "display_data"
    },
    {
     "data": {
      "text/html": [
       "<script type=\"text/javascript\">\n",
       "  $(function() {\n",
       "    $(\"#f4cb1888-616c-45a0-c59e-109620a30fc8\").html('Progress:<br>[6540001 / 11682144] [=================================>...............] ETA: 14 seconds - Batch Loss: 1449783.566896 - Avg. Epoch Loss: 1459306.285672<br>'); // clear any previous plot in window_id     \n",
       "  });\n",
       "</script>\n",
       "<div id=\"80959434-1b38-4187-c1e2-74af4bf02fb0\"></div>\n"
      ]
     },
     "metadata": {},
     "output_type": "display_data"
    },
    {
     "data": {
      "text/html": [
       "<script type=\"text/javascript\">\n",
       "  $(function() {\n",
       "    $(\"#f4cb1888-616c-45a0-c59e-109620a30fc8\").html('Progress:<br>[6550001 / 11682144] [==================================>..............] ETA: 13 seconds - Batch Loss: 1449755.512550 - Avg. Epoch Loss: 1459291.726569<br>'); // clear any previous plot in window_id     \n",
       "  });\n",
       "</script>\n",
       "<div id=\"78121bb3-bfac-4ccd-ccc2-d55cf65d3c94\"></div>\n"
      ]
     },
     "metadata": {},
     "output_type": "display_data"
    },
    {
     "data": {
      "text/html": [
       "<script type=\"text/javascript\">\n",
       "  $(function() {\n",
       "    $(\"#f4cb1888-616c-45a0-c59e-109620a30fc8\").html('Progress:<br>[6560001 / 11682144] [==================================>..............] ETA: 13 seconds - Batch Loss: 1449725.320695 - Avg. Epoch Loss: 1459277.165832<br>'); // clear any previous plot in window_id     \n",
       "  });\n",
       "</script>\n",
       "<div id=\"71150feb-877a-4a8d-ca45-248447e6c4e6\"></div>\n"
      ]
     },
     "metadata": {},
     "output_type": "display_data"
    },
    {
     "data": {
      "text/html": [
       "<script type=\"text/javascript\">\n",
       "  $(function() {\n",
       "    $(\"#f4cb1888-616c-45a0-c59e-109620a30fc8\").html('Progress:<br>[6570001 / 11682144] [==================================>..............] ETA: 13 seconds - Batch Loss: 1449695.890337 - Avg. Epoch Loss: 1459262.604625<br>'); // clear any previous plot in window_id     \n",
       "  });\n",
       "</script>\n",
       "<div id=\"ba834718-07eb-4dcf-cd4d-e4e4282e3eee\"></div>\n"
      ]
     },
     "metadata": {},
     "output_type": "display_data"
    },
    {
     "data": {
      "text/html": [
       "<script type=\"text/javascript\">\n",
       "  $(function() {\n",
       "    $(\"#f4cb1888-616c-45a0-c59e-109620a30fc8\").html('Progress:<br>[6580001 / 11682144] [==================================>..............] ETA: 13 seconds - Batch Loss: 1449666.825475 - Avg. Epoch Loss: 1459248.043506<br>'); // clear any previous plot in window_id     \n",
       "  });\n",
       "</script>\n",
       "<div id=\"1745947f-752a-4fea-cfc5-01ba827463c0\"></div>\n"
      ]
     },
     "metadata": {},
     "output_type": "display_data"
    },
    {
     "data": {
      "text/html": [
       "<script type=\"text/javascript\">\n",
       "  $(function() {\n",
       "    $(\"#f4cb1888-616c-45a0-c59e-109620a30fc8\").html('Progress:<br>[6590001 / 11682144] [==================================>..............] ETA: 13 seconds - Batch Loss: 1449639.256456 - Avg. Epoch Loss: 1459233.484740<br>'); // clear any previous plot in window_id     \n",
       "  });\n",
       "</script>\n",
       "<div id=\"bcb1beaf-4e7f-4664-c613-ba6be967a0d6\"></div>\n"
      ]
     },
     "metadata": {},
     "output_type": "display_data"
    },
    {
     "data": {
      "text/html": [
       "<script type=\"text/javascript\">\n",
       "  $(function() {\n",
       "    $(\"#f4cb1888-616c-45a0-c59e-109620a30fc8\").html('Progress:<br>[6600001 / 11682144] [==================================>..............] ETA: 13 seconds - Batch Loss: 1449608.700173 - Avg. Epoch Loss: 1459218.923797<br>'); // clear any previous plot in window_id     \n",
       "  });\n",
       "</script>\n",
       "<div id=\"ea37f250-018a-4fb7-cf2e-e2386cfe08d3\"></div>\n"
      ]
     },
     "metadata": {},
     "output_type": "display_data"
    },
    {
     "data": {
      "text/html": [
       "<script type=\"text/javascript\">\n",
       "  $(function() {\n",
       "    $(\"#f4cb1888-616c-45a0-c59e-109620a30fc8\").html('Progress:<br>[6610001 / 11682144] [==================================>..............] ETA: 13 seconds - Batch Loss: 1449578.777208 - Avg. Epoch Loss: 1459204.361644<br>'); // clear any previous plot in window_id     \n",
       "  });\n",
       "</script>\n",
       "<div id=\"28f8e4f2-9ad0-4585-c5ca-70c4a6b38c00\"></div>\n"
      ]
     },
     "metadata": {},
     "output_type": "display_data"
    },
    {
     "data": {
      "text/html": [
       "<script type=\"text/javascript\">\n",
       "  $(function() {\n",
       "    $(\"#f4cb1888-616c-45a0-c59e-109620a30fc8\").html('Progress:<br>[6620001 / 11682144] [==================================>..............] ETA: 13 seconds - Batch Loss: 1449552.576734 - Avg. Epoch Loss: 1459189.803901<br>'); // clear any previous plot in window_id     \n",
       "  });\n",
       "</script>\n",
       "<div id=\"48a8ccbe-d300-44ef-c45b-6794632c1e7d\"></div>\n"
      ]
     },
     "metadata": {},
     "output_type": "display_data"
    },
    {
     "data": {
      "text/html": [
       "<script type=\"text/javascript\">\n",
       "  $(function() {\n",
       "    $(\"#f4cb1888-616c-45a0-c59e-109620a30fc8\").html('Progress:<br>[6630001 / 11682144] [==================================>..............] ETA: 13 seconds - Batch Loss: 1449521.577191 - Avg. Epoch Loss: 1459175.243321<br>'); // clear any previous plot in window_id     \n",
       "  });\n",
       "</script>\n",
       "<div id=\"7ffd3410-0bf8-4cf9-cc2e-7207dfb84e44\"></div>\n"
      ]
     },
     "metadata": {},
     "output_type": "display_data"
    },
    {
     "data": {
      "text/html": [
       "<script type=\"text/javascript\">\n",
       "  $(function() {\n",
       "    $(\"#f4cb1888-616c-45a0-c59e-109620a30fc8\").html('Progress:<br>[6640001 / 11682144] [==================================>..............] ETA: 13 seconds - Batch Loss: 1449495.204692 - Avg. Epoch Loss: 1459160.686874<br>'); // clear any previous plot in window_id     \n",
       "  });\n",
       "</script>\n",
       "<div id=\"6fd63b78-80b4-45b1-c52d-e2f5b28358d5\"></div>\n"
      ]
     },
     "metadata": {},
     "output_type": "display_data"
    },
    {
     "data": {
      "text/html": [
       "<script type=\"text/javascript\">\n",
       "  $(function() {\n",
       "    $(\"#f4cb1888-616c-45a0-c59e-109620a30fc8\").html('Progress:<br>[6650001 / 11682144] [==================================>..............] ETA: 13 seconds - Batch Loss: 1449463.472450 - Avg. Epoch Loss: 1459146.126495<br>'); // clear any previous plot in window_id     \n",
       "  });\n",
       "</script>\n",
       "<div id=\"c093ef7d-1f60-4df1-cd3e-55441a9ba583\"></div>\n"
      ]
     },
     "metadata": {},
     "output_type": "display_data"
    },
    {
     "data": {
      "text/html": [
       "<script type=\"text/javascript\">\n",
       "  $(function() {\n",
       "    $(\"#f4cb1888-616c-45a0-c59e-109620a30fc8\").html('Progress:<br>[6660001 / 11682144] [==================================>..............] ETA: 13 seconds - Batch Loss: 1449436.191481 - Avg. Epoch Loss: 1459131.568873<br>'); // clear any previous plot in window_id     \n",
       "  });\n",
       "</script>\n",
       "<div id=\"266face9-7837-429a-c2e7-1f7b6ddc632e\"></div>\n"
      ]
     },
     "metadata": {},
     "output_type": "display_data"
    },
    {
     "data": {
      "text/html": [
       "<script type=\"text/javascript\">\n",
       "  $(function() {\n",
       "    $(\"#f4cb1888-616c-45a0-c59e-109620a30fc8\").html('Progress:<br>[6670001 / 11682144] [==================================>..............] ETA: 13 seconds - Batch Loss: 1449405.825199 - Avg. Epoch Loss: 1459117.009379<br>'); // clear any previous plot in window_id     \n",
       "  });\n",
       "</script>\n",
       "<div id=\"41527d5b-07fc-440e-c4f1-dc5e47ce5e1c\"></div>\n"
      ]
     },
     "metadata": {},
     "output_type": "display_data"
    },
    {
     "data": {
      "text/html": [
       "<script type=\"text/javascript\">\n",
       "  $(function() {\n",
       "    $(\"#f4cb1888-616c-45a0-c59e-109620a30fc8\").html('Progress:<br>[6680001 / 11682144] [==================================>..............] ETA: 13 seconds - Batch Loss: 1449377.698818 - Avg. Epoch Loss: 1459102.451368<br>'); // clear any previous plot in window_id     \n",
       "  });\n",
       "</script>\n",
       "<div id=\"ba7bec1b-61f2-478b-c717-4088b5050309\"></div>\n"
      ]
     },
     "metadata": {},
     "output_type": "display_data"
    },
    {
     "data": {
      "text/html": [
       "<script type=\"text/javascript\">\n",
       "  $(function() {\n",
       "    $(\"#f4cb1888-616c-45a0-c59e-109620a30fc8\").html('Progress:<br>[6690001 / 11682144] [==================================>..............] ETA: 13 seconds - Batch Loss: 1449349.075322 - Avg. Epoch Loss: 1459087.894093<br>'); // clear any previous plot in window_id     \n",
       "  });\n",
       "</script>\n",
       "<div id=\"e0d8c8aa-aa2d-4ee8-ce07-86a90419f6c3\"></div>\n"
      ]
     },
     "metadata": {},
     "output_type": "display_data"
    },
    {
     "data": {
      "text/html": [
       "<script type=\"text/javascript\">\n",
       "  $(function() {\n",
       "    $(\"#f4cb1888-616c-45a0-c59e-109620a30fc8\").html('Progress:<br>[6700001 / 11682144] [==================================>..............] ETA: 13 seconds - Batch Loss: 1449318.273877 - Avg. Epoch Loss: 1459073.334303<br>'); // clear any previous plot in window_id     \n",
       "  });\n",
       "</script>\n",
       "<div id=\"fab865dd-9ea3-49f1-c929-f27f1a740b3b\"></div>\n"
      ]
     },
     "metadata": {},
     "output_type": "display_data"
    },
    {
     "data": {
      "text/html": [
       "<script type=\"text/javascript\">\n",
       "  $(function() {\n",
       "    $(\"#f4cb1888-616c-45a0-c59e-109620a30fc8\").html('Progress:<br>[6710001 / 11682144] [==================================>..............] ETA: 13 seconds - Batch Loss: 1449290.941888 - Avg. Epoch Loss: 1459058.777174<br>'); // clear any previous plot in window_id     \n",
       "  });\n",
       "</script>\n",
       "<div id=\"c26deded-ac8e-418e-c1e5-58bd7a64fe3d\"></div>\n"
      ]
     },
     "metadata": {},
     "output_type": "display_data"
    },
    {
     "data": {
      "text/html": [
       "<script type=\"text/javascript\">\n",
       "  $(function() {\n",
       "    $(\"#f4cb1888-616c-45a0-c59e-109620a30fc8\").html('Progress:<br>[6720001 / 11682144] [==================================>..............] ETA: 13 seconds - Batch Loss: 1449260.949594 - Avg. Epoch Loss: 1459044.218740<br>'); // clear any previous plot in window_id     \n",
       "  });\n",
       "</script>\n",
       "<div id=\"c2285c52-407d-4e7b-ceaf-8a80021c01c0\"></div>\n"
      ]
     },
     "metadata": {},
     "output_type": "display_data"
    },
    {
     "data": {
      "text/html": [
       "<script type=\"text/javascript\">\n",
       "  $(function() {\n",
       "    $(\"#f4cb1888-616c-45a0-c59e-109620a30fc8\").html('Progress:<br>[6730001 / 11682144] [===================================>.............] ETA: 12 seconds - Batch Loss: 1449232.873276 - Avg. Epoch Loss: 1459029.661849<br>'); // clear any previous plot in window_id     \n",
       "  });\n",
       "</script>\n",
       "<div id=\"620b6221-5f20-4cc4-cca2-5b556fa173c3\"></div>\n"
      ]
     },
     "metadata": {},
     "output_type": "display_data"
    },
    {
     "data": {
      "text/html": [
       "<script type=\"text/javascript\">\n",
       "  $(function() {\n",
       "    $(\"#f4cb1888-616c-45a0-c59e-109620a30fc8\").html('Progress:<br>[6740001 / 11682144] [===================================>.............] ETA: 12 seconds - Batch Loss: 1449205.384692 - Avg. Epoch Loss: 1459015.107367<br>'); // clear any previous plot in window_id     \n",
       "  });\n",
       "</script>\n",
       "<div id=\"a80dffa0-f891-42df-c23c-2260f8403b42\"></div>\n"
      ]
     },
     "metadata": {},
     "output_type": "display_data"
    },
    {
     "data": {
      "text/html": [
       "<script type=\"text/javascript\">\n",
       "  $(function() {\n",
       "    $(\"#f4cb1888-616c-45a0-c59e-109620a30fc8\").html('Progress:<br>[6750001 / 11682144] [===================================>.............] ETA: 12 seconds - Batch Loss: 1449173.131816 - Avg. Epoch Loss: 1459000.548234<br>'); // clear any previous plot in window_id     \n",
       "  });\n",
       "</script>\n",
       "<div id=\"7f3c1943-99e6-4f6e-cfc5-4908858b3a61\"></div>\n"
      ]
     },
     "metadata": {},
     "output_type": "display_data"
    },
    {
     "data": {
      "text/html": [
       "<script type=\"text/javascript\">\n",
       "  $(function() {\n",
       "    $(\"#f4cb1888-616c-45a0-c59e-109620a30fc8\").html('Progress:<br>[6760001 / 11682144] [===================================>.............] ETA: 12 seconds - Batch Loss: 1449147.286070 - Avg. Epoch Loss: 1458985.993934<br>'); // clear any previous plot in window_id     \n",
       "  });\n",
       "</script>\n",
       "<div id=\"b02edc27-4e08-406e-c0ea-375d92d16530\"></div>\n"
      ]
     },
     "metadata": {},
     "output_type": "display_data"
    },
    {
     "data": {
      "text/html": [
       "<script type=\"text/javascript\">\n",
       "  $(function() {\n",
       "    $(\"#f4cb1888-616c-45a0-c59e-109620a30fc8\").html('Progress:<br>[6770001 / 11682144] [===================================>.............] ETA: 12 seconds - Batch Loss: 1449115.664207 - Avg. Epoch Loss: 1458971.435928<br>'); // clear any previous plot in window_id     \n",
       "  });\n",
       "</script>\n",
       "<div id=\"4407fc7d-a1fc-4052-c0ea-4e22af0692df\"></div>\n"
      ]
     },
     "metadata": {},
     "output_type": "display_data"
    },
    {
     "data": {
      "text/html": [
       "<script type=\"text/javascript\">\n",
       "  $(function() {\n",
       "    $(\"#f4cb1888-616c-45a0-c59e-109620a30fc8\").html('Progress:<br>[6780001 / 11682144] [===================================>.............] ETA: 12 seconds - Batch Loss: 1449087.625505 - Avg. Epoch Loss: 1458956.879508<br>'); // clear any previous plot in window_id     \n",
       "  });\n",
       "</script>\n",
       "<div id=\"789882c1-8bea-40d4-c0e4-eb049a664e39\"></div>\n"
      ]
     },
     "metadata": {},
     "output_type": "display_data"
    },
    {
     "data": {
      "text/html": [
       "<script type=\"text/javascript\">\n",
       "  $(function() {\n",
       "    $(\"#f4cb1888-616c-45a0-c59e-109620a30fc8\").html('Progress:<br>[6790001 / 11682144] [===================================>.............] ETA: 12 seconds - Batch Loss: 1449059.376373 - Avg. Epoch Loss: 1458942.324359<br>'); // clear any previous plot in window_id     \n",
       "  });\n",
       "</script>\n",
       "<div id=\"69743628-9495-4517-c5c3-1c1427d76cf8\"></div>\n"
      ]
     },
     "metadata": {},
     "output_type": "display_data"
    },
    {
     "data": {
      "text/html": [
       "<script type=\"text/javascript\">\n",
       "  $(function() {\n",
       "    $(\"#f4cb1888-616c-45a0-c59e-109620a30fc8\").html('Progress:<br>[6800001 / 11682144] [===================================>.............] ETA: 12 seconds - Batch Loss: 1449029.425653 - Avg. Epoch Loss: 1458927.767975<br>'); // clear any previous plot in window_id     \n",
       "  });\n",
       "</script>\n",
       "<div id=\"f182489d-ae21-425d-c219-313ce483956a\"></div>\n"
      ]
     },
     "metadata": {},
     "output_type": "display_data"
    },
    {
     "data": {
      "text/html": [
       "<script type=\"text/javascript\">\n",
       "  $(function() {\n",
       "    $(\"#f4cb1888-616c-45a0-c59e-109620a30fc8\").html('Progress:<br>[6810001 / 11682144] [===================================>.............] ETA: 12 seconds - Batch Loss: 1449001.842053 - Avg. Epoch Loss: 1458913.213834<br>'); // clear any previous plot in window_id     \n",
       "  });\n",
       "</script>\n",
       "<div id=\"971fe534-fe6c-4d7d-cdc6-b172732f6d45\"></div>\n"
      ]
     },
     "metadata": {},
     "output_type": "display_data"
    },
    {
     "data": {
      "text/html": [
       "<script type=\"text/javascript\">\n",
       "  $(function() {\n",
       "    $(\"#f4cb1888-616c-45a0-c59e-109620a30fc8\").html('Progress:<br>[6820001 / 11682144] [===================================>.............] ETA: 12 seconds - Batch Loss: 1448972.536242 - Avg. Epoch Loss: 1458898.659403<br>'); // clear any previous plot in window_id     \n",
       "  });\n",
       "</script>\n",
       "<div id=\"648d6521-c443-42a0-c25c-fe7776ca2cfc\"></div>\n"
      ]
     },
     "metadata": {},
     "output_type": "display_data"
    },
    {
     "data": {
      "text/html": [
       "<script type=\"text/javascript\">\n",
       "  $(function() {\n",
       "    $(\"#f4cb1888-616c-45a0-c59e-109620a30fc8\").html('Progress:<br>[6830001 / 11682144] [===================================>.............] ETA: 12 seconds - Batch Loss: 1448944.755861 - Avg. Epoch Loss: 1458884.106914<br>'); // clear any previous plot in window_id     \n",
       "  });\n",
       "</script>\n",
       "<div id=\"6b2bd05c-d209-472c-c7ec-170109f3bae7\"></div>\n"
      ]
     },
     "metadata": {},
     "output_type": "display_data"
    },
    {
     "data": {
      "text/html": [
       "<script type=\"text/javascript\">\n",
       "  $(function() {\n",
       "    $(\"#f4cb1888-616c-45a0-c59e-109620a30fc8\").html('Progress:<br>[6840001 / 11682144] [===================================>.............] ETA: 12 seconds - Batch Loss: 1448915.452804 - Avg. Epoch Loss: 1458869.554137<br>'); // clear any previous plot in window_id     \n",
       "  });\n",
       "</script>\n",
       "<div id=\"5e038bec-6f18-4013-c035-9f7248c006e8\"></div>\n"
      ]
     },
     "metadata": {},
     "output_type": "display_data"
    },
    {
     "data": {
      "text/html": [
       "<script type=\"text/javascript\">\n",
       "  $(function() {\n",
       "    $(\"#f4cb1888-616c-45a0-c59e-109620a30fc8\").html('Progress:<br>[6850001 / 11682144] [===================================>.............] ETA: 12 seconds - Batch Loss: 1448883.647777 - Avg. Epoch Loss: 1458854.997424<br>'); // clear any previous plot in window_id     \n",
       "  });\n",
       "</script>\n",
       "<div id=\"1d6e03cd-2ed2-4c5f-cc25-6e987e885b6d\"></div>\n"
      ]
     },
     "metadata": {},
     "output_type": "display_data"
    },
    {
     "data": {
      "text/html": [
       "<script type=\"text/javascript\">\n",
       "  $(function() {\n",
       "    $(\"#f4cb1888-616c-45a0-c59e-109620a30fc8\").html('Progress:<br>[6860001 / 11682144] [===================================>.............] ETA: 12 seconds - Batch Loss: 1448855.913672 - Avg. Epoch Loss: 1458840.442719<br>'); // clear any previous plot in window_id     \n",
       "  });\n",
       "</script>\n",
       "<div id=\"b260a63e-f4e5-4d15-cd61-a16af339a6b6\"></div>\n"
      ]
     },
     "metadata": {},
     "output_type": "display_data"
    },
    {
     "data": {
      "text/html": [
       "<script type=\"text/javascript\">\n",
       "  $(function() {\n",
       "    $(\"#f4cb1888-616c-45a0-c59e-109620a30fc8\").html('Progress:<br>[6870001 / 11682144] [===================================>.............] ETA: 12 seconds - Batch Loss: 1448825.832768 - Avg. Epoch Loss: 1458825.886602<br>'); // clear any previous plot in window_id     \n",
       "  });\n",
       "</script>\n",
       "<div id=\"fa4c2233-ec8e-4b62-cbdc-c2865803499e\"></div>\n"
      ]
     },
     "metadata": {},
     "output_type": "display_data"
    },
    {
     "data": {
      "text/html": [
       "<script type=\"text/javascript\">\n",
       "  $(function() {\n",
       "    $(\"#f4cb1888-616c-45a0-c59e-109620a30fc8\").html('Progress:<br>[6880001 / 11682144] [===================================>.............] ETA: 12 seconds - Batch Loss: 1448797.338729 - Avg. Epoch Loss: 1458811.331382<br>'); // clear any previous plot in window_id     \n",
       "  });\n",
       "</script>\n",
       "<div id=\"9e4f79b6-f685-46eb-c67c-2189c378c70b\"></div>\n"
      ]
     },
     "metadata": {},
     "output_type": "display_data"
    },
    {
     "data": {
      "text/html": [
       "<script type=\"text/javascript\">\n",
       "  $(function() {\n",
       "    $(\"#f4cb1888-616c-45a0-c59e-109620a30fc8\").html('Progress:<br>[6890001 / 11682144] [===================================>.............] ETA: 12 seconds - Batch Loss: 1448770.014289 - Avg. Epoch Loss: 1458796.778751<br>'); // clear any previous plot in window_id     \n",
       "  });\n",
       "</script>\n",
       "<div id=\"c67b6b66-e672-4bd1-cbe9-23e9d8e57032\"></div>\n"
      ]
     },
     "metadata": {},
     "output_type": "display_data"
    },
    {
     "data": {
      "text/html": [
       "<script type=\"text/javascript\">\n",
       "  $(function() {\n",
       "    $(\"#f4cb1888-616c-45a0-c59e-109620a30fc8\").html('Progress:<br>[6900001 / 11682144] [===================================>.............] ETA: 12 seconds - Batch Loss: 1448739.637797 - Avg. Epoch Loss: 1458782.224280<br>'); // clear any previous plot in window_id     \n",
       "  });\n",
       "</script>\n",
       "<div id=\"f2b82661-32a4-4366-c31d-a6aca62f8a6f\"></div>\n"
      ]
     },
     "metadata": {},
     "output_type": "display_data"
    },
    {
     "data": {
      "text/html": [
       "<script type=\"text/javascript\">\n",
       "  $(function() {\n",
       "    $(\"#f4cb1888-616c-45a0-c59e-109620a30fc8\").html('Progress:<br>[6910001 / 11682144] [===================================>.............] ETA: 12 seconds - Batch Loss: 1448710.042353 - Avg. Epoch Loss: 1458767.669106<br>'); // clear any previous plot in window_id     \n",
       "  });\n",
       "</script>\n",
       "<div id=\"3a58ca16-a3a6-48b7-c840-dff3bbba967a\"></div>\n"
      ]
     },
     "metadata": {},
     "output_type": "display_data"
    },
    {
     "data": {
      "text/html": [
       "<script type=\"text/javascript\">\n",
       "  $(function() {\n",
       "    $(\"#f4cb1888-616c-45a0-c59e-109620a30fc8\").html('Progress:<br>[6920001 / 11682144] [====================================>............] ETA: 11 seconds - Batch Loss: 1448681.739395 - Avg. Epoch Loss: 1458753.115097<br>'); // clear any previous plot in window_id     \n",
       "  });\n",
       "</script>\n",
       "<div id=\"86e97a72-d7a3-40e2-c0fd-0d7cbc218007\"></div>\n"
      ]
     },
     "metadata": {},
     "output_type": "display_data"
    },
    {
     "data": {
      "text/html": [
       "<script type=\"text/javascript\">\n",
       "  $(function() {\n",
       "    $(\"#f4cb1888-616c-45a0-c59e-109620a30fc8\").html('Progress:<br>[6930001 / 11682144] [====================================>............] ETA: 11 seconds - Batch Loss: 1448652.533694 - Avg. Epoch Loss: 1458738.560947<br>'); // clear any previous plot in window_id     \n",
       "  });\n",
       "</script>\n",
       "<div id=\"396e3cc2-2531-4145-c158-b576212ad663\"></div>\n"
      ]
     },
     "metadata": {},
     "output_type": "display_data"
    },
    {
     "data": {
      "text/html": [
       "<script type=\"text/javascript\">\n",
       "  $(function() {\n",
       "    $(\"#f4cb1888-616c-45a0-c59e-109620a30fc8\").html('Progress:<br>[6940001 / 11682144] [====================================>............] ETA: 11 seconds - Batch Loss: 1448624.906254 - Avg. Epoch Loss: 1458724.008928<br>'); // clear any previous plot in window_id     \n",
       "  });\n",
       "</script>\n",
       "<div id=\"31ad82e3-a003-48b2-c8f6-78cdfe4c6c70\"></div>\n"
      ]
     },
     "metadata": {},
     "output_type": "display_data"
    },
    {
     "data": {
      "text/html": [
       "<script type=\"text/javascript\">\n",
       "  $(function() {\n",
       "    $(\"#f4cb1888-616c-45a0-c59e-109620a30fc8\").html('Progress:<br>[6950001 / 11682144] [====================================>............] ETA: 11 seconds - Batch Loss: 1448595.210472 - Avg. Epoch Loss: 1458709.456059<br>'); // clear any previous plot in window_id     \n",
       "  });\n",
       "</script>\n",
       "<div id=\"2312e8ca-a067-4bc0-cbe7-a8916de53066\"></div>\n"
      ]
     },
     "metadata": {},
     "output_type": "display_data"
    },
    {
     "data": {
      "text/html": [
       "<script type=\"text/javascript\">\n",
       "  $(function() {\n",
       "    $(\"#f4cb1888-616c-45a0-c59e-109620a30fc8\").html('Progress:<br>[6960001 / 11682144] [====================================>............] ETA: 11 seconds - Batch Loss: 1448566.651392 - Avg. Epoch Loss: 1458694.903974<br>'); // clear any previous plot in window_id     \n",
       "  });\n",
       "</script>\n",
       "<div id=\"558d23d8-d021-4dfd-cdbf-806f621e9a41\"></div>\n"
      ]
     },
     "metadata": {},
     "output_type": "display_data"
    },
    {
     "data": {
      "text/html": [
       "<script type=\"text/javascript\">\n",
       "  $(function() {\n",
       "    $(\"#f4cb1888-616c-45a0-c59e-109620a30fc8\").html('Progress:<br>[6970001 / 11682144] [====================================>............] ETA: 11 seconds - Batch Loss: 1448539.077389 - Avg. Epoch Loss: 1458680.354081<br>'); // clear any previous plot in window_id     \n",
       "  });\n",
       "</script>\n",
       "<div id=\"2af2d0f3-6219-44b3-c4ed-0fdd23842f32\"></div>\n"
      ]
     },
     "metadata": {},
     "output_type": "display_data"
    },
    {
     "data": {
      "text/html": [
       "<script type=\"text/javascript\">\n",
       "  $(function() {\n",
       "    $(\"#f4cb1888-616c-45a0-c59e-109620a30fc8\").html('Progress:<br>[6980001 / 11682144] [====================================>............] ETA: 11 seconds - Batch Loss: 1448506.337344 - Avg. Epoch Loss: 1458665.798981<br>'); // clear any previous plot in window_id     \n",
       "  });\n",
       "</script>\n",
       "<div id=\"d10f4eb4-232c-4b23-cbbf-bf0cf1fd3910\"></div>\n"
      ]
     },
     "metadata": {},
     "output_type": "display_data"
    },
    {
     "data": {
      "text/html": [
       "<script type=\"text/javascript\">\n",
       "  $(function() {\n",
       "    $(\"#f4cb1888-616c-45a0-c59e-109620a30fc8\").html('Progress:<br>[6990001 / 11682144] [====================================>............] ETA: 11 seconds - Batch Loss: 1448477.437976 - Avg. Epoch Loss: 1458651.244181<br>'); // clear any previous plot in window_id     \n",
       "  });\n",
       "</script>\n",
       "<div id=\"d949e382-0774-445a-c4a0-30510b95cfed\"></div>\n"
      ]
     },
     "metadata": {},
     "output_type": "display_data"
    },
    {
     "data": {
      "text/html": [
       "<script type=\"text/javascript\">\n",
       "  $(function() {\n",
       "    $(\"#f4cb1888-616c-45a0-c59e-109620a30fc8\").html('Progress:<br>[7000001 / 11682144] [====================================>............] ETA: 11 seconds - Batch Loss: 1448449.405337 - Avg. Epoch Loss: 1458636.690918<br>'); // clear any previous plot in window_id     \n",
       "  });\n",
       "</script>\n",
       "<div id=\"cd3fd6c6-1dd7-4c5c-ccd9-87a7812d9ee3\"></div>\n"
      ]
     },
     "metadata": {},
     "output_type": "display_data"
    },
    {
     "data": {
      "text/html": [
       "<script type=\"text/javascript\">\n",
       "  $(function() {\n",
       "    $(\"#f4cb1888-616c-45a0-c59e-109620a30fc8\").html('Progress:<br>[7010001 / 11682144] [====================================>............] ETA: 11 seconds - Batch Loss: 1448422.073112 - Avg. Epoch Loss: 1458622.140183<br>'); // clear any previous plot in window_id     \n",
       "  });\n",
       "</script>\n",
       "<div id=\"753383ef-caed-49c5-c97e-a007810efce9\"></div>\n"
      ]
     },
     "metadata": {},
     "output_type": "display_data"
    },
    {
     "data": {
      "text/html": [
       "<script type=\"text/javascript\">\n",
       "  $(function() {\n",
       "    $(\"#f4cb1888-616c-45a0-c59e-109620a30fc8\").html('Progress:<br>[7020001 / 11682144] [====================================>............] ETA: 11 seconds - Batch Loss: 1448392.793856 - Avg. Epoch Loss: 1458607.589194<br>'); // clear any previous plot in window_id     \n",
       "  });\n",
       "</script>\n",
       "<div id=\"9838209d-6913-4e93-cec6-614b10a68cc4\"></div>\n"
      ]
     },
     "metadata": {},
     "output_type": "display_data"
    },
    {
     "data": {
      "text/html": [
       "<script type=\"text/javascript\">\n",
       "  $(function() {\n",
       "    $(\"#f4cb1888-616c-45a0-c59e-109620a30fc8\").html('Progress:<br>[7030001 / 11682144] [====================================>............] ETA: 11 seconds - Batch Loss: 1448362.842547 - Avg. Epoch Loss: 1458593.036999<br>'); // clear any previous plot in window_id     \n",
       "  });\n",
       "</script>\n",
       "<div id=\"71862b9b-f706-4dcc-cdca-e683f7529922\"></div>\n"
      ]
     },
     "metadata": {},
     "output_type": "display_data"
    },
    {
     "data": {
      "text/html": [
       "<script type=\"text/javascript\">\n",
       "  $(function() {\n",
       "    $(\"#f4cb1888-616c-45a0-c59e-109620a30fc8\").html('Progress:<br>[7040001 / 11682144] [====================================>............] ETA: 11 seconds - Batch Loss: 1448335.295736 - Avg. Epoch Loss: 1458578.487014<br>'); // clear any previous plot in window_id     \n",
       "  });\n",
       "</script>\n",
       "<div id=\"501a762b-db7b-45f3-c501-f10d07a84a3f\"></div>\n"
      ]
     },
     "metadata": {},
     "output_type": "display_data"
    },
    {
     "data": {
      "text/html": [
       "<script type=\"text/javascript\">\n",
       "  $(function() {\n",
       "    $(\"#f4cb1888-616c-45a0-c59e-109620a30fc8\").html('Progress:<br>[7050001 / 11682144] [====================================>............] ETA: 11 seconds - Batch Loss: 1448305.598943 - Avg. Epoch Loss: 1458563.936183<br>'); // clear any previous plot in window_id     \n",
       "  });\n",
       "</script>\n",
       "<div id=\"b9354458-7de5-48e8-c8f3-286c89712112\"></div>\n"
      ]
     },
     "metadata": {},
     "output_type": "display_data"
    },
    {
     "data": {
      "text/html": [
       "<script type=\"text/javascript\">\n",
       "  $(function() {\n",
       "    $(\"#f4cb1888-616c-45a0-c59e-109620a30fc8\").html('Progress:<br>[7060001 / 11682144] [====================================>............] ETA: 11 seconds - Batch Loss: 1448275.220883 - Avg. Epoch Loss: 1458549.383547<br>'); // clear any previous plot in window_id     \n",
       "  });\n",
       "</script>\n",
       "<div id=\"afbcdeba-ac1a-46f9-c6b9-f5b4245e605a\"></div>\n"
      ]
     },
     "metadata": {},
     "output_type": "display_data"
    },
    {
     "data": {
      "text/html": [
       "<script type=\"text/javascript\">\n",
       "  $(function() {\n",
       "    $(\"#f4cb1888-616c-45a0-c59e-109620a30fc8\").html('Progress:<br>[7070001 / 11682144] [====================================>............] ETA: 11 seconds - Batch Loss: 1448247.220513 - Avg. Epoch Loss: 1458534.832471<br>'); // clear any previous plot in window_id     \n",
       "  });\n",
       "</script>\n",
       "<div id=\"31d61ff2-33fc-4556-c582-e83c5eabedbc\"></div>\n"
      ]
     },
     "metadata": {},
     "output_type": "display_data"
    },
    {
     "data": {
      "text/html": [
       "<script type=\"text/javascript\">\n",
       "  $(function() {\n",
       "    $(\"#f4cb1888-616c-45a0-c59e-109620a30fc8\").html('Progress:<br>[7080001 / 11682144] [====================================>............] ETA: 11 seconds - Batch Loss: 1448217.573118 - Avg. Epoch Loss: 1458520.280626<br>'); // clear any previous plot in window_id     \n",
       "  });\n",
       "</script>\n",
       "<div id=\"a13e6f48-b90e-48cf-c873-d61f7a72906a\"></div>\n"
      ]
     },
     "metadata": {},
     "output_type": "display_data"
    },
    {
     "data": {
      "text/html": [
       "<script type=\"text/javascript\">\n",
       "  $(function() {\n",
       "    $(\"#f4cb1888-616c-45a0-c59e-109620a30fc8\").html('Progress:<br>[7090001 / 11682144] [====================================>............] ETA: 11 seconds - Batch Loss: 1448189.112249 - Avg. Epoch Loss: 1458505.729687<br>'); // clear any previous plot in window_id     \n",
       "  });\n",
       "</script>\n",
       "<div id=\"4be82733-dfe5-46f9-c61f-425a078d62c7\"></div>\n"
      ]
     },
     "metadata": {},
     "output_type": "display_data"
    },
    {
     "data": {
      "text/html": [
       "<script type=\"text/javascript\">\n",
       "  $(function() {\n",
       "    $(\"#f4cb1888-616c-45a0-c59e-109620a30fc8\").html('Progress:<br>[7100001 / 11682144] [====================================>............] ETA: 11 seconds - Batch Loss: 1448160.869900 - Avg. Epoch Loss: 1458491.179956<br>'); // clear any previous plot in window_id     \n",
       "  });\n",
       "</script>\n",
       "<div id=\"7ef55dee-10cc-4343-c36f-3cc4748e5a44\"></div>\n"
      ]
     },
     "metadata": {},
     "output_type": "display_data"
    },
    {
     "data": {
      "text/html": [
       "<script type=\"text/javascript\">\n",
       "  $(function() {\n",
       "    $(\"#f4cb1888-616c-45a0-c59e-109620a30fc8\").html('Progress:<br>[7110001 / 11682144] [=====================================>...........] ETA: 10 seconds - Batch Loss: 1448131.562064 - Avg. Epoch Loss: 1458476.629933<br>'); // clear any previous plot in window_id     \n",
       "  });\n",
       "</script>\n",
       "<div id=\"df5f37ed-3a99-4e81-ce6f-3a52323791d4\"></div>\n"
      ]
     },
     "metadata": {},
     "output_type": "display_data"
    },
    {
     "data": {
      "text/html": [
       "<script type=\"text/javascript\">\n",
       "  $(function() {\n",
       "    $(\"#f4cb1888-616c-45a0-c59e-109620a30fc8\").html('Progress:<br>[7120001 / 11682144] [=====================================>...........] ETA: 10 seconds - Batch Loss: 1448101.656767 - Avg. Epoch Loss: 1458462.078781<br>'); // clear any previous plot in window_id     \n",
       "  });\n",
       "</script>\n",
       "<div id=\"edee0e45-41e3-4f96-cfc0-0065199c5653\"></div>\n"
      ]
     },
     "metadata": {},
     "output_type": "display_data"
    },
    {
     "data": {
      "text/html": [
       "<script type=\"text/javascript\">\n",
       "  $(function() {\n",
       "    $(\"#f4cb1888-616c-45a0-c59e-109620a30fc8\").html('Progress:<br>[7130001 / 11682144] [=====================================>...........] ETA: 10 seconds - Batch Loss: 1448073.634139 - Avg. Epoch Loss: 1458447.529141<br>'); // clear any previous plot in window_id     \n",
       "  });\n",
       "</script>\n",
       "<div id=\"ef1862e8-d817-4ef6-ce38-243690b2c51c\"></div>\n"
      ]
     },
     "metadata": {},
     "output_type": "display_data"
    },
    {
     "data": {
      "text/html": [
       "<script type=\"text/javascript\">\n",
       "  $(function() {\n",
       "    $(\"#f4cb1888-616c-45a0-c59e-109620a30fc8\").html('Progress:<br>[7140001 / 11682144] [=====================================>...........] ETA: 10 seconds - Batch Loss: 1448044.133268 - Avg. Epoch Loss: 1458432.978939<br>'); // clear any previous plot in window_id     \n",
       "  });\n",
       "</script>\n",
       "<div id=\"3efb3740-2efd-41cd-c1c4-2a22dbfa5deb\"></div>\n"
      ]
     },
     "metadata": {},
     "output_type": "display_data"
    },
    {
     "data": {
      "text/html": [
       "<script type=\"text/javascript\">\n",
       "  $(function() {\n",
       "    $(\"#f4cb1888-616c-45a0-c59e-109620a30fc8\").html('Progress:<br>[7150001 / 11682144] [=====================================>...........] ETA: 10 seconds - Batch Loss: 1448015.771535 - Avg. Epoch Loss: 1458418.429768<br>'); // clear any previous plot in window_id     \n",
       "  });\n",
       "</script>\n",
       "<div id=\"23dd3ad4-b99c-4bd1-cbef-cc76f28528e7\"></div>\n"
      ]
     },
     "metadata": {},
     "output_type": "display_data"
    },
    {
     "data": {
      "text/html": [
       "<script type=\"text/javascript\">\n",
       "  $(function() {\n",
       "    $(\"#f4cb1888-616c-45a0-c59e-109620a30fc8\").html('Progress:<br>[7160001 / 11682144] [=====================================>...........] ETA: 10 seconds - Batch Loss: 1447986.010816 - Avg. Epoch Loss: 1458403.879674<br>'); // clear any previous plot in window_id     \n",
       "  });\n",
       "</script>\n",
       "<div id=\"8f866845-095d-42da-c2b3-3106c3d79268\"></div>\n"
      ]
     },
     "metadata": {},
     "output_type": "display_data"
    },
    {
     "data": {
      "text/html": [
       "<script type=\"text/javascript\">\n",
       "  $(function() {\n",
       "    $(\"#f4cb1888-616c-45a0-c59e-109620a30fc8\").html('Progress:<br>[7170001 / 11682144] [=====================================>...........] ETA: 10 seconds - Batch Loss: 1447958.270154 - Avg. Epoch Loss: 1458389.331474<br>'); // clear any previous plot in window_id     \n",
       "  });\n",
       "</script>\n",
       "<div id=\"f1bc7445-8546-4fca-cff2-aaf3088d6984\"></div>\n"
      ]
     },
     "metadata": {},
     "output_type": "display_data"
    },
    {
     "data": {
      "text/html": [
       "<script type=\"text/javascript\">\n",
       "  $(function() {\n",
       "    $(\"#f4cb1888-616c-45a0-c59e-109620a30fc8\").html('Progress:<br>[7180001 / 11682144] [=====================================>...........] ETA: 10 seconds - Batch Loss: 1447928.498982 - Avg. Epoch Loss: 1458374.782334<br>'); // clear any previous plot in window_id     \n",
       "  });\n",
       "</script>\n",
       "<div id=\"d98c2523-7fe2-47c8-c7c3-ce1d38c863f2\"></div>\n"
      ]
     },
     "metadata": {},
     "output_type": "display_data"
    },
    {
     "data": {
      "text/html": [
       "<script type=\"text/javascript\">\n",
       "  $(function() {\n",
       "    $(\"#f4cb1888-616c-45a0-c59e-109620a30fc8\").html('Progress:<br>[7190001 / 11682144] [=====================================>...........] ETA: 10 seconds - Batch Loss: 1447900.159771 - Avg. Epoch Loss: 1458360.234250<br>'); // clear any previous plot in window_id     \n",
       "  });\n",
       "</script>\n",
       "<div id=\"f3d0f92f-9eb5-4cf2-cc1a-9d15b70be901\"></div>\n"
      ]
     },
     "metadata": {},
     "output_type": "display_data"
    },
    {
     "data": {
      "text/html": [
       "<script type=\"text/javascript\">\n",
       "  $(function() {\n",
       "    $(\"#f4cb1888-616c-45a0-c59e-109620a30fc8\").html('Progress:<br>[7200001 / 11682144] [=====================================>...........] ETA: 10 seconds - Batch Loss: 1447870.674763 - Avg. Epoch Loss: 1458345.685625<br>'); // clear any previous plot in window_id     \n",
       "  });\n",
       "</script>\n",
       "<div id=\"5de9ec73-2de4-4a1f-ca56-2c7f75e1f85a\"></div>\n"
      ]
     },
     "metadata": {},
     "output_type": "display_data"
    },
    {
     "data": {
      "text/html": [
       "<script type=\"text/javascript\">\n",
       "  $(function() {\n",
       "    $(\"#f4cb1888-616c-45a0-c59e-109620a30fc8\").html('Progress:<br>[7210001 / 11682144] [=====================================>...........] ETA: 10 seconds - Batch Loss: 1447842.390336 - Avg. Epoch Loss: 1458331.138127<br>'); // clear any previous plot in window_id     \n",
       "  });\n",
       "</script>\n",
       "<div id=\"ad5a780c-c981-44bc-c41a-a8bbf0b2f1aa\"></div>\n"
      ]
     },
     "metadata": {},
     "output_type": "display_data"
    },
    {
     "data": {
      "text/html": [
       "<script type=\"text/javascript\">\n",
       "  $(function() {\n",
       "    $(\"#f4cb1888-616c-45a0-c59e-109620a30fc8\").html('Progress:<br>[7220001 / 11682144] [=====================================>...........] ETA: 10 seconds - Batch Loss: 1447812.846958 - Avg. Epoch Loss: 1458316.590008<br>'); // clear any previous plot in window_id     \n",
       "  });\n",
       "</script>\n",
       "<div id=\"1ff9411d-bea5-4b87-cbd9-73aba699b6fc\"></div>\n"
      ]
     },
     "metadata": {},
     "output_type": "display_data"
    },
    {
     "data": {
      "text/html": [
       "<script type=\"text/javascript\">\n",
       "  $(function() {\n",
       "    $(\"#f4cb1888-616c-45a0-c59e-109620a30fc8\").html('Progress:<br>[7230001 / 11682144] [=====================================>...........] ETA: 10 seconds - Batch Loss: 1447785.280729 - Avg. Epoch Loss: 1458302.044003<br>'); // clear any previous plot in window_id     \n",
       "  });\n",
       "</script>\n",
       "<div id=\"19674bc9-63d9-4c1a-cc84-dd2271f5aaeb\"></div>\n"
      ]
     },
     "metadata": {},
     "output_type": "display_data"
    },
    {
     "data": {
      "text/html": [
       "<script type=\"text/javascript\">\n",
       "  $(function() {\n",
       "    $(\"#f4cb1888-616c-45a0-c59e-109620a30fc8\").html('Progress:<br>[7240001 / 11682144] [=====================================>...........] ETA: 10 seconds - Batch Loss: 1447754.520011 - Avg. Epoch Loss: 1458287.495696<br>'); // clear any previous plot in window_id     \n",
       "  });\n",
       "</script>\n",
       "<div id=\"11a4ae1a-cc62-43ff-c3e7-16d50039eca9\"></div>\n"
      ]
     },
     "metadata": {},
     "output_type": "display_data"
    },
    {
     "data": {
      "text/html": [
       "<script type=\"text/javascript\">\n",
       "  $(function() {\n",
       "    $(\"#f4cb1888-616c-45a0-c59e-109620a30fc8\").html('Progress:<br>[7250001 / 11682144] [=====================================>...........] ETA: 10 seconds - Batch Loss: 1447724.965352 - Avg. Epoch Loss: 1458272.946758<br>'); // clear any previous plot in window_id     \n",
       "  });\n",
       "</script>\n",
       "<div id=\"8d72aff2-c2e6-4ebb-ceea-b2f6429bad8e\"></div>\n"
      ]
     },
     "metadata": {},
     "output_type": "display_data"
    },
    {
     "data": {
      "text/html": [
       "<script type=\"text/javascript\">\n",
       "  $(function() {\n",
       "    $(\"#f4cb1888-616c-45a0-c59e-109620a30fc8\").html('Progress:<br>[7260001 / 11682144] [=====================================>...........] ETA: 10 seconds - Batch Loss: 1447695.570572 - Avg. Epoch Loss: 1458258.397412<br>'); // clear any previous plot in window_id     \n",
       "  });\n",
       "</script>\n",
       "<div id=\"9ee8933d-fb1b-490f-c9db-8da468098929\"></div>\n"
      ]
     },
     "metadata": {},
     "output_type": "display_data"
    },
    {
     "data": {
      "text/html": [
       "<script type=\"text/javascript\">\n",
       "  $(function() {\n",
       "    $(\"#f4cb1888-616c-45a0-c59e-109620a30fc8\").html('Progress:<br>[7270001 / 11682144] [=====================================>...........] ETA: 10 seconds - Batch Loss: 1447667.962707 - Avg. Epoch Loss: 1458243.850114<br>'); // clear any previous plot in window_id     \n",
       "  });\n",
       "</script>\n",
       "<div id=\"f5201540-bce8-4787-c7fc-bcf169c2f3ae\"></div>\n"
      ]
     },
     "metadata": {},
     "output_type": "display_data"
    },
    {
     "data": {
      "text/html": [
       "<script type=\"text/javascript\">\n",
       "  $(function() {\n",
       "    $(\"#f4cb1888-616c-45a0-c59e-109620a30fc8\").html('Progress:<br>[7280001 / 11682144] [=====================================>...........] ETA: 10 seconds - Batch Loss: 1447640.045656 - Avg. Epoch Loss: 1458229.304431<br>'); // clear any previous plot in window_id     \n",
       "  });\n",
       "</script>\n",
       "<div id=\"20e00e1c-abde-4f60-cf0e-bf404c2a9d6e\"></div>\n"
      ]
     },
     "metadata": {},
     "output_type": "display_data"
    },
    {
     "data": {
      "text/html": [
       "<script type=\"text/javascript\">\n",
       "  $(function() {\n",
       "    $(\"#f4cb1888-616c-45a0-c59e-109620a30fc8\").html('Progress:<br>[7290001 / 11682144] [======================================>..........] ETA: 9 seconds - Batch Loss: 1447610.199106 - Avg. Epoch Loss: 1458214.757713<br>'); // clear any previous plot in window_id     \n",
       "  });\n",
       "</script>\n",
       "<div id=\"0b76fefc-d251-4615-c664-b2ebaca26512\"></div>\n"
      ]
     },
     "metadata": {},
     "output_type": "display_data"
    },
    {
     "data": {
      "text/html": [
       "<script type=\"text/javascript\">\n",
       "  $(function() {\n",
       "    $(\"#f4cb1888-616c-45a0-c59e-109620a30fc8\").html('Progress:<br>[7300001 / 11682144] [======================================>..........] ETA: 9 seconds - Batch Loss: 1447582.412392 - Avg. Epoch Loss: 1458200.212783<br>'); // clear any previous plot in window_id     \n",
       "  });\n",
       "</script>\n",
       "<div id=\"de843b39-d6b6-410b-c156-3a464b8b9cce\"></div>\n"
      ]
     },
     "metadata": {},
     "output_type": "display_data"
    },
    {
     "data": {
      "text/html": [
       "<script type=\"text/javascript\">\n",
       "  $(function() {\n",
       "    $(\"#f4cb1888-616c-45a0-c59e-109620a30fc8\").html('Progress:<br>[7310001 / 11682144] [======================================>..........] ETA: 9 seconds - Batch Loss: 1447551.918249 - Avg. Epoch Loss: 1458185.665934<br>'); // clear any previous plot in window_id     \n",
       "  });\n",
       "</script>\n",
       "<div id=\"503b792f-3508-41e5-c1b5-8ee2aff743b1\"></div>\n"
      ]
     },
     "metadata": {},
     "output_type": "display_data"
    },
    {
     "data": {
      "text/html": [
       "<script type=\"text/javascript\">\n",
       "  $(function() {\n",
       "    $(\"#f4cb1888-616c-45a0-c59e-109620a30fc8\").html('Progress:<br>[7320001 / 11682144] [======================================>..........] ETA: 9 seconds - Batch Loss: 1447524.622541 - Avg. Epoch Loss: 1458171.121539<br>'); // clear any previous plot in window_id     \n",
       "  });\n",
       "</script>\n",
       "<div id=\"2bacdf76-376a-40a1-c042-ceb771836d45\"></div>\n"
      ]
     },
     "metadata": {},
     "output_type": "display_data"
    },
    {
     "data": {
      "text/html": [
       "<script type=\"text/javascript\">\n",
       "  $(function() {\n",
       "    $(\"#f4cb1888-616c-45a0-c59e-109620a30fc8\").html('Progress:<br>[7330001 / 11682144] [======================================>..........] ETA: 9 seconds - Batch Loss: 1447495.022296 - Avg. Epoch Loss: 1458156.576446<br>'); // clear any previous plot in window_id     \n",
       "  });\n",
       "</script>\n",
       "<div id=\"866a7298-7086-4890-c861-30ff071466c7\"></div>\n"
      ]
     },
     "metadata": {},
     "output_type": "display_data"
    },
    {
     "data": {
      "text/html": [
       "<script type=\"text/javascript\">\n",
       "  $(function() {\n",
       "    $(\"#f4cb1888-616c-45a0-c59e-109620a30fc8\").html('Progress:<br>[7340001 / 11682144] [======================================>..........] ETA: 9 seconds - Batch Loss: 1447466.698388 - Avg. Epoch Loss: 1458142.032397<br>'); // clear any previous plot in window_id     \n",
       "  });\n",
       "</script>\n",
       "<div id=\"843d0734-e7d3-42aa-c262-86f9a9682e4f\"></div>\n"
      ]
     },
     "metadata": {},
     "output_type": "display_data"
    },
    {
     "data": {
      "text/html": [
       "<script type=\"text/javascript\">\n",
       "  $(function() {\n",
       "    $(\"#f4cb1888-616c-45a0-c59e-109620a30fc8\").html('Progress:<br>[7350001 / 11682144] [======================================>..........] ETA: 9 seconds - Batch Loss: 1447435.595944 - Avg. Epoch Loss: 1458127.485610<br>'); // clear any previous plot in window_id     \n",
       "  });\n",
       "</script>\n",
       "<div id=\"700491b3-dc88-4aa4-ca9c-582029190641\"></div>\n"
      ]
     },
     "metadata": {},
     "output_type": "display_data"
    },
    {
     "data": {
      "text/html": [
       "<script type=\"text/javascript\">\n",
       "  $(function() {\n",
       "    $(\"#f4cb1888-616c-45a0-c59e-109620a30fc8\").html('Progress:<br>[7360001 / 11682144] [======================================>..........] ETA: 9 seconds - Batch Loss: 1447407.466636 - Avg. Epoch Loss: 1458112.940132<br>'); // clear any previous plot in window_id     \n",
       "  });\n",
       "</script>\n",
       "<div id=\"cd10f7fa-7ff7-4845-c8b6-038339c5d251\"></div>\n"
      ]
     },
     "metadata": {},
     "output_type": "display_data"
    },
    {
     "data": {
      "text/html": [
       "<script type=\"text/javascript\">\n",
       "  $(function() {\n",
       "    $(\"#f4cb1888-616c-45a0-c59e-109620a30fc8\").html('Progress:<br>[7370001 / 11682144] [======================================>..........] ETA: 9 seconds - Batch Loss: 1447378.870438 - Avg. Epoch Loss: 1458098.395324<br>'); // clear any previous plot in window_id     \n",
       "  });\n",
       "</script>\n",
       "<div id=\"00feaae7-afaf-4255-c20b-d7523c1d3323\"></div>\n"
      ]
     },
     "metadata": {},
     "output_type": "display_data"
    },
    {
     "data": {
      "text/html": [
       "<script type=\"text/javascript\">\n",
       "  $(function() {\n",
       "    $(\"#f4cb1888-616c-45a0-c59e-109620a30fc8\").html('Progress:<br>[7380001 / 11682144] [======================================>..........] ETA: 9 seconds - Batch Loss: 1447350.545111 - Avg. Epoch Loss: 1458083.851550<br>'); // clear any previous plot in window_id     \n",
       "  });\n",
       "</script>\n",
       "<div id=\"5d729abd-adfc-4388-c349-a4f5629bac6c\"></div>\n"
      ]
     },
     "metadata": {},
     "output_type": "display_data"
    },
    {
     "data": {
      "text/html": [
       "<script type=\"text/javascript\">\n",
       "  $(function() {\n",
       "    $(\"#f4cb1888-616c-45a0-c59e-109620a30fc8\").html('Progress:<br>[7390001 / 11682144] [======================================>..........] ETA: 9 seconds - Batch Loss: 1447321.878877 - Avg. Epoch Loss: 1458069.308346<br>'); // clear any previous plot in window_id     \n",
       "  });\n",
       "</script>\n",
       "<div id=\"131ef62e-5f29-4e4c-ced0-1870834b5fc5\"></div>\n"
      ]
     },
     "metadata": {},
     "output_type": "display_data"
    },
    {
     "data": {
      "text/html": [
       "<script type=\"text/javascript\">\n",
       "  $(function() {\n",
       "    $(\"#f4cb1888-616c-45a0-c59e-109620a30fc8\").html('Progress:<br>[7400001 / 11682144] [======================================>..........] ETA: 9 seconds - Batch Loss: 1447292.251653 - Avg. Epoch Loss: 1458054.764412<br>'); // clear any previous plot in window_id     \n",
       "  });\n",
       "</script>\n",
       "<div id=\"62d3b218-eea2-440c-c46e-78a1a0cd9a39\"></div>\n"
      ]
     },
     "metadata": {},
     "output_type": "display_data"
    },
    {
     "data": {
      "text/html": [
       "<script type=\"text/javascript\">\n",
       "  $(function() {\n",
       "    $(\"#f4cb1888-616c-45a0-c59e-109620a30fc8\").html('Progress:<br>[7410001 / 11682144] [======================================>..........] ETA: 9 seconds - Batch Loss: 1447262.127339 - Avg. Epoch Loss: 1458040.219080<br>'); // clear any previous plot in window_id     \n",
       "  });\n",
       "</script>\n",
       "<div id=\"8a8fc807-45dd-48c1-c89b-fb80dbe1f8b1\"></div>\n"
      ]
     },
     "metadata": {},
     "output_type": "display_data"
    },
    {
     "data": {
      "text/html": [
       "<script type=\"text/javascript\">\n",
       "  $(function() {\n",
       "    $(\"#f4cb1888-616c-45a0-c59e-109620a30fc8\").html('Progress:<br>[7420001 / 11682144] [======================================>..........] ETA: 9 seconds - Batch Loss: 1447235.045399 - Avg. Epoch Loss: 1458025.676453<br>'); // clear any previous plot in window_id     \n",
       "  });\n",
       "</script>\n",
       "<div id=\"0d3e4567-f533-4f65-cfd2-2035da6e6304\"></div>\n"
      ]
     },
     "metadata": {},
     "output_type": "display_data"
    },
    {
     "data": {
      "text/html": [
       "<script type=\"text/javascript\">\n",
       "  $(function() {\n",
       "    $(\"#f4cb1888-616c-45a0-c59e-109620a30fc8\").html('Progress:<br>[7430001 / 11682144] [======================================>..........] ETA: 9 seconds - Batch Loss: 1447204.424518 - Avg. Epoch Loss: 1458011.131761<br>'); // clear any previous plot in window_id     \n",
       "  });\n",
       "</script>\n",
       "<div id=\"d9aa96a7-0e22-4294-c2d4-92b10d982d39\"></div>\n"
      ]
     },
     "metadata": {},
     "output_type": "display_data"
    },
    {
     "data": {
      "text/html": [
       "<script type=\"text/javascript\">\n",
       "  $(function() {\n",
       "    $(\"#f4cb1888-616c-45a0-c59e-109620a30fc8\").html('Progress:<br>[7440001 / 11682144] [======================================>..........] ETA: 9 seconds - Batch Loss: 1447176.264577 - Avg. Epoch Loss: 1457996.588318<br>'); // clear any previous plot in window_id     \n",
       "  });\n",
       "</script>\n",
       "<div id=\"e1bcd30e-faea-4771-c7f3-b64a40922528\"></div>\n"
      ]
     },
     "metadata": {},
     "output_type": "display_data"
    },
    {
     "data": {
      "text/html": [
       "<script type=\"text/javascript\">\n",
       "  $(function() {\n",
       "    $(\"#f4cb1888-616c-45a0-c59e-109620a30fc8\").html('Progress:<br>[7450001 / 11682144] [======================================>..........] ETA: 9 seconds - Batch Loss: 1447147.952864 - Avg. Epoch Loss: 1457982.045913<br>'); // clear any previous plot in window_id     \n",
       "  });\n",
       "</script>\n",
       "<div id=\"3947a88f-1a21-439a-c3e3-643c21b653d5\"></div>\n"
      ]
     },
     "metadata": {},
     "output_type": "display_data"
    },
    {
     "data": {
      "text/html": [
       "<script type=\"text/javascript\">\n",
       "  $(function() {\n",
       "    $(\"#f4cb1888-616c-45a0-c59e-109620a30fc8\").html('Progress:<br>[7460001 / 11682144] [======================================>..........] ETA: 9 seconds - Batch Loss: 1447119.346860 - Avg. Epoch Loss: 1457967.504149<br>'); // clear any previous plot in window_id     \n",
       "  });\n",
       "</script>\n",
       "<div id=\"b2c31750-a42b-4650-c6c7-52e9664b7b23\"></div>\n"
      ]
     },
     "metadata": {},
     "output_type": "display_data"
    },
    {
     "data": {
      "text/html": [
       "<script type=\"text/javascript\">\n",
       "  $(function() {\n",
       "    $(\"#f4cb1888-616c-45a0-c59e-109620a30fc8\").html('Progress:<br>[7470001 / 11682144] [======================================>..........] ETA: 9 seconds - Batch Loss: 1447088.334429 - Avg. Epoch Loss: 1457952.959806<br>'); // clear any previous plot in window_id     \n",
       "  });\n",
       "</script>\n",
       "<div id=\"72669c67-a50d-4a86-ca96-1d9c09601727\"></div>\n"
      ]
     },
     "metadata": {},
     "output_type": "display_data"
    },
    {
     "data": {
      "text/html": [
       "<script type=\"text/javascript\">\n",
       "  $(function() {\n",
       "    $(\"#f4cb1888-616c-45a0-c59e-109620a30fc8\").html('Progress:<br>[7480001 / 11682144] [=======================================>.........] ETA: 8 seconds - Batch Loss: 1447059.451323 - Avg. Epoch Loss: 1457938.415738<br>'); // clear any previous plot in window_id     \n",
       "  });\n",
       "</script>\n",
       "<div id=\"522ca1b7-a20b-45f5-c57e-b501ca82cd8c\"></div>\n"
      ]
     },
     "metadata": {},
     "output_type": "display_data"
    },
    {
     "data": {
      "text/html": [
       "<script type=\"text/javascript\">\n",
       "  $(function() {\n",
       "    $(\"#f4cb1888-616c-45a0-c59e-109620a30fc8\").html('Progress:<br>[7490001 / 11682144] [=======================================>.........] ETA: 8 seconds - Batch Loss: 1447030.782421 - Avg. Epoch Loss: 1457923.872229<br>'); // clear any previous plot in window_id     \n",
       "  });\n",
       "</script>\n",
       "<div id=\"089146fd-9bed-4dac-cd7c-3ef18bd990b3\"></div>\n"
      ]
     },
     "metadata": {},
     "output_type": "display_data"
    },
    {
     "data": {
      "text/html": [
       "<script type=\"text/javascript\">\n",
       "  $(function() {\n",
       "    $(\"#f4cb1888-616c-45a0-c59e-109620a30fc8\").html('Progress:<br>[7500001 / 11682144] [=======================================>.........] ETA: 8 seconds - Batch Loss: 1447002.881859 - Avg. Epoch Loss: 1457909.330300<br>'); // clear any previous plot in window_id     \n",
       "  });\n",
       "</script>\n",
       "<div id=\"13accb29-c074-49c2-c928-5473dbe8c8b4\"></div>\n"
      ]
     },
     "metadata": {},
     "output_type": "display_data"
    },
    {
     "data": {
      "text/html": [
       "<script type=\"text/javascript\">\n",
       "  $(function() {\n",
       "    $(\"#f4cb1888-616c-45a0-c59e-109620a30fc8\").html('Progress:<br>[7510001 / 11682144] [=======================================>.........] ETA: 8 seconds - Batch Loss: 1446971.806475 - Avg. Epoch Loss: 1457894.785722<br>'); // clear any previous plot in window_id     \n",
       "  });\n",
       "</script>\n",
       "<div id=\"f66749bd-4f37-4d79-cd86-24878a2d8e1b\"></div>\n"
      ]
     },
     "metadata": {},
     "output_type": "display_data"
    },
    {
     "data": {
      "text/html": [
       "<script type=\"text/javascript\">\n",
       "  $(function() {\n",
       "    $(\"#f4cb1888-616c-45a0-c59e-109620a30fc8\").html('Progress:<br>[7520001 / 11682144] [=======================================>.........] ETA: 8 seconds - Batch Loss: 1446944.592457 - Avg. Epoch Loss: 1457880.243635<br>'); // clear any previous plot in window_id     \n",
       "  });\n",
       "</script>\n",
       "<div id=\"257c8a99-5f88-4fa3-cf4c-9fe2ac5ec0a8\"></div>\n"
      ]
     },
     "metadata": {},
     "output_type": "display_data"
    },
    {
     "data": {
      "text/html": [
       "<script type=\"text/javascript\">\n",
       "  $(function() {\n",
       "    $(\"#f4cb1888-616c-45a0-c59e-109620a30fc8\").html('Progress:<br>[7530001 / 11682144] [=======================================>.........] ETA: 8 seconds - Batch Loss: 1446914.531110 - Avg. Epoch Loss: 1457865.700251<br>'); // clear any previous plot in window_id     \n",
       "  });\n",
       "</script>\n",
       "<div id=\"0add8b43-2c1f-4524-c52e-0029da05dec4\"></div>\n"
      ]
     },
     "metadata": {},
     "output_type": "display_data"
    },
    {
     "data": {
      "text/html": [
       "<script type=\"text/javascript\">\n",
       "  $(function() {\n",
       "    $(\"#f4cb1888-616c-45a0-c59e-109620a30fc8\").html('Progress:<br>[7540001 / 11682144] [=======================================>.........] ETA: 8 seconds - Batch Loss: 1446886.342438 - Avg. Epoch Loss: 1457851.158057<br>'); // clear any previous plot in window_id     \n",
       "  });\n",
       "</script>\n",
       "<div id=\"3b12ef22-1a86-43ca-c35f-1c60d2252477\"></div>\n"
      ]
     },
     "metadata": {},
     "output_type": "display_data"
    },
    {
     "data": {
      "text/html": [
       "<script type=\"text/javascript\">\n",
       "  $(function() {\n",
       "    $(\"#f4cb1888-616c-45a0-c59e-109620a30fc8\").html('Progress:<br>[7550001 / 11682144] [=======================================>.........] ETA: 8 seconds - Batch Loss: 1446856.916023 - Avg. Epoch Loss: 1457836.615411<br>'); // clear any previous plot in window_id     \n",
       "  });\n",
       "</script>\n",
       "<div id=\"f04f8b73-7b88-45b5-c5c4-f82070165f7f\"></div>\n"
      ]
     },
     "metadata": {},
     "output_type": "display_data"
    },
    {
     "data": {
      "text/html": [
       "<script type=\"text/javascript\">\n",
       "  $(function() {\n",
       "    $(\"#f4cb1888-616c-45a0-c59e-109620a30fc8\").html('Progress:<br>[7560001 / 11682144] [=======================================>.........] ETA: 8 seconds - Batch Loss: 1446829.210835 - Avg. Epoch Loss: 1457822.074588<br>'); // clear any previous plot in window_id     \n",
       "  });\n",
       "</script>\n",
       "<div id=\"d986ce92-e439-479f-c7d6-b8ae08a0db2a\"></div>\n"
      ]
     },
     "metadata": {},
     "output_type": "display_data"
    },
    {
     "data": {
      "text/html": [
       "<script type=\"text/javascript\">\n",
       "  $(function() {\n",
       "    $(\"#f4cb1888-616c-45a0-c59e-109620a30fc8\").html('Progress:<br>[7570001 / 11682144] [=======================================>.........] ETA: 8 seconds - Batch Loss: 1446799.828147 - Avg. Epoch Loss: 1457807.533368<br>'); // clear any previous plot in window_id     \n",
       "  });\n",
       "</script>\n",
       "<div id=\"66121827-fd43-4090-c059-c2b4162af0bd\"></div>\n"
      ]
     },
     "metadata": {},
     "output_type": "display_data"
    },
    {
     "data": {
      "text/html": [
       "<script type=\"text/javascript\">\n",
       "  $(function() {\n",
       "    $(\"#f4cb1888-616c-45a0-c59e-109620a30fc8\").html('Progress:<br>[7580001 / 11682144] [=======================================>.........] ETA: 8 seconds - Batch Loss: 1446770.247718 - Avg. Epoch Loss: 1457792.991491<br>'); // clear any previous plot in window_id     \n",
       "  });\n",
       "</script>\n",
       "<div id=\"4ab181f1-2d48-4047-c068-1e90c38c8948\"></div>\n"
      ]
     },
     "metadata": {},
     "output_type": "display_data"
    },
    {
     "data": {
      "text/html": [
       "<script type=\"text/javascript\">\n",
       "  $(function() {\n",
       "    $(\"#f4cb1888-616c-45a0-c59e-109620a30fc8\").html('Progress:<br>[7590001 / 11682144] [=======================================>.........] ETA: 8 seconds - Batch Loss: 1446741.768714 - Avg. Epoch Loss: 1457778.450411<br>'); // clear any previous plot in window_id     \n",
       "  });\n",
       "</script>\n",
       "<div id=\"734ae227-1a0c-4243-c21f-41f1c317f841\"></div>\n"
      ]
     },
     "metadata": {},
     "output_type": "display_data"
    },
    {
     "data": {
      "text/html": [
       "<script type=\"text/javascript\">\n",
       "  $(function() {\n",
       "    $(\"#f4cb1888-616c-45a0-c59e-109620a30fc8\").html('Progress:<br>[7600001 / 11682144] [=======================================>.........] ETA: 8 seconds - Batch Loss: 1446713.034401 - Avg. Epoch Loss: 1457763.909787<br>'); // clear any previous plot in window_id     \n",
       "  });\n",
       "</script>\n",
       "<div id=\"8ec65c47-bb29-45a0-c572-b0baf8c4187a\"></div>\n"
      ]
     },
     "metadata": {},
     "output_type": "display_data"
    },
    {
     "data": {
      "text/html": [
       "<script type=\"text/javascript\">\n",
       "  $(function() {\n",
       "    $(\"#f4cb1888-616c-45a0-c59e-109620a30fc8\").html('Progress:<br>[7610001 / 11682144] [=======================================>.........] ETA: 8 seconds - Batch Loss: 1446684.536149 - Avg. Epoch Loss: 1457749.369929<br>'); // clear any previous plot in window_id     \n",
       "  });\n",
       "</script>\n",
       "<div id=\"ca3e360c-8d40-497e-c973-8c5ec0552536\"></div>\n"
      ]
     },
     "metadata": {},
     "output_type": "display_data"
    },
    {
     "data": {
      "text/html": [
       "<script type=\"text/javascript\">\n",
       "  $(function() {\n",
       "    $(\"#f4cb1888-616c-45a0-c59e-109620a30fc8\").html('Progress:<br>[7620001 / 11682144] [=======================================>.........] ETA: 8 seconds - Batch Loss: 1446654.782716 - Avg. Epoch Loss: 1457734.829187<br>'); // clear any previous plot in window_id     \n",
       "  });\n",
       "</script>\n",
       "<div id=\"a156126e-85e2-4cb4-cc1e-edb14abf5668\"></div>\n"
      ]
     },
     "metadata": {},
     "output_type": "display_data"
    },
    {
     "data": {
      "text/html": [
       "<script type=\"text/javascript\">\n",
       "  $(function() {\n",
       "    $(\"#f4cb1888-616c-45a0-c59e-109620a30fc8\").html('Progress:<br>[7630001 / 11682144] [=======================================>.........] ETA: 8 seconds - Batch Loss: 1446624.984347 - Avg. Epoch Loss: 1457720.287507<br>'); // clear any previous plot in window_id     \n",
       "  });\n",
       "</script>\n",
       "<div id=\"94019a70-8c9f-4fbf-cf8a-015a53ff0155\"></div>\n"
      ]
     },
     "metadata": {},
     "output_type": "display_data"
    },
    {
     "data": {
      "text/html": [
       "<script type=\"text/javascript\">\n",
       "  $(function() {\n",
       "    $(\"#f4cb1888-616c-45a0-c59e-109620a30fc8\").html('Progress:<br>[7640001 / 11682144] [=======================================>.........] ETA: 8 seconds - Batch Loss: 1446597.369770 - Avg. Epoch Loss: 1457705.747747<br>'); // clear any previous plot in window_id     \n",
       "  });\n",
       "</script>\n",
       "<div id=\"595db7ae-f441-488a-c894-1258c45e35c4\"></div>\n"
      ]
     },
     "metadata": {},
     "output_type": "display_data"
    },
    {
     "data": {
      "text/html": [
       "<script type=\"text/javascript\">\n",
       "  $(function() {\n",
       "    $(\"#f4cb1888-616c-45a0-c59e-109620a30fc8\").html('Progress:<br>[7650001 / 11682144] [=======================================>.........] ETA: 8 seconds - Batch Loss: 1446568.269273 - Avg. Epoch Loss: 1457691.207960<br>'); // clear any previous plot in window_id     \n",
       "  });\n",
       "</script>\n",
       "<div id=\"900e1b11-a68d-49dc-c9b9-d2c4ee277335\"></div>\n"
      ]
     },
     "metadata": {},
     "output_type": "display_data"
    },
    {
     "data": {
      "text/html": [
       "<script type=\"text/javascript\">\n",
       "  $(function() {\n",
       "    $(\"#f4cb1888-616c-45a0-c59e-109620a30fc8\").html('Progress:<br>[7660001 / 11682144] [=======================================>.........] ETA: 8 seconds - Batch Loss: 1446539.276655 - Avg. Epoch Loss: 1457676.668286<br>'); // clear any previous plot in window_id     \n",
       "  });\n",
       "</script>\n",
       "<div id=\"96a58259-218f-4809-c8b0-7b8de40c94b4\"></div>\n"
      ]
     },
     "metadata": {},
     "output_type": "display_data"
    },
    {
     "data": {
      "text/html": [
       "<script type=\"text/javascript\">\n",
       "  $(function() {\n",
       "    $(\"#f4cb1888-616c-45a0-c59e-109620a30fc8\").html('Progress:<br>[7670001 / 11682144] [========================================>........] ETA: 7 seconds - Batch Loss: 1446511.443054 - Avg. Epoch Loss: 1457662.130234<br>'); // clear any previous plot in window_id     \n",
       "  });\n",
       "</script>\n",
       "<div id=\"c1fad93d-66af-4128-c178-52d049b2befa\"></div>\n"
      ]
     },
     "metadata": {},
     "output_type": "display_data"
    },
    {
     "data": {
      "text/html": [
       "<script type=\"text/javascript\">\n",
       "  $(function() {\n",
       "    $(\"#f4cb1888-616c-45a0-c59e-109620a30fc8\").html('Progress:<br>[7680001 / 11682144] [========================================>........] ETA: 7 seconds - Batch Loss: 1446483.710094 - Avg. Epoch Loss: 1457647.593929<br>'); // clear any previous plot in window_id     \n",
       "  });\n",
       "</script>\n",
       "<div id=\"684ee114-90ff-4169-c140-8b7efc5f2537\"></div>\n"
      ]
     },
     "metadata": {},
     "output_type": "display_data"
    },
    {
     "data": {
      "text/html": [
       "<script type=\"text/javascript\">\n",
       "  $(function() {\n",
       "    $(\"#f4cb1888-616c-45a0-c59e-109620a30fc8\").html('Progress:<br>[7690001 / 11682144] [========================================>........] ETA: 7 seconds - Batch Loss: 1446451.871101 - Avg. Epoch Loss: 1457633.054031<br>'); // clear any previous plot in window_id     \n",
       "  });\n",
       "</script>\n",
       "<div id=\"97c758f4-dd43-4864-c866-e3bf114ad6d0\"></div>\n"
      ]
     },
     "metadata": {},
     "output_type": "display_data"
    },
    {
     "data": {
      "text/html": [
       "<script type=\"text/javascript\">\n",
       "  $(function() {\n",
       "    $(\"#f4cb1888-616c-45a0-c59e-109620a30fc8\").html('Progress:<br>[7700001 / 11682144] [========================================>........] ETA: 7 seconds - Batch Loss: 1446424.180172 - Avg. Epoch Loss: 1457618.515935<br>'); // clear any previous plot in window_id     \n",
       "  });\n",
       "</script>\n",
       "<div id=\"3dd022ea-dc71-415b-c119-7366956657a2\"></div>\n"
      ]
     },
     "metadata": {},
     "output_type": "display_data"
    },
    {
     "data": {
      "text/html": [
       "<script type=\"text/javascript\">\n",
       "  $(function() {\n",
       "    $(\"#f4cb1888-616c-45a0-c59e-109620a30fc8\").html('Progress:<br>[7710001 / 11682144] [========================================>........] ETA: 7 seconds - Batch Loss: 1446396.265493 - Avg. Epoch Loss: 1457603.979343<br>'); // clear any previous plot in window_id     \n",
       "  });\n",
       "</script>\n",
       "<div id=\"7b7dec1e-ed7e-4dd9-cdb4-adf47b443f25\"></div>\n"
      ]
     },
     "metadata": {},
     "output_type": "display_data"
    },
    {
     "data": {
      "text/html": [
       "<script type=\"text/javascript\">\n",
       "  $(function() {\n",
       "    $(\"#f4cb1888-616c-45a0-c59e-109620a30fc8\").html('Progress:<br>[7720001 / 11682144] [========================================>........] ETA: 7 seconds - Batch Loss: 1446366.272664 - Avg. Epoch Loss: 1457589.441561<br>'); // clear any previous plot in window_id     \n",
       "  });\n",
       "</script>\n",
       "<div id=\"ccbafecc-1ab5-451d-c5c9-b498997083dd\"></div>\n"
      ]
     },
     "metadata": {},
     "output_type": "display_data"
    },
    {
     "data": {
      "text/html": [
       "<script type=\"text/javascript\">\n",
       "  $(function() {\n",
       "    $(\"#f4cb1888-616c-45a0-c59e-109620a30fc8\").html('Progress:<br>[7730001 / 11682144] [========================================>........] ETA: 7 seconds - Batch Loss: 1446335.963526 - Avg. Epoch Loss: 1457574.902186<br>'); // clear any previous plot in window_id     \n",
       "  });\n",
       "</script>\n",
       "<div id=\"d47103ba-3ae7-48a4-c856-f96115a9e98a\"></div>\n"
      ]
     },
     "metadata": {},
     "output_type": "display_data"
    },
    {
     "data": {
      "text/html": [
       "<script type=\"text/javascript\">\n",
       "  $(function() {\n",
       "    $(\"#f4cb1888-616c-45a0-c59e-109620a30fc8\").html('Progress:<br>[7740001 / 11682144] [========================================>........] ETA: 7 seconds - Batch Loss: 1446308.029213 - Avg. Epoch Loss: 1457560.364287<br>'); // clear any previous plot in window_id     \n",
       "  });\n",
       "</script>\n",
       "<div id=\"bbf6c7b3-b61b-49bc-c908-1fb34b14339d\"></div>\n"
      ]
     },
     "metadata": {},
     "output_type": "display_data"
    },
    {
     "data": {
      "text/html": [
       "<script type=\"text/javascript\">\n",
       "  $(function() {\n",
       "    $(\"#f4cb1888-616c-45a0-c59e-109620a30fc8\").html('Progress:<br>[7750001 / 11682144] [========================================>........] ETA: 7 seconds - Batch Loss: 1446280.114046 - Avg. Epoch Loss: 1457545.827884<br>'); // clear any previous plot in window_id     \n",
       "  });\n",
       "</script>\n",
       "<div id=\"3173a290-fadd-43f7-c3c6-51204e881d3c\"></div>\n"
      ]
     },
     "metadata": {},
     "output_type": "display_data"
    },
    {
     "data": {
      "text/html": [
       "<script type=\"text/javascript\">\n",
       "  $(function() {\n",
       "    $(\"#f4cb1888-616c-45a0-c59e-109620a30fc8\").html('Progress:<br>[7760001 / 11682144] [========================================>........] ETA: 7 seconds - Batch Loss: 1446250.048380 - Avg. Epoch Loss: 1457531.290203<br>'); // clear any previous plot in window_id     \n",
       "  });\n",
       "</script>\n",
       "<div id=\"8164afba-1549-4b12-cb0d-0fc397d3f6e6\"></div>\n"
      ]
     },
     "metadata": {},
     "output_type": "display_data"
    },
    {
     "data": {
      "text/html": [
       "<script type=\"text/javascript\">\n",
       "  $(function() {\n",
       "    $(\"#f4cb1888-616c-45a0-c59e-109620a30fc8\").html('Progress:<br>[7770001 / 11682144] [========================================>........] ETA: 7 seconds - Batch Loss: 1446221.433871 - Avg. Epoch Loss: 1457516.753115<br>'); // clear any previous plot in window_id     \n",
       "  });\n",
       "</script>\n",
       "<div id=\"a81b6e88-aed4-482a-c80b-28e77d8e5be8\"></div>\n"
      ]
     },
     "metadata": {},
     "output_type": "display_data"
    },
    {
     "data": {
      "text/html": [
       "<script type=\"text/javascript\">\n",
       "  $(function() {\n",
       "    $(\"#f4cb1888-616c-45a0-c59e-109620a30fc8\").html('Progress:<br>[7780001 / 11682144] [========================================>........] ETA: 7 seconds - Batch Loss: 1446193.014915 - Avg. Epoch Loss: 1457502.216867<br>'); // clear any previous plot in window_id     \n",
       "  });\n",
       "</script>\n",
       "<div id=\"ae24da54-84d5-4bd8-cb2c-a98d0a472e63\"></div>\n"
      ]
     },
     "metadata": {},
     "output_type": "display_data"
    },
    {
     "data": {
      "text/html": [
       "<script type=\"text/javascript\">\n",
       "  $(function() {\n",
       "    $(\"#f4cb1888-616c-45a0-c59e-109620a30fc8\").html('Progress:<br>[7790001 / 11682144] [========================================>........] ETA: 7 seconds - Batch Loss: 1446164.894270 - Avg. Epoch Loss: 1457487.681840<br>'); // clear any previous plot in window_id     \n",
       "  });\n",
       "</script>\n",
       "<div id=\"142f4801-dabd-4038-c006-b8a52f1cb8d2\"></div>\n"
      ]
     },
     "metadata": {},
     "output_type": "display_data"
    },
    {
     "data": {
      "text/html": [
       "<script type=\"text/javascript\">\n",
       "  $(function() {\n",
       "    $(\"#f4cb1888-616c-45a0-c59e-109620a30fc8\").html('Progress:<br>[7800001 / 11682144] [========================================>........] ETA: 7 seconds - Batch Loss: 1446134.856302 - Avg. Epoch Loss: 1457473.145574<br>'); // clear any previous plot in window_id     \n",
       "  });\n",
       "</script>\n",
       "<div id=\"2c265317-7321-4b84-cb4c-29a177e11409\"></div>\n"
      ]
     },
     "metadata": {},
     "output_type": "display_data"
    },
    {
     "data": {
      "text/html": [
       "<script type=\"text/javascript\">\n",
       "  $(function() {\n",
       "    $(\"#f4cb1888-616c-45a0-c59e-109620a30fc8\").html('Progress:<br>[7810001 / 11682144] [========================================>........] ETA: 7 seconds - Batch Loss: 1446105.914882 - Avg. Epoch Loss: 1457458.609475<br>'); // clear any previous plot in window_id     \n",
       "  });\n",
       "</script>\n",
       "<div id=\"66985ae5-9292-4f84-cfed-22aba19230a3\"></div>\n"
      ]
     },
     "metadata": {},
     "output_type": "display_data"
    },
    {
     "data": {
      "text/html": [
       "<script type=\"text/javascript\">\n",
       "  $(function() {\n",
       "    $(\"#f4cb1888-616c-45a0-c59e-109620a30fc8\").html('Progress:<br>[7820001 / 11682144] [========================================>........] ETA: 7 seconds - Batch Loss: 1446076.560262 - Avg. Epoch Loss: 1457444.073015<br>'); // clear any previous plot in window_id     \n",
       "  });\n",
       "</script>\n",
       "<div id=\"695a5939-6c80-43d3-c3b0-4bc33944a4f9\"></div>\n"
      ]
     },
     "metadata": {},
     "output_type": "display_data"
    },
    {
     "data": {
      "text/html": [
       "<script type=\"text/javascript\">\n",
       "  $(function() {\n",
       "    $(\"#f4cb1888-616c-45a0-c59e-109620a30fc8\").html('Progress:<br>[7830001 / 11682144] [========================================>........] ETA: 7 seconds - Batch Loss: 1446049.052436 - Avg. Epoch Loss: 1457429.538552<br>'); // clear any previous plot in window_id     \n",
       "  });\n",
       "</script>\n",
       "<div id=\"9fd2498a-822a-4a3f-ca36-5455ba60ec5b\"></div>\n"
      ]
     },
     "metadata": {},
     "output_type": "display_data"
    },
    {
     "data": {
      "text/html": [
       "<script type=\"text/javascript\">\n",
       "  $(function() {\n",
       "    $(\"#f4cb1888-616c-45a0-c59e-109620a30fc8\").html('Progress:<br>[7840001 / 11682144] [========================================>........] ETA: 7 seconds - Batch Loss: 1446017.862421 - Avg. Epoch Loss: 1457415.001387<br>'); // clear any previous plot in window_id     \n",
       "  });\n",
       "</script>\n",
       "<div id=\"ec3a0402-9b3a-4e08-cef5-72b6f6c5a7c3\"></div>\n"
      ]
     },
     "metadata": {},
     "output_type": "display_data"
    },
    {
     "data": {
      "text/html": [
       "<script type=\"text/javascript\">\n",
       "  $(function() {\n",
       "    $(\"#f4cb1888-616c-45a0-c59e-109620a30fc8\").html('Progress:<br>[7850001 / 11682144] [========================================>........] ETA: 7 seconds - Batch Loss: 1445990.395957 - Avg. Epoch Loss: 1457400.466267<br>'); // clear any previous plot in window_id     \n",
       "  });\n",
       "</script>\n",
       "<div id=\"318743d9-ce11-494c-c9f0-12ea2526b6f9\"></div>\n"
      ]
     },
     "metadata": {},
     "output_type": "display_data"
    },
    {
     "data": {
      "text/html": [
       "<script type=\"text/javascript\">\n",
       "  $(function() {\n",
       "    $(\"#f4cb1888-616c-45a0-c59e-109620a30fc8\").html('Progress:<br>[7860001 / 11682144] [=========================================>.......] ETA: 6 seconds - Batch Loss: 1445959.674950 - Avg. Epoch Loss: 1457385.929050<br>'); // clear any previous plot in window_id     \n",
       "  });\n",
       "</script>\n",
       "<div id=\"25264644-0b5c-4f54-cf36-81688197dd64\"></div>\n"
      ]
     },
     "metadata": {},
     "output_type": "display_data"
    },
    {
     "data": {
      "text/html": [
       "<script type=\"text/javascript\">\n",
       "  $(function() {\n",
       "    $(\"#f4cb1888-616c-45a0-c59e-109620a30fc8\").html('Progress:<br>[7870001 / 11682144] [=========================================>.......] ETA: 6 seconds - Batch Loss: 1445932.009863 - Avg. Epoch Loss: 1457371.393622<br>'); // clear any previous plot in window_id     \n",
       "  });\n",
       "</script>\n",
       "<div id=\"33424873-928b-438e-c3ec-1ec969b32f78\"></div>\n"
      ]
     },
     "metadata": {},
     "output_type": "display_data"
    },
    {
     "data": {
      "text/html": [
       "<script type=\"text/javascript\">\n",
       "  $(function() {\n",
       "    $(\"#f4cb1888-616c-45a0-c59e-109620a30fc8\").html('Progress:<br>[7880001 / 11682144] [=========================================>.......] ETA: 6 seconds - Batch Loss: 1445903.689535 - Avg. Epoch Loss: 1457356.859144<br>'); // clear any previous plot in window_id     \n",
       "  });\n",
       "</script>\n",
       "<div id=\"f59c2556-d875-4f76-cfd5-e64e53a59993\"></div>\n"
      ]
     },
     "metadata": {},
     "output_type": "display_data"
    },
    {
     "data": {
      "text/html": [
       "<script type=\"text/javascript\">\n",
       "  $(function() {\n",
       "    $(\"#f4cb1888-616c-45a0-c59e-109620a30fc8\").html('Progress:<br>[7890001 / 11682144] [=========================================>.......] ETA: 6 seconds - Batch Loss: 1445873.538859 - Avg. Epoch Loss: 1457342.323298<br>'); // clear any previous plot in window_id     \n",
       "  });\n",
       "</script>\n",
       "<div id=\"13531719-1818-4370-c328-744395ee478a\"></div>\n"
      ]
     },
     "metadata": {},
     "output_type": "display_data"
    },
    {
     "data": {
      "text/html": [
       "<script type=\"text/javascript\">\n",
       "  $(function() {\n",
       "    $(\"#f4cb1888-616c-45a0-c59e-109620a30fc8\").html('Progress:<br>[7900001 / 11682144] [=========================================>.......] ETA: 6 seconds - Batch Loss: 1445844.936735 - Avg. Epoch Loss: 1457327.788045<br>'); // clear any previous plot in window_id     \n",
       "  });\n",
       "</script>\n",
       "<div id=\"5efb4d74-477f-4fa2-cf5a-1ed210b9a4c3\"></div>\n"
      ]
     },
     "metadata": {},
     "output_type": "display_data"
    },
    {
     "data": {
      "text/html": [
       "<script type=\"text/javascript\">\n",
       "  $(function() {\n",
       "    $(\"#f4cb1888-616c-45a0-c59e-109620a30fc8\").html('Progress:<br>[7910001 / 11682144] [=========================================>.......] ETA: 6 seconds - Batch Loss: 1445816.863896 - Avg. Epoch Loss: 1457313.254051<br>'); // clear any previous plot in window_id     \n",
       "  });\n",
       "</script>\n",
       "<div id=\"13c7fd82-8040-45a9-c506-db6933e8661a\"></div>\n"
      ]
     },
     "metadata": {},
     "output_type": "display_data"
    },
    {
     "data": {
      "text/html": [
       "<script type=\"text/javascript\">\n",
       "  $(function() {\n",
       "    $(\"#f4cb1888-616c-45a0-c59e-109620a30fc8\").html('Progress:<br>[7920001 / 11682144] [=========================================>.......] ETA: 6 seconds - Batch Loss: 1445787.190900 - Avg. Epoch Loss: 1457298.719295<br>'); // clear any previous plot in window_id     \n",
       "  });\n",
       "</script>\n",
       "<div id=\"3a023784-327b-4229-c2ba-3af79b68a9c5\"></div>\n"
      ]
     },
     "metadata": {},
     "output_type": "display_data"
    },
    {
     "data": {
      "text/html": [
       "<script type=\"text/javascript\">\n",
       "  $(function() {\n",
       "    $(\"#f4cb1888-616c-45a0-c59e-109620a30fc8\").html('Progress:<br>[7930001 / 11682144] [=========================================>.......] ETA: 6 seconds - Batch Loss: 1445756.842653 - Avg. Epoch Loss: 1457284.182929<br>'); // clear any previous plot in window_id     \n",
       "  });\n",
       "</script>\n",
       "<div id=\"09742c18-db66-4990-c904-7ef8d09b47cc\"></div>\n"
      ]
     },
     "metadata": {},
     "output_type": "display_data"
    },
    {
     "data": {
      "text/html": [
       "<script type=\"text/javascript\">\n",
       "  $(function() {\n",
       "    $(\"#f4cb1888-616c-45a0-c59e-109620a30fc8\").html('Progress:<br>[7940001 / 11682144] [=========================================>.......] ETA: 6 seconds - Batch Loss: 1445728.415887 - Avg. Epoch Loss: 1457269.647374<br>'); // clear any previous plot in window_id     \n",
       "  });\n",
       "</script>\n",
       "<div id=\"c01b78d3-69f1-446a-c471-2df970796983\"></div>\n"
      ]
     },
     "metadata": {},
     "output_type": "display_data"
    },
    {
     "data": {
      "text/html": [
       "<script type=\"text/javascript\">\n",
       "  $(function() {\n",
       "    $(\"#f4cb1888-616c-45a0-c59e-109620a30fc8\").html('Progress:<br>[7950001 / 11682144] [=========================================>.......] ETA: 6 seconds - Batch Loss: 1445699.419080 - Avg. Epoch Loss: 1457255.111913<br>'); // clear any previous plot in window_id     \n",
       "  });\n",
       "</script>\n",
       "<div id=\"b60a3716-e2df-460f-c675-87698ab53c89\"></div>\n"
      ]
     },
     "metadata": {},
     "output_type": "display_data"
    },
    {
     "data": {
      "text/html": [
       "<script type=\"text/javascript\">\n",
       "  $(function() {\n",
       "    $(\"#f4cb1888-616c-45a0-c59e-109620a30fc8\").html('Progress:<br>[7960001 / 11682144] [=========================================>.......] ETA: 6 seconds - Batch Loss: 1445671.637765 - Avg. Epoch Loss: 1457240.578071<br>'); // clear any previous plot in window_id     \n",
       "  });\n",
       "</script>\n",
       "<div id=\"1949fcdb-dc91-497d-c97e-fbcb8724c31b\"></div>\n"
      ]
     },
     "metadata": {},
     "output_type": "display_data"
    },
    {
     "data": {
      "text/html": [
       "<script type=\"text/javascript\">\n",
       "  $(function() {\n",
       "    $(\"#f4cb1888-616c-45a0-c59e-109620a30fc8\").html('Progress:<br>[7970001 / 11682144] [=========================================>.......] ETA: 6 seconds - Batch Loss: 1445642.233523 - Avg. Epoch Loss: 1457226.043806<br>'); // clear any previous plot in window_id     \n",
       "  });\n",
       "</script>\n",
       "<div id=\"8279725b-9118-4efd-ce89-c0fb55e82f2d\"></div>\n"
      ]
     },
     "metadata": {},
     "output_type": "display_data"
    },
    {
     "data": {
      "text/html": [
       "<script type=\"text/javascript\">\n",
       "  $(function() {\n",
       "    $(\"#f4cb1888-616c-45a0-c59e-109620a30fc8\").html('Progress:<br>[7980001 / 11682144] [=========================================>.......] ETA: 6 seconds - Batch Loss: 1445613.978016 - Avg. Epoch Loss: 1457211.510559<br>'); // clear any previous plot in window_id     \n",
       "  });\n",
       "</script>\n",
       "<div id=\"31091dd5-1c1a-4044-c0fa-15ec1109fd79\"></div>\n"
      ]
     },
     "metadata": {},
     "output_type": "display_data"
    },
    {
     "data": {
      "text/html": [
       "<script type=\"text/javascript\">\n",
       "  $(function() {\n",
       "    $(\"#f4cb1888-616c-45a0-c59e-109620a30fc8\").html('Progress:<br>[7990001 / 11682144] [=========================================>.......] ETA: 6 seconds - Batch Loss: 1445586.471832 - Avg. Epoch Loss: 1457196.979263<br>'); // clear any previous plot in window_id     \n",
       "  });\n",
       "</script>\n",
       "<div id=\"cd9d24f4-d718-4b60-cbb5-fb917caee932\"></div>\n"
      ]
     },
     "metadata": {},
     "output_type": "display_data"
    },
    {
     "data": {
      "text/html": [
       "<script type=\"text/javascript\">\n",
       "  $(function() {\n",
       "    $(\"#f4cb1888-616c-45a0-c59e-109620a30fc8\").html('Progress:<br>[8000001 / 11682144] [=========================================>.......] ETA: 6 seconds - Batch Loss: 1445556.344920 - Avg. Epoch Loss: 1457182.446637<br>'); // clear any previous plot in window_id     \n",
       "  });\n",
       "</script>\n",
       "<div id=\"2828df75-04ce-4250-c294-196e0e6fa984\"></div>\n"
      ]
     },
     "metadata": {},
     "output_type": "display_data"
    },
    {
     "data": {
      "text/html": [
       "<script type=\"text/javascript\">\n",
       "  $(function() {\n",
       "    $(\"#f4cb1888-616c-45a0-c59e-109620a30fc8\").html('Progress:<br>[8010001 / 11682144] [=========================================>.......] ETA: 6 seconds - Batch Loss: 1445527.108729 - Avg. Epoch Loss: 1457167.913799<br>'); // clear any previous plot in window_id     \n",
       "  });\n",
       "</script>\n",
       "<div id=\"54a34a31-6159-409f-c0ac-ec2c20450e00\"></div>\n"
      ]
     },
     "metadata": {},
     "output_type": "display_data"
    },
    {
     "data": {
      "text/html": [
       "<script type=\"text/javascript\">\n",
       "  $(function() {\n",
       "    $(\"#f4cb1888-616c-45a0-c59e-109620a30fc8\").html('Progress:<br>[8020001 / 11682144] [=========================================>.......] ETA: 7 seconds - Batch Loss: 1445498.920144 - Avg. Epoch Loss: 1457153.382053<br>'); // clear any previous plot in window_id     \n",
       "  });\n",
       "</script>\n",
       "<div id=\"308caaa3-7b5a-4802-c8b6-9d0f8c85d145\"></div>\n"
      ]
     },
     "metadata": {},
     "output_type": "display_data"
    },
    {
     "data": {
      "text/html": [
       "<script type=\"text/javascript\">\n",
       "  $(function() {\n",
       "    $(\"#f4cb1888-616c-45a0-c59e-109620a30fc8\").html('Progress:<br>[8030001 / 11682144] [=========================================>.......] ETA: 7 seconds - Batch Loss: 1445471.627925 - Avg. Epoch Loss: 1457138.852509<br>'); // clear any previous plot in window_id     \n",
       "  });\n",
       "</script>\n",
       "<div id=\"e89c992f-ee07-4fa2-cfd2-31a1bb93e01c\"></div>\n"
      ]
     },
     "metadata": {},
     "output_type": "display_data"
    },
    {
     "data": {
      "text/html": [
       "<script type=\"text/javascript\">\n",
       "  $(function() {\n",
       "    $(\"#f4cb1888-616c-45a0-c59e-109620a30fc8\").html('Progress:<br>[8040001 / 11682144] [==========================================>......] ETA: 6 seconds - Batch Loss: 1445440.211836 - Avg. Epoch Loss: 1457124.320038<br>'); // clear any previous plot in window_id     \n",
       "  });\n",
       "</script>\n",
       "<div id=\"75f4cc80-91f3-459c-c54c-8cb618702754\"></div>\n"
      ]
     },
     "metadata": {},
     "output_type": "display_data"
    },
    {
     "data": {
      "text/html": [
       "<script type=\"text/javascript\">\n",
       "  $(function() {\n",
       "    $(\"#f4cb1888-616c-45a0-c59e-109620a30fc8\").html('Progress:<br>[8050001 / 11682144] [==========================================>......] ETA: 6 seconds - Batch Loss: 1445410.585633 - Avg. Epoch Loss: 1457109.786871<br>'); // clear any previous plot in window_id     \n",
       "  });\n",
       "</script>\n",
       "<div id=\"07e8b046-19ae-4916-c972-7858f5e8d8f2\"></div>\n"
      ]
     },
     "metadata": {},
     "output_type": "display_data"
    },
    {
     "data": {
      "text/html": [
       "<script type=\"text/javascript\">\n",
       "  $(function() {\n",
       "    $(\"#f4cb1888-616c-45a0-c59e-109620a30fc8\").html('Progress:<br>[8060001 / 11682144] [==========================================>......] ETA: 6 seconds - Batch Loss: 1445384.372523 - Avg. Epoch Loss: 1457095.257239<br>'); // clear any previous plot in window_id     \n",
       "  });\n",
       "</script>\n",
       "<div id=\"ba90890a-f412-47ce-c77d-d1e671c94440\"></div>\n"
      ]
     },
     "metadata": {},
     "output_type": "display_data"
    },
    {
     "data": {
      "text/html": [
       "<script type=\"text/javascript\">\n",
       "  $(function() {\n",
       "    $(\"#f4cb1888-616c-45a0-c59e-109620a30fc8\").html('Progress:<br>[8070001 / 11682144] [==========================================>......] ETA: 6 seconds - Batch Loss: 1445354.304570 - Avg. Epoch Loss: 1457080.726359<br>'); // clear any previous plot in window_id     \n",
       "  });\n",
       "</script>\n",
       "<div id=\"a9af7370-e301-4490-c493-25d4f6e713d1\"></div>\n"
      ]
     },
     "metadata": {},
     "output_type": "display_data"
    },
    {
     "data": {
      "text/html": [
       "<script type=\"text/javascript\">\n",
       "  $(function() {\n",
       "    $(\"#f4cb1888-616c-45a0-c59e-109620a30fc8\").html('Progress:<br>[8080001 / 11682144] [==========================================>......] ETA: 6 seconds - Batch Loss: 1445323.629199 - Avg. Epoch Loss: 1457066.193484<br>'); // clear any previous plot in window_id     \n",
       "  });\n",
       "</script>\n",
       "<div id=\"661109b9-839a-42b9-c22b-c445a7619911\"></div>\n"
      ]
     },
     "metadata": {},
     "output_type": "display_data"
    },
    {
     "data": {
      "text/html": [
       "<script type=\"text/javascript\">\n",
       "  $(function() {\n",
       "    $(\"#f4cb1888-616c-45a0-c59e-109620a30fc8\").html('Progress:<br>[8090001 / 11682144] [==========================================>......] ETA: 6 seconds - Batch Loss: 1445295.514348 - Avg. Epoch Loss: 1457051.661783<br>'); // clear any previous plot in window_id     \n",
       "  });\n",
       "</script>\n",
       "<div id=\"76fa9530-b086-40f9-c0fd-57234c558dd0\"></div>\n"
      ]
     },
     "metadata": {},
     "output_type": "display_data"
    },
    {
     "data": {
      "text/html": [
       "<script type=\"text/javascript\">\n",
       "  $(function() {\n",
       "    $(\"#f4cb1888-616c-45a0-c59e-109620a30fc8\").html('Progress:<br>[8100001 / 11682144] [==========================================>......] ETA: 6 seconds - Batch Loss: 1445267.436791 - Avg. Epoch Loss: 1457037.131298<br>'); // clear any previous plot in window_id     \n",
       "  });\n",
       "</script>\n",
       "<div id=\"bd0cf8c6-5800-4522-c58b-07f2b8e399f3\"></div>\n"
      ]
     },
     "metadata": {},
     "output_type": "display_data"
    },
    {
     "data": {
      "text/html": [
       "<script type=\"text/javascript\">\n",
       "  $(function() {\n",
       "    $(\"#f4cb1888-616c-45a0-c59e-109620a30fc8\").html('Progress:<br>[8110001 / 11682144] [==========================================>......] ETA: 6 seconds - Batch Loss: 1445238.373161 - Avg. Epoch Loss: 1457022.600809<br>'); // clear any previous plot in window_id     \n",
       "  });\n",
       "</script>\n",
       "<div id=\"f9bd14dd-76b3-44c3-c49d-02015de4a3fe\"></div>\n"
      ]
     },
     "metadata": {},
     "output_type": "display_data"
    },
    {
     "data": {
      "text/html": [
       "<script type=\"text/javascript\">\n",
       "  $(function() {\n",
       "    $(\"#f4cb1888-616c-45a0-c59e-109620a30fc8\").html('Progress:<br>[8120001 / 11682144] [==========================================>......] ETA: 6 seconds - Batch Loss: 1445207.910335 - Avg. Epoch Loss: 1457008.068597<br>'); // clear any previous plot in window_id     \n",
       "  });\n",
       "</script>\n",
       "<div id=\"49c65897-322c-4df1-cd6e-b9799f0f20cb\"></div>\n"
      ]
     },
     "metadata": {},
     "output_type": "display_data"
    },
    {
     "data": {
      "text/html": [
       "<script type=\"text/javascript\">\n",
       "  $(function() {\n",
       "    $(\"#f4cb1888-616c-45a0-c59e-109620a30fc8\").html('Progress:<br>[8130001 / 11682144] [==========================================>......] ETA: 6 seconds - Batch Loss: 1445181.127590 - Avg. Epoch Loss: 1456993.539187<br>'); // clear any previous plot in window_id     \n",
       "  });\n",
       "</script>\n",
       "<div id=\"e8e81b37-57fa-4623-c6ba-e765f0a1ea3f\"></div>\n"
      ]
     },
     "metadata": {},
     "output_type": "display_data"
    },
    {
     "data": {
      "text/html": [
       "<script type=\"text/javascript\">\n",
       "  $(function() {\n",
       "    $(\"#f4cb1888-616c-45a0-c59e-109620a30fc8\").html('Progress:<br>[8140001 / 11682144] [==========================================>......] ETA: 6 seconds - Batch Loss: 1445150.476343 - Avg. Epoch Loss: 1456979.007823<br>'); // clear any previous plot in window_id     \n",
       "  });\n",
       "</script>\n",
       "<div id=\"6db868af-4015-4b8c-cb85-788467c75d22\"></div>\n"
      ]
     },
     "metadata": {},
     "output_type": "display_data"
    },
    {
     "data": {
      "text/html": [
       "<script type=\"text/javascript\">\n",
       "  $(function() {\n",
       "    $(\"#f4cb1888-616c-45a0-c59e-109620a30fc8\").html('Progress:<br>[8150001 / 11682144] [==========================================>......] ETA: 6 seconds - Batch Loss: 1445123.077359 - Avg. Epoch Loss: 1456964.478498<br>'); // clear any previous plot in window_id     \n",
       "  });\n",
       "</script>\n",
       "<div id=\"d8be5ec0-15d9-4d55-cdd8-1ea278565e80\"></div>\n"
      ]
     },
     "metadata": {},
     "output_type": "display_data"
    },
    {
     "data": {
      "text/html": [
       "<script type=\"text/javascript\">\n",
       "  $(function() {\n",
       "    $(\"#f4cb1888-616c-45a0-c59e-109620a30fc8\").html('Progress:<br>[8160001 / 11682144] [==========================================>......] ETA: 6 seconds - Batch Loss: 1445093.970338 - Avg. Epoch Loss: 1456949.949114<br>'); // clear any previous plot in window_id     \n",
       "  });\n",
       "</script>\n",
       "<div id=\"239d8bbc-1aeb-4b8c-cb34-403f1dd6a0e5\"></div>\n"
      ]
     },
     "metadata": {},
     "output_type": "display_data"
    },
    {
     "data": {
      "text/html": [
       "<script type=\"text/javascript\">\n",
       "  $(function() {\n",
       "    $(\"#f4cb1888-616c-45a0-c59e-109620a30fc8\").html('Progress:<br>[8170001 / 11682144] [==========================================>......] ETA: 6 seconds - Batch Loss: 1445064.095065 - Avg. Epoch Loss: 1456935.418732<br>'); // clear any previous plot in window_id     \n",
       "  });\n",
       "</script>\n",
       "<div id=\"023f6cc1-4e1a-415d-c108-ddbd1af3a328\"></div>\n"
      ]
     },
     "metadata": {},
     "output_type": "display_data"
    },
    {
     "data": {
      "text/html": [
       "<script type=\"text/javascript\">\n",
       "  $(function() {\n",
       "    $(\"#f4cb1888-616c-45a0-c59e-109620a30fc8\").html('Progress:<br>[8180001 / 11682144] [==========================================>......] ETA: 6 seconds - Batch Loss: 1445034.514023 - Avg. Epoch Loss: 1456920.887715<br>'); // clear any previous plot in window_id     \n",
       "  });\n",
       "</script>\n",
       "<div id=\"a1cb02c7-dba1-4bbf-cb10-eb29cb43e7e4\"></div>\n"
      ]
     },
     "metadata": {},
     "output_type": "display_data"
    },
    {
     "data": {
      "text/html": [
       "<script type=\"text/javascript\">\n",
       "  $(function() {\n",
       "    $(\"#f4cb1888-616c-45a0-c59e-109620a30fc8\").html('Progress:<br>[8190001 / 11682144] [==========================================>......] ETA: 6 seconds - Batch Loss: 1445007.003319 - Avg. Epoch Loss: 1456906.358589<br>'); // clear any previous plot in window_id     \n",
       "  });\n",
       "</script>\n",
       "<div id=\"64407ca3-2ea0-40d5-c0ed-03d4ec604983\"></div>\n"
      ]
     },
     "metadata": {},
     "output_type": "display_data"
    },
    {
     "data": {
      "text/html": [
       "<script type=\"text/javascript\">\n",
       "  $(function() {\n",
       "    $(\"#f4cb1888-616c-45a0-c59e-109620a30fc8\").html('Progress:<br>[8200001 / 11682144] [==========================================>......] ETA: 6 seconds - Batch Loss: 1444976.774741 - Avg. Epoch Loss: 1456891.828038<br>'); // clear any previous plot in window_id     \n",
       "  });\n",
       "</script>\n",
       "<div id=\"afc9b16d-577e-4003-c05b-eb50da30abdd\"></div>\n"
      ]
     },
     "metadata": {},
     "output_type": "display_data"
    },
    {
     "data": {
      "text/html": [
       "<script type=\"text/javascript\">\n",
       "  $(function() {\n",
       "    $(\"#f4cb1888-616c-45a0-c59e-109620a30fc8\").html('Progress:<br>[8210001 / 11682144] [==========================================>......] ETA: 6 seconds - Batch Loss: 1444948.148513 - Avg. Epoch Loss: 1456877.298016<br>'); // clear any previous plot in window_id     \n",
       "  });\n",
       "</script>\n",
       "<div id=\"019c2602-e332-407a-c095-dbd0f49d635e\"></div>\n"
      ]
     },
     "metadata": {},
     "output_type": "display_data"
    },
    {
     "data": {
      "text/html": [
       "<script type=\"text/javascript\">\n",
       "  $(function() {\n",
       "    $(\"#f4cb1888-616c-45a0-c59e-109620a30fc8\").html('Progress:<br>[8220001 / 11682144] [==========================================>......] ETA: 6 seconds - Batch Loss: 1444919.168480 - Avg. Epoch Loss: 1456862.768092<br>'); // clear any previous plot in window_id     \n",
       "  });\n",
       "</script>\n",
       "<div id=\"d7b89c8a-b40f-482c-c82d-92019b0803ea\"></div>\n"
      ]
     },
     "metadata": {},
     "output_type": "display_data"
    },
    {
     "data": {
      "text/html": [
       "<script type=\"text/javascript\">\n",
       "  $(function() {\n",
       "    $(\"#f4cb1888-616c-45a0-c59e-109620a30fc8\").html('Progress:<br>[8230001 / 11682144] [===========================================>.....] ETA: 5 seconds - Batch Loss: 1444892.062556 - Avg. Epoch Loss: 1456848.240538<br>'); // clear any previous plot in window_id     \n",
       "  });\n",
       "</script>\n",
       "<div id=\"0be0abaf-d260-4daf-cd1a-c3822ba1a385\"></div>\n"
      ]
     },
     "metadata": {},
     "output_type": "display_data"
    },
    {
     "data": {
      "text/html": [
       "<script type=\"text/javascript\">\n",
       "  $(function() {\n",
       "    $(\"#f4cb1888-616c-45a0-c59e-109620a30fc8\").html('Progress:<br>[8240001 / 11682144] [===========================================>.....] ETA: 5 seconds - Batch Loss: 1444862.508675 - Avg. Epoch Loss: 1456833.712380<br>'); // clear any previous plot in window_id     \n",
       "  });\n",
       "</script>\n",
       "<div id=\"e27ce330-01c2-4f63-cfe2-9fcfb1fe06ac\"></div>\n"
      ]
     },
     "metadata": {},
     "output_type": "display_data"
    },
    {
     "data": {
      "text/html": [
       "<script type=\"text/javascript\">\n",
       "  $(function() {\n",
       "    $(\"#f4cb1888-616c-45a0-c59e-109620a30fc8\").html('Progress:<br>[8250001 / 11682144] [===========================================>.....] ETA: 5 seconds - Batch Loss: 1444834.649664 - Avg. Epoch Loss: 1456819.185671<br>'); // clear any previous plot in window_id     \n",
       "  });\n",
       "</script>\n",
       "<div id=\"f899924d-2db3-4087-c08c-1ba07b18135b\"></div>\n"
      ]
     },
     "metadata": {},
     "output_type": "display_data"
    },
    {
     "data": {
      "text/html": [
       "<script type=\"text/javascript\">\n",
       "  $(function() {\n",
       "    $(\"#f4cb1888-616c-45a0-c59e-109620a30fc8\").html('Progress:<br>[8260001 / 11682144] [===========================================>.....] ETA: 5 seconds - Batch Loss: 1444806.271349 - Avg. Epoch Loss: 1456804.659779<br>'); // clear any previous plot in window_id     \n",
       "  });\n",
       "</script>\n",
       "<div id=\"3a7f3490-51aa-4f93-cf96-4ba29c3fcafc\"></div>\n"
      ]
     },
     "metadata": {},
     "output_type": "display_data"
    },
    {
     "data": {
      "text/html": [
       "<script type=\"text/javascript\">\n",
       "  $(function() {\n",
       "    $(\"#f4cb1888-616c-45a0-c59e-109620a30fc8\").html('Progress:<br>[8270001 / 11682144] [===========================================>.....] ETA: 5 seconds - Batch Loss: 1444776.032166 - Avg. Epoch Loss: 1456790.132453<br>'); // clear any previous plot in window_id     \n",
       "  });\n",
       "</script>\n",
       "<div id=\"f2af3f7f-7501-4bdf-cb04-e0affca000ae\"></div>\n"
      ]
     },
     "metadata": {},
     "output_type": "display_data"
    },
    {
     "data": {
      "text/html": [
       "<script type=\"text/javascript\">\n",
       "  $(function() {\n",
       "    $(\"#f4cb1888-616c-45a0-c59e-109620a30fc8\").html('Progress:<br>[8280001 / 11682144] [===========================================>.....] ETA: 5 seconds - Batch Loss: 1444746.687044 - Avg. Epoch Loss: 1456775.604776<br>'); // clear any previous plot in window_id     \n",
       "  });\n",
       "</script>\n",
       "<div id=\"989c4959-cd80-48e8-c800-ca0893faa8e6\"></div>\n"
      ]
     },
     "metadata": {},
     "output_type": "display_data"
    },
    {
     "data": {
      "text/html": [
       "<script type=\"text/javascript\">\n",
       "  $(function() {\n",
       "    $(\"#f4cb1888-616c-45a0-c59e-109620a30fc8\").html('Progress:<br>[8290001 / 11682144] [===========================================>.....] ETA: 5 seconds - Batch Loss: 1444717.351834 - Avg. Epoch Loss: 1456761.076762<br>'); // clear any previous plot in window_id     \n",
       "  });\n",
       "</script>\n",
       "<div id=\"f4495363-9b82-4132-c19c-e154db56f0ff\"></div>\n"
      ]
     },
     "metadata": {},
     "output_type": "display_data"
    },
    {
     "data": {
      "text/html": [
       "<script type=\"text/javascript\">\n",
       "  $(function() {\n",
       "    $(\"#f4cb1888-616c-45a0-c59e-109620a30fc8\").html('Progress:<br>[8300001 / 11682144] [===========================================>.....] ETA: 5 seconds - Batch Loss: 1444688.904764 - Avg. Epoch Loss: 1456746.549481<br>'); // clear any previous plot in window_id     \n",
       "  });\n",
       "</script>\n",
       "<div id=\"1e883ee4-ede5-4c02-cc5f-f8a294083ead\"></div>\n"
      ]
     },
     "metadata": {},
     "output_type": "display_data"
    },
    {
     "data": {
      "text/html": [
       "<script type=\"text/javascript\">\n",
       "  $(function() {\n",
       "    $(\"#f4cb1888-616c-45a0-c59e-109620a30fc8\").html('Progress:<br>[8310001 / 11682144] [===========================================>.....] ETA: 5 seconds - Batch Loss: 1444659.993381 - Avg. Epoch Loss: 1456732.022372<br>'); // clear any previous plot in window_id     \n",
       "  });\n",
       "</script>\n",
       "<div id=\"f31f8fae-a37f-4653-c677-ac109d1aa83a\"></div>\n"
      ]
     },
     "metadata": {},
     "output_type": "display_data"
    },
    {
     "data": {
      "text/html": [
       "<script type=\"text/javascript\">\n",
       "  $(function() {\n",
       "    $(\"#f4cb1888-616c-45a0-c59e-109620a30fc8\").html('Progress:<br>[8320001 / 11682144] [===========================================>.....] ETA: 5 seconds - Batch Loss: 1444631.591975 - Avg. Epoch Loss: 1456717.496047<br>'); // clear any previous plot in window_id     \n",
       "  });\n",
       "</script>\n",
       "<div id=\"87483d62-37ab-4c25-ccab-9839a1c4a43b\"></div>\n"
      ]
     },
     "metadata": {},
     "output_type": "display_data"
    },
    {
     "data": {
      "text/html": [
       "<script type=\"text/javascript\">\n",
       "  $(function() {\n",
       "    $(\"#f4cb1888-616c-45a0-c59e-109620a30fc8\").html('Progress:<br>[8330001 / 11682144] [===========================================>.....] ETA: 5 seconds - Batch Loss: 1444602.070465 - Avg. Epoch Loss: 1456702.969160<br>'); // clear any previous plot in window_id     \n",
       "  });\n",
       "</script>\n",
       "<div id=\"95f120d5-e33e-40be-c0bb-7d36ad82dfc0\"></div>\n"
      ]
     },
     "metadata": {},
     "output_type": "display_data"
    },
    {
     "data": {
      "text/html": [
       "<script type=\"text/javascript\">\n",
       "  $(function() {\n",
       "    $(\"#f4cb1888-616c-45a0-c59e-109620a30fc8\").html('Progress:<br>[8340001 / 11682144] [===========================================>.....] ETA: 5 seconds - Batch Loss: 1444573.688050 - Avg. Epoch Loss: 1456688.443076<br>'); // clear any previous plot in window_id     \n",
       "  });\n",
       "</script>\n",
       "<div id=\"58c253e8-5e0f-4f91-cf03-4d262080d4f6\"></div>\n"
      ]
     },
     "metadata": {},
     "output_type": "display_data"
    },
    {
     "data": {
      "text/html": [
       "<script type=\"text/javascript\">\n",
       "  $(function() {\n",
       "    $(\"#f4cb1888-616c-45a0-c59e-109620a30fc8\").html('Progress:<br>[8350001 / 11682144] [===========================================>.....] ETA: 5 seconds - Batch Loss: 1444545.311474 - Avg. Epoch Loss: 1456673.917801<br>'); // clear any previous plot in window_id     \n",
       "  });\n",
       "</script>\n",
       "<div id=\"84e5413d-3e99-441e-c4e9-953a15607747\"></div>\n"
      ]
     },
     "metadata": {},
     "output_type": "display_data"
    },
    {
     "data": {
      "text/html": [
       "<script type=\"text/javascript\">\n",
       "  $(function() {\n",
       "    $(\"#f4cb1888-616c-45a0-c59e-109620a30fc8\").html('Progress:<br>[8360001 / 11682144] [===========================================>.....] ETA: 5 seconds - Batch Loss: 1444516.840287 - Avg. Epoch Loss: 1456659.393218<br>'); // clear any previous plot in window_id     \n",
       "  });\n",
       "</script>\n",
       "<div id=\"9c13ec80-5586-45e2-c52e-7a87d660e221\"></div>\n"
      ]
     },
     "metadata": {},
     "output_type": "display_data"
    },
    {
     "data": {
      "text/html": [
       "<script type=\"text/javascript\">\n",
       "  $(function() {\n",
       "    $(\"#f4cb1888-616c-45a0-c59e-109620a30fc8\").html('Progress:<br>[8370001 / 11682144] [===========================================>.....] ETA: 5 seconds - Batch Loss: 1444484.992655 - Avg. Epoch Loss: 1456644.865295<br>'); // clear any previous plot in window_id     \n",
       "  });\n",
       "</script>\n",
       "<div id=\"2b55e337-1d69-41ae-c1e5-88bed5c85a7f\"></div>\n"
      ]
     },
     "metadata": {},
     "output_type": "display_data"
    },
    {
     "data": {
      "text/html": [
       "<script type=\"text/javascript\">\n",
       "  $(function() {\n",
       "    $(\"#f4cb1888-616c-45a0-c59e-109620a30fc8\").html('Progress:<br>[8380001 / 11682144] [===========================================>.....] ETA: 5 seconds - Batch Loss: 1444457.128747 - Avg. Epoch Loss: 1456630.338793<br>'); // clear any previous plot in window_id     \n",
       "  });\n",
       "</script>\n",
       "<div id=\"d78a0845-1ee8-445f-c467-28b6bcac181c\"></div>\n"
      ]
     },
     "metadata": {},
     "output_type": "display_data"
    },
    {
     "data": {
      "text/html": [
       "<script type=\"text/javascript\">\n",
       "  $(function() {\n",
       "    $(\"#f4cb1888-616c-45a0-c59e-109620a30fc8\").html('Progress:<br>[8390001 / 11682144] [===========================================>.....] ETA: 5 seconds - Batch Loss: 1444428.860677 - Avg. Epoch Loss: 1456615.813226<br>'); // clear any previous plot in window_id     \n",
       "  });\n",
       "</script>\n",
       "<div id=\"74fd63fe-6fb2-4162-c1d7-ce1d77064d91\"></div>\n"
      ]
     },
     "metadata": {},
     "output_type": "display_data"
    },
    {
     "data": {
      "text/html": [
       "<script type=\"text/javascript\">\n",
       "  $(function() {\n",
       "    $(\"#f4cb1888-616c-45a0-c59e-109620a30fc8\").html('Progress:<br>[8400001 / 11682144] [===========================================>.....] ETA: 5 seconds - Batch Loss: 1444401.355937 - Avg. Epoch Loss: 1456601.289497<br>'); // clear any previous plot in window_id     \n",
       "  });\n",
       "</script>\n",
       "<div id=\"a33c4361-6bad-4b77-cb76-7096f428a6cc\"></div>\n"
      ]
     },
     "metadata": {},
     "output_type": "display_data"
    },
    {
     "data": {
      "text/html": [
       "<script type=\"text/javascript\">\n",
       "  $(function() {\n",
       "    $(\"#f4cb1888-616c-45a0-c59e-109620a30fc8\").html('Progress:<br>[8410001 / 11682144] [===========================================>.....] ETA: 5 seconds - Batch Loss: 1444370.594320 - Avg. Epoch Loss: 1456586.763733<br>'); // clear any previous plot in window_id     \n",
       "  });\n",
       "</script>\n",
       "<div id=\"70dc7f79-b3ea-4dab-cd3b-b32bd9c786db\"></div>\n"
      ]
     },
     "metadata": {},
     "output_type": "display_data"
    },
    {
     "data": {
      "text/html": [
       "<script type=\"text/javascript\">\n",
       "  $(function() {\n",
       "    $(\"#f4cb1888-616c-45a0-c59e-109620a30fc8\").html('Progress:<br>[8420001 / 11682144] [============================================>....] ETA: 4 seconds - Batch Loss: 1444343.540908 - Avg. Epoch Loss: 1456572.240339<br>'); // clear any previous plot in window_id     \n",
       "  });\n",
       "</script>\n",
       "<div id=\"bc517f94-f121-4fb2-cf27-118e00bc618e\"></div>\n"
      ]
     },
     "metadata": {},
     "output_type": "display_data"
    },
    {
     "data": {
      "text/html": [
       "<script type=\"text/javascript\">\n",
       "  $(function() {\n",
       "    $(\"#f4cb1888-616c-45a0-c59e-109620a30fc8\").html('Progress:<br>[8430001 / 11682144] [============================================>....] ETA: 4 seconds - Batch Loss: 1444312.102401 - Avg. Epoch Loss: 1456557.714110<br>'); // clear any previous plot in window_id     \n",
       "  });\n",
       "</script>\n",
       "<div id=\"eaf8a2b4-f5b4-4b7f-cba3-708f25a8a0cd\"></div>\n"
      ]
     },
     "metadata": {},
     "output_type": "display_data"
    },
    {
     "data": {
      "text/html": [
       "<script type=\"text/javascript\">\n",
       "  $(function() {\n",
       "    $(\"#f4cb1888-616c-45a0-c59e-109620a30fc8\").html('Progress:<br>[8440001 / 11682144] [============================================>....] ETA: 4 seconds - Batch Loss: 1444284.359805 - Avg. Epoch Loss: 1456543.189433<br>'); // clear any previous plot in window_id     \n",
       "  });\n",
       "</script>\n",
       "<div id=\"ab60ba2c-c8fb-4532-c547-7fe0bc55aff2\"></div>\n"
      ]
     },
     "metadata": {},
     "output_type": "display_data"
    },
    {
     "data": {
      "text/html": [
       "<script type=\"text/javascript\">\n",
       "  $(function() {\n",
       "    $(\"#f4cb1888-616c-45a0-c59e-109620a30fc8\").html('Progress:<br>[8450001 / 11682144] [============================================>....] ETA: 4 seconds - Batch Loss: 1444255.689769 - Avg. Epoch Loss: 1456528.665203<br>'); // clear any previous plot in window_id     \n",
       "  });\n",
       "</script>\n",
       "<div id=\"e7bdd31e-2e6d-4a56-ca4e-96996f54a792\"></div>\n"
      ]
     },
     "metadata": {},
     "output_type": "display_data"
    },
    {
     "data": {
      "text/html": [
       "<script type=\"text/javascript\">\n",
       "  $(function() {\n",
       "    $(\"#f4cb1888-616c-45a0-c59e-109620a30fc8\").html('Progress:<br>[8460001 / 11682144] [============================================>....] ETA: 4 seconds - Batch Loss: 1444228.436726 - Avg. Epoch Loss: 1456514.143093<br>'); // clear any previous plot in window_id     \n",
       "  });\n",
       "</script>\n",
       "<div id=\"a014cd95-f8c4-4c3c-ccc3-2aecd735f20a\"></div>\n"
      ]
     },
     "metadata": {},
     "output_type": "display_data"
    },
    {
     "data": {
      "text/html": [
       "<script type=\"text/javascript\">\n",
       "  $(function() {\n",
       "    $(\"#f4cb1888-616c-45a0-c59e-109620a30fc8\").html('Progress:<br>[8470001 / 11682144] [============================================>....] ETA: 4 seconds - Batch Loss: 1444199.245385 - Avg. Epoch Loss: 1456499.620810<br>'); // clear any previous plot in window_id     \n",
       "  });\n",
       "</script>\n",
       "<div id=\"7831549a-db04-4a32-ca4b-d87a6b1a364b\"></div>\n"
      ]
     },
     "metadata": {},
     "output_type": "display_data"
    },
    {
     "data": {
      "text/html": [
       "<script type=\"text/javascript\">\n",
       "  $(function() {\n",
       "    $(\"#f4cb1888-616c-45a0-c59e-109620a30fc8\").html('Progress:<br>[8480001 / 11682144] [============================================>....] ETA: 4 seconds - Batch Loss: 1444168.097091 - Avg. Epoch Loss: 1456485.096049<br>'); // clear any previous plot in window_id     \n",
       "  });\n",
       "</script>\n",
       "<div id=\"f7ad0fe4-0743-4f9a-cfff-599ffedcb5cf\"></div>\n"
      ]
     },
     "metadata": {},
     "output_type": "display_data"
    },
    {
     "data": {
      "text/html": [
       "<script type=\"text/javascript\">\n",
       "  $(function() {\n",
       "    $(\"#f4cb1888-616c-45a0-c59e-109620a30fc8\").html('Progress:<br>[8490001 / 11682144] [============================================>....] ETA: 4 seconds - Batch Loss: 1444140.354820 - Avg. Epoch Loss: 1456470.572825<br>'); // clear any previous plot in window_id     \n",
       "  });\n",
       "</script>\n",
       "<div id=\"45fc92a1-4ae5-4bba-cb9b-3e5fa70088e8\"></div>\n"
      ]
     },
     "metadata": {},
     "output_type": "display_data"
    },
    {
     "data": {
      "text/html": [
       "<script type=\"text/javascript\">\n",
       "  $(function() {\n",
       "    $(\"#f4cb1888-616c-45a0-c59e-109620a30fc8\").html('Progress:<br>[8500001 / 11682144] [============================================>....] ETA: 4 seconds - Batch Loss: 1444111.928674 - Avg. Epoch Loss: 1456456.050331<br>'); // clear any previous plot in window_id     \n",
       "  });\n",
       "</script>\n",
       "<div id=\"4d329493-3457-44a8-c428-169d9400fd1a\"></div>\n"
      ]
     },
     "metadata": {},
     "output_type": "display_data"
    },
    {
     "data": {
      "text/html": [
       "<script type=\"text/javascript\">\n",
       "  $(function() {\n",
       "    $(\"#f4cb1888-616c-45a0-c59e-109620a30fc8\").html('Progress:<br>[8510001 / 11682144] [============================================>....] ETA: 4 seconds - Batch Loss: 1444082.136324 - Avg. Epoch Loss: 1456441.526959<br>'); // clear any previous plot in window_id     \n",
       "  });\n",
       "</script>\n",
       "<div id=\"bf3a2bf0-226d-4939-c934-2c7410678a50\"></div>\n"
      ]
     },
     "metadata": {},
     "output_type": "display_data"
    },
    {
     "data": {
      "text/html": [
       "<script type=\"text/javascript\">\n",
       "  $(function() {\n",
       "    $(\"#f4cb1888-616c-45a0-c59e-109620a30fc8\").html('Progress:<br>[8520001 / 11682144] [============================================>....] ETA: 4 seconds - Batch Loss: 1444054.739162 - Avg. Epoch Loss: 1456427.005522<br>'); // clear any previous plot in window_id     \n",
       "  });\n",
       "</script>\n",
       "<div id=\"960a7b44-cadf-4e25-cedd-7e8bcb8f14e7\"></div>\n"
      ]
     },
     "metadata": {},
     "output_type": "display_data"
    },
    {
     "data": {
      "text/html": [
       "<script type=\"text/javascript\">\n",
       "  $(function() {\n",
       "    $(\"#f4cb1888-616c-45a0-c59e-109620a30fc8\").html('Progress:<br>[8530001 / 11682144] [============================================>....] ETA: 4 seconds - Batch Loss: 1444025.134309 - Avg. Epoch Loss: 1456412.483426<br>'); // clear any previous plot in window_id     \n",
       "  });\n",
       "</script>\n",
       "<div id=\"a527e918-754c-4650-c6fb-5d7a8adae889\"></div>\n"
      ]
     },
     "metadata": {},
     "output_type": "display_data"
    },
    {
     "data": {
      "text/html": [
       "<script type=\"text/javascript\">\n",
       "  $(function() {\n",
       "    $(\"#f4cb1888-616c-45a0-c59e-109620a30fc8\").html('Progress:<br>[8540001 / 11682144] [============================================>....] ETA: 4 seconds - Batch Loss: 1443994.725110 - Avg. Epoch Loss: 1456397.959734<br>'); // clear any previous plot in window_id     \n",
       "  });\n",
       "</script>\n",
       "<div id=\"ddf1d9a6-1056-4c17-cc90-139896a1feb3\"></div>\n"
      ]
     },
     "metadata": {},
     "output_type": "display_data"
    },
    {
     "data": {
      "text/html": [
       "<script type=\"text/javascript\">\n",
       "  $(function() {\n",
       "    $(\"#f4cb1888-616c-45a0-c59e-109620a30fc8\").html('Progress:<br>[8550001 / 11682144] [============================================>....] ETA: 4 seconds - Batch Loss: 1443967.022003 - Avg. Epoch Loss: 1456383.437612<br>'); // clear any previous plot in window_id     \n",
       "  });\n",
       "</script>\n",
       "<div id=\"7abecbfb-1fd2-44d3-c4ce-555dfec40958\"></div>\n"
      ]
     },
     "metadata": {},
     "output_type": "display_data"
    },
    {
     "data": {
      "text/html": [
       "<script type=\"text/javascript\">\n",
       "  $(function() {\n",
       "    $(\"#f4cb1888-616c-45a0-c59e-109620a30fc8\").html('Progress:<br>[8560001 / 11682144] [============================================>....] ETA: 4 seconds - Batch Loss: 1443937.710394 - Avg. Epoch Loss: 1456368.915178<br>'); // clear any previous plot in window_id     \n",
       "  });\n",
       "</script>\n",
       "<div id=\"09ef639e-54de-4beb-cb63-9b46cd67eea9\"></div>\n"
      ]
     },
     "metadata": {},
     "output_type": "display_data"
    },
    {
     "data": {
      "text/html": [
       "<script type=\"text/javascript\">\n",
       "  $(function() {\n",
       "    $(\"#f4cb1888-616c-45a0-c59e-109620a30fc8\").html('Progress:<br>[8570001 / 11682144] [============================================>....] ETA: 4 seconds - Batch Loss: 1443907.622431 - Avg. Epoch Loss: 1456354.391529<br>'); // clear any previous plot in window_id     \n",
       "  });\n",
       "</script>\n",
       "<div id=\"91ec3f06-8e09-452d-c52b-c86770327766\"></div>\n"
      ]
     },
     "metadata": {},
     "output_type": "display_data"
    },
    {
     "data": {
      "text/html": [
       "<script type=\"text/javascript\">\n",
       "  $(function() {\n",
       "    $(\"#f4cb1888-616c-45a0-c59e-109620a30fc8\").html('Progress:<br>[8580001 / 11682144] [============================================>....] ETA: 4 seconds - Batch Loss: 1443880.510988 - Avg. Epoch Loss: 1456339.870133<br>'); // clear any previous plot in window_id     \n",
       "  });\n",
       "</script>\n",
       "<div id=\"91cad2f7-4781-4cbf-cc08-730d4cae0c35\"></div>\n"
      ]
     },
     "metadata": {},
     "output_type": "display_data"
    },
    {
     "data": {
      "text/html": [
       "<script type=\"text/javascript\">\n",
       "  $(function() {\n",
       "    $(\"#f4cb1888-616c-45a0-c59e-109620a30fc8\").html('Progress:<br>[8590001 / 11682144] [============================================>....] ETA: 4 seconds - Batch Loss: 1443851.254969 - Avg. Epoch Loss: 1456325.348489<br>'); // clear any previous plot in window_id     \n",
       "  });\n",
       "</script>\n",
       "<div id=\"047ce41d-0efa-4010-c018-3b3b3837a4a1\"></div>\n"
      ]
     },
     "metadata": {},
     "output_type": "display_data"
    },
    {
     "data": {
      "text/html": [
       "<script type=\"text/javascript\">\n",
       "  $(function() {\n",
       "    $(\"#f4cb1888-616c-45a0-c59e-109620a30fc8\").html('Progress:<br>[8600001 / 11682144] [=============================================>...] ETA: 3 seconds - Batch Loss: 1443822.191264 - Avg. Epoch Loss: 1456310.826821<br>'); // clear any previous plot in window_id     \n",
       "  });\n",
       "</script>\n",
       "<div id=\"a4805ee6-2692-442b-c4d9-b0c9ac141c26\"></div>\n"
      ]
     },
     "metadata": {},
     "output_type": "display_data"
    },
    {
     "data": {
      "text/html": [
       "<script type=\"text/javascript\">\n",
       "  $(function() {\n",
       "    $(\"#f4cb1888-616c-45a0-c59e-109620a30fc8\").html('Progress:<br>[8610001 / 11682144] [=============================================>...] ETA: 3 seconds - Batch Loss: 1443793.924957 - Avg. Epoch Loss: 1456296.306055<br>'); // clear any previous plot in window_id     \n",
       "  });\n",
       "</script>\n",
       "<div id=\"5a4d7b2a-763b-4541-c5bb-491bc02c821b\"></div>\n"
      ]
     },
     "metadata": {},
     "output_type": "display_data"
    },
    {
     "data": {
      "text/html": [
       "<script type=\"text/javascript\">\n",
       "  $(function() {\n",
       "    $(\"#f4cb1888-616c-45a0-c59e-109620a30fc8\").html('Progress:<br>[8620001 / 11682144] [=============================================>...] ETA: 3 seconds - Batch Loss: 1443766.203446 - Avg. Epoch Loss: 1456281.786819<br>'); // clear any previous plot in window_id     \n",
       "  });\n",
       "</script>\n",
       "<div id=\"12a50775-7d6b-4281-c2fa-6200ae5df40b\"></div>\n"
      ]
     },
     "metadata": {},
     "output_type": "display_data"
    },
    {
     "data": {
      "text/html": [
       "<script type=\"text/javascript\">\n",
       "  $(function() {\n",
       "    $(\"#f4cb1888-616c-45a0-c59e-109620a30fc8\").html('Progress:<br>[8630001 / 11682144] [=============================================>...] ETA: 3 seconds - Batch Loss: 1443734.862615 - Avg. Epoch Loss: 1456267.264917<br>'); // clear any previous plot in window_id     \n",
       "  });\n",
       "</script>\n",
       "<div id=\"e8c25760-6532-4241-c2dc-97a5e360829f\"></div>\n"
      ]
     },
     "metadata": {},
     "output_type": "display_data"
    },
    {
     "data": {
      "text/html": [
       "<script type=\"text/javascript\">\n",
       "  $(function() {\n",
       "    $(\"#f4cb1888-616c-45a0-c59e-109620a30fc8\").html('Progress:<br>[8640001 / 11682144] [=============================================>...] ETA: 3 seconds - Batch Loss: 1443707.493604 - Avg. Epoch Loss: 1456252.744952<br>'); // clear any previous plot in window_id     \n",
       "  });\n",
       "</script>\n",
       "<div id=\"3f5ffe51-b4ae-4444-c489-2fa80a477b09\"></div>\n"
      ]
     },
     "metadata": {},
     "output_type": "display_data"
    },
    {
     "data": {
      "text/html": [
       "<script type=\"text/javascript\">\n",
       "  $(function() {\n",
       "    $(\"#f4cb1888-616c-45a0-c59e-109620a30fc8\").html('Progress:<br>[8650001 / 11682144] [=============================================>...] ETA: 3 seconds - Batch Loss: 1443678.177835 - Avg. Epoch Loss: 1456238.224668<br>'); // clear any previous plot in window_id     \n",
       "  });\n",
       "</script>\n",
       "<div id=\"a6b65d4a-350d-40e0-c03e-e7083aed21e8\"></div>\n"
      ]
     },
     "metadata": {},
     "output_type": "display_data"
    },
    {
     "data": {
      "text/html": [
       "<script type=\"text/javascript\">\n",
       "  $(function() {\n",
       "    $(\"#f4cb1888-616c-45a0-c59e-109620a30fc8\").html('Progress:<br>[8660001 / 11682144] [=============================================>...] ETA: 3 seconds - Batch Loss: 1443649.645495 - Avg. Epoch Loss: 1456223.704971<br>'); // clear any previous plot in window_id     \n",
       "  });\n",
       "</script>\n",
       "<div id=\"01f1c34d-ffae-425d-c2d9-316f61cc3ddd\"></div>\n"
      ]
     },
     "metadata": {},
     "output_type": "display_data"
    },
    {
     "data": {
      "text/html": [
       "<script type=\"text/javascript\">\n",
       "  $(function() {\n",
       "    $(\"#f4cb1888-616c-45a0-c59e-109620a30fc8\").html('Progress:<br>[8670001 / 11682144] [=============================================>...] ETA: 3 seconds - Batch Loss: 1443619.545342 - Avg. Epoch Loss: 1456209.184051<br>'); // clear any previous plot in window_id     \n",
       "  });\n",
       "</script>\n",
       "<div id=\"ffa3f866-dab8-42bc-c230-f4e80091d4cc\"></div>\n"
      ]
     },
     "metadata": {},
     "output_type": "display_data"
    },
    {
     "data": {
      "text/html": [
       "<script type=\"text/javascript\">\n",
       "  $(function() {\n",
       "    $(\"#f4cb1888-616c-45a0-c59e-109620a30fc8\").html('Progress:<br>[8680001 / 11682144] [=============================================>...] ETA: 3 seconds - Batch Loss: 1443592.414880 - Avg. Epoch Loss: 1456194.665331<br>'); // clear any previous plot in window_id     \n",
       "  });\n",
       "</script>\n",
       "<div id=\"ba89947a-59f1-4f54-cf75-94bae75dbda5\"></div>\n"
      ]
     },
     "metadata": {},
     "output_type": "display_data"
    },
    {
     "data": {
      "text/html": [
       "<script type=\"text/javascript\">\n",
       "  $(function() {\n",
       "    $(\"#f4cb1888-616c-45a0-c59e-109620a30fc8\").html('Progress:<br>[8690001 / 11682144] [=============================================>...] ETA: 3 seconds - Batch Loss: 1443562.166158 - Avg. Epoch Loss: 1456180.145219<br>'); // clear any previous plot in window_id     \n",
       "  });\n",
       "</script>\n",
       "<div id=\"e9713c3c-0ceb-468d-c691-ad27f919bea5\"></div>\n"
      ]
     },
     "metadata": {},
     "output_type": "display_data"
    },
    {
     "data": {
      "text/html": [
       "<script type=\"text/javascript\">\n",
       "  $(function() {\n",
       "    $(\"#f4cb1888-616c-45a0-c59e-109620a30fc8\").html('Progress:<br>[8700001 / 11682144] [=============================================>...] ETA: 3 seconds - Batch Loss: 1443533.821206 - Avg. Epoch Loss: 1456165.625905<br>'); // clear any previous plot in window_id     \n",
       "  });\n",
       "</script>\n",
       "<div id=\"b722c890-5027-4af2-caa5-32e8a8223761\"></div>\n"
      ]
     },
     "metadata": {},
     "output_type": "display_data"
    },
    {
     "data": {
      "text/html": [
       "<script type=\"text/javascript\">\n",
       "  $(function() {\n",
       "    $(\"#f4cb1888-616c-45a0-c59e-109620a30fc8\").html('Progress:<br>[8710001 / 11682144] [=============================================>...] ETA: 3 seconds - Batch Loss: 1443506.438618 - Avg. Epoch Loss: 1456151.108490<br>'); // clear any previous plot in window_id     \n",
       "  });\n",
       "</script>\n",
       "<div id=\"b02ae00b-9a61-4990-c969-4dc40c1dbb67\"></div>\n"
      ]
     },
     "metadata": {},
     "output_type": "display_data"
    },
    {
     "data": {
      "text/html": [
       "<script type=\"text/javascript\">\n",
       "  $(function() {\n",
       "    $(\"#f4cb1888-616c-45a0-c59e-109620a30fc8\").html('Progress:<br>[8720001 / 11682144] [=============================================>...] ETA: 3 seconds - Batch Loss: 1443475.127595 - Avg. Epoch Loss: 1456136.588468<br>'); // clear any previous plot in window_id     \n",
       "  });\n",
       "</script>\n",
       "<div id=\"4c315290-1eb2-4854-c8d4-2dd4948f9816\"></div>\n"
      ]
     },
     "metadata": {},
     "output_type": "display_data"
    },
    {
     "data": {
      "text/html": [
       "<script type=\"text/javascript\">\n",
       "  $(function() {\n",
       "    $(\"#f4cb1888-616c-45a0-c59e-109620a30fc8\").html('Progress:<br>[8730001 / 11682144] [=============================================>...] ETA: 3 seconds - Batch Loss: 1443447.409057 - Avg. Epoch Loss: 1456122.069957<br>'); // clear any previous plot in window_id     \n",
       "  });\n",
       "</script>\n",
       "<div id=\"5cfea3c0-da3b-49e5-c966-89eeb4cf9f78\"></div>\n"
      ]
     },
     "metadata": {},
     "output_type": "display_data"
    },
    {
     "data": {
      "text/html": [
       "<script type=\"text/javascript\">\n",
       "  $(function() {\n",
       "    $(\"#f4cb1888-616c-45a0-c59e-109620a30fc8\").html('Progress:<br>[8740001 / 11682144] [=============================================>...] ETA: 3 seconds - Batch Loss: 1443418.320897 - Avg. Epoch Loss: 1456107.551389<br>'); // clear any previous plot in window_id     \n",
       "  });\n",
       "</script>\n",
       "<div id=\"ad22e8f9-0ec2-4b8a-cb58-13b02c61e1db\"></div>\n"
      ]
     },
     "metadata": {},
     "output_type": "display_data"
    },
    {
     "data": {
      "text/html": [
       "<script type=\"text/javascript\">\n",
       "  $(function() {\n",
       "    $(\"#f4cb1888-616c-45a0-c59e-109620a30fc8\").html('Progress:<br>[8750001 / 11682144] [=============================================>...] ETA: 3 seconds - Batch Loss: 1443389.426898 - Avg. Epoch Loss: 1456093.032983<br>'); // clear any previous plot in window_id     \n",
       "  });\n",
       "</script>\n",
       "<div id=\"60daf47b-a1f6-48c6-c886-53b1d994125d\"></div>\n"
      ]
     },
     "metadata": {},
     "output_type": "display_data"
    },
    {
     "data": {
      "text/html": [
       "<script type=\"text/javascript\">\n",
       "  $(function() {\n",
       "    $(\"#f4cb1888-616c-45a0-c59e-109620a30fc8\").html('Progress:<br>[8760001 / 11682144] [=============================================>...] ETA: 3 seconds - Batch Loss: 1443361.866614 - Avg. Epoch Loss: 1456078.516262<br>'); // clear any previous plot in window_id     \n",
       "  });\n",
       "</script>\n",
       "<div id=\"52817aba-ffeb-4016-c003-7c84f3ae6229\"></div>\n"
      ]
     },
     "metadata": {},
     "output_type": "display_data"
    },
    {
     "data": {
      "text/html": [
       "<script type=\"text/javascript\">\n",
       "  $(function() {\n",
       "    $(\"#f4cb1888-616c-45a0-c59e-109620a30fc8\").html('Progress:<br>[8770001 / 11682144] [=============================================>...] ETA: 3 seconds - Batch Loss: 1443332.174775 - Avg. Epoch Loss: 1456063.998790<br>'); // clear any previous plot in window_id     \n",
       "  });\n",
       "</script>\n",
       "<div id=\"080466f8-7242-4b07-cbcf-30048b439d3b\"></div>\n"
      ]
     },
     "metadata": {},
     "output_type": "display_data"
    },
    {
     "data": {
      "text/html": [
       "<script type=\"text/javascript\">\n",
       "  $(function() {\n",
       "    $(\"#f4cb1888-616c-45a0-c59e-109620a30fc8\").html('Progress:<br>[8780001 / 11682144] [=============================================>...] ETA: 3 seconds - Batch Loss: 1443303.217735 - Avg. Epoch Loss: 1456049.481407<br>'); // clear any previous plot in window_id     \n",
       "  });\n",
       "</script>\n",
       "<div id=\"e84deede-8596-43bb-c359-a34153e2c421\"></div>\n"
      ]
     },
     "metadata": {},
     "output_type": "display_data"
    },
    {
     "data": {
      "text/html": [
       "<script type=\"text/javascript\">\n",
       "  $(function() {\n",
       "    $(\"#f4cb1888-616c-45a0-c59e-109620a30fc8\").html('Progress:<br>[8790001 / 11682144] [==============================================>..] ETA: 2 seconds - Batch Loss: 1443274.877938 - Avg. Epoch Loss: 1456034.964814<br>'); // clear any previous plot in window_id     \n",
       "  });\n",
       "</script>\n",
       "<div id=\"ffe0dc11-bf85-4ca8-ccba-2272308441b2\"></div>\n"
      ]
     },
     "metadata": {},
     "output_type": "display_data"
    },
    {
     "data": {
      "text/html": [
       "<script type=\"text/javascript\">\n",
       "  $(function() {\n",
       "    $(\"#f4cb1888-616c-45a0-c59e-109620a30fc8\").html('Progress:<br>[8800001 / 11682144] [==============================================>..] ETA: 2 seconds - Batch Loss: 1443244.476586 - Avg. Epoch Loss: 1456020.446668<br>'); // clear any previous plot in window_id     \n",
       "  });\n",
       "</script>\n",
       "<div id=\"dcaa53b3-261a-49b8-c919-56667c6ce8bc\"></div>\n"
      ]
     },
     "metadata": {},
     "output_type": "display_data"
    },
    {
     "data": {
      "text/html": [
       "<script type=\"text/javascript\">\n",
       "  $(function() {\n",
       "    $(\"#f4cb1888-616c-45a0-c59e-109620a30fc8\").html('Progress:<br>[8810001 / 11682144] [==============================================>..] ETA: 2 seconds - Batch Loss: 1443215.298895 - Avg. Epoch Loss: 1456005.928361<br>'); // clear any previous plot in window_id     \n",
       "  });\n",
       "</script>\n",
       "<div id=\"7759b528-ee50-4f37-cfd9-2af159bbc4fd\"></div>\n"
      ]
     },
     "metadata": {},
     "output_type": "display_data"
    },
    {
     "data": {
      "text/html": [
       "<script type=\"text/javascript\">\n",
       "  $(function() {\n",
       "    $(\"#f4cb1888-616c-45a0-c59e-109620a30fc8\").html('Progress:<br>[8820001 / 11682144] [==============================================>..] ETA: 2 seconds - Batch Loss: 1443187.941637 - Avg. Epoch Loss: 1455991.411957<br>'); // clear any previous plot in window_id     \n",
       "  });\n",
       "</script>\n",
       "<div id=\"328d0499-74b1-478e-c755-6ef8d41330a8\"></div>\n"
      ]
     },
     "metadata": {},
     "output_type": "display_data"
    },
    {
     "data": {
      "text/html": [
       "<script type=\"text/javascript\">\n",
       "  $(function() {\n",
       "    $(\"#f4cb1888-616c-45a0-c59e-109620a30fc8\").html('Progress:<br>[8830001 / 11682144] [==============================================>..] ETA: 2 seconds - Batch Loss: 1443159.109253 - Avg. Epoch Loss: 1455976.895779<br>'); // clear any previous plot in window_id     \n",
       "  });\n",
       "</script>\n",
       "<div id=\"8077af6c-1277-491d-c928-93e8f7fabd61\"></div>\n"
      ]
     },
     "metadata": {},
     "output_type": "display_data"
    },
    {
     "data": {
      "text/html": [
       "<script type=\"text/javascript\">\n",
       "  $(function() {\n",
       "    $(\"#f4cb1888-616c-45a0-c59e-109620a30fc8\").html('Progress:<br>[8840001 / 11682144] [==============================================>..] ETA: 2 seconds - Batch Loss: 1443128.838625 - Avg. Epoch Loss: 1455962.378202<br>'); // clear any previous plot in window_id     \n",
       "  });\n",
       "</script>\n",
       "<div id=\"7591363a-67ce-4598-c517-e9c0ba7e993e\"></div>\n"
      ]
     },
     "metadata": {},
     "output_type": "display_data"
    },
    {
     "data": {
      "text/html": [
       "<script type=\"text/javascript\">\n",
       "  $(function() {\n",
       "    $(\"#f4cb1888-616c-45a0-c59e-109620a30fc8\").html('Progress:<br>[8850001 / 11682144] [==============================================>..] ETA: 2 seconds - Batch Loss: 1443101.196945 - Avg. Epoch Loss: 1455947.862198<br>'); // clear any previous plot in window_id     \n",
       "  });\n",
       "</script>\n",
       "<div id=\"cb87fa5d-4fbd-4257-c27e-92ca517716a1\"></div>\n"
      ]
     },
     "metadata": {},
     "output_type": "display_data"
    },
    {
     "data": {
      "text/html": [
       "<script type=\"text/javascript\">\n",
       "  $(function() {\n",
       "    $(\"#f4cb1888-616c-45a0-c59e-109620a30fc8\").html('Progress:<br>[8860001 / 11682144] [==============================================>..] ETA: 2 seconds - Batch Loss: 1443072.296075 - Avg. Epoch Loss: 1455933.346341<br>'); // clear any previous plot in window_id     \n",
       "  });\n",
       "</script>\n",
       "<div id=\"b41e661b-7365-49b1-c93f-45cf234b70d7\"></div>\n"
      ]
     },
     "metadata": {},
     "output_type": "display_data"
    },
    {
     "data": {
      "text/html": [
       "<script type=\"text/javascript\">\n",
       "  $(function() {\n",
       "    $(\"#f4cb1888-616c-45a0-c59e-109620a30fc8\").html('Progress:<br>[8870001 / 11682144] [==============================================>..] ETA: 2 seconds - Batch Loss: 1443042.202519 - Avg. Epoch Loss: 1455918.829289<br>'); // clear any previous plot in window_id     \n",
       "  });\n",
       "</script>\n",
       "<div id=\"9ca69171-d9aa-4095-c0d1-6daac04fac64\"></div>\n"
      ]
     },
     "metadata": {},
     "output_type": "display_data"
    },
    {
     "data": {
      "text/html": [
       "<script type=\"text/javascript\">\n",
       "  $(function() {\n",
       "    $(\"#f4cb1888-616c-45a0-c59e-109620a30fc8\").html('Progress:<br>[8880001 / 11682144] [==============================================>..] ETA: 2 seconds - Batch Loss: 1443015.164577 - Avg. Epoch Loss: 1455904.314482<br>'); // clear any previous plot in window_id     \n",
       "  });\n",
       "</script>\n",
       "<div id=\"8a9ae6de-5791-4a10-ca64-3357cbc84661\"></div>\n"
      ]
     },
     "metadata": {},
     "output_type": "display_data"
    },
    {
     "data": {
      "text/html": [
       "<script type=\"text/javascript\">\n",
       "  $(function() {\n",
       "    $(\"#f4cb1888-616c-45a0-c59e-109620a30fc8\").html('Progress:<br>[8890001 / 11682144] [==============================================>..] ETA: 2 seconds - Batch Loss: 1442985.916719 - Avg. Epoch Loss: 1455889.799430<br>'); // clear any previous plot in window_id     \n",
       "  });\n",
       "</script>\n",
       "<div id=\"5d4be6b4-0a0f-4f85-cf87-97df2d4defd3\"></div>\n"
      ]
     },
     "metadata": {},
     "output_type": "display_data"
    },
    {
     "data": {
      "text/html": [
       "<script type=\"text/javascript\">\n",
       "  $(function() {\n",
       "    $(\"#f4cb1888-616c-45a0-c59e-109620a30fc8\").html('Progress:<br>[8900001 / 11682144] [==============================================>..] ETA: 2 seconds - Batch Loss: 1442957.827157 - Avg. Epoch Loss: 1455875.285434<br>'); // clear any previous plot in window_id     \n",
       "  });\n",
       "</script>\n",
       "<div id=\"7458b7d3-d754-443b-c4d4-3b9793936ad6\"></div>\n"
      ]
     },
     "metadata": {},
     "output_type": "display_data"
    },
    {
     "data": {
      "text/html": [
       "<script type=\"text/javascript\">\n",
       "  $(function() {\n",
       "    $(\"#f4cb1888-616c-45a0-c59e-109620a30fc8\").html('Progress:<br>[8910001 / 11682144] [==============================================>..] ETA: 2 seconds - Batch Loss: 1442928.374776 - Avg. Epoch Loss: 1455860.770961<br>'); // clear any previous plot in window_id     \n",
       "  });\n",
       "</script>\n",
       "<div id=\"48872d45-50be-4938-c987-f9f57a98378e\"></div>\n"
      ]
     },
     "metadata": {},
     "output_type": "display_data"
    },
    {
     "data": {
      "text/html": [
       "<script type=\"text/javascript\">\n",
       "  $(function() {\n",
       "    $(\"#f4cb1888-616c-45a0-c59e-109620a30fc8\").html('Progress:<br>[8920001 / 11682144] [==============================================>..] ETA: 2 seconds - Batch Loss: 1442897.680667 - Avg. Epoch Loss: 1455846.254624<br>'); // clear any previous plot in window_id     \n",
       "  });\n",
       "</script>\n",
       "<div id=\"d6536efc-fc25-449f-c4e0-557d7adc25b5\"></div>\n"
      ]
     },
     "metadata": {},
     "output_type": "display_data"
    },
    {
     "data": {
      "text/html": [
       "<script type=\"text/javascript\">\n",
       "  $(function() {\n",
       "    $(\"#f4cb1888-616c-45a0-c59e-109620a30fc8\").html('Progress:<br>[8930001 / 11682144] [==============================================>..] ETA: 2 seconds - Batch Loss: 1442870.071327 - Avg. Epoch Loss: 1455831.739880<br>'); // clear any previous plot in window_id     \n",
       "  });\n",
       "</script>\n",
       "<div id=\"7419dd80-41c6-43ff-c3f9-be1cc7237f62\"></div>\n"
      ]
     },
     "metadata": {},
     "output_type": "display_data"
    },
    {
     "data": {
      "text/html": [
       "<script type=\"text/javascript\">\n",
       "  $(function() {\n",
       "    $(\"#f4cb1888-616c-45a0-c59e-109620a30fc8\").html('Progress:<br>[8940001 / 11682144] [==============================================>..] ETA: 2 seconds - Batch Loss: 1442842.319768 - Avg. Epoch Loss: 1455817.226563<br>'); // clear any previous plot in window_id     \n",
       "  });\n",
       "</script>\n",
       "<div id=\"45072ede-619d-4521-c5db-0881bd9913fd\"></div>\n"
      ]
     },
     "metadata": {},
     "output_type": "display_data"
    },
    {
     "data": {
      "text/html": [
       "<script type=\"text/javascript\">\n",
       "  $(function() {\n",
       "    $(\"#f4cb1888-616c-45a0-c59e-109620a30fc8\").html('Progress:<br>[8950001 / 11682144] [==============================================>..] ETA: 2 seconds - Batch Loss: 1442812.297273 - Avg. Epoch Loss: 1455802.712134<br>'); // clear any previous plot in window_id     \n",
       "  });\n",
       "</script>\n",
       "<div id=\"377ca615-f2de-46e4-c627-6d7eed7473a3\"></div>\n"
      ]
     },
     "metadata": {},
     "output_type": "display_data"
    },
    {
     "data": {
      "text/html": [
       "<script type=\"text/javascript\">\n",
       "  $(function() {\n",
       "    $(\"#f4cb1888-616c-45a0-c59e-109620a30fc8\").html('Progress:<br>[8960001 / 11682144] [==============================================>..] ETA: 2 seconds - Batch Loss: 1442783.630386 - Avg. Epoch Loss: 1455788.198110<br>'); // clear any previous plot in window_id     \n",
       "  });\n",
       "</script>\n",
       "<div id=\"b02624e1-74be-459e-c598-ecf6507c6429\"></div>\n"
      ]
     },
     "metadata": {},
     "output_type": "display_data"
    },
    {
     "data": {
      "text/html": [
       "<script type=\"text/javascript\">\n",
       "  $(function() {\n",
       "    $(\"#f4cb1888-616c-45a0-c59e-109620a30fc8\").html('Progress:<br>[8970001 / 11682144] [==============================================>..] ETA: 2 seconds - Batch Loss: 1442755.101001 - Avg. Epoch Loss: 1455773.684640<br>'); // clear any previous plot in window_id     \n",
       "  });\n",
       "</script>\n",
       "<div id=\"2231e686-ed53-4fb0-cf40-64ab9c2d8743\"></div>\n"
      ]
     },
     "metadata": {},
     "output_type": "display_data"
    },
    {
     "data": {
      "text/html": [
       "<script type=\"text/javascript\">\n",
       "  $(function() {\n",
       "    $(\"#f4cb1888-616c-45a0-c59e-109620a30fc8\").html('Progress:<br>[8980001 / 11682144] [===============================================>.] ETA: 1 seconds - Batch Loss: 1442724.965024 - Avg. Epoch Loss: 1455759.169937<br>'); // clear any previous plot in window_id     \n",
       "  });\n",
       "</script>\n",
       "<div id=\"7eb0a813-fda4-4c37-ccf9-04703e059f38\"></div>\n"
      ]
     },
     "metadata": {},
     "output_type": "display_data"
    },
    {
     "data": {
      "text/html": [
       "<script type=\"text/javascript\">\n",
       "  $(function() {\n",
       "    $(\"#f4cb1888-616c-45a0-c59e-109620a30fc8\").html('Progress:<br>[8990001 / 11682144] [===============================================>.] ETA: 1 seconds - Batch Loss: 1442695.958222 - Avg. Epoch Loss: 1455744.655259<br>'); // clear any previous plot in window_id     \n",
       "  });\n",
       "</script>\n",
       "<div id=\"e33b8f21-bbd2-4bb2-cba8-7187b01fbb8a\"></div>\n"
      ]
     },
     "metadata": {},
     "output_type": "display_data"
    },
    {
     "data": {
      "text/html": [
       "<script type=\"text/javascript\">\n",
       "  $(function() {\n",
       "    $(\"#f4cb1888-616c-45a0-c59e-109620a30fc8\").html('Progress:<br>[9000001 / 11682144] [===============================================>.] ETA: 1 seconds - Batch Loss: 1442666.975201 - Avg. Epoch Loss: 1455730.140632<br>'); // clear any previous plot in window_id     \n",
       "  });\n",
       "</script>\n",
       "<div id=\"2a2fa1d5-5520-4a98-ca9d-68101a8f9ae5\"></div>\n"
      ]
     },
     "metadata": {},
     "output_type": "display_data"
    },
    {
     "data": {
      "text/html": [
       "<script type=\"text/javascript\">\n",
       "  $(function() {\n",
       "    $(\"#f4cb1888-616c-45a0-c59e-109620a30fc8\").html('Progress:<br>[9010001 / 11682144] [===============================================>.] ETA: 1 seconds - Batch Loss: 1442640.210544 - Avg. Epoch Loss: 1455715.628516<br>'); // clear any previous plot in window_id     \n",
       "  });\n",
       "</script>\n",
       "<div id=\"b19105c3-0237-4b80-cbe7-2b8bc4c8f364\"></div>\n"
      ]
     },
     "metadata": {},
     "output_type": "display_data"
    },
    {
     "data": {
      "text/html": [
       "<script type=\"text/javascript\">\n",
       "  $(function() {\n",
       "    $(\"#f4cb1888-616c-45a0-c59e-109620a30fc8\").html('Progress:<br>[9020001 / 11682144] [===============================================>.] ETA: 1 seconds - Batch Loss: 1442609.688349 - Avg. Epoch Loss: 1455701.114741<br>'); // clear any previous plot in window_id     \n",
       "  });\n",
       "</script>\n",
       "<div id=\"b3eb5756-e687-4dee-cd0b-b293bff08ea4\"></div>\n"
      ]
     },
     "metadata": {},
     "output_type": "display_data"
    },
    {
     "data": {
      "text/html": [
       "<script type=\"text/javascript\">\n",
       "  $(function() {\n",
       "    $(\"#f4cb1888-616c-45a0-c59e-109620a30fc8\").html('Progress:<br>[9030001 / 11682144] [===============================================>.] ETA: 1 seconds - Batch Loss: 1442581.776763 - Avg. Epoch Loss: 1455686.602201<br>'); // clear any previous plot in window_id     \n",
       "  });\n",
       "</script>\n",
       "<div id=\"ed6d087b-f1ff-4a87-caf0-9a010dd523ec\"></div>\n"
      ]
     },
     "metadata": {},
     "output_type": "display_data"
    },
    {
     "data": {
      "text/html": [
       "<script type=\"text/javascript\">\n",
       "  $(function() {\n",
       "    $(\"#f4cb1888-616c-45a0-c59e-109620a30fc8\").html('Progress:<br>[9040001 / 11682144] [===============================================>.] ETA: 1 seconds - Batch Loss: 1442552.053095 - Avg. Epoch Loss: 1455672.088888<br>'); // clear any previous plot in window_id     \n",
       "  });\n",
       "</script>\n",
       "<div id=\"1c9a802e-4831-4b06-cb79-f584bd6418c5\"></div>\n"
      ]
     },
     "metadata": {},
     "output_type": "display_data"
    },
    {
     "data": {
      "text/html": [
       "<script type=\"text/javascript\">\n",
       "  $(function() {\n",
       "    $(\"#f4cb1888-616c-45a0-c59e-109620a30fc8\").html('Progress:<br>[9050001 / 11682144] [===============================================>.] ETA: 1 seconds - Batch Loss: 1442523.548593 - Avg. Epoch Loss: 1455657.576152<br>'); // clear any previous plot in window_id     \n",
       "  });\n",
       "</script>\n",
       "<div id=\"cdeef580-3139-451e-c5c6-edcb6affd18e\"></div>\n"
      ]
     },
     "metadata": {},
     "output_type": "display_data"
    },
    {
     "data": {
      "text/html": [
       "<script type=\"text/javascript\">\n",
       "  $(function() {\n",
       "    $(\"#f4cb1888-616c-45a0-c59e-109620a30fc8\").html('Progress:<br>[9060001 / 11682144] [===============================================>.] ETA: 1 seconds - Batch Loss: 1442494.191985 - Avg. Epoch Loss: 1455643.063051<br>'); // clear any previous plot in window_id     \n",
       "  });\n",
       "</script>\n",
       "<div id=\"ac98e5f0-bcff-4439-c48b-1468d86c745f\"></div>\n"
      ]
     },
     "metadata": {},
     "output_type": "display_data"
    },
    {
     "data": {
      "text/html": [
       "<script type=\"text/javascript\">\n",
       "  $(function() {\n",
       "    $(\"#f4cb1888-616c-45a0-c59e-109620a30fc8\").html('Progress:<br>[9070001 / 11682144] [===============================================>.] ETA: 1 seconds - Batch Loss: 1442465.073907 - Avg. Epoch Loss: 1455628.549849<br>'); // clear any previous plot in window_id     \n",
       "  });\n",
       "</script>\n",
       "<div id=\"acbafe74-37a9-42bf-c224-ea83e16d5efb\"></div>\n"
      ]
     },
     "metadata": {},
     "output_type": "display_data"
    },
    {
     "data": {
      "text/html": [
       "<script type=\"text/javascript\">\n",
       "  $(function() {\n",
       "    $(\"#f4cb1888-616c-45a0-c59e-109620a30fc8\").html('Progress:<br>[9080001 / 11682144] [===============================================>.] ETA: 1 seconds - Batch Loss: 1442435.576547 - Avg. Epoch Loss: 1455614.036129<br>'); // clear any previous plot in window_id     \n",
       "  });\n",
       "</script>\n",
       "<div id=\"298912af-e894-45fe-c54d-9e12c7f0a803\"></div>\n"
      ]
     },
     "metadata": {},
     "output_type": "display_data"
    },
    {
     "data": {
      "text/html": [
       "<script type=\"text/javascript\">\n",
       "  $(function() {\n",
       "    $(\"#f4cb1888-616c-45a0-c59e-109620a30fc8\").html('Progress:<br>[9090001 / 11682144] [===============================================>.] ETA: 1 seconds - Batch Loss: 1442406.739025 - Avg. Epoch Loss: 1455599.522617<br>'); // clear any previous plot in window_id     \n",
       "  });\n",
       "</script>\n",
       "<div id=\"69c23951-74ba-4dc4-cd20-0b9637f68e7b\"></div>\n"
      ]
     },
     "metadata": {},
     "output_type": "display_data"
    },
    {
     "data": {
      "text/html": [
       "<script type=\"text/javascript\">\n",
       "  $(function() {\n",
       "    $(\"#f4cb1888-616c-45a0-c59e-109620a30fc8\").html('Progress:<br>[9100001 / 11682144] [===============================================>.] ETA: 1 seconds - Batch Loss: 1442377.767331 - Avg. Epoch Loss: 1455585.009166<br>'); // clear any previous plot in window_id     \n",
       "  });\n",
       "</script>\n",
       "<div id=\"7ab259a6-c9a7-40ce-c02f-b041151c0b07\"></div>\n"
      ]
     },
     "metadata": {},
     "output_type": "display_data"
    },
    {
     "data": {
      "text/html": [
       "<script type=\"text/javascript\">\n",
       "  $(function() {\n",
       "    $(\"#f4cb1888-616c-45a0-c59e-109620a30fc8\").html('Progress:<br>[9110001 / 11682144] [===============================================>.] ETA: 1 seconds - Batch Loss: 1442349.538767 - Avg. Epoch Loss: 1455570.496590<br>'); // clear any previous plot in window_id     \n",
       "  });\n",
       "</script>\n",
       "<div id=\"2e01a3bd-19d2-41e0-c1d1-513d17da6c25\"></div>\n"
      ]
     },
     "metadata": {},
     "output_type": "display_data"
    },
    {
     "data": {
      "text/html": [
       "<script type=\"text/javascript\">\n",
       "  $(function() {\n",
       "    $(\"#f4cb1888-616c-45a0-c59e-109620a30fc8\").html('Progress:<br>[9120001 / 11682144] [===============================================>.] ETA: 1 seconds - Batch Loss: 1442321.788731 - Avg. Epoch Loss: 1455555.985411<br>'); // clear any previous plot in window_id     \n",
       "  });\n",
       "</script>\n",
       "<div id=\"dd283a94-3e60-46da-c6b4-c90d332e5f65\"></div>\n"
      ]
     },
     "metadata": {},
     "output_type": "display_data"
    },
    {
     "data": {
      "text/html": [
       "<script type=\"text/javascript\">\n",
       "  $(function() {\n",
       "    $(\"#f4cb1888-616c-45a0-c59e-109620a30fc8\").html('Progress:<br>[9130001 / 11682144] [===============================================>.] ETA: 1 seconds - Batch Loss: 1442293.730580 - Avg. Epoch Loss: 1455541.475287<br>'); // clear any previous plot in window_id     \n",
       "  });\n",
       "</script>\n",
       "<div id=\"070759d6-e2cd-4898-c861-9ab957c34e07\"></div>\n"
      ]
     },
     "metadata": {},
     "output_type": "display_data"
    },
    {
     "data": {
      "text/html": [
       "<script type=\"text/javascript\">\n",
       "  $(function() {\n",
       "    $(\"#f4cb1888-616c-45a0-c59e-109620a30fc8\").html('Progress:<br>[9140001 / 11682144] [===============================================>.] ETA: 1 seconds - Batch Loss: 1442265.052471 - Avg. Epoch Loss: 1455526.965537<br>'); // clear any previous plot in window_id     \n",
       "  });\n",
       "</script>\n",
       "<div id=\"9013cf51-de57-478b-c7d0-d7a1fb06b0c6\"></div>\n"
      ]
     },
     "metadata": {},
     "output_type": "display_data"
    },
    {
     "data": {
      "text/html": [
       "<script type=\"text/javascript\">\n",
       "  $(function() {\n",
       "    $(\"#f4cb1888-616c-45a0-c59e-109620a30fc8\").html('Progress:<br>[9150001 / 11682144] [===============================================>.] ETA: 1 seconds - Batch Loss: 1442234.081423 - Avg. Epoch Loss: 1455512.453657<br>'); // clear any previous plot in window_id     \n",
       "  });\n",
       "</script>\n",
       "<div id=\"06637d07-cab5-409f-c0ab-39c8092c14dc\"></div>\n"
      ]
     },
     "metadata": {},
     "output_type": "display_data"
    },
    {
     "data": {
      "text/html": [
       "<script type=\"text/javascript\">\n",
       "  $(function() {\n",
       "    $(\"#f4cb1888-616c-45a0-c59e-109620a30fc8\").html('Progress:<br>[9160001 / 11682144] [================================================>] ETA: 0 seconds - Batch Loss: 1442207.098558 - Avg. Epoch Loss: 1455497.944002<br>'); // clear any previous plot in window_id     \n",
       "  });\n",
       "</script>\n",
       "<div id=\"391bca19-5369-4b7d-cbbb-ca85a0558f75\"></div>\n"
      ]
     },
     "metadata": {},
     "output_type": "display_data"
    },
    {
     "data": {
      "text/html": [
       "<script type=\"text/javascript\">\n",
       "  $(function() {\n",
       "    $(\"#f4cb1888-616c-45a0-c59e-109620a30fc8\").html('Progress:<br>[9170001 / 11682144] [================================================>] ETA: 0 seconds - Batch Loss: 1442177.655739 - Avg. Epoch Loss: 1455483.433885<br>'); // clear any previous plot in window_id     \n",
       "  });\n",
       "</script>\n",
       "<div id=\"d2c6d21a-176d-45ef-c57d-543486011563\"></div>\n"
      ]
     },
     "metadata": {},
     "output_type": "display_data"
    },
    {
     "data": {
      "text/html": [
       "<script type=\"text/javascript\">\n",
       "  $(function() {\n",
       "    $(\"#f4cb1888-616c-45a0-c59e-109620a30fc8\").html('Progress:<br>[9180001 / 11682144] [================================================>] ETA: 0 seconds - Batch Loss: 1442148.607586 - Avg. Epoch Loss: 1455468.923738<br>'); // clear any previous plot in window_id     \n",
       "  });\n",
       "</script>\n",
       "<div id=\"42804d92-5334-45ce-c58f-a947737a8c0f\"></div>\n"
      ]
     },
     "metadata": {},
     "output_type": "display_data"
    },
    {
     "data": {
      "text/html": [
       "<script type=\"text/javascript\">\n",
       "  $(function() {\n",
       "    $(\"#f4cb1888-616c-45a0-c59e-109620a30fc8\").html('Progress:<br>[9190001 / 11682144] [================================================>] ETA: 0 seconds - Batch Loss: 1442118.274437 - Avg. Epoch Loss: 1455454.412165<br>'); // clear any previous plot in window_id     \n",
       "  });\n",
       "</script>\n",
       "<div id=\"e599105b-fe9f-4bd6-cbfe-e3cbd707f28b\"></div>\n"
      ]
     },
     "metadata": {},
     "output_type": "display_data"
    },
    {
     "data": {
      "text/html": [
       "<script type=\"text/javascript\">\n",
       "  $(function() {\n",
       "    $(\"#f4cb1888-616c-45a0-c59e-109620a30fc8\").html('Progress:<br>[9200001 / 11682144] [================================================>] ETA: 0 seconds - Batch Loss: 1442090.138268 - Avg. Epoch Loss: 1455439.901554<br>'); // clear any previous plot in window_id     \n",
       "  });\n",
       "</script>\n",
       "<div id=\"1f59d71a-a017-456e-c5df-9a2e2a96e5f1\"></div>\n"
      ]
     },
     "metadata": {},
     "output_type": "display_data"
    },
    {
     "data": {
      "text/html": [
       "<script type=\"text/javascript\">\n",
       "  $(function() {\n",
       "    $(\"#f4cb1888-616c-45a0-c59e-109620a30fc8\").html('Progress:<br>[9210001 / 11682144] [================================================>] ETA: 0 seconds - Batch Loss: 1442061.231550 - Avg. Epoch Loss: 1455425.391067<br>'); // clear any previous plot in window_id     \n",
       "  });\n",
       "</script>\n",
       "<div id=\"e3eef814-2cb3-43dc-c33e-b9a8d61fa67f\"></div>\n"
      ]
     },
     "metadata": {},
     "output_type": "display_data"
    },
    {
     "data": {
      "text/html": [
       "<script type=\"text/javascript\">\n",
       "  $(function() {\n",
       "    $(\"#f4cb1888-616c-45a0-c59e-109620a30fc8\").html('Progress:<br>[9220001 / 11682144] [================================================>] ETA: 0 seconds - Batch Loss: 1442033.748126 - Avg. Epoch Loss: 1455410.882247<br>'); // clear any previous plot in window_id     \n",
       "  });\n",
       "</script>\n",
       "<div id=\"8e10f8c0-b46c-46a5-c66f-aeca4ed3e81a\"></div>\n"
      ]
     },
     "metadata": {},
     "output_type": "display_data"
    },
    {
     "data": {
      "text/html": [
       "<script type=\"text/javascript\">\n",
       "  $(function() {\n",
       "    $(\"#f4cb1888-616c-45a0-c59e-109620a30fc8\").html('Progress:<br>[9230001 / 11682144] [================================================>] ETA: 0 seconds - Batch Loss: 1442003.213260 - Avg. Epoch Loss: 1455396.371784<br>'); // clear any previous plot in window_id     \n",
       "  });\n",
       "</script>\n",
       "<div id=\"121dd141-021e-47cc-c7c5-2012ef884e05\"></div>\n"
      ]
     },
     "metadata": {},
     "output_type": "display_data"
    },
    {
     "data": {
      "text/html": [
       "<script type=\"text/javascript\">\n",
       "  $(function() {\n",
       "    $(\"#f4cb1888-616c-45a0-c59e-109620a30fc8\").html('Progress:<br>[9240001 / 11682144] [================================================>] ETA: 0 seconds - Batch Loss: 1441974.590085 - Avg. Epoch Loss: 1455381.861751<br>'); // clear any previous plot in window_id     \n",
       "  });\n",
       "</script>\n",
       "<div id=\"ead5676e-079d-46af-c69c-f8d2fa9b8699\"></div>\n"
      ]
     },
     "metadata": {},
     "output_type": "display_data"
    },
    {
     "data": {
      "text/html": [
       "<script type=\"text/javascript\">\n",
       "  $(function() {\n",
       "    $(\"#f4cb1888-616c-45a0-c59e-109620a30fc8\").html('Progress:<br>[9250001 / 11682144] [================================================>] ETA: 0 seconds - Batch Loss: 1441945.490902 - Avg. Epoch Loss: 1455367.351633<br>'); // clear any previous plot in window_id     \n",
       "  });\n",
       "</script>\n",
       "<div id=\"3d2d77fb-ad0a-44c7-c4df-7adb87134210\"></div>\n"
      ]
     },
     "metadata": {},
     "output_type": "display_data"
    },
    {
     "data": {
      "text/html": [
       "<script type=\"text/javascript\">\n",
       "  $(function() {\n",
       "    $(\"#f4cb1888-616c-45a0-c59e-109620a30fc8\").html('Progress:<br>[9260001 / 11682144] [================================================>] ETA: 0 seconds - Batch Loss: 1441917.210437 - Avg. Epoch Loss: 1455352.842313<br>'); // clear any previous plot in window_id     \n",
       "  });\n",
       "</script>\n",
       "<div id=\"4eff00b1-8071-44d1-c4fc-d05c709785f8\"></div>\n"
      ]
     },
     "metadata": {},
     "output_type": "display_data"
    },
    {
     "data": {
      "text/html": [
       "<script type=\"text/javascript\">\n",
       "  $(function() {\n",
       "    $(\"#f4cb1888-616c-45a0-c59e-109620a30fc8\").html('Progress:<br>[9270001 / 11682144] [================================================>] ETA: 0 seconds - Batch Loss: 1441888.750305 - Avg. Epoch Loss: 1455338.333595<br>'); // clear any previous plot in window_id     \n",
       "  });\n",
       "</script>\n",
       "<div id=\"3f2cf48d-87bb-442e-c4b2-4205f483091d\"></div>\n"
      ]
     },
     "metadata": {},
     "output_type": "display_data"
    },
    {
     "data": {
      "text/html": [
       "<script type=\"text/javascript\">\n",
       "  $(function() {\n",
       "    $(\"#f4cb1888-616c-45a0-c59e-109620a30fc8\").html('Progress:<br>[9280001 / 11682144] [================================================>] ETA: 0 seconds - Batch Loss: 1441861.085759 - Avg. Epoch Loss: 1455323.826333<br>'); // clear any previous plot in window_id     \n",
       "  });\n",
       "</script>\n",
       "<div id=\"007520a5-e64c-42cd-c205-5b2490481a1b\"></div>\n"
      ]
     },
     "metadata": {},
     "output_type": "display_data"
    },
    {
     "data": {
      "text/html": [
       "<script type=\"text/javascript\">\n",
       "  $(function() {\n",
       "    $(\"#f4cb1888-616c-45a0-c59e-109620a30fc8\").html('Progress:<br>[9290001 / 11682144] [================================================>] ETA: 0 seconds - Batch Loss: 1441831.404195 - Avg. Epoch Loss: 1455309.318354<br>'); // clear any previous plot in window_id     \n",
       "  });\n",
       "</script>\n",
       "<div id=\"7f0db0ec-5931-4896-c832-bd792eaaaa5b\"></div>\n"
      ]
     },
     "metadata": {},
     "output_type": "display_data"
    },
    {
     "data": {
      "text/html": [
       "<script type=\"text/javascript\">\n",
       "  $(function() {\n",
       "    $(\"#f4cb1888-616c-45a0-c59e-109620a30fc8\").html('Progress:<br>[9300001 / 11682144] [================================================>] ETA: 0 seconds - Batch Loss: 1441802.314442 - Avg. Epoch Loss: 1455294.810295<br>'); // clear any previous plot in window_id     \n",
       "  });\n",
       "</script>\n",
       "<div id=\"4fbb2cbb-ea4f-45f7-c5dc-8d040b88ee57\"></div>\n"
      ]
     },
     "metadata": {},
     "output_type": "display_data"
    },
    {
     "data": {
      "text/html": [
       "<script type=\"text/javascript\">\n",
       "  $(function() {\n",
       "    $(\"#f4cb1888-616c-45a0-c59e-109620a30fc8\").html('Progress:<br>[9310001 / 11682144] [================================================>] ETA: 0 seconds - Batch Loss: 1441774.553717 - Avg. Epoch Loss: 1455280.303584<br>'); // clear any previous plot in window_id     \n",
       "  });\n",
       "</script>\n",
       "<div id=\"60ab6674-a034-45df-c55b-7e204e27a19c\"></div>\n"
      ]
     },
     "metadata": {},
     "output_type": "display_data"
    },
    {
     "data": {
      "text/html": [
       "<script type=\"text/javascript\">\n",
       "  $(function() {\n",
       "    $(\"#f4cb1888-616c-45a0-c59e-109620a30fc8\").html('Progress:<br>[9320001 / 11682144] [================================================>] ETA: 0 seconds - Batch Loss: 1441746.199632 - Avg. Epoch Loss: 1455265.797579<br>'); // clear any previous plot in window_id     \n",
       "  });\n",
       "</script>\n",
       "<div id=\"2dd573e1-2fb6-4e8d-ceed-a6b910b2fc48\"></div>\n"
      ]
     },
     "metadata": {},
     "output_type": "display_data"
    },
    {
     "data": {
      "text/html": [
       "<script type=\"text/javascript\">\n",
       "  $(function() {\n",
       "    $(\"#f4cb1888-616c-45a0-c59e-109620a30fc8\").html('Progress:<br>[9330001 / 11682144] [================================================>] ETA: 0 seconds - Batch Loss: 1441715.624904 - Avg. Epoch Loss: 1455251.289901<br>'); // clear any previous plot in window_id     \n",
       "  });\n",
       "</script>\n",
       "<div id=\"83ab82bc-e11d-4ba0-cb36-6a581fc1bfbc\"></div>\n"
      ]
     },
     "metadata": {},
     "output_type": "display_data"
    },
    {
     "data": {
      "text/html": [
       "<script type=\"text/javascript\">\n",
       "  $(function() {\n",
       "    $(\"#f4cb1888-616c-45a0-c59e-109620a30fc8\").html('Progress:<br>[9340001 / 11682144] [================================================>] ETA: 0 seconds - Batch Loss: 1441687.216191 - Avg. Epoch Loss: 1455236.782872<br>'); // clear any previous plot in window_id     \n",
       "  });\n",
       "</script>\n",
       "<div id=\"3545d4a7-f0d4-45ff-c5df-f241ea8ec4ed\"></div>\n"
      ]
     },
     "metadata": {},
     "output_type": "display_data"
    },
    {
     "data": {
      "text/html": [
       "<script type=\"text/javascript\">\n",
       "  $(function() {\n",
       "    $(\"#f4cb1888-616c-45a0-c59e-109620a30fc8\").html('Progress:<br>Epoch 1 completed in 44 seconds with training avg loss 145.52367829.<br>Validation loss 1.32249999.<br>'); // clear any previous plot in window_id     \n",
       "  });\n",
       "</script>\n",
       "<div id=\"7fbf3ca1-7228-4758-c796-f9cac018c258\"></div>\n"
      ]
     },
     "metadata": {},
     "output_type": "display_data"
    },
    {
     "ename": "[string \"-- function for useful plotting interface...\"]:121: attempt to call global 'Plot' (a nil value)\nstack traceback:\n\t[string \"-- function for useful plotting interface...\"]:121: in function 'f'\n\t[string \"local f = function() return smart_trainer(ntm...\"]:5: in main chunk\n\t[C]: in function 'xpcall'\n\t/usr/local/share/lua/5.1/itorch/main.lua:179: in function </usr/local/share/lua/5.1/itorch/main.lua:143>\n\t/usr/local/share/lua/5.1/lzmq/poller.lua:75: in function 'poll'\n\t/usr/local/share/lua/5.1/lzmq/impl/loop.lua:307: in function 'poll'\n\t/usr/local/share/lua/5.1/lzmq/impl/loop.lua:325: in function 'sleep_ex'\n\t/usr/local/share/lua/5.1/lzmq/impl/loop.lua:370: in function 'start'\n\t/usr/local/share/lua/5.1/itorch/main.lua:350: in main chunk\n\t[C]: in function 'require'\n\t(command line):1: in main chunk\n\t[C]: at 0x010ee74b70",
     "evalue": "",
     "output_type": "error",
     "traceback": [
      "[string \"-- function for useful plotting interface...\"]:121: attempt to call global 'Plot' (a nil value)\nstack traceback:\n\t[string \"-- function for useful plotting interface...\"]:121: in function 'f'\n\t[string \"local f = function() return smart_trainer(ntm...\"]:5: in main chunk\n\t[C]: in function 'xpcall'\n\t/usr/local/share/lua/5.1/itorch/main.lua:179: in function </usr/local/share/lua/5.1/itorch/main.lua:143>\n\t/usr/local/share/lua/5.1/lzmq/poller.lua:75: in function 'poll'\n\t/usr/local/share/lua/5.1/lzmq/impl/loop.lua:307: in function 'poll'\n\t/usr/local/share/lua/5.1/lzmq/impl/loop.lua:325: in function 'sleep_ex'\n\t/usr/local/share/lua/5.1/lzmq/impl/loop.lua:370: in function 'start'\n\t/usr/local/share/lua/5.1/itorch/main.lua:350: in main chunk\n\t[C]: in function 'require'\n\t(command line):1: in main chunk\n\t[C]: at 0x010ee74b70"
     ]
    }
   ],
   "source": [
    "smart_trainer(ntm, loss_out,\n",
    "        input_data, nil,\n",
    "        10000, 0.2, false, 500, \n",
    "        optim.sgd, {learningRate = 0.01}, \n",
    "        0, 0.001, false)"
   ]
  },
  {
   "cell_type": "code",
   "execution_count": null,
   "metadata": {
    "collapsed": false
   },
   "outputs": [],
   "source": [
    "collectgarbage()"
   ]
  },
  {
   "cell_type": "code",
   "execution_count": null,
   "metadata": {
    "collapsed": false
   },
   "outputs": [],
   "source": [
    "input_data:shuffle(10)"
   ]
  },
  {
   "cell_type": "code",
   "execution_count": null,
   "metadata": {
    "collapsed": false
   },
   "outputs": [],
   "source": [
    "this_batch, targets = input_data:next_batch(10)"
   ]
  },
  {
   "cell_type": "code",
   "execution_count": null,
   "metadata": {
    "collapsed": false
   },
   "outputs": [],
   "source": [
    "this_batch"
   ]
  },
  {
   "cell_type": "code",
   "execution_count": null,
   "metadata": {
    "collapsed": false
   },
   "outputs": [],
   "source": [
    "prediction = ntm:forward(this_batch)"
   ]
  },
  {
   "cell_type": "code",
   "execution_count": null,
   "metadata": {
    "collapsed": false
   },
   "outputs": [],
   "source": [
    "prediction"
   ]
  },
  {
   "cell_type": "code",
   "execution_count": null,
   "metadata": {
    "collapsed": false
   },
   "outputs": [],
   "source": [
    "prediction = ntm:forward({torch.LongTensor{{1},{2}}, torch.LongTensor{{1,2},{3,4}}})"
   ]
  },
  {
   "cell_type": "code",
   "execution_count": null,
   "metadata": {
    "collapsed": false
   },
   "outputs": [],
   "source": [
    "torch.LongTensor{{1},{2}}:dim()"
   ]
  },
  {
   "cell_type": "code",
   "execution_count": null,
   "metadata": {
    "collapsed": false
   },
   "outputs": [],
   "source": [
    "test = ld_1:forward(torch.LongTensor{{1,2},{2,3}, {4,6}})"
   ]
  },
  {
   "cell_type": "code",
   "execution_count": null,
   "metadata": {
    "collapsed": false
   },
   "outputs": [],
   "source": [
    "test2 = nn.Reshape(2,40,true):forward(test:type('torch.DoubleTensor'))"
   ]
  },
  {
   "cell_type": "code",
   "execution_count": null,
   "metadata": {
    "collapsed": false
   },
   "outputs": [],
   "source": [
    "nn.SplitTable(2,3):forward(test2)"
   ]
  },
  {
   "cell_type": "code",
   "execution_count": null,
   "metadata": {
    "collapsed": false
   },
   "outputs": [],
   "source": [
    "this_g = le_start:forward(this_batch[1])\n",
    "this_lef = nn.Reshape(le_in:size()[2], true):forward(this_g:type('torch.DoubleTensor'))\n",
    "this_lt1 = lt1:forward(this_lef)\n",
    "this_lt = nn.Sigmoid():forward(this_lt1)"
   ]
  },
  {
   "cell_type": "code",
   "execution_count": null,
   "metadata": {
    "collapsed": false
   },
   "outputs": [],
   "source": [
    "this_ld1 = ld_1:forward(this_batch[2]) \n",
    "this_ldb = nn.SoftMax():forward(this_ld1)\n",
    "this_ldf = nn.Reshape(2,pre_w1:size()[2],true):forward(this_ldb)\n",
    "this_lds = nn.SplitTable(2,3):forward(this_ldf)"
   ]
  },
  {
   "cell_type": "code",
   "execution_count": null,
   "metadata": {
    "collapsed": false
   },
   "outputs": [],
   "source": [
    "nn.MM(false,true):forward({torch.DoubleTensor{{1,2,3},{7,8,9}},torch.DoubleTensor{{3,4,5}, {6,7,8}}})"
   ]
  },
  {
   "cell_type": "code",
   "execution_count": null,
   "metadata": {
    "collapsed": true
   },
   "outputs": [],
   "source": [
    "input1 = torch.DoubleTensor{{1,2,3},{7,8,9}}\n",
    "input2 = torch.DoubleTensor{{3,4,5}, {6,7,8}}\n",
    "buffer = input1:new()"
   ]
  },
  {
   "cell_type": "code",
   "execution_count": null,
   "metadata": {
    "collapsed": false
   },
   "outputs": [],
   "source": [
    "buffer:cmul(input1, input2):sum(1)"
   ]
  },
  {
   "cell_type": "code",
   "execution_count": null,
   "metadata": {
    "collapsed": false
   },
   "outputs": [],
   "source": [
    "buffer = this_lt:new()\n",
    "bob = buffer:cmul(this_lt, this_lds[1]):sum(2) \n",
    "print(bob)"
   ]
  },
  {
   "cell_type": "code",
   "execution_count": null,
   "metadata": {
    "collapsed": true
   },
   "outputs": [],
   "source": [
    "test_lt = gram_stack:forward(this_batch[1])"
   ]
  },
  {
   "cell_type": "code",
   "execution_count": null,
   "metadata": {
    "collapsed": true
   },
   "outputs": [],
   "source": [
    "test_ld = doc_stack:forward(this_batch[2])"
   ]
  },
  {
   "cell_type": "code",
   "execution_count": null,
   "metadata": {
    "collapsed": false
   },
   "outputs": [],
   "source": [
    "nn.DotProduct():forward({test_lt, test_ld[1]})"
   ]
  },
  {
   "cell_type": "code",
   "execution_count": null,
   "metadata": {
    "collapsed": true
   },
   "outputs": [],
   "source": [
    "g = nn.Identity()()\n",
    "din = nn.Identity()()\n",
    "-- the gram stack\n",
    "le_start = nn.Dictionary(le_in:size()[1], le_in:size()[2])\n",
    "le_start.weight = le_in\n",
    "le = le_start({g}) \n",
    "-- mark this not-trainable\n",
    "function le:updateParameters(learningRate)\n",
    "end\n",
    "le_flat = nn.Reshape(le_in:size()[2], true)(le)\n",
    "\n",
    "lt1 = nn.Linear(pre_w2:size()[1], pre_w2:size()[2])\n",
    "lt1.weight = pre_w2:transpose(1,2)\n",
    "lt1.bias = torch.zeros(pre_w2:size()[2])\n",
    "-- No bias in the lt module\n",
    "function lt1:accUpdateGradParameters(input, gradOutput, lr)\n",
    "   local gradWeight = self.gradWeight\n",
    "   self.gradWeight = self.weight\n",
    "   self:accGradParameters(input, gradOutput, -lr)\n",
    "   self.gradWeight = gradWeight\n",
    "end\n",
    "\n",
    "function lt1:accGradParameters(input, gradOutput, scale)\n",
    "   scale = scale or 1\n",
    "   if input:dim() == 1 then\n",
    "      self.gradWeight:addr(scale, gradOutput, input)\n",
    "   elseif input:dim() == 2 then\n",
    "      self.gradWeight:addmm(scale, gradOutput:t(), input)\n",
    "   end\n",
    "end\n",
    "lt2 = lt1({le_flat})\n",
    "lt = nn.Sigmoid()({lt2})\n",
    "\n",
    "-- the document stack\n",
    "ld_1 = nn.Dictionary(pre_w1:size()[1], pre_w1:size()[2])\n",
    "ld_1.weight = pre_w1\n",
    "ld_2 = ld_1({din})\n",
    "ld_both = nn.SoftMax()(ld_2)\n",
    "\n",
    "-- the scoring stack\n",
    "ld_flat = nn.Reshape(2,pre_w1:size()[2],true)({ld_both})\n",
    "ld_split = nn.SplitTable(2,3)(ld_flat)\n",
    "ld_pos, ld_neg = ld_split:split(2)\n",
    "ls_pos = nn.DotProduct()({lt, ld_pos})\n",
    "ls_neg = nn.DotProduct()({lt, ld_neg})\n",
    "\n",
    "ntm = nn.gModule({g, din}, {ls_pos, ls_neg})\n",
    "\n",
    "loss_out = nn.L1HingeEmbeddingCriterion(0.5):cuda()"
   ]
  }
 ],
 "metadata": {
  "kernelspec": {
   "display_name": "iTorch",
   "language": "lua",
   "name": "itorch"
  },
  "language_info": {
   "name": "lua",
   "version": "20100"
  }
 },
 "nbformat": 4,
 "nbformat_minor": 0
}
